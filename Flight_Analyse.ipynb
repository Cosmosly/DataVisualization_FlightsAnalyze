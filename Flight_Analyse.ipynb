{
 "cells": [
  {
   "attachments": {},
   "cell_type": "markdown",
   "metadata": {},
   "source": [
    "### Updata Log\n",
    "- Nov.16 Yao : import packages and csv file, have a general look at the dataset\n",
    "- Nov.19 Yao : Category the columns and come up with some questions\n",
    "- Nov.20 Yao : plot some pie plot"
   ]
  },
  {
   "cell_type": "code",
   "execution_count": 1,
   "metadata": {},
   "outputs": [],
   "source": [
    "# import relevant packages\n",
    "import numpy as np\n",
    "import pandas as pd\n",
    "import matplotlib.pyplot as plt\n",
    "import plotly.express as px\n",
    "import plotly.graph_objects as go\n",
    "from plotly.subplots import make_subplots"
   ]
  },
  {
   "cell_type": "code",
   "execution_count": 2,
   "metadata": {},
   "outputs": [],
   "source": [
    "# read \"Flights dataset.csv\" and assgin to pd_flights as a pandas dataframe\n",
    "df_flights = pd.read_csv(\"Flights dataset.csv\")"
   ]
  },
  {
   "attachments": {},
   "cell_type": "markdown",
   "metadata": {},
   "source": [
    "### Task1: Have a general look at the dataset"
   ]
  },
  {
   "cell_type": "code",
   "execution_count": 3,
   "metadata": {},
   "outputs": [
    {
     "data": {
      "text/plain": [
       "(529269, 35)"
      ]
     },
     "execution_count": 3,
     "metadata": {},
     "output_type": "execute_result"
    }
   ],
   "source": [
    "# look the dataset's shape\n",
    "df_flights.shape"
   ]
  },
  {
   "cell_type": "code",
   "execution_count": 4,
   "metadata": {},
   "outputs": [
    {
     "data": {
      "text/html": [
       "<div>\n",
       "<style scoped>\n",
       "    .dataframe tbody tr th:only-of-type {\n",
       "        vertical-align: middle;\n",
       "    }\n",
       "\n",
       "    .dataframe tbody tr th {\n",
       "        vertical-align: top;\n",
       "    }\n",
       "\n",
       "    .dataframe thead th {\n",
       "        text-align: right;\n",
       "    }\n",
       "</style>\n",
       "<table border=\"1\" class=\"dataframe\">\n",
       "  <thead>\n",
       "    <tr style=\"text-align: right;\">\n",
       "      <th></th>\n",
       "      <th>YEAR</th>\n",
       "      <th>MONTH</th>\n",
       "      <th>DAY_OF_MONTH</th>\n",
       "      <th>DAY_OF_WEEK</th>\n",
       "      <th>UNIQUE_CARRIER</th>\n",
       "      <th>AIRLINE_ID</th>\n",
       "      <th>CARRIER</th>\n",
       "      <th>TAIL_NUM</th>\n",
       "      <th>FL_NUM</th>\n",
       "      <th>ORIGIN</th>\n",
       "      <th>...</th>\n",
       "      <th>CANCELLED</th>\n",
       "      <th>CANCELLATION_CODE</th>\n",
       "      <th>DIVERTED</th>\n",
       "      <th>AIR_TIME</th>\n",
       "      <th>DISTANCE</th>\n",
       "      <th>CARRIER_DELAY</th>\n",
       "      <th>WEATHER_DELAY</th>\n",
       "      <th>NAS_DELAY</th>\n",
       "      <th>SECURITY_DELAY</th>\n",
       "      <th>LATE_AIRCRAFT_DELAY</th>\n",
       "    </tr>\n",
       "  </thead>\n",
       "  <tbody>\n",
       "    <tr>\n",
       "      <th>0</th>\n",
       "      <td>2009</td>\n",
       "      <td>12</td>\n",
       "      <td>2</td>\n",
       "      <td>3</td>\n",
       "      <td>9E</td>\n",
       "      <td>20363</td>\n",
       "      <td>9E</td>\n",
       "      <td>91879E</td>\n",
       "      <td>850</td>\n",
       "      <td>ATL</td>\n",
       "      <td>...</td>\n",
       "      <td>0</td>\n",
       "      <td>NaN</td>\n",
       "      <td>0</td>\n",
       "      <td>61.0</td>\n",
       "      <td>356</td>\n",
       "      <td>NaN</td>\n",
       "      <td>NaN</td>\n",
       "      <td>NaN</td>\n",
       "      <td>NaN</td>\n",
       "      <td>NaN</td>\n",
       "    </tr>\n",
       "    <tr>\n",
       "      <th>1</th>\n",
       "      <td>2009</td>\n",
       "      <td>12</td>\n",
       "      <td>3</td>\n",
       "      <td>4</td>\n",
       "      <td>9E</td>\n",
       "      <td>20363</td>\n",
       "      <td>9E</td>\n",
       "      <td>92289E</td>\n",
       "      <td>850</td>\n",
       "      <td>ATL</td>\n",
       "      <td>...</td>\n",
       "      <td>0</td>\n",
       "      <td>NaN</td>\n",
       "      <td>0</td>\n",
       "      <td>49.0</td>\n",
       "      <td>356</td>\n",
       "      <td>NaN</td>\n",
       "      <td>NaN</td>\n",
       "      <td>NaN</td>\n",
       "      <td>NaN</td>\n",
       "      <td>NaN</td>\n",
       "    </tr>\n",
       "    <tr>\n",
       "      <th>2</th>\n",
       "      <td>2009</td>\n",
       "      <td>12</td>\n",
       "      <td>4</td>\n",
       "      <td>5</td>\n",
       "      <td>9E</td>\n",
       "      <td>20363</td>\n",
       "      <td>9E</td>\n",
       "      <td>91629E</td>\n",
       "      <td>850</td>\n",
       "      <td>ATL</td>\n",
       "      <td>...</td>\n",
       "      <td>0</td>\n",
       "      <td>NaN</td>\n",
       "      <td>0</td>\n",
       "      <td>53.0</td>\n",
       "      <td>356</td>\n",
       "      <td>NaN</td>\n",
       "      <td>NaN</td>\n",
       "      <td>NaN</td>\n",
       "      <td>NaN</td>\n",
       "      <td>NaN</td>\n",
       "    </tr>\n",
       "    <tr>\n",
       "      <th>3</th>\n",
       "      <td>2009</td>\n",
       "      <td>12</td>\n",
       "      <td>6</td>\n",
       "      <td>7</td>\n",
       "      <td>9E</td>\n",
       "      <td>20363</td>\n",
       "      <td>9E</td>\n",
       "      <td>91709E</td>\n",
       "      <td>850</td>\n",
       "      <td>ATL</td>\n",
       "      <td>...</td>\n",
       "      <td>0</td>\n",
       "      <td>NaN</td>\n",
       "      <td>0</td>\n",
       "      <td>51.0</td>\n",
       "      <td>356</td>\n",
       "      <td>NaN</td>\n",
       "      <td>NaN</td>\n",
       "      <td>NaN</td>\n",
       "      <td>NaN</td>\n",
       "      <td>NaN</td>\n",
       "    </tr>\n",
       "    <tr>\n",
       "      <th>4</th>\n",
       "      <td>2009</td>\n",
       "      <td>12</td>\n",
       "      <td>7</td>\n",
       "      <td>1</td>\n",
       "      <td>9E</td>\n",
       "      <td>20363</td>\n",
       "      <td>9E</td>\n",
       "      <td>92289E</td>\n",
       "      <td>850</td>\n",
       "      <td>ATL</td>\n",
       "      <td>...</td>\n",
       "      <td>0</td>\n",
       "      <td>NaN</td>\n",
       "      <td>0</td>\n",
       "      <td>57.0</td>\n",
       "      <td>356</td>\n",
       "      <td>NaN</td>\n",
       "      <td>NaN</td>\n",
       "      <td>NaN</td>\n",
       "      <td>NaN</td>\n",
       "      <td>NaN</td>\n",
       "    </tr>\n",
       "  </tbody>\n",
       "</table>\n",
       "<p>5 rows × 35 columns</p>\n",
       "</div>"
      ],
      "text/plain": [
       "   YEAR  MONTH  DAY_OF_MONTH  DAY_OF_WEEK UNIQUE_CARRIER  AIRLINE_ID CARRIER  \\\n",
       "0  2009     12             2            3             9E       20363      9E   \n",
       "1  2009     12             3            4             9E       20363      9E   \n",
       "2  2009     12             4            5             9E       20363      9E   \n",
       "3  2009     12             6            7             9E       20363      9E   \n",
       "4  2009     12             7            1             9E       20363      9E   \n",
       "\n",
       "  TAIL_NUM  FL_NUM ORIGIN  ... CANCELLED CANCELLATION_CODE DIVERTED  AIR_TIME  \\\n",
       "0   91879E     850    ATL  ...         0               NaN        0      61.0   \n",
       "1   92289E     850    ATL  ...         0               NaN        0      49.0   \n",
       "2   91629E     850    ATL  ...         0               NaN        0      53.0   \n",
       "3   91709E     850    ATL  ...         0               NaN        0      51.0   \n",
       "4   92289E     850    ATL  ...         0               NaN        0      57.0   \n",
       "\n",
       "  DISTANCE CARRIER_DELAY WEATHER_DELAY NAS_DELAY  SECURITY_DELAY  \\\n",
       "0      356           NaN           NaN       NaN             NaN   \n",
       "1      356           NaN           NaN       NaN             NaN   \n",
       "2      356           NaN           NaN       NaN             NaN   \n",
       "3      356           NaN           NaN       NaN             NaN   \n",
       "4      356           NaN           NaN       NaN             NaN   \n",
       "\n",
       "   LATE_AIRCRAFT_DELAY  \n",
       "0                  NaN  \n",
       "1                  NaN  \n",
       "2                  NaN  \n",
       "3                  NaN  \n",
       "4                  NaN  \n",
       "\n",
       "[5 rows x 35 columns]"
      ]
     },
     "execution_count": 4,
     "metadata": {},
     "output_type": "execute_result"
    }
   ],
   "source": [
    "# show the first 5 rows\n",
    "df_flights.head()"
   ]
  },
  {
   "cell_type": "code",
   "execution_count": 5,
   "metadata": {},
   "outputs": [
    {
     "data": {
      "text/plain": [
       "Index(['YEAR', 'MONTH', 'DAY_OF_MONTH', 'DAY_OF_WEEK', 'UNIQUE_CARRIER',\n",
       "       'AIRLINE_ID', 'CARRIER', 'TAIL_NUM', 'FL_NUM', 'ORIGIN',\n",
       "       'ORIGIN_CITY_NAME', 'ORIGIN_STATE_ABR', 'ORIGIN_STATE_NM', 'ORIGIN_WAC',\n",
       "       'DEST', 'DEST_CITY_NAME', 'DEST_STATE_ABR', 'DEST_STATE_NM', 'DEST_WAC',\n",
       "       'CRS_DEP_TIME', 'DEP_TIME', 'DEP_DELAY', 'CRS_ARR_TIME', 'ARR_TIME',\n",
       "       'ARR_DELAY', 'CANCELLED', 'CANCELLATION_CODE', 'DIVERTED', 'AIR_TIME',\n",
       "       'DISTANCE', 'CARRIER_DELAY', 'WEATHER_DELAY', 'NAS_DELAY',\n",
       "       'SECURITY_DELAY', 'LATE_AIRCRAFT_DELAY'],\n",
       "      dtype='object')"
      ]
     },
     "execution_count": 5,
     "metadata": {},
     "output_type": "execute_result"
    }
   ],
   "source": [
    "# see all the features of dataset\n",
    "df_flights.columns"
   ]
  },
  {
   "cell_type": "code",
   "execution_count": 6,
   "metadata": {},
   "outputs": [
    {
     "name": "stdout",
     "output_type": "stream",
     "text": [
      "<class 'pandas.core.frame.DataFrame'>\n",
      "RangeIndex: 529269 entries, 0 to 529268\n",
      "Data columns (total 35 columns):\n",
      " #   Column               Non-Null Count   Dtype  \n",
      "---  ------               --------------   -----  \n",
      " 0   YEAR                 529269 non-null  int64  \n",
      " 1   MONTH                529269 non-null  int64  \n",
      " 2   DAY_OF_MONTH         529269 non-null  int64  \n",
      " 3   DAY_OF_WEEK          529269 non-null  int64  \n",
      " 4   UNIQUE_CARRIER       529269 non-null  object \n",
      " 5   AIRLINE_ID           529269 non-null  int64  \n",
      " 6   CARRIER              529269 non-null  object \n",
      " 7   TAIL_NUM             524711 non-null  object \n",
      " 8   FL_NUM               529269 non-null  int64  \n",
      " 9   ORIGIN               529269 non-null  object \n",
      " 10  ORIGIN_CITY_NAME     529269 non-null  object \n",
      " 11  ORIGIN_STATE_ABR     529269 non-null  object \n",
      " 12  ORIGIN_STATE_NM      529269 non-null  object \n",
      " 13  ORIGIN_WAC           529269 non-null  int64  \n",
      " 14  DEST                 529269 non-null  object \n",
      " 15  DEST_CITY_NAME       529269 non-null  object \n",
      " 16  DEST_STATE_ABR       529269 non-null  object \n",
      " 17  DEST_STATE_NM        529269 non-null  object \n",
      " 18  DEST_WAC             529269 non-null  int64  \n",
      " 19  CRS_DEP_TIME         529269 non-null  int64  \n",
      " 20  DEP_TIME             515076 non-null  float64\n",
      " 21  DEP_DELAY            515076 non-null  float64\n",
      " 22  CRS_ARR_TIME         529269 non-null  int64  \n",
      " 23  ARR_TIME             514091 non-null  float64\n",
      " 24  ARR_DELAY            513051 non-null  float64\n",
      " 25  CANCELLED            529269 non-null  int64  \n",
      " 26  CANCELLATION_CODE    14730 non-null   object \n",
      " 27  DIVERTED             529269 non-null  int64  \n",
      " 28  AIR_TIME             513051 non-null  float64\n",
      " 29  DISTANCE             529269 non-null  int64  \n",
      " 30  CARRIER_DELAY        132020 non-null  float64\n",
      " 31  WEATHER_DELAY        132020 non-null  float64\n",
      " 32  NAS_DELAY            132020 non-null  float64\n",
      " 33  SECURITY_DELAY       132020 non-null  float64\n",
      " 34  LATE_AIRCRAFT_DELAY  132020 non-null  float64\n",
      "dtypes: float64(10), int64(13), object(12)\n",
      "memory usage: 141.3+ MB\n"
     ]
    }
   ],
   "source": [
    "# see the basic info\n",
    "df_flights.info()"
   ]
  },
  {
   "cell_type": "code",
   "execution_count": 7,
   "metadata": {},
   "outputs": [
    {
     "data": {
      "text/html": [
       "<div>\n",
       "<style scoped>\n",
       "    .dataframe tbody tr th:only-of-type {\n",
       "        vertical-align: middle;\n",
       "    }\n",
       "\n",
       "    .dataframe tbody tr th {\n",
       "        vertical-align: top;\n",
       "    }\n",
       "\n",
       "    .dataframe thead th {\n",
       "        text-align: right;\n",
       "    }\n",
       "</style>\n",
       "<table border=\"1\" class=\"dataframe\">\n",
       "  <thead>\n",
       "    <tr style=\"text-align: right;\">\n",
       "      <th></th>\n",
       "      <th>YEAR</th>\n",
       "      <th>MONTH</th>\n",
       "      <th>DAY_OF_MONTH</th>\n",
       "      <th>DAY_OF_WEEK</th>\n",
       "      <th>AIRLINE_ID</th>\n",
       "      <th>FL_NUM</th>\n",
       "      <th>ORIGIN_WAC</th>\n",
       "      <th>DEST_WAC</th>\n",
       "      <th>CRS_DEP_TIME</th>\n",
       "      <th>DEP_TIME</th>\n",
       "      <th>...</th>\n",
       "      <th>ARR_DELAY</th>\n",
       "      <th>CANCELLED</th>\n",
       "      <th>DIVERTED</th>\n",
       "      <th>AIR_TIME</th>\n",
       "      <th>DISTANCE</th>\n",
       "      <th>CARRIER_DELAY</th>\n",
       "      <th>WEATHER_DELAY</th>\n",
       "      <th>NAS_DELAY</th>\n",
       "      <th>SECURITY_DELAY</th>\n",
       "      <th>LATE_AIRCRAFT_DELAY</th>\n",
       "    </tr>\n",
       "  </thead>\n",
       "  <tbody>\n",
       "    <tr>\n",
       "      <th>count</th>\n",
       "      <td>529269.0</td>\n",
       "      <td>529269.0</td>\n",
       "      <td>529269.000000</td>\n",
       "      <td>529269.000000</td>\n",
       "      <td>529269.000000</td>\n",
       "      <td>529269.000000</td>\n",
       "      <td>529269.000000</td>\n",
       "      <td>529269.000000</td>\n",
       "      <td>529269.000000</td>\n",
       "      <td>515076.000000</td>\n",
       "      <td>...</td>\n",
       "      <td>513051.000000</td>\n",
       "      <td>529269.000000</td>\n",
       "      <td>529269.000000</td>\n",
       "      <td>513051.000000</td>\n",
       "      <td>529269.000000</td>\n",
       "      <td>132020.000000</td>\n",
       "      <td>132020.000000</td>\n",
       "      <td>132020.000000</td>\n",
       "      <td>132020.000000</td>\n",
       "      <td>132020.000000</td>\n",
       "    </tr>\n",
       "    <tr>\n",
       "      <th>mean</th>\n",
       "      <td>2009.0</td>\n",
       "      <td>12.0</td>\n",
       "      <td>15.980872</td>\n",
       "      <td>3.845256</td>\n",
       "      <td>20005.708010</td>\n",
       "      <td>2507.655992</td>\n",
       "      <td>55.032040</td>\n",
       "      <td>55.031727</td>\n",
       "      <td>1316.600923</td>\n",
       "      <td>1330.124646</td>\n",
       "      <td>...</td>\n",
       "      <td>9.373474</td>\n",
       "      <td>0.027831</td>\n",
       "      <td>0.002811</td>\n",
       "      <td>105.571892</td>\n",
       "      <td>731.498327</td>\n",
       "      <td>15.082904</td>\n",
       "      <td>3.347417</td>\n",
       "      <td>15.370482</td>\n",
       "      <td>0.115331</td>\n",
       "      <td>21.096501</td>\n",
       "    </tr>\n",
       "    <tr>\n",
       "      <th>std</th>\n",
       "      <td>0.0</td>\n",
       "      <td>0.0</td>\n",
       "      <td>8.926010</td>\n",
       "      <td>1.945431</td>\n",
       "      <td>402.011216</td>\n",
       "      <td>2084.191313</td>\n",
       "      <td>26.197275</td>\n",
       "      <td>26.198683</td>\n",
       "      <td>455.528269</td>\n",
       "      <td>468.648164</td>\n",
       "      <td>...</td>\n",
       "      <td>39.497325</td>\n",
       "      <td>0.164488</td>\n",
       "      <td>0.052948</td>\n",
       "      <td>68.781539</td>\n",
       "      <td>564.003712</td>\n",
       "      <td>37.587351</td>\n",
       "      <td>21.072059</td>\n",
       "      <td>27.101201</td>\n",
       "      <td>2.451876</td>\n",
       "      <td>37.425760</td>\n",
       "    </tr>\n",
       "    <tr>\n",
       "      <th>min</th>\n",
       "      <td>2009.0</td>\n",
       "      <td>12.0</td>\n",
       "      <td>1.000000</td>\n",
       "      <td>1.000000</td>\n",
       "      <td>19386.000000</td>\n",
       "      <td>1.000000</td>\n",
       "      <td>1.000000</td>\n",
       "      <td>1.000000</td>\n",
       "      <td>9.000000</td>\n",
       "      <td>1.000000</td>\n",
       "      <td>...</td>\n",
       "      <td>-92.000000</td>\n",
       "      <td>0.000000</td>\n",
       "      <td>0.000000</td>\n",
       "      <td>8.000000</td>\n",
       "      <td>31.000000</td>\n",
       "      <td>0.000000</td>\n",
       "      <td>0.000000</td>\n",
       "      <td>0.000000</td>\n",
       "      <td>0.000000</td>\n",
       "      <td>0.000000</td>\n",
       "    </tr>\n",
       "    <tr>\n",
       "      <th>25%</th>\n",
       "      <td>2009.0</td>\n",
       "      <td>12.0</td>\n",
       "      <td>8.000000</td>\n",
       "      <td>2.000000</td>\n",
       "      <td>19704.000000</td>\n",
       "      <td>721.000000</td>\n",
       "      <td>34.000000</td>\n",
       "      <td>34.000000</td>\n",
       "      <td>925.000000</td>\n",
       "      <td>932.000000</td>\n",
       "      <td>...</td>\n",
       "      <td>-11.000000</td>\n",
       "      <td>0.000000</td>\n",
       "      <td>0.000000</td>\n",
       "      <td>56.000000</td>\n",
       "      <td>326.000000</td>\n",
       "      <td>0.000000</td>\n",
       "      <td>0.000000</td>\n",
       "      <td>0.000000</td>\n",
       "      <td>0.000000</td>\n",
       "      <td>0.000000</td>\n",
       "    </tr>\n",
       "    <tr>\n",
       "      <th>50%</th>\n",
       "      <td>2009.0</td>\n",
       "      <td>12.0</td>\n",
       "      <td>16.000000</td>\n",
       "      <td>4.000000</td>\n",
       "      <td>20304.000000</td>\n",
       "      <td>1965.000000</td>\n",
       "      <td>45.000000</td>\n",
       "      <td>45.000000</td>\n",
       "      <td>1315.000000</td>\n",
       "      <td>1325.000000</td>\n",
       "      <td>...</td>\n",
       "      <td>-1.000000</td>\n",
       "      <td>0.000000</td>\n",
       "      <td>0.000000</td>\n",
       "      <td>87.000000</td>\n",
       "      <td>585.000000</td>\n",
       "      <td>0.000000</td>\n",
       "      <td>0.000000</td>\n",
       "      <td>5.000000</td>\n",
       "      <td>0.000000</td>\n",
       "      <td>0.000000</td>\n",
       "    </tr>\n",
       "    <tr>\n",
       "      <th>75%</th>\n",
       "      <td>2009.0</td>\n",
       "      <td>12.0</td>\n",
       "      <td>24.000000</td>\n",
       "      <td>5.000000</td>\n",
       "      <td>20374.000000</td>\n",
       "      <td>3863.000000</td>\n",
       "      <td>81.000000</td>\n",
       "      <td>81.000000</td>\n",
       "      <td>1705.000000</td>\n",
       "      <td>1721.000000</td>\n",
       "      <td>...</td>\n",
       "      <td>15.000000</td>\n",
       "      <td>0.000000</td>\n",
       "      <td>0.000000</td>\n",
       "      <td>135.000000</td>\n",
       "      <td>964.000000</td>\n",
       "      <td>16.000000</td>\n",
       "      <td>0.000000</td>\n",
       "      <td>20.000000</td>\n",
       "      <td>0.000000</td>\n",
       "      <td>28.000000</td>\n",
       "    </tr>\n",
       "    <tr>\n",
       "      <th>max</th>\n",
       "      <td>2009.0</td>\n",
       "      <td>12.0</td>\n",
       "      <td>31.000000</td>\n",
       "      <td>7.000000</td>\n",
       "      <td>20437.000000</td>\n",
       "      <td>7814.000000</td>\n",
       "      <td>93.000000</td>\n",
       "      <td>93.000000</td>\n",
       "      <td>2359.000000</td>\n",
       "      <td>2400.000000</td>\n",
       "      <td>...</td>\n",
       "      <td>1278.000000</td>\n",
       "      <td>1.000000</td>\n",
       "      <td>1.000000</td>\n",
       "      <td>699.000000</td>\n",
       "      <td>4962.000000</td>\n",
       "      <td>1278.000000</td>\n",
       "      <td>1026.000000</td>\n",
       "      <td>627.000000</td>\n",
       "      <td>292.000000</td>\n",
       "      <td>1044.000000</td>\n",
       "    </tr>\n",
       "  </tbody>\n",
       "</table>\n",
       "<p>8 rows × 23 columns</p>\n",
       "</div>"
      ],
      "text/plain": [
       "           YEAR     MONTH   DAY_OF_MONTH    DAY_OF_WEEK     AIRLINE_ID  \\\n",
       "count  529269.0  529269.0  529269.000000  529269.000000  529269.000000   \n",
       "mean     2009.0      12.0      15.980872       3.845256   20005.708010   \n",
       "std         0.0       0.0       8.926010       1.945431     402.011216   \n",
       "min      2009.0      12.0       1.000000       1.000000   19386.000000   \n",
       "25%      2009.0      12.0       8.000000       2.000000   19704.000000   \n",
       "50%      2009.0      12.0      16.000000       4.000000   20304.000000   \n",
       "75%      2009.0      12.0      24.000000       5.000000   20374.000000   \n",
       "max      2009.0      12.0      31.000000       7.000000   20437.000000   \n",
       "\n",
       "              FL_NUM     ORIGIN_WAC       DEST_WAC   CRS_DEP_TIME  \\\n",
       "count  529269.000000  529269.000000  529269.000000  529269.000000   \n",
       "mean     2507.655992      55.032040      55.031727    1316.600923   \n",
       "std      2084.191313      26.197275      26.198683     455.528269   \n",
       "min         1.000000       1.000000       1.000000       9.000000   \n",
       "25%       721.000000      34.000000      34.000000     925.000000   \n",
       "50%      1965.000000      45.000000      45.000000    1315.000000   \n",
       "75%      3863.000000      81.000000      81.000000    1705.000000   \n",
       "max      7814.000000      93.000000      93.000000    2359.000000   \n",
       "\n",
       "            DEP_TIME  ...      ARR_DELAY      CANCELLED       DIVERTED  \\\n",
       "count  515076.000000  ...  513051.000000  529269.000000  529269.000000   \n",
       "mean     1330.124646  ...       9.373474       0.027831       0.002811   \n",
       "std       468.648164  ...      39.497325       0.164488       0.052948   \n",
       "min         1.000000  ...     -92.000000       0.000000       0.000000   \n",
       "25%       932.000000  ...     -11.000000       0.000000       0.000000   \n",
       "50%      1325.000000  ...      -1.000000       0.000000       0.000000   \n",
       "75%      1721.000000  ...      15.000000       0.000000       0.000000   \n",
       "max      2400.000000  ...    1278.000000       1.000000       1.000000   \n",
       "\n",
       "            AIR_TIME       DISTANCE  CARRIER_DELAY  WEATHER_DELAY  \\\n",
       "count  513051.000000  529269.000000  132020.000000  132020.000000   \n",
       "mean      105.571892     731.498327      15.082904       3.347417   \n",
       "std        68.781539     564.003712      37.587351      21.072059   \n",
       "min         8.000000      31.000000       0.000000       0.000000   \n",
       "25%        56.000000     326.000000       0.000000       0.000000   \n",
       "50%        87.000000     585.000000       0.000000       0.000000   \n",
       "75%       135.000000     964.000000      16.000000       0.000000   \n",
       "max       699.000000    4962.000000    1278.000000    1026.000000   \n",
       "\n",
       "           NAS_DELAY  SECURITY_DELAY  LATE_AIRCRAFT_DELAY  \n",
       "count  132020.000000   132020.000000        132020.000000  \n",
       "mean       15.370482        0.115331            21.096501  \n",
       "std        27.101201        2.451876            37.425760  \n",
       "min         0.000000        0.000000             0.000000  \n",
       "25%         0.000000        0.000000             0.000000  \n",
       "50%         5.000000        0.000000             0.000000  \n",
       "75%        20.000000        0.000000            28.000000  \n",
       "max       627.000000      292.000000          1044.000000  \n",
       "\n",
       "[8 rows x 23 columns]"
      ]
     },
     "execution_count": 7,
     "metadata": {},
     "output_type": "execute_result"
    }
   ],
   "source": [
    "df_flights.describe()"
   ]
  },
  {
   "cell_type": "code",
   "execution_count": 8,
   "metadata": {},
   "outputs": [
    {
     "data": {
      "text/plain": [
       "array([nan, 'B', 'A', 'C', 'D'], dtype=object)"
      ]
     },
     "execution_count": 8,
     "metadata": {},
     "output_type": "execute_result"
    }
   ],
   "source": [
    "df_flights['CANCELLATION_CODE'].unique()"
   ]
  },
  {
   "cell_type": "code",
   "execution_count": 9,
   "metadata": {},
   "outputs": [
    {
     "data": {
      "text/plain": [
       "14730"
      ]
     },
     "execution_count": 9,
     "metadata": {},
     "output_type": "execute_result"
    }
   ],
   "source": [
    "(df_flights['CANCELLED'] == 1).sum()"
   ]
  },
  {
   "cell_type": "code",
   "execution_count": 10,
   "metadata": {},
   "outputs": [
    {
     "data": {
      "text/plain": [
       "array([0, 1])"
      ]
     },
     "execution_count": 10,
     "metadata": {},
     "output_type": "execute_result"
    }
   ],
   "source": [
    "df_flights['DIVERTED'].unique()"
   ]
  },
  {
   "cell_type": "code",
   "execution_count": 11,
   "metadata": {},
   "outputs": [
    {
     "data": {
      "text/plain": [
       "1488"
      ]
     },
     "execution_count": 11,
     "metadata": {},
     "output_type": "execute_result"
    }
   ],
   "source": [
    "(df_flights['DIVERTED']==1).sum()"
   ]
  },
  {
   "cell_type": "code",
   "execution_count": 12,
   "metadata": {},
   "outputs": [
    {
     "name": "stdout",
     "output_type": "stream",
     "text": [
      "['9E' 'AA' 'AS' 'B6' 'CO' 'DL' 'EV' 'F9' 'FL' 'HA' 'MQ' 'NW' 'OH' 'OO'\n",
      " 'UA' 'US' 'WN' 'XE' 'YV']\n",
      "<class 'numpy.ndarray'>\n"
     ]
    }
   ],
   "source": [
    "print(df_flights['UNIQUE_CARRIER'].unique())\n",
    "print(type(df_flights['UNIQUE_CARRIER'].unique()))"
   ]
  },
  {
   "cell_type": "code",
   "execution_count": 13,
   "metadata": {},
   "outputs": [
    {
     "data": {
      "text/plain": [
       "71695"
      ]
     },
     "execution_count": 13,
     "metadata": {},
     "output_type": "execute_result"
    }
   ],
   "source": [
    "(df_flights['DAY_OF_WEEK'] == 1).sum()"
   ]
  },
  {
   "cell_type": "code",
   "execution_count": 14,
   "metadata": {},
   "outputs": [
    {
     "data": {
      "text/plain": [
       "68417"
      ]
     },
     "execution_count": 14,
     "metadata": {},
     "output_type": "execute_result"
    }
   ],
   "source": [
    "(df_flights['DAY_OF_WEEK'] == 5).sum()"
   ]
  },
  {
   "attachments": {},
   "cell_type": "markdown",
   "metadata": {},
   "source": [
    "### Most active day of week"
   ]
  },
  {
   "cell_type": "code",
   "execution_count": 15,
   "metadata": {},
   "outputs": [],
   "source": [
    "# Create a list to store the flights volume of each day of week\n",
    "# Create a empty list\n",
    "Day_of_Week_Volume = []\n",
    "# Create a list to store the day\n",
    "Day_of_Week = ['Mondy','Tuesday','Wednesday','Thursday','Friday','Saturday','Sunday']\n",
    "# for loop , use sum() to calculate the rows of each day\n",
    "for i in range(1,8):\n",
    "    Day_of_Week_Volume.append((df_flights['DAY_OF_WEEK'] == i).sum())\n",
    "# combie tow list to form a pandas dataframe\n",
    "# first create a dictionary to store two list \n",
    "dictionary_day = {'Day_of_Week_Volume' : Day_of_Week_Volume, 'Day_of_Week': Day_of_Week}\n",
    "df_propotion_day = pd.DataFrame(dictionary_day)"
   ]
  },
  {
   "cell_type": "code",
   "execution_count": 16,
   "metadata": {},
   "outputs": [
    {
     "data": {
      "application/vnd.plotly.v1+json": {
       "config": {
        "plotlyServerURL": "https://plot.ly"
       },
       "data": [
        {
         "domain": {
          "x": [
           0,
           1
          ],
          "y": [
           0,
           1
          ]
         },
         "hovertemplate": "Day_of_Week=%{label}<br>Day_of_Week_Volume=%{value}<extra></extra>",
         "labels": [
          "Mondy",
          "Tuesday",
          "Wednesday",
          "Thursday",
          "Friday",
          "Saturday",
          "Sunday"
         ],
         "legendgroup": "",
         "name": "",
         "showlegend": true,
         "textinfo": "percent+label",
         "textposition": "inside",
         "type": "pie",
         "values": [
          71695,
          87438,
          88579,
          83587,
          68417,
          60437,
          69116
         ]
        }
       ],
       "layout": {
        "legend": {
         "tracegroupgap": 0
        },
        "template": {
         "data": {
          "bar": [
           {
            "error_x": {
             "color": "#2a3f5f"
            },
            "error_y": {
             "color": "#2a3f5f"
            },
            "marker": {
             "line": {
              "color": "#E5ECF6",
              "width": 0.5
             },
             "pattern": {
              "fillmode": "overlay",
              "size": 10,
              "solidity": 0.2
             }
            },
            "type": "bar"
           }
          ],
          "barpolar": [
           {
            "marker": {
             "line": {
              "color": "#E5ECF6",
              "width": 0.5
             },
             "pattern": {
              "fillmode": "overlay",
              "size": 10,
              "solidity": 0.2
             }
            },
            "type": "barpolar"
           }
          ],
          "carpet": [
           {
            "aaxis": {
             "endlinecolor": "#2a3f5f",
             "gridcolor": "white",
             "linecolor": "white",
             "minorgridcolor": "white",
             "startlinecolor": "#2a3f5f"
            },
            "baxis": {
             "endlinecolor": "#2a3f5f",
             "gridcolor": "white",
             "linecolor": "white",
             "minorgridcolor": "white",
             "startlinecolor": "#2a3f5f"
            },
            "type": "carpet"
           }
          ],
          "choropleth": [
           {
            "colorbar": {
             "outlinewidth": 0,
             "ticks": ""
            },
            "type": "choropleth"
           }
          ],
          "contour": [
           {
            "colorbar": {
             "outlinewidth": 0,
             "ticks": ""
            },
            "colorscale": [
             [
              0,
              "#0d0887"
             ],
             [
              0.1111111111111111,
              "#46039f"
             ],
             [
              0.2222222222222222,
              "#7201a8"
             ],
             [
              0.3333333333333333,
              "#9c179e"
             ],
             [
              0.4444444444444444,
              "#bd3786"
             ],
             [
              0.5555555555555556,
              "#d8576b"
             ],
             [
              0.6666666666666666,
              "#ed7953"
             ],
             [
              0.7777777777777778,
              "#fb9f3a"
             ],
             [
              0.8888888888888888,
              "#fdca26"
             ],
             [
              1,
              "#f0f921"
             ]
            ],
            "type": "contour"
           }
          ],
          "contourcarpet": [
           {
            "colorbar": {
             "outlinewidth": 0,
             "ticks": ""
            },
            "type": "contourcarpet"
           }
          ],
          "heatmap": [
           {
            "colorbar": {
             "outlinewidth": 0,
             "ticks": ""
            },
            "colorscale": [
             [
              0,
              "#0d0887"
             ],
             [
              0.1111111111111111,
              "#46039f"
             ],
             [
              0.2222222222222222,
              "#7201a8"
             ],
             [
              0.3333333333333333,
              "#9c179e"
             ],
             [
              0.4444444444444444,
              "#bd3786"
             ],
             [
              0.5555555555555556,
              "#d8576b"
             ],
             [
              0.6666666666666666,
              "#ed7953"
             ],
             [
              0.7777777777777778,
              "#fb9f3a"
             ],
             [
              0.8888888888888888,
              "#fdca26"
             ],
             [
              1,
              "#f0f921"
             ]
            ],
            "type": "heatmap"
           }
          ],
          "heatmapgl": [
           {
            "colorbar": {
             "outlinewidth": 0,
             "ticks": ""
            },
            "colorscale": [
             [
              0,
              "#0d0887"
             ],
             [
              0.1111111111111111,
              "#46039f"
             ],
             [
              0.2222222222222222,
              "#7201a8"
             ],
             [
              0.3333333333333333,
              "#9c179e"
             ],
             [
              0.4444444444444444,
              "#bd3786"
             ],
             [
              0.5555555555555556,
              "#d8576b"
             ],
             [
              0.6666666666666666,
              "#ed7953"
             ],
             [
              0.7777777777777778,
              "#fb9f3a"
             ],
             [
              0.8888888888888888,
              "#fdca26"
             ],
             [
              1,
              "#f0f921"
             ]
            ],
            "type": "heatmapgl"
           }
          ],
          "histogram": [
           {
            "marker": {
             "pattern": {
              "fillmode": "overlay",
              "size": 10,
              "solidity": 0.2
             }
            },
            "type": "histogram"
           }
          ],
          "histogram2d": [
           {
            "colorbar": {
             "outlinewidth": 0,
             "ticks": ""
            },
            "colorscale": [
             [
              0,
              "#0d0887"
             ],
             [
              0.1111111111111111,
              "#46039f"
             ],
             [
              0.2222222222222222,
              "#7201a8"
             ],
             [
              0.3333333333333333,
              "#9c179e"
             ],
             [
              0.4444444444444444,
              "#bd3786"
             ],
             [
              0.5555555555555556,
              "#d8576b"
             ],
             [
              0.6666666666666666,
              "#ed7953"
             ],
             [
              0.7777777777777778,
              "#fb9f3a"
             ],
             [
              0.8888888888888888,
              "#fdca26"
             ],
             [
              1,
              "#f0f921"
             ]
            ],
            "type": "histogram2d"
           }
          ],
          "histogram2dcontour": [
           {
            "colorbar": {
             "outlinewidth": 0,
             "ticks": ""
            },
            "colorscale": [
             [
              0,
              "#0d0887"
             ],
             [
              0.1111111111111111,
              "#46039f"
             ],
             [
              0.2222222222222222,
              "#7201a8"
             ],
             [
              0.3333333333333333,
              "#9c179e"
             ],
             [
              0.4444444444444444,
              "#bd3786"
             ],
             [
              0.5555555555555556,
              "#d8576b"
             ],
             [
              0.6666666666666666,
              "#ed7953"
             ],
             [
              0.7777777777777778,
              "#fb9f3a"
             ],
             [
              0.8888888888888888,
              "#fdca26"
             ],
             [
              1,
              "#f0f921"
             ]
            ],
            "type": "histogram2dcontour"
           }
          ],
          "mesh3d": [
           {
            "colorbar": {
             "outlinewidth": 0,
             "ticks": ""
            },
            "type": "mesh3d"
           }
          ],
          "parcoords": [
           {
            "line": {
             "colorbar": {
              "outlinewidth": 0,
              "ticks": ""
             }
            },
            "type": "parcoords"
           }
          ],
          "pie": [
           {
            "automargin": true,
            "type": "pie"
           }
          ],
          "scatter": [
           {
            "fillpattern": {
             "fillmode": "overlay",
             "size": 10,
             "solidity": 0.2
            },
            "type": "scatter"
           }
          ],
          "scatter3d": [
           {
            "line": {
             "colorbar": {
              "outlinewidth": 0,
              "ticks": ""
             }
            },
            "marker": {
             "colorbar": {
              "outlinewidth": 0,
              "ticks": ""
             }
            },
            "type": "scatter3d"
           }
          ],
          "scattercarpet": [
           {
            "marker": {
             "colorbar": {
              "outlinewidth": 0,
              "ticks": ""
             }
            },
            "type": "scattercarpet"
           }
          ],
          "scattergeo": [
           {
            "marker": {
             "colorbar": {
              "outlinewidth": 0,
              "ticks": ""
             }
            },
            "type": "scattergeo"
           }
          ],
          "scattergl": [
           {
            "marker": {
             "colorbar": {
              "outlinewidth": 0,
              "ticks": ""
             }
            },
            "type": "scattergl"
           }
          ],
          "scattermapbox": [
           {
            "marker": {
             "colorbar": {
              "outlinewidth": 0,
              "ticks": ""
             }
            },
            "type": "scattermapbox"
           }
          ],
          "scatterpolar": [
           {
            "marker": {
             "colorbar": {
              "outlinewidth": 0,
              "ticks": ""
             }
            },
            "type": "scatterpolar"
           }
          ],
          "scatterpolargl": [
           {
            "marker": {
             "colorbar": {
              "outlinewidth": 0,
              "ticks": ""
             }
            },
            "type": "scatterpolargl"
           }
          ],
          "scatterternary": [
           {
            "marker": {
             "colorbar": {
              "outlinewidth": 0,
              "ticks": ""
             }
            },
            "type": "scatterternary"
           }
          ],
          "surface": [
           {
            "colorbar": {
             "outlinewidth": 0,
             "ticks": ""
            },
            "colorscale": [
             [
              0,
              "#0d0887"
             ],
             [
              0.1111111111111111,
              "#46039f"
             ],
             [
              0.2222222222222222,
              "#7201a8"
             ],
             [
              0.3333333333333333,
              "#9c179e"
             ],
             [
              0.4444444444444444,
              "#bd3786"
             ],
             [
              0.5555555555555556,
              "#d8576b"
             ],
             [
              0.6666666666666666,
              "#ed7953"
             ],
             [
              0.7777777777777778,
              "#fb9f3a"
             ],
             [
              0.8888888888888888,
              "#fdca26"
             ],
             [
              1,
              "#f0f921"
             ]
            ],
            "type": "surface"
           }
          ],
          "table": [
           {
            "cells": {
             "fill": {
              "color": "#EBF0F8"
             },
             "line": {
              "color": "white"
             }
            },
            "header": {
             "fill": {
              "color": "#C8D4E3"
             },
             "line": {
              "color": "white"
             }
            },
            "type": "table"
           }
          ]
         },
         "layout": {
          "annotationdefaults": {
           "arrowcolor": "#2a3f5f",
           "arrowhead": 0,
           "arrowwidth": 1
          },
          "autotypenumbers": "strict",
          "coloraxis": {
           "colorbar": {
            "outlinewidth": 0,
            "ticks": ""
           }
          },
          "colorscale": {
           "diverging": [
            [
             0,
             "#8e0152"
            ],
            [
             0.1,
             "#c51b7d"
            ],
            [
             0.2,
             "#de77ae"
            ],
            [
             0.3,
             "#f1b6da"
            ],
            [
             0.4,
             "#fde0ef"
            ],
            [
             0.5,
             "#f7f7f7"
            ],
            [
             0.6,
             "#e6f5d0"
            ],
            [
             0.7,
             "#b8e186"
            ],
            [
             0.8,
             "#7fbc41"
            ],
            [
             0.9,
             "#4d9221"
            ],
            [
             1,
             "#276419"
            ]
           ],
           "sequential": [
            [
             0,
             "#0d0887"
            ],
            [
             0.1111111111111111,
             "#46039f"
            ],
            [
             0.2222222222222222,
             "#7201a8"
            ],
            [
             0.3333333333333333,
             "#9c179e"
            ],
            [
             0.4444444444444444,
             "#bd3786"
            ],
            [
             0.5555555555555556,
             "#d8576b"
            ],
            [
             0.6666666666666666,
             "#ed7953"
            ],
            [
             0.7777777777777778,
             "#fb9f3a"
            ],
            [
             0.8888888888888888,
             "#fdca26"
            ],
            [
             1,
             "#f0f921"
            ]
           ],
           "sequentialminus": [
            [
             0,
             "#0d0887"
            ],
            [
             0.1111111111111111,
             "#46039f"
            ],
            [
             0.2222222222222222,
             "#7201a8"
            ],
            [
             0.3333333333333333,
             "#9c179e"
            ],
            [
             0.4444444444444444,
             "#bd3786"
            ],
            [
             0.5555555555555556,
             "#d8576b"
            ],
            [
             0.6666666666666666,
             "#ed7953"
            ],
            [
             0.7777777777777778,
             "#fb9f3a"
            ],
            [
             0.8888888888888888,
             "#fdca26"
            ],
            [
             1,
             "#f0f921"
            ]
           ]
          },
          "colorway": [
           "#636efa",
           "#EF553B",
           "#00cc96",
           "#ab63fa",
           "#FFA15A",
           "#19d3f3",
           "#FF6692",
           "#B6E880",
           "#FF97FF",
           "#FECB52"
          ],
          "font": {
           "color": "#2a3f5f"
          },
          "geo": {
           "bgcolor": "white",
           "lakecolor": "white",
           "landcolor": "#E5ECF6",
           "showlakes": true,
           "showland": true,
           "subunitcolor": "white"
          },
          "hoverlabel": {
           "align": "left"
          },
          "hovermode": "closest",
          "mapbox": {
           "style": "light"
          },
          "paper_bgcolor": "white",
          "plot_bgcolor": "#E5ECF6",
          "polar": {
           "angularaxis": {
            "gridcolor": "white",
            "linecolor": "white",
            "ticks": ""
           },
           "bgcolor": "#E5ECF6",
           "radialaxis": {
            "gridcolor": "white",
            "linecolor": "white",
            "ticks": ""
           }
          },
          "scene": {
           "xaxis": {
            "backgroundcolor": "#E5ECF6",
            "gridcolor": "white",
            "gridwidth": 2,
            "linecolor": "white",
            "showbackground": true,
            "ticks": "",
            "zerolinecolor": "white"
           },
           "yaxis": {
            "backgroundcolor": "#E5ECF6",
            "gridcolor": "white",
            "gridwidth": 2,
            "linecolor": "white",
            "showbackground": true,
            "ticks": "",
            "zerolinecolor": "white"
           },
           "zaxis": {
            "backgroundcolor": "#E5ECF6",
            "gridcolor": "white",
            "gridwidth": 2,
            "linecolor": "white",
            "showbackground": true,
            "ticks": "",
            "zerolinecolor": "white"
           }
          },
          "shapedefaults": {
           "line": {
            "color": "#2a3f5f"
           }
          },
          "ternary": {
           "aaxis": {
            "gridcolor": "white",
            "linecolor": "white",
            "ticks": ""
           },
           "baxis": {
            "gridcolor": "white",
            "linecolor": "white",
            "ticks": ""
           },
           "bgcolor": "#E5ECF6",
           "caxis": {
            "gridcolor": "white",
            "linecolor": "white",
            "ticks": ""
           }
          },
          "title": {
           "x": 0.05
          },
          "xaxis": {
           "automargin": true,
           "gridcolor": "white",
           "linecolor": "white",
           "ticks": "",
           "title": {
            "standoff": 15
           },
           "zerolinecolor": "white",
           "zerolinewidth": 2
          },
          "yaxis": {
           "automargin": true,
           "gridcolor": "white",
           "linecolor": "white",
           "ticks": "",
           "title": {
            "standoff": 15
           },
           "zerolinecolor": "white",
           "zerolinewidth": 2
          }
         }
        },
        "title": {
         "text": "Most Active Day of the Week"
        }
       }
      }
     },
     "metadata": {},
     "output_type": "display_data"
    }
   ],
   "source": [
    "# What is most active day of the week?\n",
    "import plotly.express as px\n",
    "# use px to plot pie\n",
    "fig = px.pie(df_propotion_day, values='Day_of_Week_Volume', names='Day_of_Week', title='Most Active Day of the Week')\n",
    "fig.update_traces(textposition='inside', textinfo='percent+label')\n",
    "fig.show()\n",
    "\n",
    "# |-> Wednesday is the busiest day, Saturday is the least busy day.\n",
    "# |-> Tusday and Thusday are busier than Monday and Sunday, more than 2 percent."
   ]
  },
  {
   "attachments": {},
   "cell_type": "markdown",
   "metadata": {},
   "source": [
    "## Most active Carrier in the USA"
   ]
  },
  {
   "cell_type": "code",
   "execution_count": 17,
   "metadata": {},
   "outputs": [],
   "source": [
    "# Create a list to store the flights volume of carrier\n",
    "# Create a empty list\n",
    "Carrier_Volume = []\n",
    "# Convert the \n",
    "Carriers = (df_flights['UNIQUE_CARRIER'].unique()).tolist()\n",
    "# for loop , use sum() to calculate the number of flights of each Carrier\n",
    "for carrier in Carriers:\n",
    "    Carrier_Volume.append((df_flights['UNIQUE_CARRIER'] == carrier).sum())\n",
    "# combie tow list to form a pandas dataframe\n",
    "# first create a dictionary to store two list \n",
    "dictionary_Carriers = {'Carrier_Volume' : Carrier_Volume, 'Carriers': Carriers}\n",
    "df_propotion_Carriers = pd.DataFrame(dictionary_Carriers)"
   ]
  },
  {
   "cell_type": "code",
   "execution_count": 18,
   "metadata": {},
   "outputs": [
    {
     "data": {
      "application/vnd.plotly.v1+json": {
       "config": {
        "plotlyServerURL": "https://plot.ly"
       },
       "data": [
        {
         "domain": {
          "x": [
           0,
           1
          ],
          "y": [
           0,
           1
          ]
         },
         "hovertemplate": "Carriers=%{label}<br>Carrier_Volume=%{value}<extra></extra>",
         "labels": [
          "9E",
          "AA",
          "AS",
          "B6",
          "CO",
          "DL",
          "EV",
          "F9",
          "FL",
          "HA",
          "MQ",
          "NW",
          "OH",
          "OO",
          "UA",
          "US",
          "WN",
          "XE",
          "YV"
         ],
         "legendgroup": "",
         "name": "",
         "showlegend": true,
         "textinfo": "percent+label",
         "textposition": "inside",
         "type": "pie",
         "values": [
          21537,
          46065,
          10754,
          16774,
          21377,
          35280,
          23517,
          6589,
          21261,
          5833,
          36819,
          22649,
          11429,
          46832,
          29110,
          33498,
          92293,
          27898,
          19754
         ]
        }
       ],
       "layout": {
        "legend": {
         "tracegroupgap": 0
        },
        "template": {
         "data": {
          "bar": [
           {
            "error_x": {
             "color": "#2a3f5f"
            },
            "error_y": {
             "color": "#2a3f5f"
            },
            "marker": {
             "line": {
              "color": "#E5ECF6",
              "width": 0.5
             },
             "pattern": {
              "fillmode": "overlay",
              "size": 10,
              "solidity": 0.2
             }
            },
            "type": "bar"
           }
          ],
          "barpolar": [
           {
            "marker": {
             "line": {
              "color": "#E5ECF6",
              "width": 0.5
             },
             "pattern": {
              "fillmode": "overlay",
              "size": 10,
              "solidity": 0.2
             }
            },
            "type": "barpolar"
           }
          ],
          "carpet": [
           {
            "aaxis": {
             "endlinecolor": "#2a3f5f",
             "gridcolor": "white",
             "linecolor": "white",
             "minorgridcolor": "white",
             "startlinecolor": "#2a3f5f"
            },
            "baxis": {
             "endlinecolor": "#2a3f5f",
             "gridcolor": "white",
             "linecolor": "white",
             "minorgridcolor": "white",
             "startlinecolor": "#2a3f5f"
            },
            "type": "carpet"
           }
          ],
          "choropleth": [
           {
            "colorbar": {
             "outlinewidth": 0,
             "ticks": ""
            },
            "type": "choropleth"
           }
          ],
          "contour": [
           {
            "colorbar": {
             "outlinewidth": 0,
             "ticks": ""
            },
            "colorscale": [
             [
              0,
              "#0d0887"
             ],
             [
              0.1111111111111111,
              "#46039f"
             ],
             [
              0.2222222222222222,
              "#7201a8"
             ],
             [
              0.3333333333333333,
              "#9c179e"
             ],
             [
              0.4444444444444444,
              "#bd3786"
             ],
             [
              0.5555555555555556,
              "#d8576b"
             ],
             [
              0.6666666666666666,
              "#ed7953"
             ],
             [
              0.7777777777777778,
              "#fb9f3a"
             ],
             [
              0.8888888888888888,
              "#fdca26"
             ],
             [
              1,
              "#f0f921"
             ]
            ],
            "type": "contour"
           }
          ],
          "contourcarpet": [
           {
            "colorbar": {
             "outlinewidth": 0,
             "ticks": ""
            },
            "type": "contourcarpet"
           }
          ],
          "heatmap": [
           {
            "colorbar": {
             "outlinewidth": 0,
             "ticks": ""
            },
            "colorscale": [
             [
              0,
              "#0d0887"
             ],
             [
              0.1111111111111111,
              "#46039f"
             ],
             [
              0.2222222222222222,
              "#7201a8"
             ],
             [
              0.3333333333333333,
              "#9c179e"
             ],
             [
              0.4444444444444444,
              "#bd3786"
             ],
             [
              0.5555555555555556,
              "#d8576b"
             ],
             [
              0.6666666666666666,
              "#ed7953"
             ],
             [
              0.7777777777777778,
              "#fb9f3a"
             ],
             [
              0.8888888888888888,
              "#fdca26"
             ],
             [
              1,
              "#f0f921"
             ]
            ],
            "type": "heatmap"
           }
          ],
          "heatmapgl": [
           {
            "colorbar": {
             "outlinewidth": 0,
             "ticks": ""
            },
            "colorscale": [
             [
              0,
              "#0d0887"
             ],
             [
              0.1111111111111111,
              "#46039f"
             ],
             [
              0.2222222222222222,
              "#7201a8"
             ],
             [
              0.3333333333333333,
              "#9c179e"
             ],
             [
              0.4444444444444444,
              "#bd3786"
             ],
             [
              0.5555555555555556,
              "#d8576b"
             ],
             [
              0.6666666666666666,
              "#ed7953"
             ],
             [
              0.7777777777777778,
              "#fb9f3a"
             ],
             [
              0.8888888888888888,
              "#fdca26"
             ],
             [
              1,
              "#f0f921"
             ]
            ],
            "type": "heatmapgl"
           }
          ],
          "histogram": [
           {
            "marker": {
             "pattern": {
              "fillmode": "overlay",
              "size": 10,
              "solidity": 0.2
             }
            },
            "type": "histogram"
           }
          ],
          "histogram2d": [
           {
            "colorbar": {
             "outlinewidth": 0,
             "ticks": ""
            },
            "colorscale": [
             [
              0,
              "#0d0887"
             ],
             [
              0.1111111111111111,
              "#46039f"
             ],
             [
              0.2222222222222222,
              "#7201a8"
             ],
             [
              0.3333333333333333,
              "#9c179e"
             ],
             [
              0.4444444444444444,
              "#bd3786"
             ],
             [
              0.5555555555555556,
              "#d8576b"
             ],
             [
              0.6666666666666666,
              "#ed7953"
             ],
             [
              0.7777777777777778,
              "#fb9f3a"
             ],
             [
              0.8888888888888888,
              "#fdca26"
             ],
             [
              1,
              "#f0f921"
             ]
            ],
            "type": "histogram2d"
           }
          ],
          "histogram2dcontour": [
           {
            "colorbar": {
             "outlinewidth": 0,
             "ticks": ""
            },
            "colorscale": [
             [
              0,
              "#0d0887"
             ],
             [
              0.1111111111111111,
              "#46039f"
             ],
             [
              0.2222222222222222,
              "#7201a8"
             ],
             [
              0.3333333333333333,
              "#9c179e"
             ],
             [
              0.4444444444444444,
              "#bd3786"
             ],
             [
              0.5555555555555556,
              "#d8576b"
             ],
             [
              0.6666666666666666,
              "#ed7953"
             ],
             [
              0.7777777777777778,
              "#fb9f3a"
             ],
             [
              0.8888888888888888,
              "#fdca26"
             ],
             [
              1,
              "#f0f921"
             ]
            ],
            "type": "histogram2dcontour"
           }
          ],
          "mesh3d": [
           {
            "colorbar": {
             "outlinewidth": 0,
             "ticks": ""
            },
            "type": "mesh3d"
           }
          ],
          "parcoords": [
           {
            "line": {
             "colorbar": {
              "outlinewidth": 0,
              "ticks": ""
             }
            },
            "type": "parcoords"
           }
          ],
          "pie": [
           {
            "automargin": true,
            "type": "pie"
           }
          ],
          "scatter": [
           {
            "fillpattern": {
             "fillmode": "overlay",
             "size": 10,
             "solidity": 0.2
            },
            "type": "scatter"
           }
          ],
          "scatter3d": [
           {
            "line": {
             "colorbar": {
              "outlinewidth": 0,
              "ticks": ""
             }
            },
            "marker": {
             "colorbar": {
              "outlinewidth": 0,
              "ticks": ""
             }
            },
            "type": "scatter3d"
           }
          ],
          "scattercarpet": [
           {
            "marker": {
             "colorbar": {
              "outlinewidth": 0,
              "ticks": ""
             }
            },
            "type": "scattercarpet"
           }
          ],
          "scattergeo": [
           {
            "marker": {
             "colorbar": {
              "outlinewidth": 0,
              "ticks": ""
             }
            },
            "type": "scattergeo"
           }
          ],
          "scattergl": [
           {
            "marker": {
             "colorbar": {
              "outlinewidth": 0,
              "ticks": ""
             }
            },
            "type": "scattergl"
           }
          ],
          "scattermapbox": [
           {
            "marker": {
             "colorbar": {
              "outlinewidth": 0,
              "ticks": ""
             }
            },
            "type": "scattermapbox"
           }
          ],
          "scatterpolar": [
           {
            "marker": {
             "colorbar": {
              "outlinewidth": 0,
              "ticks": ""
             }
            },
            "type": "scatterpolar"
           }
          ],
          "scatterpolargl": [
           {
            "marker": {
             "colorbar": {
              "outlinewidth": 0,
              "ticks": ""
             }
            },
            "type": "scatterpolargl"
           }
          ],
          "scatterternary": [
           {
            "marker": {
             "colorbar": {
              "outlinewidth": 0,
              "ticks": ""
             }
            },
            "type": "scatterternary"
           }
          ],
          "surface": [
           {
            "colorbar": {
             "outlinewidth": 0,
             "ticks": ""
            },
            "colorscale": [
             [
              0,
              "#0d0887"
             ],
             [
              0.1111111111111111,
              "#46039f"
             ],
             [
              0.2222222222222222,
              "#7201a8"
             ],
             [
              0.3333333333333333,
              "#9c179e"
             ],
             [
              0.4444444444444444,
              "#bd3786"
             ],
             [
              0.5555555555555556,
              "#d8576b"
             ],
             [
              0.6666666666666666,
              "#ed7953"
             ],
             [
              0.7777777777777778,
              "#fb9f3a"
             ],
             [
              0.8888888888888888,
              "#fdca26"
             ],
             [
              1,
              "#f0f921"
             ]
            ],
            "type": "surface"
           }
          ],
          "table": [
           {
            "cells": {
             "fill": {
              "color": "#EBF0F8"
             },
             "line": {
              "color": "white"
             }
            },
            "header": {
             "fill": {
              "color": "#C8D4E3"
             },
             "line": {
              "color": "white"
             }
            },
            "type": "table"
           }
          ]
         },
         "layout": {
          "annotationdefaults": {
           "arrowcolor": "#2a3f5f",
           "arrowhead": 0,
           "arrowwidth": 1
          },
          "autotypenumbers": "strict",
          "coloraxis": {
           "colorbar": {
            "outlinewidth": 0,
            "ticks": ""
           }
          },
          "colorscale": {
           "diverging": [
            [
             0,
             "#8e0152"
            ],
            [
             0.1,
             "#c51b7d"
            ],
            [
             0.2,
             "#de77ae"
            ],
            [
             0.3,
             "#f1b6da"
            ],
            [
             0.4,
             "#fde0ef"
            ],
            [
             0.5,
             "#f7f7f7"
            ],
            [
             0.6,
             "#e6f5d0"
            ],
            [
             0.7,
             "#b8e186"
            ],
            [
             0.8,
             "#7fbc41"
            ],
            [
             0.9,
             "#4d9221"
            ],
            [
             1,
             "#276419"
            ]
           ],
           "sequential": [
            [
             0,
             "#0d0887"
            ],
            [
             0.1111111111111111,
             "#46039f"
            ],
            [
             0.2222222222222222,
             "#7201a8"
            ],
            [
             0.3333333333333333,
             "#9c179e"
            ],
            [
             0.4444444444444444,
             "#bd3786"
            ],
            [
             0.5555555555555556,
             "#d8576b"
            ],
            [
             0.6666666666666666,
             "#ed7953"
            ],
            [
             0.7777777777777778,
             "#fb9f3a"
            ],
            [
             0.8888888888888888,
             "#fdca26"
            ],
            [
             1,
             "#f0f921"
            ]
           ],
           "sequentialminus": [
            [
             0,
             "#0d0887"
            ],
            [
             0.1111111111111111,
             "#46039f"
            ],
            [
             0.2222222222222222,
             "#7201a8"
            ],
            [
             0.3333333333333333,
             "#9c179e"
            ],
            [
             0.4444444444444444,
             "#bd3786"
            ],
            [
             0.5555555555555556,
             "#d8576b"
            ],
            [
             0.6666666666666666,
             "#ed7953"
            ],
            [
             0.7777777777777778,
             "#fb9f3a"
            ],
            [
             0.8888888888888888,
             "#fdca26"
            ],
            [
             1,
             "#f0f921"
            ]
           ]
          },
          "colorway": [
           "#636efa",
           "#EF553B",
           "#00cc96",
           "#ab63fa",
           "#FFA15A",
           "#19d3f3",
           "#FF6692",
           "#B6E880",
           "#FF97FF",
           "#FECB52"
          ],
          "font": {
           "color": "#2a3f5f"
          },
          "geo": {
           "bgcolor": "white",
           "lakecolor": "white",
           "landcolor": "#E5ECF6",
           "showlakes": true,
           "showland": true,
           "subunitcolor": "white"
          },
          "hoverlabel": {
           "align": "left"
          },
          "hovermode": "closest",
          "mapbox": {
           "style": "light"
          },
          "paper_bgcolor": "white",
          "plot_bgcolor": "#E5ECF6",
          "polar": {
           "angularaxis": {
            "gridcolor": "white",
            "linecolor": "white",
            "ticks": ""
           },
           "bgcolor": "#E5ECF6",
           "radialaxis": {
            "gridcolor": "white",
            "linecolor": "white",
            "ticks": ""
           }
          },
          "scene": {
           "xaxis": {
            "backgroundcolor": "#E5ECF6",
            "gridcolor": "white",
            "gridwidth": 2,
            "linecolor": "white",
            "showbackground": true,
            "ticks": "",
            "zerolinecolor": "white"
           },
           "yaxis": {
            "backgroundcolor": "#E5ECF6",
            "gridcolor": "white",
            "gridwidth": 2,
            "linecolor": "white",
            "showbackground": true,
            "ticks": "",
            "zerolinecolor": "white"
           },
           "zaxis": {
            "backgroundcolor": "#E5ECF6",
            "gridcolor": "white",
            "gridwidth": 2,
            "linecolor": "white",
            "showbackground": true,
            "ticks": "",
            "zerolinecolor": "white"
           }
          },
          "shapedefaults": {
           "line": {
            "color": "#2a3f5f"
           }
          },
          "ternary": {
           "aaxis": {
            "gridcolor": "white",
            "linecolor": "white",
            "ticks": ""
           },
           "baxis": {
            "gridcolor": "white",
            "linecolor": "white",
            "ticks": ""
           },
           "bgcolor": "#E5ECF6",
           "caxis": {
            "gridcolor": "white",
            "linecolor": "white",
            "ticks": ""
           }
          },
          "title": {
           "x": 0.05
          },
          "xaxis": {
           "automargin": true,
           "gridcolor": "white",
           "linecolor": "white",
           "ticks": "",
           "title": {
            "standoff": 15
           },
           "zerolinecolor": "white",
           "zerolinewidth": 2
          },
          "yaxis": {
           "automargin": true,
           "gridcolor": "white",
           "linecolor": "white",
           "ticks": "",
           "title": {
            "standoff": 15
           },
           "zerolinecolor": "white",
           "zerolinewidth": 2
          }
         }
        },
        "title": {
         "text": "Most Active Carriers"
        }
       }
      }
     },
     "metadata": {},
     "output_type": "display_data"
    }
   ],
   "source": [
    "# What is most active Carriers?\n",
    "import plotly.express as px\n",
    "# use px to plot a pie\n",
    "fig = px.pie(df_propotion_Carriers, values='Carrier_Volume', names='Carriers', title='Most Active Carriers')\n",
    "fig.update_traces(textposition='inside', textinfo='percent+label')\n",
    "fig.show()\n",
    "\n",
    "# |-> WN(Southwest Airline) is the most active, occupy 17.4% of the flights.\n",
    "# |-> OO(Skywest Airline) and AA(American Airline) cccupy around 9% of the flights\n",
    "# |-> MQ(Envoy Air), DL(Delta Airline), US(can't find) occupy around 7% of the flights\n",
    "# |-> UA(United Airline) and XE(can't find) occupy around 5% \n",
    "# |-> Other compnies are less than 5%"
   ]
  },
  {
   "attachments": {},
   "cell_type": "markdown",
   "metadata": {},
   "source": [
    "## The proportion of the delay"
   ]
  },
  {
   "cell_type": "code",
   "execution_count": 19,
   "metadata": {},
   "outputs": [
    {
     "name": "stdout",
     "output_type": "stream",
     "text": [
      "\n"
     ]
    }
   ],
   "source": [
    "# fill the missing data\n",
    "# We know that in the dalay columns, if the value in NaN, is because the flight didn't delay\n",
    "# so we just simply fill it with 0\n",
    "df_flights['CARRIER_DELAY'] = df_flights['CARRIER_DELAY'].fillna(0)\n",
    "df_flights['WEATHER_DELAY'] = df_flights['WEATHER_DELAY'].fillna(0)\n",
    "df_flights['NAS_DELAY'] = df_flights['NAS_DELAY'].fillna(0)\n",
    "df_flights['SECURITY_DELAY'] = df_flights['SECURITY_DELAY'].fillna(0)\n",
    "df_flights['LATE_AIRCRAFT_DELAY'] = df_flights['LATE_AIRCRAFT_DELAY'].fillna(0)\n",
    "print()"
   ]
  },
  {
   "cell_type": "code",
   "execution_count": 20,
   "metadata": {},
   "outputs": [
    {
     "name": "stdout",
     "output_type": "stream",
     "text": [
      "[1991245.0, 441926.0, 2029211.0, 15226.0, 2785160.0]\n"
     ]
    }
   ],
   "source": [
    "# create a delay list\n",
    "delay_type = ['CARRIER_DELAY','WEATHER_DELAY','NAS_DELAY','SECURITY_DELAY','LATE_AIRCRAFT_DELAY']\n",
    "# initial a empty list to store the delay value\n",
    "delay_volume = []\n",
    "# Calculate the total delay time\n",
    "for i in range(0,5):\n",
    "    delay_volume.append((df_flights[delay_type[i]]).sum())\n",
    "# create a dictionary to store two lists\n",
    "dictionary_delay = {\"delay_type\" : delay_type, \"delay_volume\" : delay_volume}\n",
    "# create a pandas dataframe\n",
    "df_delay = pd.DataFrame(dictionary_delay)\n",
    "print(delay_volume)"
   ]
  },
  {
   "cell_type": "code",
   "execution_count": 21,
   "metadata": {},
   "outputs": [
    {
     "data": {
      "application/vnd.plotly.v1+json": {
       "config": {
        "plotlyServerURL": "https://plot.ly"
       },
       "data": [
        {
         "domain": {
          "x": [
           0,
           1
          ],
          "y": [
           0,
           1
          ]
         },
         "hovertemplate": "delay_type=%{label}<br>delay_volume=%{value}<extra></extra>",
         "labels": [
          "CARRIER_DELAY",
          "WEATHER_DELAY",
          "NAS_DELAY",
          "SECURITY_DELAY",
          "LATE_AIRCRAFT_DELAY"
         ],
         "legendgroup": "",
         "name": "",
         "showlegend": true,
         "textinfo": "percent+label",
         "textposition": "inside",
         "type": "pie",
         "values": [
          1991245,
          441926,
          2029211,
          15226,
          2785160
         ]
        }
       ],
       "layout": {
        "legend": {
         "tracegroupgap": 0
        },
        "template": {
         "data": {
          "bar": [
           {
            "error_x": {
             "color": "#2a3f5f"
            },
            "error_y": {
             "color": "#2a3f5f"
            },
            "marker": {
             "line": {
              "color": "#E5ECF6",
              "width": 0.5
             },
             "pattern": {
              "fillmode": "overlay",
              "size": 10,
              "solidity": 0.2
             }
            },
            "type": "bar"
           }
          ],
          "barpolar": [
           {
            "marker": {
             "line": {
              "color": "#E5ECF6",
              "width": 0.5
             },
             "pattern": {
              "fillmode": "overlay",
              "size": 10,
              "solidity": 0.2
             }
            },
            "type": "barpolar"
           }
          ],
          "carpet": [
           {
            "aaxis": {
             "endlinecolor": "#2a3f5f",
             "gridcolor": "white",
             "linecolor": "white",
             "minorgridcolor": "white",
             "startlinecolor": "#2a3f5f"
            },
            "baxis": {
             "endlinecolor": "#2a3f5f",
             "gridcolor": "white",
             "linecolor": "white",
             "minorgridcolor": "white",
             "startlinecolor": "#2a3f5f"
            },
            "type": "carpet"
           }
          ],
          "choropleth": [
           {
            "colorbar": {
             "outlinewidth": 0,
             "ticks": ""
            },
            "type": "choropleth"
           }
          ],
          "contour": [
           {
            "colorbar": {
             "outlinewidth": 0,
             "ticks": ""
            },
            "colorscale": [
             [
              0,
              "#0d0887"
             ],
             [
              0.1111111111111111,
              "#46039f"
             ],
             [
              0.2222222222222222,
              "#7201a8"
             ],
             [
              0.3333333333333333,
              "#9c179e"
             ],
             [
              0.4444444444444444,
              "#bd3786"
             ],
             [
              0.5555555555555556,
              "#d8576b"
             ],
             [
              0.6666666666666666,
              "#ed7953"
             ],
             [
              0.7777777777777778,
              "#fb9f3a"
             ],
             [
              0.8888888888888888,
              "#fdca26"
             ],
             [
              1,
              "#f0f921"
             ]
            ],
            "type": "contour"
           }
          ],
          "contourcarpet": [
           {
            "colorbar": {
             "outlinewidth": 0,
             "ticks": ""
            },
            "type": "contourcarpet"
           }
          ],
          "heatmap": [
           {
            "colorbar": {
             "outlinewidth": 0,
             "ticks": ""
            },
            "colorscale": [
             [
              0,
              "#0d0887"
             ],
             [
              0.1111111111111111,
              "#46039f"
             ],
             [
              0.2222222222222222,
              "#7201a8"
             ],
             [
              0.3333333333333333,
              "#9c179e"
             ],
             [
              0.4444444444444444,
              "#bd3786"
             ],
             [
              0.5555555555555556,
              "#d8576b"
             ],
             [
              0.6666666666666666,
              "#ed7953"
             ],
             [
              0.7777777777777778,
              "#fb9f3a"
             ],
             [
              0.8888888888888888,
              "#fdca26"
             ],
             [
              1,
              "#f0f921"
             ]
            ],
            "type": "heatmap"
           }
          ],
          "heatmapgl": [
           {
            "colorbar": {
             "outlinewidth": 0,
             "ticks": ""
            },
            "colorscale": [
             [
              0,
              "#0d0887"
             ],
             [
              0.1111111111111111,
              "#46039f"
             ],
             [
              0.2222222222222222,
              "#7201a8"
             ],
             [
              0.3333333333333333,
              "#9c179e"
             ],
             [
              0.4444444444444444,
              "#bd3786"
             ],
             [
              0.5555555555555556,
              "#d8576b"
             ],
             [
              0.6666666666666666,
              "#ed7953"
             ],
             [
              0.7777777777777778,
              "#fb9f3a"
             ],
             [
              0.8888888888888888,
              "#fdca26"
             ],
             [
              1,
              "#f0f921"
             ]
            ],
            "type": "heatmapgl"
           }
          ],
          "histogram": [
           {
            "marker": {
             "pattern": {
              "fillmode": "overlay",
              "size": 10,
              "solidity": 0.2
             }
            },
            "type": "histogram"
           }
          ],
          "histogram2d": [
           {
            "colorbar": {
             "outlinewidth": 0,
             "ticks": ""
            },
            "colorscale": [
             [
              0,
              "#0d0887"
             ],
             [
              0.1111111111111111,
              "#46039f"
             ],
             [
              0.2222222222222222,
              "#7201a8"
             ],
             [
              0.3333333333333333,
              "#9c179e"
             ],
             [
              0.4444444444444444,
              "#bd3786"
             ],
             [
              0.5555555555555556,
              "#d8576b"
             ],
             [
              0.6666666666666666,
              "#ed7953"
             ],
             [
              0.7777777777777778,
              "#fb9f3a"
             ],
             [
              0.8888888888888888,
              "#fdca26"
             ],
             [
              1,
              "#f0f921"
             ]
            ],
            "type": "histogram2d"
           }
          ],
          "histogram2dcontour": [
           {
            "colorbar": {
             "outlinewidth": 0,
             "ticks": ""
            },
            "colorscale": [
             [
              0,
              "#0d0887"
             ],
             [
              0.1111111111111111,
              "#46039f"
             ],
             [
              0.2222222222222222,
              "#7201a8"
             ],
             [
              0.3333333333333333,
              "#9c179e"
             ],
             [
              0.4444444444444444,
              "#bd3786"
             ],
             [
              0.5555555555555556,
              "#d8576b"
             ],
             [
              0.6666666666666666,
              "#ed7953"
             ],
             [
              0.7777777777777778,
              "#fb9f3a"
             ],
             [
              0.8888888888888888,
              "#fdca26"
             ],
             [
              1,
              "#f0f921"
             ]
            ],
            "type": "histogram2dcontour"
           }
          ],
          "mesh3d": [
           {
            "colorbar": {
             "outlinewidth": 0,
             "ticks": ""
            },
            "type": "mesh3d"
           }
          ],
          "parcoords": [
           {
            "line": {
             "colorbar": {
              "outlinewidth": 0,
              "ticks": ""
             }
            },
            "type": "parcoords"
           }
          ],
          "pie": [
           {
            "automargin": true,
            "type": "pie"
           }
          ],
          "scatter": [
           {
            "fillpattern": {
             "fillmode": "overlay",
             "size": 10,
             "solidity": 0.2
            },
            "type": "scatter"
           }
          ],
          "scatter3d": [
           {
            "line": {
             "colorbar": {
              "outlinewidth": 0,
              "ticks": ""
             }
            },
            "marker": {
             "colorbar": {
              "outlinewidth": 0,
              "ticks": ""
             }
            },
            "type": "scatter3d"
           }
          ],
          "scattercarpet": [
           {
            "marker": {
             "colorbar": {
              "outlinewidth": 0,
              "ticks": ""
             }
            },
            "type": "scattercarpet"
           }
          ],
          "scattergeo": [
           {
            "marker": {
             "colorbar": {
              "outlinewidth": 0,
              "ticks": ""
             }
            },
            "type": "scattergeo"
           }
          ],
          "scattergl": [
           {
            "marker": {
             "colorbar": {
              "outlinewidth": 0,
              "ticks": ""
             }
            },
            "type": "scattergl"
           }
          ],
          "scattermapbox": [
           {
            "marker": {
             "colorbar": {
              "outlinewidth": 0,
              "ticks": ""
             }
            },
            "type": "scattermapbox"
           }
          ],
          "scatterpolar": [
           {
            "marker": {
             "colorbar": {
              "outlinewidth": 0,
              "ticks": ""
             }
            },
            "type": "scatterpolar"
           }
          ],
          "scatterpolargl": [
           {
            "marker": {
             "colorbar": {
              "outlinewidth": 0,
              "ticks": ""
             }
            },
            "type": "scatterpolargl"
           }
          ],
          "scatterternary": [
           {
            "marker": {
             "colorbar": {
              "outlinewidth": 0,
              "ticks": ""
             }
            },
            "type": "scatterternary"
           }
          ],
          "surface": [
           {
            "colorbar": {
             "outlinewidth": 0,
             "ticks": ""
            },
            "colorscale": [
             [
              0,
              "#0d0887"
             ],
             [
              0.1111111111111111,
              "#46039f"
             ],
             [
              0.2222222222222222,
              "#7201a8"
             ],
             [
              0.3333333333333333,
              "#9c179e"
             ],
             [
              0.4444444444444444,
              "#bd3786"
             ],
             [
              0.5555555555555556,
              "#d8576b"
             ],
             [
              0.6666666666666666,
              "#ed7953"
             ],
             [
              0.7777777777777778,
              "#fb9f3a"
             ],
             [
              0.8888888888888888,
              "#fdca26"
             ],
             [
              1,
              "#f0f921"
             ]
            ],
            "type": "surface"
           }
          ],
          "table": [
           {
            "cells": {
             "fill": {
              "color": "#EBF0F8"
             },
             "line": {
              "color": "white"
             }
            },
            "header": {
             "fill": {
              "color": "#C8D4E3"
             },
             "line": {
              "color": "white"
             }
            },
            "type": "table"
           }
          ]
         },
         "layout": {
          "annotationdefaults": {
           "arrowcolor": "#2a3f5f",
           "arrowhead": 0,
           "arrowwidth": 1
          },
          "autotypenumbers": "strict",
          "coloraxis": {
           "colorbar": {
            "outlinewidth": 0,
            "ticks": ""
           }
          },
          "colorscale": {
           "diverging": [
            [
             0,
             "#8e0152"
            ],
            [
             0.1,
             "#c51b7d"
            ],
            [
             0.2,
             "#de77ae"
            ],
            [
             0.3,
             "#f1b6da"
            ],
            [
             0.4,
             "#fde0ef"
            ],
            [
             0.5,
             "#f7f7f7"
            ],
            [
             0.6,
             "#e6f5d0"
            ],
            [
             0.7,
             "#b8e186"
            ],
            [
             0.8,
             "#7fbc41"
            ],
            [
             0.9,
             "#4d9221"
            ],
            [
             1,
             "#276419"
            ]
           ],
           "sequential": [
            [
             0,
             "#0d0887"
            ],
            [
             0.1111111111111111,
             "#46039f"
            ],
            [
             0.2222222222222222,
             "#7201a8"
            ],
            [
             0.3333333333333333,
             "#9c179e"
            ],
            [
             0.4444444444444444,
             "#bd3786"
            ],
            [
             0.5555555555555556,
             "#d8576b"
            ],
            [
             0.6666666666666666,
             "#ed7953"
            ],
            [
             0.7777777777777778,
             "#fb9f3a"
            ],
            [
             0.8888888888888888,
             "#fdca26"
            ],
            [
             1,
             "#f0f921"
            ]
           ],
           "sequentialminus": [
            [
             0,
             "#0d0887"
            ],
            [
             0.1111111111111111,
             "#46039f"
            ],
            [
             0.2222222222222222,
             "#7201a8"
            ],
            [
             0.3333333333333333,
             "#9c179e"
            ],
            [
             0.4444444444444444,
             "#bd3786"
            ],
            [
             0.5555555555555556,
             "#d8576b"
            ],
            [
             0.6666666666666666,
             "#ed7953"
            ],
            [
             0.7777777777777778,
             "#fb9f3a"
            ],
            [
             0.8888888888888888,
             "#fdca26"
            ],
            [
             1,
             "#f0f921"
            ]
           ]
          },
          "colorway": [
           "#636efa",
           "#EF553B",
           "#00cc96",
           "#ab63fa",
           "#FFA15A",
           "#19d3f3",
           "#FF6692",
           "#B6E880",
           "#FF97FF",
           "#FECB52"
          ],
          "font": {
           "color": "#2a3f5f"
          },
          "geo": {
           "bgcolor": "white",
           "lakecolor": "white",
           "landcolor": "#E5ECF6",
           "showlakes": true,
           "showland": true,
           "subunitcolor": "white"
          },
          "hoverlabel": {
           "align": "left"
          },
          "hovermode": "closest",
          "mapbox": {
           "style": "light"
          },
          "paper_bgcolor": "white",
          "plot_bgcolor": "#E5ECF6",
          "polar": {
           "angularaxis": {
            "gridcolor": "white",
            "linecolor": "white",
            "ticks": ""
           },
           "bgcolor": "#E5ECF6",
           "radialaxis": {
            "gridcolor": "white",
            "linecolor": "white",
            "ticks": ""
           }
          },
          "scene": {
           "xaxis": {
            "backgroundcolor": "#E5ECF6",
            "gridcolor": "white",
            "gridwidth": 2,
            "linecolor": "white",
            "showbackground": true,
            "ticks": "",
            "zerolinecolor": "white"
           },
           "yaxis": {
            "backgroundcolor": "#E5ECF6",
            "gridcolor": "white",
            "gridwidth": 2,
            "linecolor": "white",
            "showbackground": true,
            "ticks": "",
            "zerolinecolor": "white"
           },
           "zaxis": {
            "backgroundcolor": "#E5ECF6",
            "gridcolor": "white",
            "gridwidth": 2,
            "linecolor": "white",
            "showbackground": true,
            "ticks": "",
            "zerolinecolor": "white"
           }
          },
          "shapedefaults": {
           "line": {
            "color": "#2a3f5f"
           }
          },
          "ternary": {
           "aaxis": {
            "gridcolor": "white",
            "linecolor": "white",
            "ticks": ""
           },
           "baxis": {
            "gridcolor": "white",
            "linecolor": "white",
            "ticks": ""
           },
           "bgcolor": "#E5ECF6",
           "caxis": {
            "gridcolor": "white",
            "linecolor": "white",
            "ticks": ""
           }
          },
          "title": {
           "x": 0.05
          },
          "xaxis": {
           "automargin": true,
           "gridcolor": "white",
           "linecolor": "white",
           "ticks": "",
           "title": {
            "standoff": 15
           },
           "zerolinecolor": "white",
           "zerolinewidth": 2
          },
          "yaxis": {
           "automargin": true,
           "gridcolor": "white",
           "linecolor": "white",
           "ticks": "",
           "title": {
            "standoff": 15
           },
           "zerolinecolor": "white",
           "zerolinewidth": 2
          }
         }
        },
        "title": {
         "text": "Tops reason for delay"
        }
       }
      }
     },
     "metadata": {},
     "output_type": "display_data"
    }
   ],
   "source": [
    "# What is the most significant reason for delay\n",
    "import plotly.express as px\n",
    "# use px to plot a pie\n",
    "fig = px.pie(df_delay, values='delay_volume', names='delay_type', title='Tops reason for delay')\n",
    "fig.update_traces(textposition='inside', textinfo='percent+label')\n",
    "fig.show()"
   ]
  },
  {
   "attachments": {},
   "cell_type": "markdown",
   "metadata": {},
   "source": [
    "### Connect the pie with dropdown"
   ]
  },
  {
   "attachments": {},
   "cell_type": "markdown",
   "metadata": {},
   "source": [
    "- #### conncet the dropdown button with delay pie.\n",
    "- #### you can choose states and carriers from the dropdown buttons to see the proportion"
   ]
  },
  {
   "cell_type": "code",
   "execution_count": 22,
   "metadata": {},
   "outputs": [],
   "source": [
    "# What we want to do: \n",
    "# 1. create a new dataframe contains ORIGIN_STATE_NM, DEST_STATE_NM, CARRIER, MONTH, CARRIER_DELAY, 'WEATHER_DELAY','NAS_DELAY','SECURITY_DELAY'\n",
    "# 2. plot the pie dropdwon plot with this dataframe\n",
    "\n",
    "# Create a new list of the features we want\n",
    "delay_factors = ['ORIGIN_STATE_NM', 'DEST_STATE_NM', 'UNIQUE_CARRIER', 'MONTH', 'CARRIER_DELAY', 'WEATHER_DELAY','NAS_DELAY','SECURITY_DELAY']\n",
    "# form a new dataframe using delay_factors\n",
    "df_delay_ddpie = df_flights[delay_factors]"
   ]
  },
  {
   "cell_type": "code",
   "execution_count": 23,
   "metadata": {},
   "outputs": [],
   "source": [
    "import plotly.graph_objects as go\n",
    "\n",
    "# create the figure\n",
    "go.Figure()\n",
    "\n",
    "# add pie trace\n",
    "fig = go.Figure(data = [go.Pie(labels = delay_factors, values= df_delay_ddpie)])\n",
    "\n",
    "# search bar?"
   ]
  },
  {
   "attachments": {},
   "cell_type": "markdown",
   "metadata": {},
   "source": [
    "## Christmas animation of delay reason"
   ]
  },
  {
   "cell_type": "code",
   "execution_count": 24,
   "metadata": {},
   "outputs": [],
   "source": [
    "# build the suitable dataframe\n",
    "# we want MONTH as animation_frame\n",
    "df_delay_christmas = df_flights[['DAY_OF_MONTH','CARRIER_DELAY','WEATHER_DELAY','NAS_DELAY','SECURITY_DELAY','LATE_AIRCRAFT_DELAY']]\n",
    "# create empty list to store the value\n",
    "day_list = [22,23,24,25,26,27,28,29,30,31]\n",
    "carrier_delay_list, weather_delay_list, nas_delay_list, security_delay_list, late_aircraft_delay_list = [],[],[],[],[]\n",
    "# for each month, sum up all delay time in each type of delay\n",
    "for day in range(22,32):\n",
    "  carrier_delay_list.append((df_delay_christmas[df_delay_christmas['DAY_OF_MONTH'] == day]['CARRIER_DELAY']).sum())\n",
    "  weather_delay_list.append((df_delay_christmas[df_delay_christmas['DAY_OF_MONTH'] == day]['WEATHER_DELAY']).sum())\n",
    "  nas_delay_list.append((df_delay_christmas[df_delay_christmas['DAY_OF_MONTH'] == day]['NAS_DELAY']).sum())\n",
    "  security_delay_list.append((df_delay_christmas[df_delay_christmas['DAY_OF_MONTH'] == day]['SECURITY_DELAY']).sum())\n",
    "  late_aircraft_delay_list.append((df_delay_christmas[df_delay_christmas['DAY_OF_MONTH'] == day]['LATE_AIRCRAFT_DELAY']).sum())\n",
    "# create dictionary\n",
    "dictionary_delay_christmas = {'day':day_list, 'carrier_delay':carrier_delay_list, 'weather_delay':weather_delay_list,\n",
    "                          'nas_delay':nas_delay_list,'security_delay':security_delay_list,'late_aircraft_delay':late_aircraft_delay_list}\n",
    "# create pandas dataframe\n",
    "df_delay_christmas_plot = pd.DataFrame(dictionary_delay_christmas)"
   ]
  },
  {
   "cell_type": "code",
   "execution_count": 98,
   "metadata": {},
   "outputs": [],
   "source": [
    "# change the horizontal df to vertical df\n",
    "df_delay_christmas = pd.melt(df_delay_christmas_plot, id_vars=['day'], value_vars=['carrier_delay','weather_delay',\n",
    "'nas_delay','security_delay','late_aircraft_delay'])\n",
    "# df_delay_christmas"
   ]
  },
  {
   "cell_type": "code",
   "execution_count": 100,
   "metadata": {},
   "outputs": [
    {
     "data": {
      "application/vnd.plotly.v1+json": {
       "config": {
        "plotlyServerURL": "https://plot.ly"
       },
       "data": [
        {
         "hovertemplate": "day=22<br>variable=%{x}<br>value=%{y}<extra></extra>",
         "legendgroup": "",
         "marker": {
          "color": "#636efa",
          "symbol": "circle"
         },
         "mode": "markers",
         "name": "",
         "orientation": "v",
         "showlegend": false,
         "type": "scatter",
         "x": [
          "carrier_delay",
          "weather_delay",
          "nas_delay",
          "security_delay",
          "late_aircraft_delay"
         ],
         "xaxis": "x",
         "y": [
          86205,
          14752,
          94555,
          1338,
          143715
         ],
         "yaxis": "y"
        }
       ],
       "frames": [
        {
         "data": [
          {
           "hovertemplate": "day=22<br>variable=%{x}<br>value=%{y}<extra></extra>",
           "legendgroup": "",
           "marker": {
            "color": "#636efa",
            "symbol": "circle"
           },
           "mode": "markers",
           "name": "",
           "orientation": "v",
           "showlegend": false,
           "type": "scatter",
           "x": [
            "carrier_delay",
            "weather_delay",
            "nas_delay",
            "security_delay",
            "late_aircraft_delay"
           ],
           "xaxis": "x",
           "y": [
            86205,
            14752,
            94555,
            1338,
            143715
           ],
           "yaxis": "y"
          }
         ],
         "name": "22"
        },
        {
         "data": [
          {
           "hovertemplate": "day=23<br>variable=%{x}<br>value=%{y}<extra></extra>",
           "legendgroup": "",
           "marker": {
            "color": "#636efa",
            "symbol": "circle"
           },
           "mode": "markers",
           "name": "",
           "orientation": "v",
           "showlegend": false,
           "type": "scatter",
           "x": [
            "carrier_delay",
            "weather_delay",
            "nas_delay",
            "security_delay",
            "late_aircraft_delay"
           ],
           "xaxis": "x",
           "y": [
            87097,
            22654,
            95870,
            758,
            133272
           ],
           "yaxis": "y"
          }
         ],
         "name": "23"
        },
        {
         "data": [
          {
           "hovertemplate": "day=24<br>variable=%{x}<br>value=%{y}<extra></extra>",
           "legendgroup": "",
           "marker": {
            "color": "#636efa",
            "symbol": "circle"
           },
           "mode": "markers",
           "name": "",
           "orientation": "v",
           "showlegend": false,
           "type": "scatter",
           "x": [
            "carrier_delay",
            "weather_delay",
            "nas_delay",
            "security_delay",
            "late_aircraft_delay"
           ],
           "xaxis": "x",
           "y": [
            57752,
            26348,
            63549,
            1785,
            76634
           ],
           "yaxis": "y"
          }
         ],
         "name": "24"
        },
        {
         "data": [
          {
           "hovertemplate": "day=25<br>variable=%{x}<br>value=%{y}<extra></extra>",
           "legendgroup": "",
           "marker": {
            "color": "#636efa",
            "symbol": "circle"
           },
           "mode": "markers",
           "name": "",
           "orientation": "v",
           "showlegend": false,
           "type": "scatter",
           "x": [
            "carrier_delay",
            "weather_delay",
            "nas_delay",
            "security_delay",
            "late_aircraft_delay"
           ],
           "xaxis": "x",
           "y": [
            56383,
            26703,
            41941,
            276,
            74985
           ],
           "yaxis": "y"
          }
         ],
         "name": "25"
        },
        {
         "data": [
          {
           "hovertemplate": "day=26<br>variable=%{x}<br>value=%{y}<extra></extra>",
           "legendgroup": "",
           "marker": {
            "color": "#636efa",
            "symbol": "circle"
           },
           "mode": "markers",
           "name": "",
           "orientation": "v",
           "showlegend": false,
           "type": "scatter",
           "x": [
            "carrier_delay",
            "weather_delay",
            "nas_delay",
            "security_delay",
            "late_aircraft_delay"
           ],
           "xaxis": "x",
           "y": [
            93508,
            22092,
            132258,
            1101,
            166134
           ],
           "yaxis": "y"
          }
         ],
         "name": "26"
        },
        {
         "data": [
          {
           "hovertemplate": "day=27<br>variable=%{x}<br>value=%{y}<extra></extra>",
           "legendgroup": "",
           "marker": {
            "color": "#636efa",
            "symbol": "circle"
           },
           "mode": "markers",
           "name": "",
           "orientation": "v",
           "showlegend": false,
           "type": "scatter",
           "x": [
            "carrier_delay",
            "weather_delay",
            "nas_delay",
            "security_delay",
            "late_aircraft_delay"
           ],
           "xaxis": "x",
           "y": [
            102529,
            9229,
            43610,
            907,
            102253
           ],
           "yaxis": "y"
          }
         ],
         "name": "27"
        },
        {
         "data": [
          {
           "hovertemplate": "day=28<br>variable=%{x}<br>value=%{y}<extra></extra>",
           "legendgroup": "",
           "marker": {
            "color": "#636efa",
            "symbol": "circle"
           },
           "mode": "markers",
           "name": "",
           "orientation": "v",
           "showlegend": false,
           "type": "scatter",
           "x": [
            "carrier_delay",
            "weather_delay",
            "nas_delay",
            "security_delay",
            "late_aircraft_delay"
           ],
           "xaxis": "x",
           "y": [
            81693,
            7064,
            33372,
            590,
            73059
           ],
           "yaxis": "y"
          }
         ],
         "name": "28"
        },
        {
         "data": [
          {
           "hovertemplate": "day=29<br>variable=%{x}<br>value=%{y}<extra></extra>",
           "legendgroup": "",
           "marker": {
            "color": "#636efa",
            "symbol": "circle"
           },
           "mode": "markers",
           "name": "",
           "orientation": "v",
           "showlegend": false,
           "type": "scatter",
           "x": [
            "carrier_delay",
            "weather_delay",
            "nas_delay",
            "security_delay",
            "late_aircraft_delay"
           ],
           "xaxis": "x",
           "y": [
            66207,
            11667,
            66413,
            312,
            90235
           ],
           "yaxis": "y"
          }
         ],
         "name": "29"
        },
        {
         "data": [
          {
           "hovertemplate": "day=30<br>variable=%{x}<br>value=%{y}<extra></extra>",
           "legendgroup": "",
           "marker": {
            "color": "#636efa",
            "symbol": "circle"
           },
           "mode": "markers",
           "name": "",
           "orientation": "v",
           "showlegend": false,
           "type": "scatter",
           "x": [
            "carrier_delay",
            "weather_delay",
            "nas_delay",
            "security_delay",
            "late_aircraft_delay"
           ],
           "xaxis": "x",
           "y": [
            73876,
            9556,
            62925,
            614,
            107380
           ],
           "yaxis": "y"
          }
         ],
         "name": "30"
        },
        {
         "data": [
          {
           "hovertemplate": "day=31<br>variable=%{x}<br>value=%{y}<extra></extra>",
           "legendgroup": "",
           "marker": {
            "color": "#636efa",
            "symbol": "circle"
           },
           "mode": "markers",
           "name": "",
           "orientation": "v",
           "showlegend": false,
           "type": "scatter",
           "x": [
            "carrier_delay",
            "weather_delay",
            "nas_delay",
            "security_delay",
            "late_aircraft_delay"
           ],
           "xaxis": "x",
           "y": [
            69740,
            24979,
            68176,
            922,
            106776
           ],
           "yaxis": "y"
          }
         ],
         "name": "31"
        }
       ],
       "layout": {
        "legend": {
         "tracegroupgap": 0
        },
        "sliders": [
         {
          "active": 0,
          "currentvalue": {
           "prefix": "day="
          },
          "len": 0.9,
          "pad": {
           "b": 10,
           "t": 60
          },
          "steps": [
           {
            "args": [
             [
              "22"
             ],
             {
              "frame": {
               "duration": 0,
               "redraw": false
              },
              "fromcurrent": true,
              "mode": "immediate",
              "transition": {
               "duration": 0,
               "easing": "linear"
              }
             }
            ],
            "label": "22",
            "method": "animate"
           },
           {
            "args": [
             [
              "23"
             ],
             {
              "frame": {
               "duration": 0,
               "redraw": false
              },
              "fromcurrent": true,
              "mode": "immediate",
              "transition": {
               "duration": 0,
               "easing": "linear"
              }
             }
            ],
            "label": "23",
            "method": "animate"
           },
           {
            "args": [
             [
              "24"
             ],
             {
              "frame": {
               "duration": 0,
               "redraw": false
              },
              "fromcurrent": true,
              "mode": "immediate",
              "transition": {
               "duration": 0,
               "easing": "linear"
              }
             }
            ],
            "label": "24",
            "method": "animate"
           },
           {
            "args": [
             [
              "25"
             ],
             {
              "frame": {
               "duration": 0,
               "redraw": false
              },
              "fromcurrent": true,
              "mode": "immediate",
              "transition": {
               "duration": 0,
               "easing": "linear"
              }
             }
            ],
            "label": "25",
            "method": "animate"
           },
           {
            "args": [
             [
              "26"
             ],
             {
              "frame": {
               "duration": 0,
               "redraw": false
              },
              "fromcurrent": true,
              "mode": "immediate",
              "transition": {
               "duration": 0,
               "easing": "linear"
              }
             }
            ],
            "label": "26",
            "method": "animate"
           },
           {
            "args": [
             [
              "27"
             ],
             {
              "frame": {
               "duration": 0,
               "redraw": false
              },
              "fromcurrent": true,
              "mode": "immediate",
              "transition": {
               "duration": 0,
               "easing": "linear"
              }
             }
            ],
            "label": "27",
            "method": "animate"
           },
           {
            "args": [
             [
              "28"
             ],
             {
              "frame": {
               "duration": 0,
               "redraw": false
              },
              "fromcurrent": true,
              "mode": "immediate",
              "transition": {
               "duration": 0,
               "easing": "linear"
              }
             }
            ],
            "label": "28",
            "method": "animate"
           },
           {
            "args": [
             [
              "29"
             ],
             {
              "frame": {
               "duration": 0,
               "redraw": false
              },
              "fromcurrent": true,
              "mode": "immediate",
              "transition": {
               "duration": 0,
               "easing": "linear"
              }
             }
            ],
            "label": "29",
            "method": "animate"
           },
           {
            "args": [
             [
              "30"
             ],
             {
              "frame": {
               "duration": 0,
               "redraw": false
              },
              "fromcurrent": true,
              "mode": "immediate",
              "transition": {
               "duration": 0,
               "easing": "linear"
              }
             }
            ],
            "label": "30",
            "method": "animate"
           },
           {
            "args": [
             [
              "31"
             ],
             {
              "frame": {
               "duration": 0,
               "redraw": false
              },
              "fromcurrent": true,
              "mode": "immediate",
              "transition": {
               "duration": 0,
               "easing": "linear"
              }
             }
            ],
            "label": "31",
            "method": "animate"
           }
          ],
          "x": 0.1,
          "xanchor": "left",
          "y": 0,
          "yanchor": "top"
         }
        ],
        "template": {
         "data": {
          "bar": [
           {
            "error_x": {
             "color": "#2a3f5f"
            },
            "error_y": {
             "color": "#2a3f5f"
            },
            "marker": {
             "line": {
              "color": "#E5ECF6",
              "width": 0.5
             },
             "pattern": {
              "fillmode": "overlay",
              "size": 10,
              "solidity": 0.2
             }
            },
            "type": "bar"
           }
          ],
          "barpolar": [
           {
            "marker": {
             "line": {
              "color": "#E5ECF6",
              "width": 0.5
             },
             "pattern": {
              "fillmode": "overlay",
              "size": 10,
              "solidity": 0.2
             }
            },
            "type": "barpolar"
           }
          ],
          "carpet": [
           {
            "aaxis": {
             "endlinecolor": "#2a3f5f",
             "gridcolor": "white",
             "linecolor": "white",
             "minorgridcolor": "white",
             "startlinecolor": "#2a3f5f"
            },
            "baxis": {
             "endlinecolor": "#2a3f5f",
             "gridcolor": "white",
             "linecolor": "white",
             "minorgridcolor": "white",
             "startlinecolor": "#2a3f5f"
            },
            "type": "carpet"
           }
          ],
          "choropleth": [
           {
            "colorbar": {
             "outlinewidth": 0,
             "ticks": ""
            },
            "type": "choropleth"
           }
          ],
          "contour": [
           {
            "colorbar": {
             "outlinewidth": 0,
             "ticks": ""
            },
            "colorscale": [
             [
              0,
              "#0d0887"
             ],
             [
              0.1111111111111111,
              "#46039f"
             ],
             [
              0.2222222222222222,
              "#7201a8"
             ],
             [
              0.3333333333333333,
              "#9c179e"
             ],
             [
              0.4444444444444444,
              "#bd3786"
             ],
             [
              0.5555555555555556,
              "#d8576b"
             ],
             [
              0.6666666666666666,
              "#ed7953"
             ],
             [
              0.7777777777777778,
              "#fb9f3a"
             ],
             [
              0.8888888888888888,
              "#fdca26"
             ],
             [
              1,
              "#f0f921"
             ]
            ],
            "type": "contour"
           }
          ],
          "contourcarpet": [
           {
            "colorbar": {
             "outlinewidth": 0,
             "ticks": ""
            },
            "type": "contourcarpet"
           }
          ],
          "heatmap": [
           {
            "colorbar": {
             "outlinewidth": 0,
             "ticks": ""
            },
            "colorscale": [
             [
              0,
              "#0d0887"
             ],
             [
              0.1111111111111111,
              "#46039f"
             ],
             [
              0.2222222222222222,
              "#7201a8"
             ],
             [
              0.3333333333333333,
              "#9c179e"
             ],
             [
              0.4444444444444444,
              "#bd3786"
             ],
             [
              0.5555555555555556,
              "#d8576b"
             ],
             [
              0.6666666666666666,
              "#ed7953"
             ],
             [
              0.7777777777777778,
              "#fb9f3a"
             ],
             [
              0.8888888888888888,
              "#fdca26"
             ],
             [
              1,
              "#f0f921"
             ]
            ],
            "type": "heatmap"
           }
          ],
          "heatmapgl": [
           {
            "colorbar": {
             "outlinewidth": 0,
             "ticks": ""
            },
            "colorscale": [
             [
              0,
              "#0d0887"
             ],
             [
              0.1111111111111111,
              "#46039f"
             ],
             [
              0.2222222222222222,
              "#7201a8"
             ],
             [
              0.3333333333333333,
              "#9c179e"
             ],
             [
              0.4444444444444444,
              "#bd3786"
             ],
             [
              0.5555555555555556,
              "#d8576b"
             ],
             [
              0.6666666666666666,
              "#ed7953"
             ],
             [
              0.7777777777777778,
              "#fb9f3a"
             ],
             [
              0.8888888888888888,
              "#fdca26"
             ],
             [
              1,
              "#f0f921"
             ]
            ],
            "type": "heatmapgl"
           }
          ],
          "histogram": [
           {
            "marker": {
             "pattern": {
              "fillmode": "overlay",
              "size": 10,
              "solidity": 0.2
             }
            },
            "type": "histogram"
           }
          ],
          "histogram2d": [
           {
            "colorbar": {
             "outlinewidth": 0,
             "ticks": ""
            },
            "colorscale": [
             [
              0,
              "#0d0887"
             ],
             [
              0.1111111111111111,
              "#46039f"
             ],
             [
              0.2222222222222222,
              "#7201a8"
             ],
             [
              0.3333333333333333,
              "#9c179e"
             ],
             [
              0.4444444444444444,
              "#bd3786"
             ],
             [
              0.5555555555555556,
              "#d8576b"
             ],
             [
              0.6666666666666666,
              "#ed7953"
             ],
             [
              0.7777777777777778,
              "#fb9f3a"
             ],
             [
              0.8888888888888888,
              "#fdca26"
             ],
             [
              1,
              "#f0f921"
             ]
            ],
            "type": "histogram2d"
           }
          ],
          "histogram2dcontour": [
           {
            "colorbar": {
             "outlinewidth": 0,
             "ticks": ""
            },
            "colorscale": [
             [
              0,
              "#0d0887"
             ],
             [
              0.1111111111111111,
              "#46039f"
             ],
             [
              0.2222222222222222,
              "#7201a8"
             ],
             [
              0.3333333333333333,
              "#9c179e"
             ],
             [
              0.4444444444444444,
              "#bd3786"
             ],
             [
              0.5555555555555556,
              "#d8576b"
             ],
             [
              0.6666666666666666,
              "#ed7953"
             ],
             [
              0.7777777777777778,
              "#fb9f3a"
             ],
             [
              0.8888888888888888,
              "#fdca26"
             ],
             [
              1,
              "#f0f921"
             ]
            ],
            "type": "histogram2dcontour"
           }
          ],
          "mesh3d": [
           {
            "colorbar": {
             "outlinewidth": 0,
             "ticks": ""
            },
            "type": "mesh3d"
           }
          ],
          "parcoords": [
           {
            "line": {
             "colorbar": {
              "outlinewidth": 0,
              "ticks": ""
             }
            },
            "type": "parcoords"
           }
          ],
          "pie": [
           {
            "automargin": true,
            "type": "pie"
           }
          ],
          "scatter": [
           {
            "fillpattern": {
             "fillmode": "overlay",
             "size": 10,
             "solidity": 0.2
            },
            "type": "scatter"
           }
          ],
          "scatter3d": [
           {
            "line": {
             "colorbar": {
              "outlinewidth": 0,
              "ticks": ""
             }
            },
            "marker": {
             "colorbar": {
              "outlinewidth": 0,
              "ticks": ""
             }
            },
            "type": "scatter3d"
           }
          ],
          "scattercarpet": [
           {
            "marker": {
             "colorbar": {
              "outlinewidth": 0,
              "ticks": ""
             }
            },
            "type": "scattercarpet"
           }
          ],
          "scattergeo": [
           {
            "marker": {
             "colorbar": {
              "outlinewidth": 0,
              "ticks": ""
             }
            },
            "type": "scattergeo"
           }
          ],
          "scattergl": [
           {
            "marker": {
             "colorbar": {
              "outlinewidth": 0,
              "ticks": ""
             }
            },
            "type": "scattergl"
           }
          ],
          "scattermapbox": [
           {
            "marker": {
             "colorbar": {
              "outlinewidth": 0,
              "ticks": ""
             }
            },
            "type": "scattermapbox"
           }
          ],
          "scatterpolar": [
           {
            "marker": {
             "colorbar": {
              "outlinewidth": 0,
              "ticks": ""
             }
            },
            "type": "scatterpolar"
           }
          ],
          "scatterpolargl": [
           {
            "marker": {
             "colorbar": {
              "outlinewidth": 0,
              "ticks": ""
             }
            },
            "type": "scatterpolargl"
           }
          ],
          "scatterternary": [
           {
            "marker": {
             "colorbar": {
              "outlinewidth": 0,
              "ticks": ""
             }
            },
            "type": "scatterternary"
           }
          ],
          "surface": [
           {
            "colorbar": {
             "outlinewidth": 0,
             "ticks": ""
            },
            "colorscale": [
             [
              0,
              "#0d0887"
             ],
             [
              0.1111111111111111,
              "#46039f"
             ],
             [
              0.2222222222222222,
              "#7201a8"
             ],
             [
              0.3333333333333333,
              "#9c179e"
             ],
             [
              0.4444444444444444,
              "#bd3786"
             ],
             [
              0.5555555555555556,
              "#d8576b"
             ],
             [
              0.6666666666666666,
              "#ed7953"
             ],
             [
              0.7777777777777778,
              "#fb9f3a"
             ],
             [
              0.8888888888888888,
              "#fdca26"
             ],
             [
              1,
              "#f0f921"
             ]
            ],
            "type": "surface"
           }
          ],
          "table": [
           {
            "cells": {
             "fill": {
              "color": "#EBF0F8"
             },
             "line": {
              "color": "white"
             }
            },
            "header": {
             "fill": {
              "color": "#C8D4E3"
             },
             "line": {
              "color": "white"
             }
            },
            "type": "table"
           }
          ]
         },
         "layout": {
          "annotationdefaults": {
           "arrowcolor": "#2a3f5f",
           "arrowhead": 0,
           "arrowwidth": 1
          },
          "autotypenumbers": "strict",
          "coloraxis": {
           "colorbar": {
            "outlinewidth": 0,
            "ticks": ""
           }
          },
          "colorscale": {
           "diverging": [
            [
             0,
             "#8e0152"
            ],
            [
             0.1,
             "#c51b7d"
            ],
            [
             0.2,
             "#de77ae"
            ],
            [
             0.3,
             "#f1b6da"
            ],
            [
             0.4,
             "#fde0ef"
            ],
            [
             0.5,
             "#f7f7f7"
            ],
            [
             0.6,
             "#e6f5d0"
            ],
            [
             0.7,
             "#b8e186"
            ],
            [
             0.8,
             "#7fbc41"
            ],
            [
             0.9,
             "#4d9221"
            ],
            [
             1,
             "#276419"
            ]
           ],
           "sequential": [
            [
             0,
             "#0d0887"
            ],
            [
             0.1111111111111111,
             "#46039f"
            ],
            [
             0.2222222222222222,
             "#7201a8"
            ],
            [
             0.3333333333333333,
             "#9c179e"
            ],
            [
             0.4444444444444444,
             "#bd3786"
            ],
            [
             0.5555555555555556,
             "#d8576b"
            ],
            [
             0.6666666666666666,
             "#ed7953"
            ],
            [
             0.7777777777777778,
             "#fb9f3a"
            ],
            [
             0.8888888888888888,
             "#fdca26"
            ],
            [
             1,
             "#f0f921"
            ]
           ],
           "sequentialminus": [
            [
             0,
             "#0d0887"
            ],
            [
             0.1111111111111111,
             "#46039f"
            ],
            [
             0.2222222222222222,
             "#7201a8"
            ],
            [
             0.3333333333333333,
             "#9c179e"
            ],
            [
             0.4444444444444444,
             "#bd3786"
            ],
            [
             0.5555555555555556,
             "#d8576b"
            ],
            [
             0.6666666666666666,
             "#ed7953"
            ],
            [
             0.7777777777777778,
             "#fb9f3a"
            ],
            [
             0.8888888888888888,
             "#fdca26"
            ],
            [
             1,
             "#f0f921"
            ]
           ]
          },
          "colorway": [
           "#636efa",
           "#EF553B",
           "#00cc96",
           "#ab63fa",
           "#FFA15A",
           "#19d3f3",
           "#FF6692",
           "#B6E880",
           "#FF97FF",
           "#FECB52"
          ],
          "font": {
           "color": "#2a3f5f"
          },
          "geo": {
           "bgcolor": "white",
           "lakecolor": "white",
           "landcolor": "#E5ECF6",
           "showlakes": true,
           "showland": true,
           "subunitcolor": "white"
          },
          "hoverlabel": {
           "align": "left"
          },
          "hovermode": "closest",
          "mapbox": {
           "style": "light"
          },
          "paper_bgcolor": "white",
          "plot_bgcolor": "#E5ECF6",
          "polar": {
           "angularaxis": {
            "gridcolor": "white",
            "linecolor": "white",
            "ticks": ""
           },
           "bgcolor": "#E5ECF6",
           "radialaxis": {
            "gridcolor": "white",
            "linecolor": "white",
            "ticks": ""
           }
          },
          "scene": {
           "xaxis": {
            "backgroundcolor": "#E5ECF6",
            "gridcolor": "white",
            "gridwidth": 2,
            "linecolor": "white",
            "showbackground": true,
            "ticks": "",
            "zerolinecolor": "white"
           },
           "yaxis": {
            "backgroundcolor": "#E5ECF6",
            "gridcolor": "white",
            "gridwidth": 2,
            "linecolor": "white",
            "showbackground": true,
            "ticks": "",
            "zerolinecolor": "white"
           },
           "zaxis": {
            "backgroundcolor": "#E5ECF6",
            "gridcolor": "white",
            "gridwidth": 2,
            "linecolor": "white",
            "showbackground": true,
            "ticks": "",
            "zerolinecolor": "white"
           }
          },
          "shapedefaults": {
           "line": {
            "color": "#2a3f5f"
           }
          },
          "ternary": {
           "aaxis": {
            "gridcolor": "white",
            "linecolor": "white",
            "ticks": ""
           },
           "baxis": {
            "gridcolor": "white",
            "linecolor": "white",
            "ticks": ""
           },
           "bgcolor": "#E5ECF6",
           "caxis": {
            "gridcolor": "white",
            "linecolor": "white",
            "ticks": ""
           }
          },
          "title": {
           "x": 0.05
          },
          "xaxis": {
           "automargin": true,
           "gridcolor": "white",
           "linecolor": "white",
           "ticks": "",
           "title": {
            "standoff": 15
           },
           "zerolinecolor": "white",
           "zerolinewidth": 2
          },
          "yaxis": {
           "automargin": true,
           "gridcolor": "white",
           "linecolor": "white",
           "ticks": "",
           "title": {
            "standoff": 15
           },
           "zerolinecolor": "white",
           "zerolinewidth": 2
          }
         }
        },
        "title": {
         "text": "Chirstmas time top delay reason"
        },
        "updatemenus": [
         {
          "buttons": [
           {
            "args": [
             null,
             {
              "frame": {
               "duration": 500,
               "redraw": false
              },
              "fromcurrent": true,
              "mode": "immediate",
              "transition": {
               "duration": 500,
               "easing": "linear"
              }
             }
            ],
            "label": "&#9654;",
            "method": "animate"
           },
           {
            "args": [
             [
              null
             ],
             {
              "frame": {
               "duration": 0,
               "redraw": false
              },
              "fromcurrent": true,
              "mode": "immediate",
              "transition": {
               "duration": 0,
               "easing": "linear"
              }
             }
            ],
            "label": "&#9724;",
            "method": "animate"
           }
          ],
          "direction": "left",
          "pad": {
           "r": 10,
           "t": 70
          },
          "showactive": false,
          "type": "buttons",
          "x": 0.1,
          "xanchor": "right",
          "y": 0,
          "yanchor": "top"
         }
        ],
        "xaxis": {
         "anchor": "y",
         "domain": [
          0,
          1
         ],
         "title": {
          "text": "variable"
         }
        },
        "yaxis": {
         "anchor": "x",
         "domain": [
          0,
          1
         ],
         "range": [
          250,
          170000
         ],
         "title": {
          "text": "value"
         }
        }
       }
      }
     },
     "metadata": {},
     "output_type": "display_data"
    }
   ],
   "source": [
    "# plot the animation \n",
    "fig = px.scatter(df_delay_christmas,x=\"variable\", y=\"value\", animation_frame=\"day\",range_y=[250,170000], title= 'Chirstmas time top delay reason')\n",
    "\n",
    "fig.show()"
   ]
  },
  {
   "cell_type": "code",
   "execution_count": 27,
   "metadata": {},
   "outputs": [],
   "source": [
    "# build the suitable dataframe\n",
    "# we want MONTH as animation_frame\n",
    "df_delay_christmas_carrier1= df_flights[['DAY_OF_MONTH','CARRIER_DELAY','WEATHER_DELAY','NAS_DELAY','SECURITY_DELAY','LATE_AIRCRAFT_DELAY','UNIQUE_CARRIER']]\n",
    "# create empty list to store the value\n",
    "day_list = [22,23,24,25,26,27,28,29,30,31]\n",
    "carrier_list = (df_flights['UNIQUE_CARRIER'].unique()).tolist()\n",
    "day_list_merge = []\n",
    "carrier_list_merge = []\n",
    "carrier_delay_list, weather_delay_list, nas_delay_list, security_delay_list, late_aircraft_delay_list = [],[],[],[],[]\n",
    "# for each month, sum up all delay time in each type of delay\n",
    "for day in range(22,32):\n",
    "  for carrier in carrier_list:\n",
    "        day_list_merge.append(day)\n",
    "        carrier_list_merge.append(carrier)\n",
    "        carrier_delay_list.append((df_delay_christmas_carrier1[(df_delay_christmas_carrier1['DAY_OF_MONTH'] == day) & (df_delay_christmas_carrier1['UNIQUE_CARRIER'] == carrier) ]['CARRIER_DELAY']).sum())\n",
    "        weather_delay_list.append((df_delay_christmas_carrier1[(df_delay_christmas_carrier1['DAY_OF_MONTH'] == day) & (df_delay_christmas_carrier1['UNIQUE_CARRIER'] == carrier) ]['WEATHER_DELAY']).sum())\n",
    "        nas_delay_list.append((df_delay_christmas_carrier1[(df_delay_christmas_carrier1['DAY_OF_MONTH'] == day) & (df_delay_christmas_carrier1['UNIQUE_CARRIER'] == carrier) ]['NAS_DELAY']).sum())\n",
    "        security_delay_list.append((df_delay_christmas_carrier1[(df_delay_christmas_carrier1['DAY_OF_MONTH'] == day) & (df_delay_christmas_carrier1['UNIQUE_CARRIER'] == carrier) ]['SECURITY_DELAY']).sum())\n",
    "        late_aircraft_delay_list.append((df_delay_christmas_carrier1[(df_delay_christmas_carrier1['DAY_OF_MONTH'] == day) & (df_delay_christmas_carrier1['UNIQUE_CARRIER'] == carrier)]['LATE_AIRCRAFT_DELAY']).sum())\n",
    "\n",
    "# create dictionary\n",
    "dictionary_delay_christmas_carrier1 = {'day':day_list_merge, 'carrier':carrier_list_merge, 'carrier_delay':carrier_delay_list, 'weather_delay':weather_delay_list,\n",
    "                          'nas_delay':nas_delay_list,'security_delay':security_delay_list,'late_aircraft_delay':late_aircraft_delay_list}\n",
    "# create pandas dataframe\n",
    "df_delay_christmas_carrier = pd.DataFrame(dictionary_delay_christmas_carrier1)\n",
    "\n",
    "# melt the dataframe\n",
    "# change the horizontal df to vertical df\n",
    "df_delay_christmas_carrier_plot = pd.melt(df_delay_christmas_carrier, id_vars=['day','carrier'], value_vars=['carrier_delay','weather_delay','nas_delay','security_delay','late_aircraft_delay'])\n",
    "\n"
   ]
  },
  {
   "cell_type": "code",
   "execution_count": 28,
   "metadata": {},
   "outputs": [
    {
     "data": {
      "application/vnd.plotly.v1+json": {
       "config": {
        "plotlyServerURL": "https://plot.ly"
       },
       "data": [
        {
         "hovertemplate": "carrier=9E<br>day=22<br>variable=%{x}<br>value=%{marker.size}<extra></extra>",
         "legendgroup": "9E",
         "marker": {
          "color": "#636efa",
          "size": [
           2911,
           233,
           2681,
           9,
           2592
          ],
          "sizemode": "area",
          "sizeref": 87.5575,
          "symbol": "circle"
         },
         "mode": "markers",
         "name": "9E",
         "orientation": "v",
         "showlegend": true,
         "type": "scatter",
         "x": [
          "carrier_delay",
          "weather_delay",
          "nas_delay",
          "security_delay",
          "late_aircraft_delay"
         ],
         "xaxis": "x",
         "y": [
          2911,
          233,
          2681,
          9,
          2592
         ],
         "yaxis": "y"
        },
        {
         "hovertemplate": "carrier=AA<br>day=22<br>variable=%{x}<br>value=%{marker.size}<extra></extra>",
         "legendgroup": "AA",
         "marker": {
          "color": "#EF553B",
          "size": [
           7242,
           4224,
           8602,
           97,
           12410
          ],
          "sizemode": "area",
          "sizeref": 87.5575,
          "symbol": "circle"
         },
         "mode": "markers",
         "name": "AA",
         "orientation": "v",
         "showlegend": true,
         "type": "scatter",
         "x": [
          "carrier_delay",
          "weather_delay",
          "nas_delay",
          "security_delay",
          "late_aircraft_delay"
         ],
         "xaxis": "x",
         "y": [
          7242,
          4224,
          8602,
          97,
          12410
         ],
         "yaxis": "y"
        },
        {
         "hovertemplate": "carrier=AS<br>day=22<br>variable=%{x}<br>value=%{marker.size}<extra></extra>",
         "legendgroup": "AS",
         "marker": {
          "color": "#00cc96",
          "size": [
           824,
           34,
           728,
           0,
           1478
          ],
          "sizemode": "area",
          "sizeref": 87.5575,
          "symbol": "circle"
         },
         "mode": "markers",
         "name": "AS",
         "orientation": "v",
         "showlegend": true,
         "type": "scatter",
         "x": [
          "carrier_delay",
          "weather_delay",
          "nas_delay",
          "security_delay",
          "late_aircraft_delay"
         ],
         "xaxis": "x",
         "y": [
          824,
          34,
          728,
          0,
          1478
         ],
         "yaxis": "y"
        },
        {
         "hovertemplate": "carrier=B6<br>day=22<br>variable=%{x}<br>value=%{marker.size}<extra></extra>",
         "legendgroup": "B6",
         "marker": {
          "color": "#ab63fa",
          "size": [
           3734,
           31,
           1822,
           34,
           5051
          ],
          "sizemode": "area",
          "sizeref": 87.5575,
          "symbol": "circle"
         },
         "mode": "markers",
         "name": "B6",
         "orientation": "v",
         "showlegend": true,
         "type": "scatter",
         "x": [
          "carrier_delay",
          "weather_delay",
          "nas_delay",
          "security_delay",
          "late_aircraft_delay"
         ],
         "xaxis": "x",
         "y": [
          3734,
          31,
          1822,
          34,
          5051
         ],
         "yaxis": "y"
        },
        {
         "hovertemplate": "carrier=CO<br>day=22<br>variable=%{x}<br>value=%{marker.size}<extra></extra>",
         "legendgroup": "CO",
         "marker": {
          "color": "#FFA15A",
          "size": [
           3071,
           210,
           3051,
           488,
           2496
          ],
          "sizemode": "area",
          "sizeref": 87.5575,
          "symbol": "circle"
         },
         "mode": "markers",
         "name": "CO",
         "orientation": "v",
         "showlegend": true,
         "type": "scatter",
         "x": [
          "carrier_delay",
          "weather_delay",
          "nas_delay",
          "security_delay",
          "late_aircraft_delay"
         ],
         "xaxis": "x",
         "y": [
          3071,
          210,
          3051,
          488,
          2496
         ],
         "yaxis": "y"
        },
        {
         "hovertemplate": "carrier=DL<br>day=22<br>variable=%{x}<br>value=%{marker.size}<extra></extra>",
         "legendgroup": "DL",
         "marker": {
          "color": "#19d3f3",
          "size": [
           3570,
           131,
           3093,
           77,
           2579
          ],
          "sizemode": "area",
          "sizeref": 87.5575,
          "symbol": "circle"
         },
         "mode": "markers",
         "name": "DL",
         "orientation": "v",
         "showlegend": true,
         "type": "scatter",
         "x": [
          "carrier_delay",
          "weather_delay",
          "nas_delay",
          "security_delay",
          "late_aircraft_delay"
         ],
         "xaxis": "x",
         "y": [
          3570,
          131,
          3093,
          77,
          2579
         ],
         "yaxis": "y"
        },
        {
         "hovertemplate": "carrier=EV<br>day=22<br>variable=%{x}<br>value=%{marker.size}<extra></extra>",
         "legendgroup": "EV",
         "marker": {
          "color": "#FF6692",
          "size": [
           1884,
           370,
           809,
           0,
           1406
          ],
          "sizemode": "area",
          "sizeref": 87.5575,
          "symbol": "circle"
         },
         "mode": "markers",
         "name": "EV",
         "orientation": "v",
         "showlegend": true,
         "type": "scatter",
         "x": [
          "carrier_delay",
          "weather_delay",
          "nas_delay",
          "security_delay",
          "late_aircraft_delay"
         ],
         "xaxis": "x",
         "y": [
          1884,
          370,
          809,
          0,
          1406
         ],
         "yaxis": "y"
        },
        {
         "hovertemplate": "carrier=F9<br>day=22<br>variable=%{x}<br>value=%{marker.size}<extra></extra>",
         "legendgroup": "F9",
         "marker": {
          "color": "#B6E880",
          "size": [
           668,
           72,
           907,
           0,
           1953
          ],
          "sizemode": "area",
          "sizeref": 87.5575,
          "symbol": "circle"
         },
         "mode": "markers",
         "name": "F9",
         "orientation": "v",
         "showlegend": true,
         "type": "scatter",
         "x": [
          "carrier_delay",
          "weather_delay",
          "nas_delay",
          "security_delay",
          "late_aircraft_delay"
         ],
         "xaxis": "x",
         "y": [
          668,
          72,
          907,
          0,
          1953
         ],
         "yaxis": "y"
        },
        {
         "hovertemplate": "carrier=FL<br>day=22<br>variable=%{x}<br>value=%{marker.size}<extra></extra>",
         "legendgroup": "FL",
         "marker": {
          "color": "#FF97FF",
          "size": [
           3424,
           2,
           2460,
           0,
           7785
          ],
          "sizemode": "area",
          "sizeref": 87.5575,
          "symbol": "circle"
         },
         "mode": "markers",
         "name": "FL",
         "orientation": "v",
         "showlegend": true,
         "type": "scatter",
         "x": [
          "carrier_delay",
          "weather_delay",
          "nas_delay",
          "security_delay",
          "late_aircraft_delay"
         ],
         "xaxis": "x",
         "y": [
          3424,
          2,
          2460,
          0,
          7785
         ],
         "yaxis": "y"
        },
        {
         "hovertemplate": "carrier=HA<br>day=22<br>variable=%{x}<br>value=%{marker.size}<extra></extra>",
         "legendgroup": "HA",
         "marker": {
          "color": "#FECB52",
          "size": [
           191,
           0,
           5,
           0,
           92
          ],
          "sizemode": "area",
          "sizeref": 87.5575,
          "symbol": "circle"
         },
         "mode": "markers",
         "name": "HA",
         "orientation": "v",
         "showlegend": true,
         "type": "scatter",
         "x": [
          "carrier_delay",
          "weather_delay",
          "nas_delay",
          "security_delay",
          "late_aircraft_delay"
         ],
         "xaxis": "x",
         "y": [
          191,
          0,
          5,
          0,
          92
         ],
         "yaxis": "y"
        },
        {
         "hovertemplate": "carrier=MQ<br>day=22<br>variable=%{x}<br>value=%{marker.size}<extra></extra>",
         "legendgroup": "MQ",
         "marker": {
          "color": "#636efa",
          "size": [
           5769,
           3093,
           12802,
           14,
           15885
          ],
          "sizemode": "area",
          "sizeref": 87.5575,
          "symbol": "circle"
         },
         "mode": "markers",
         "name": "MQ",
         "orientation": "v",
         "showlegend": true,
         "type": "scatter",
         "x": [
          "carrier_delay",
          "weather_delay",
          "nas_delay",
          "security_delay",
          "late_aircraft_delay"
         ],
         "xaxis": "x",
         "y": [
          5769,
          3093,
          12802,
          14,
          15885
         ],
         "yaxis": "y"
        },
        {
         "hovertemplate": "carrier=NW<br>day=22<br>variable=%{x}<br>value=%{marker.size}<extra></extra>",
         "legendgroup": "NW",
         "marker": {
          "color": "#EF553B",
          "size": [
           6150,
           645,
           2248,
           270,
           4216
          ],
          "sizemode": "area",
          "sizeref": 87.5575,
          "symbol": "circle"
         },
         "mode": "markers",
         "name": "NW",
         "orientation": "v",
         "showlegend": true,
         "type": "scatter",
         "x": [
          "carrier_delay",
          "weather_delay",
          "nas_delay",
          "security_delay",
          "late_aircraft_delay"
         ],
         "xaxis": "x",
         "y": [
          6150,
          645,
          2248,
          270,
          4216
         ],
         "yaxis": "y"
        },
        {
         "hovertemplate": "carrier=OH<br>day=22<br>variable=%{x}<br>value=%{marker.size}<extra></extra>",
         "legendgroup": "OH",
         "marker": {
          "color": "#00cc96",
          "size": [
           3293,
           641,
           2291,
           0,
           1454
          ],
          "sizemode": "area",
          "sizeref": 87.5575,
          "symbol": "circle"
         },
         "mode": "markers",
         "name": "OH",
         "orientation": "v",
         "showlegend": true,
         "type": "scatter",
         "x": [
          "carrier_delay",
          "weather_delay",
          "nas_delay",
          "security_delay",
          "late_aircraft_delay"
         ],
         "xaxis": "x",
         "y": [
          3293,
          641,
          2291,
          0,
          1454
         ],
         "yaxis": "y"
        },
        {
         "hovertemplate": "carrier=OO<br>day=22<br>variable=%{x}<br>value=%{marker.size}<extra></extra>",
         "legendgroup": "OO",
         "marker": {
          "color": "#ab63fa",
          "size": [
           8188,
           1597,
           15621,
           0,
           27214
          ],
          "sizemode": "area",
          "sizeref": 87.5575,
          "symbol": "circle"
         },
         "mode": "markers",
         "name": "OO",
         "orientation": "v",
         "showlegend": true,
         "type": "scatter",
         "x": [
          "carrier_delay",
          "weather_delay",
          "nas_delay",
          "security_delay",
          "late_aircraft_delay"
         ],
         "xaxis": "x",
         "y": [
          8188,
          1597,
          15621,
          0,
          27214
         ],
         "yaxis": "y"
        },
        {
         "hovertemplate": "carrier=UA<br>day=22<br>variable=%{x}<br>value=%{marker.size}<extra></extra>",
         "legendgroup": "UA",
         "marker": {
          "color": "#FFA15A",
          "size": [
           4454,
           240,
           5334,
           0,
           11186
          ],
          "sizemode": "area",
          "sizeref": 87.5575,
          "symbol": "circle"
         },
         "mode": "markers",
         "name": "UA",
         "orientation": "v",
         "showlegend": true,
         "type": "scatter",
         "x": [
          "carrier_delay",
          "weather_delay",
          "nas_delay",
          "security_delay",
          "late_aircraft_delay"
         ],
         "xaxis": "x",
         "y": [
          4454,
          240,
          5334,
          0,
          11186
         ],
         "yaxis": "y"
        },
        {
         "hovertemplate": "carrier=US<br>day=22<br>variable=%{x}<br>value=%{marker.size}<extra></extra>",
         "legendgroup": "US",
         "marker": {
          "color": "#19d3f3",
          "size": [
           3396,
           546,
           3607,
           57,
           5098
          ],
          "sizemode": "area",
          "sizeref": 87.5575,
          "symbol": "circle"
         },
         "mode": "markers",
         "name": "US",
         "orientation": "v",
         "showlegend": true,
         "type": "scatter",
         "x": [
          "carrier_delay",
          "weather_delay",
          "nas_delay",
          "security_delay",
          "late_aircraft_delay"
         ],
         "xaxis": "x",
         "y": [
          3396,
          546,
          3607,
          57,
          5098
         ],
         "yaxis": "y"
        },
        {
         "hovertemplate": "carrier=WN<br>day=22<br>variable=%{x}<br>value=%{marker.size}<extra></extra>",
         "legendgroup": "WN",
         "marker": {
          "color": "#FF6692",
          "size": [
           14787,
           1093,
           6691,
           146,
           31340
          ],
          "sizemode": "area",
          "sizeref": 87.5575,
          "symbol": "circle"
         },
         "mode": "markers",
         "name": "WN",
         "orientation": "v",
         "showlegend": true,
         "type": "scatter",
         "x": [
          "carrier_delay",
          "weather_delay",
          "nas_delay",
          "security_delay",
          "late_aircraft_delay"
         ],
         "xaxis": "x",
         "y": [
          14787,
          1093,
          6691,
          146,
          31340
         ],
         "yaxis": "y"
        },
        {
         "hovertemplate": "carrier=XE<br>day=22<br>variable=%{x}<br>value=%{marker.size}<extra></extra>",
         "legendgroup": "XE",
         "marker": {
          "color": "#B6E880",
          "size": [
           3772,
           394,
           8062,
           81,
           9480
          ],
          "sizemode": "area",
          "sizeref": 87.5575,
          "symbol": "circle"
         },
         "mode": "markers",
         "name": "XE",
         "orientation": "v",
         "showlegend": true,
         "type": "scatter",
         "x": [
          "carrier_delay",
          "weather_delay",
          "nas_delay",
          "security_delay",
          "late_aircraft_delay"
         ],
         "xaxis": "x",
         "y": [
          3772,
          394,
          8062,
          81,
          9480
         ],
         "yaxis": "y"
        },
        {
         "hovertemplate": "carrier=YV<br>day=22<br>variable=%{x}<br>value=%{marker.size}<extra></extra>",
         "legendgroup": "YV",
         "marker": {
          "color": "#FF97FF",
          "size": [
           8877,
           1196,
           13741,
           65,
           0
          ],
          "sizemode": "area",
          "sizeref": 87.5575,
          "symbol": "circle"
         },
         "mode": "markers",
         "name": "YV",
         "orientation": "v",
         "showlegend": true,
         "type": "scatter",
         "x": [
          "carrier_delay",
          "weather_delay",
          "nas_delay",
          "security_delay",
          "late_aircraft_delay"
         ],
         "xaxis": "x",
         "y": [
          8877,
          1196,
          13741,
          65,
          0
         ],
         "yaxis": "y"
        }
       ],
       "frames": [
        {
         "data": [
          {
           "hovertemplate": "carrier=9E<br>day=22<br>variable=%{x}<br>value=%{marker.size}<extra></extra>",
           "legendgroup": "9E",
           "marker": {
            "color": "#636efa",
            "size": [
             2911,
             233,
             2681,
             9,
             2592
            ],
            "sizemode": "area",
            "sizeref": 87.5575,
            "symbol": "circle"
           },
           "mode": "markers",
           "name": "9E",
           "orientation": "v",
           "showlegend": true,
           "type": "scatter",
           "x": [
            "carrier_delay",
            "weather_delay",
            "nas_delay",
            "security_delay",
            "late_aircraft_delay"
           ],
           "xaxis": "x",
           "y": [
            2911,
            233,
            2681,
            9,
            2592
           ],
           "yaxis": "y"
          },
          {
           "hovertemplate": "carrier=AA<br>day=22<br>variable=%{x}<br>value=%{marker.size}<extra></extra>",
           "legendgroup": "AA",
           "marker": {
            "color": "#EF553B",
            "size": [
             7242,
             4224,
             8602,
             97,
             12410
            ],
            "sizemode": "area",
            "sizeref": 87.5575,
            "symbol": "circle"
           },
           "mode": "markers",
           "name": "AA",
           "orientation": "v",
           "showlegend": true,
           "type": "scatter",
           "x": [
            "carrier_delay",
            "weather_delay",
            "nas_delay",
            "security_delay",
            "late_aircraft_delay"
           ],
           "xaxis": "x",
           "y": [
            7242,
            4224,
            8602,
            97,
            12410
           ],
           "yaxis": "y"
          },
          {
           "hovertemplate": "carrier=AS<br>day=22<br>variable=%{x}<br>value=%{marker.size}<extra></extra>",
           "legendgroup": "AS",
           "marker": {
            "color": "#00cc96",
            "size": [
             824,
             34,
             728,
             0,
             1478
            ],
            "sizemode": "area",
            "sizeref": 87.5575,
            "symbol": "circle"
           },
           "mode": "markers",
           "name": "AS",
           "orientation": "v",
           "showlegend": true,
           "type": "scatter",
           "x": [
            "carrier_delay",
            "weather_delay",
            "nas_delay",
            "security_delay",
            "late_aircraft_delay"
           ],
           "xaxis": "x",
           "y": [
            824,
            34,
            728,
            0,
            1478
           ],
           "yaxis": "y"
          },
          {
           "hovertemplate": "carrier=B6<br>day=22<br>variable=%{x}<br>value=%{marker.size}<extra></extra>",
           "legendgroup": "B6",
           "marker": {
            "color": "#ab63fa",
            "size": [
             3734,
             31,
             1822,
             34,
             5051
            ],
            "sizemode": "area",
            "sizeref": 87.5575,
            "symbol": "circle"
           },
           "mode": "markers",
           "name": "B6",
           "orientation": "v",
           "showlegend": true,
           "type": "scatter",
           "x": [
            "carrier_delay",
            "weather_delay",
            "nas_delay",
            "security_delay",
            "late_aircraft_delay"
           ],
           "xaxis": "x",
           "y": [
            3734,
            31,
            1822,
            34,
            5051
           ],
           "yaxis": "y"
          },
          {
           "hovertemplate": "carrier=CO<br>day=22<br>variable=%{x}<br>value=%{marker.size}<extra></extra>",
           "legendgroup": "CO",
           "marker": {
            "color": "#FFA15A",
            "size": [
             3071,
             210,
             3051,
             488,
             2496
            ],
            "sizemode": "area",
            "sizeref": 87.5575,
            "symbol": "circle"
           },
           "mode": "markers",
           "name": "CO",
           "orientation": "v",
           "showlegend": true,
           "type": "scatter",
           "x": [
            "carrier_delay",
            "weather_delay",
            "nas_delay",
            "security_delay",
            "late_aircraft_delay"
           ],
           "xaxis": "x",
           "y": [
            3071,
            210,
            3051,
            488,
            2496
           ],
           "yaxis": "y"
          },
          {
           "hovertemplate": "carrier=DL<br>day=22<br>variable=%{x}<br>value=%{marker.size}<extra></extra>",
           "legendgroup": "DL",
           "marker": {
            "color": "#19d3f3",
            "size": [
             3570,
             131,
             3093,
             77,
             2579
            ],
            "sizemode": "area",
            "sizeref": 87.5575,
            "symbol": "circle"
           },
           "mode": "markers",
           "name": "DL",
           "orientation": "v",
           "showlegend": true,
           "type": "scatter",
           "x": [
            "carrier_delay",
            "weather_delay",
            "nas_delay",
            "security_delay",
            "late_aircraft_delay"
           ],
           "xaxis": "x",
           "y": [
            3570,
            131,
            3093,
            77,
            2579
           ],
           "yaxis": "y"
          },
          {
           "hovertemplate": "carrier=EV<br>day=22<br>variable=%{x}<br>value=%{marker.size}<extra></extra>",
           "legendgroup": "EV",
           "marker": {
            "color": "#FF6692",
            "size": [
             1884,
             370,
             809,
             0,
             1406
            ],
            "sizemode": "area",
            "sizeref": 87.5575,
            "symbol": "circle"
           },
           "mode": "markers",
           "name": "EV",
           "orientation": "v",
           "showlegend": true,
           "type": "scatter",
           "x": [
            "carrier_delay",
            "weather_delay",
            "nas_delay",
            "security_delay",
            "late_aircraft_delay"
           ],
           "xaxis": "x",
           "y": [
            1884,
            370,
            809,
            0,
            1406
           ],
           "yaxis": "y"
          },
          {
           "hovertemplate": "carrier=F9<br>day=22<br>variable=%{x}<br>value=%{marker.size}<extra></extra>",
           "legendgroup": "F9",
           "marker": {
            "color": "#B6E880",
            "size": [
             668,
             72,
             907,
             0,
             1953
            ],
            "sizemode": "area",
            "sizeref": 87.5575,
            "symbol": "circle"
           },
           "mode": "markers",
           "name": "F9",
           "orientation": "v",
           "showlegend": true,
           "type": "scatter",
           "x": [
            "carrier_delay",
            "weather_delay",
            "nas_delay",
            "security_delay",
            "late_aircraft_delay"
           ],
           "xaxis": "x",
           "y": [
            668,
            72,
            907,
            0,
            1953
           ],
           "yaxis": "y"
          },
          {
           "hovertemplate": "carrier=FL<br>day=22<br>variable=%{x}<br>value=%{marker.size}<extra></extra>",
           "legendgroup": "FL",
           "marker": {
            "color": "#FF97FF",
            "size": [
             3424,
             2,
             2460,
             0,
             7785
            ],
            "sizemode": "area",
            "sizeref": 87.5575,
            "symbol": "circle"
           },
           "mode": "markers",
           "name": "FL",
           "orientation": "v",
           "showlegend": true,
           "type": "scatter",
           "x": [
            "carrier_delay",
            "weather_delay",
            "nas_delay",
            "security_delay",
            "late_aircraft_delay"
           ],
           "xaxis": "x",
           "y": [
            3424,
            2,
            2460,
            0,
            7785
           ],
           "yaxis": "y"
          },
          {
           "hovertemplate": "carrier=HA<br>day=22<br>variable=%{x}<br>value=%{marker.size}<extra></extra>",
           "legendgroup": "HA",
           "marker": {
            "color": "#FECB52",
            "size": [
             191,
             0,
             5,
             0,
             92
            ],
            "sizemode": "area",
            "sizeref": 87.5575,
            "symbol": "circle"
           },
           "mode": "markers",
           "name": "HA",
           "orientation": "v",
           "showlegend": true,
           "type": "scatter",
           "x": [
            "carrier_delay",
            "weather_delay",
            "nas_delay",
            "security_delay",
            "late_aircraft_delay"
           ],
           "xaxis": "x",
           "y": [
            191,
            0,
            5,
            0,
            92
           ],
           "yaxis": "y"
          },
          {
           "hovertemplate": "carrier=MQ<br>day=22<br>variable=%{x}<br>value=%{marker.size}<extra></extra>",
           "legendgroup": "MQ",
           "marker": {
            "color": "#636efa",
            "size": [
             5769,
             3093,
             12802,
             14,
             15885
            ],
            "sizemode": "area",
            "sizeref": 87.5575,
            "symbol": "circle"
           },
           "mode": "markers",
           "name": "MQ",
           "orientation": "v",
           "showlegend": true,
           "type": "scatter",
           "x": [
            "carrier_delay",
            "weather_delay",
            "nas_delay",
            "security_delay",
            "late_aircraft_delay"
           ],
           "xaxis": "x",
           "y": [
            5769,
            3093,
            12802,
            14,
            15885
           ],
           "yaxis": "y"
          },
          {
           "hovertemplate": "carrier=NW<br>day=22<br>variable=%{x}<br>value=%{marker.size}<extra></extra>",
           "legendgroup": "NW",
           "marker": {
            "color": "#EF553B",
            "size": [
             6150,
             645,
             2248,
             270,
             4216
            ],
            "sizemode": "area",
            "sizeref": 87.5575,
            "symbol": "circle"
           },
           "mode": "markers",
           "name": "NW",
           "orientation": "v",
           "showlegend": true,
           "type": "scatter",
           "x": [
            "carrier_delay",
            "weather_delay",
            "nas_delay",
            "security_delay",
            "late_aircraft_delay"
           ],
           "xaxis": "x",
           "y": [
            6150,
            645,
            2248,
            270,
            4216
           ],
           "yaxis": "y"
          },
          {
           "hovertemplate": "carrier=OH<br>day=22<br>variable=%{x}<br>value=%{marker.size}<extra></extra>",
           "legendgroup": "OH",
           "marker": {
            "color": "#00cc96",
            "size": [
             3293,
             641,
             2291,
             0,
             1454
            ],
            "sizemode": "area",
            "sizeref": 87.5575,
            "symbol": "circle"
           },
           "mode": "markers",
           "name": "OH",
           "orientation": "v",
           "showlegend": true,
           "type": "scatter",
           "x": [
            "carrier_delay",
            "weather_delay",
            "nas_delay",
            "security_delay",
            "late_aircraft_delay"
           ],
           "xaxis": "x",
           "y": [
            3293,
            641,
            2291,
            0,
            1454
           ],
           "yaxis": "y"
          },
          {
           "hovertemplate": "carrier=OO<br>day=22<br>variable=%{x}<br>value=%{marker.size}<extra></extra>",
           "legendgroup": "OO",
           "marker": {
            "color": "#ab63fa",
            "size": [
             8188,
             1597,
             15621,
             0,
             27214
            ],
            "sizemode": "area",
            "sizeref": 87.5575,
            "symbol": "circle"
           },
           "mode": "markers",
           "name": "OO",
           "orientation": "v",
           "showlegend": true,
           "type": "scatter",
           "x": [
            "carrier_delay",
            "weather_delay",
            "nas_delay",
            "security_delay",
            "late_aircraft_delay"
           ],
           "xaxis": "x",
           "y": [
            8188,
            1597,
            15621,
            0,
            27214
           ],
           "yaxis": "y"
          },
          {
           "hovertemplate": "carrier=UA<br>day=22<br>variable=%{x}<br>value=%{marker.size}<extra></extra>",
           "legendgroup": "UA",
           "marker": {
            "color": "#FFA15A",
            "size": [
             4454,
             240,
             5334,
             0,
             11186
            ],
            "sizemode": "area",
            "sizeref": 87.5575,
            "symbol": "circle"
           },
           "mode": "markers",
           "name": "UA",
           "orientation": "v",
           "showlegend": true,
           "type": "scatter",
           "x": [
            "carrier_delay",
            "weather_delay",
            "nas_delay",
            "security_delay",
            "late_aircraft_delay"
           ],
           "xaxis": "x",
           "y": [
            4454,
            240,
            5334,
            0,
            11186
           ],
           "yaxis": "y"
          },
          {
           "hovertemplate": "carrier=US<br>day=22<br>variable=%{x}<br>value=%{marker.size}<extra></extra>",
           "legendgroup": "US",
           "marker": {
            "color": "#19d3f3",
            "size": [
             3396,
             546,
             3607,
             57,
             5098
            ],
            "sizemode": "area",
            "sizeref": 87.5575,
            "symbol": "circle"
           },
           "mode": "markers",
           "name": "US",
           "orientation": "v",
           "showlegend": true,
           "type": "scatter",
           "x": [
            "carrier_delay",
            "weather_delay",
            "nas_delay",
            "security_delay",
            "late_aircraft_delay"
           ],
           "xaxis": "x",
           "y": [
            3396,
            546,
            3607,
            57,
            5098
           ],
           "yaxis": "y"
          },
          {
           "hovertemplate": "carrier=WN<br>day=22<br>variable=%{x}<br>value=%{marker.size}<extra></extra>",
           "legendgroup": "WN",
           "marker": {
            "color": "#FF6692",
            "size": [
             14787,
             1093,
             6691,
             146,
             31340
            ],
            "sizemode": "area",
            "sizeref": 87.5575,
            "symbol": "circle"
           },
           "mode": "markers",
           "name": "WN",
           "orientation": "v",
           "showlegend": true,
           "type": "scatter",
           "x": [
            "carrier_delay",
            "weather_delay",
            "nas_delay",
            "security_delay",
            "late_aircraft_delay"
           ],
           "xaxis": "x",
           "y": [
            14787,
            1093,
            6691,
            146,
            31340
           ],
           "yaxis": "y"
          },
          {
           "hovertemplate": "carrier=XE<br>day=22<br>variable=%{x}<br>value=%{marker.size}<extra></extra>",
           "legendgroup": "XE",
           "marker": {
            "color": "#B6E880",
            "size": [
             3772,
             394,
             8062,
             81,
             9480
            ],
            "sizemode": "area",
            "sizeref": 87.5575,
            "symbol": "circle"
           },
           "mode": "markers",
           "name": "XE",
           "orientation": "v",
           "showlegend": true,
           "type": "scatter",
           "x": [
            "carrier_delay",
            "weather_delay",
            "nas_delay",
            "security_delay",
            "late_aircraft_delay"
           ],
           "xaxis": "x",
           "y": [
            3772,
            394,
            8062,
            81,
            9480
           ],
           "yaxis": "y"
          },
          {
           "hovertemplate": "carrier=YV<br>day=22<br>variable=%{x}<br>value=%{marker.size}<extra></extra>",
           "legendgroup": "YV",
           "marker": {
            "color": "#FF97FF",
            "size": [
             8877,
             1196,
             13741,
             65,
             0
            ],
            "sizemode": "area",
            "sizeref": 87.5575,
            "symbol": "circle"
           },
           "mode": "markers",
           "name": "YV",
           "orientation": "v",
           "showlegend": true,
           "type": "scatter",
           "x": [
            "carrier_delay",
            "weather_delay",
            "nas_delay",
            "security_delay",
            "late_aircraft_delay"
           ],
           "xaxis": "x",
           "y": [
            8877,
            1196,
            13741,
            65,
            0
           ],
           "yaxis": "y"
          }
         ],
         "name": "22"
        },
        {
         "data": [
          {
           "hovertemplate": "carrier=9E<br>day=23<br>variable=%{x}<br>value=%{marker.size}<extra></extra>",
           "legendgroup": "9E",
           "marker": {
            "color": "#636efa",
            "size": [
             2489,
             54,
             2664,
             12,
             1797
            ],
            "sizemode": "area",
            "sizeref": 87.5575,
            "symbol": "circle"
           },
           "mode": "markers",
           "name": "9E",
           "orientation": "v",
           "showlegend": true,
           "type": "scatter",
           "x": [
            "carrier_delay",
            "weather_delay",
            "nas_delay",
            "security_delay",
            "late_aircraft_delay"
           ],
           "xaxis": "x",
           "y": [
            2489,
            54,
            2664,
            12,
            1797
           ],
           "yaxis": "y"
          },
          {
           "hovertemplate": "carrier=AA<br>day=23<br>variable=%{x}<br>value=%{marker.size}<extra></extra>",
           "legendgroup": "AA",
           "marker": {
            "color": "#EF553B",
            "size": [
             6509,
             2292,
             8689,
             31,
             6409
            ],
            "sizemode": "area",
            "sizeref": 87.5575,
            "symbol": "circle"
           },
           "mode": "markers",
           "name": "AA",
           "orientation": "v",
           "showlegend": true,
           "type": "scatter",
           "x": [
            "carrier_delay",
            "weather_delay",
            "nas_delay",
            "security_delay",
            "late_aircraft_delay"
           ],
           "xaxis": "x",
           "y": [
            6509,
            2292,
            8689,
            31,
            6409
           ],
           "yaxis": "y"
          },
          {
           "hovertemplate": "carrier=AS<br>day=23<br>variable=%{x}<br>value=%{marker.size}<extra></extra>",
           "legendgroup": "AS",
           "marker": {
            "color": "#00cc96",
            "size": [
             224,
             132,
             1245,
             0,
             1558
            ],
            "sizemode": "area",
            "sizeref": 87.5575,
            "symbol": "circle"
           },
           "mode": "markers",
           "name": "AS",
           "orientation": "v",
           "showlegend": true,
           "type": "scatter",
           "x": [
            "carrier_delay",
            "weather_delay",
            "nas_delay",
            "security_delay",
            "late_aircraft_delay"
           ],
           "xaxis": "x",
           "y": [
            224,
            132,
            1245,
            0,
            1558
           ],
           "yaxis": "y"
          },
          {
           "hovertemplate": "carrier=B6<br>day=23<br>variable=%{x}<br>value=%{marker.size}<extra></extra>",
           "legendgroup": "B6",
           "marker": {
            "color": "#ab63fa",
            "size": [
             3053,
             52,
             2513,
             30,
             3432
            ],
            "sizemode": "area",
            "sizeref": 87.5575,
            "symbol": "circle"
           },
           "mode": "markers",
           "name": "B6",
           "orientation": "v",
           "showlegend": true,
           "type": "scatter",
           "x": [
            "carrier_delay",
            "weather_delay",
            "nas_delay",
            "security_delay",
            "late_aircraft_delay"
           ],
           "xaxis": "x",
           "y": [
            3053,
            52,
            2513,
            30,
            3432
           ],
           "yaxis": "y"
          },
          {
           "hovertemplate": "carrier=CO<br>day=23<br>variable=%{x}<br>value=%{marker.size}<extra></extra>",
           "legendgroup": "CO",
           "marker": {
            "color": "#FFA15A",
            "size": [
             2101,
             217,
             2889,
             111,
             2330
            ],
            "sizemode": "area",
            "sizeref": 87.5575,
            "symbol": "circle"
           },
           "mode": "markers",
           "name": "CO",
           "orientation": "v",
           "showlegend": true,
           "type": "scatter",
           "x": [
            "carrier_delay",
            "weather_delay",
            "nas_delay",
            "security_delay",
            "late_aircraft_delay"
           ],
           "xaxis": "x",
           "y": [
            2101,
            217,
            2889,
            111,
            2330
           ],
           "yaxis": "y"
          },
          {
           "hovertemplate": "carrier=DL<br>day=23<br>variable=%{x}<br>value=%{marker.size}<extra></extra>",
           "legendgroup": "DL",
           "marker": {
            "color": "#19d3f3",
            "size": [
             3369,
             86,
             2365,
             58,
             2420
            ],
            "sizemode": "area",
            "sizeref": 87.5575,
            "symbol": "circle"
           },
           "mode": "markers",
           "name": "DL",
           "orientation": "v",
           "showlegend": true,
           "type": "scatter",
           "x": [
            "carrier_delay",
            "weather_delay",
            "nas_delay",
            "security_delay",
            "late_aircraft_delay"
           ],
           "xaxis": "x",
           "y": [
            3369,
            86,
            2365,
            58,
            2420
           ],
           "yaxis": "y"
          },
          {
           "hovertemplate": "carrier=EV<br>day=23<br>variable=%{x}<br>value=%{marker.size}<extra></extra>",
           "legendgroup": "EV",
           "marker": {
            "color": "#FF6692",
            "size": [
             2031,
             6,
             619,
             0,
             847
            ],
            "sizemode": "area",
            "sizeref": 87.5575,
            "symbol": "circle"
           },
           "mode": "markers",
           "name": "EV",
           "orientation": "v",
           "showlegend": true,
           "type": "scatter",
           "x": [
            "carrier_delay",
            "weather_delay",
            "nas_delay",
            "security_delay",
            "late_aircraft_delay"
           ],
           "xaxis": "x",
           "y": [
            2031,
            6,
            619,
            0,
            847
           ],
           "yaxis": "y"
          },
          {
           "hovertemplate": "carrier=F9<br>day=23<br>variable=%{x}<br>value=%{marker.size}<extra></extra>",
           "legendgroup": "F9",
           "marker": {
            "color": "#B6E880",
            "size": [
             1376,
             556,
             4497,
             0,
             7814
            ],
            "sizemode": "area",
            "sizeref": 87.5575,
            "symbol": "circle"
           },
           "mode": "markers",
           "name": "F9",
           "orientation": "v",
           "showlegend": true,
           "type": "scatter",
           "x": [
            "carrier_delay",
            "weather_delay",
            "nas_delay",
            "security_delay",
            "late_aircraft_delay"
           ],
           "xaxis": "x",
           "y": [
            1376,
            556,
            4497,
            0,
            7814
           ],
           "yaxis": "y"
          },
          {
           "hovertemplate": "carrier=FL<br>day=23<br>variable=%{x}<br>value=%{marker.size}<extra></extra>",
           "legendgroup": "FL",
           "marker": {
            "color": "#FF97FF",
            "size": [
             2471,
             241,
             1717,
             0,
             4087
            ],
            "sizemode": "area",
            "sizeref": 87.5575,
            "symbol": "circle"
           },
           "mode": "markers",
           "name": "FL",
           "orientation": "v",
           "showlegend": true,
           "type": "scatter",
           "x": [
            "carrier_delay",
            "weather_delay",
            "nas_delay",
            "security_delay",
            "late_aircraft_delay"
           ],
           "xaxis": "x",
           "y": [
            2471,
            241,
            1717,
            0,
            4087
           ],
           "yaxis": "y"
          },
          {
           "hovertemplate": "carrier=HA<br>day=23<br>variable=%{x}<br>value=%{marker.size}<extra></extra>",
           "legendgroup": "HA",
           "marker": {
            "color": "#FECB52",
            "size": [
             191,
             0,
             0,
             0,
             100
            ],
            "sizemode": "area",
            "sizeref": 87.5575,
            "symbol": "circle"
           },
           "mode": "markers",
           "name": "HA",
           "orientation": "v",
           "showlegend": true,
           "type": "scatter",
           "x": [
            "carrier_delay",
            "weather_delay",
            "nas_delay",
            "security_delay",
            "late_aircraft_delay"
           ],
           "xaxis": "x",
           "y": [
            191,
            0,
            0,
            0,
            100
           ],
           "yaxis": "y"
          },
          {
           "hovertemplate": "carrier=MQ<br>day=23<br>variable=%{x}<br>value=%{marker.size}<extra></extra>",
           "legendgroup": "MQ",
           "marker": {
            "color": "#636efa",
            "size": [
             8468,
             3830,
             11456,
             10,
             16118
            ],
            "sizemode": "area",
            "sizeref": 87.5575,
            "symbol": "circle"
           },
           "mode": "markers",
           "name": "MQ",
           "orientation": "v",
           "showlegend": true,
           "type": "scatter",
           "x": [
            "carrier_delay",
            "weather_delay",
            "nas_delay",
            "security_delay",
            "late_aircraft_delay"
           ],
           "xaxis": "x",
           "y": [
            8468,
            3830,
            11456,
            10,
            16118
           ],
           "yaxis": "y"
          },
          {
           "hovertemplate": "carrier=NW<br>day=23<br>variable=%{x}<br>value=%{marker.size}<extra></extra>",
           "legendgroup": "NW",
           "marker": {
            "color": "#EF553B",
            "size": [
             4568,
             891,
             3723,
             0,
             2896
            ],
            "sizemode": "area",
            "sizeref": 87.5575,
            "symbol": "circle"
           },
           "mode": "markers",
           "name": "NW",
           "orientation": "v",
           "showlegend": true,
           "type": "scatter",
           "x": [
            "carrier_delay",
            "weather_delay",
            "nas_delay",
            "security_delay",
            "late_aircraft_delay"
           ],
           "xaxis": "x",
           "y": [
            4568,
            891,
            3723,
            0,
            2896
           ],
           "yaxis": "y"
          },
          {
           "hovertemplate": "carrier=OH<br>day=23<br>variable=%{x}<br>value=%{marker.size}<extra></extra>",
           "legendgroup": "OH",
           "marker": {
            "color": "#00cc96",
            "size": [
             3560,
             1051,
             1759,
             59,
             1288
            ],
            "sizemode": "area",
            "sizeref": 87.5575,
            "symbol": "circle"
           },
           "mode": "markers",
           "name": "OH",
           "orientation": "v",
           "showlegend": true,
           "type": "scatter",
           "x": [
            "carrier_delay",
            "weather_delay",
            "nas_delay",
            "security_delay",
            "late_aircraft_delay"
           ],
           "xaxis": "x",
           "y": [
            3560,
            1051,
            1759,
            59,
            1288
           ],
           "yaxis": "y"
          },
          {
           "hovertemplate": "carrier=OO<br>day=23<br>variable=%{x}<br>value=%{marker.size}<extra></extra>",
           "legendgroup": "OO",
           "marker": {
            "color": "#ab63fa",
            "size": [
             11664,
             2580,
             18971,
             256,
             33523
            ],
            "sizemode": "area",
            "sizeref": 87.5575,
            "symbol": "circle"
           },
           "mode": "markers",
           "name": "OO",
           "orientation": "v",
           "showlegend": true,
           "type": "scatter",
           "x": [
            "carrier_delay",
            "weather_delay",
            "nas_delay",
            "security_delay",
            "late_aircraft_delay"
           ],
           "xaxis": "x",
           "y": [
            11664,
            2580,
            18971,
            256,
            33523
           ],
           "yaxis": "y"
          },
          {
           "hovertemplate": "carrier=UA<br>day=23<br>variable=%{x}<br>value=%{marker.size}<extra></extra>",
           "legendgroup": "UA",
           "marker": {
            "color": "#FFA15A",
            "size": [
             4382,
             1110,
             8597,
             0,
             11283
            ],
            "sizemode": "area",
            "sizeref": 87.5575,
            "symbol": "circle"
           },
           "mode": "markers",
           "name": "UA",
           "orientation": "v",
           "showlegend": true,
           "type": "scatter",
           "x": [
            "carrier_delay",
            "weather_delay",
            "nas_delay",
            "security_delay",
            "late_aircraft_delay"
           ],
           "xaxis": "x",
           "y": [
            4382,
            1110,
            8597,
            0,
            11283
           ],
           "yaxis": "y"
          },
          {
           "hovertemplate": "carrier=US<br>day=23<br>variable=%{x}<br>value=%{marker.size}<extra></extra>",
           "legendgroup": "US",
           "marker": {
            "color": "#19d3f3",
            "size": [
             4036,
             318,
             3244,
             47,
             3952
            ],
            "sizemode": "area",
            "sizeref": 87.5575,
            "symbol": "circle"
           },
           "mode": "markers",
           "name": "US",
           "orientation": "v",
           "showlegend": true,
           "type": "scatter",
           "x": [
            "carrier_delay",
            "weather_delay",
            "nas_delay",
            "security_delay",
            "late_aircraft_delay"
           ],
           "xaxis": "x",
           "y": [
            4036,
            318,
            3244,
            47,
            3952
           ],
           "yaxis": "y"
          },
          {
           "hovertemplate": "carrier=WN<br>day=23<br>variable=%{x}<br>value=%{marker.size}<extra></extra>",
           "legendgroup": "WN",
           "marker": {
            "color": "#FF6692",
            "size": [
             15779,
             2164,
             5641,
             81,
             26615
            ],
            "sizemode": "area",
            "sizeref": 87.5575,
            "symbol": "circle"
           },
           "mode": "markers",
           "name": "WN",
           "orientation": "v",
           "showlegend": true,
           "type": "scatter",
           "x": [
            "carrier_delay",
            "weather_delay",
            "nas_delay",
            "security_delay",
            "late_aircraft_delay"
           ],
           "xaxis": "x",
           "y": [
            15779,
            2164,
            5641,
            81,
            26615
           ],
           "yaxis": "y"
          },
          {
           "hovertemplate": "carrier=XE<br>day=23<br>variable=%{x}<br>value=%{marker.size}<extra></extra>",
           "legendgroup": "XE",
           "marker": {
            "color": "#B6E880",
            "size": [
             3470,
             1788,
             5530,
             47,
             6534
            ],
            "sizemode": "area",
            "sizeref": 87.5575,
            "symbol": "circle"
           },
           "mode": "markers",
           "name": "XE",
           "orientation": "v",
           "showlegend": true,
           "type": "scatter",
           "x": [
            "carrier_delay",
            "weather_delay",
            "nas_delay",
            "security_delay",
            "late_aircraft_delay"
           ],
           "xaxis": "x",
           "y": [
            3470,
            1788,
            5530,
            47,
            6534
           ],
           "yaxis": "y"
          },
          {
           "hovertemplate": "carrier=YV<br>day=23<br>variable=%{x}<br>value=%{marker.size}<extra></extra>",
           "legendgroup": "YV",
           "marker": {
            "color": "#FF97FF",
            "size": [
             7356,
             5286,
             9751,
             16,
             269
            ],
            "sizemode": "area",
            "sizeref": 87.5575,
            "symbol": "circle"
           },
           "mode": "markers",
           "name": "YV",
           "orientation": "v",
           "showlegend": true,
           "type": "scatter",
           "x": [
            "carrier_delay",
            "weather_delay",
            "nas_delay",
            "security_delay",
            "late_aircraft_delay"
           ],
           "xaxis": "x",
           "y": [
            7356,
            5286,
            9751,
            16,
            269
           ],
           "yaxis": "y"
          }
         ],
         "name": "23"
        },
        {
         "data": [
          {
           "hovertemplate": "carrier=9E<br>day=24<br>variable=%{x}<br>value=%{marker.size}<extra></extra>",
           "legendgroup": "9E",
           "marker": {
            "color": "#636efa",
            "size": [
             1489,
             2641,
             2466,
             0,
             2105
            ],
            "sizemode": "area",
            "sizeref": 87.5575,
            "symbol": "circle"
           },
           "mode": "markers",
           "name": "9E",
           "orientation": "v",
           "showlegend": true,
           "type": "scatter",
           "x": [
            "carrier_delay",
            "weather_delay",
            "nas_delay",
            "security_delay",
            "late_aircraft_delay"
           ],
           "xaxis": "x",
           "y": [
            1489,
            2641,
            2466,
            0,
            2105
           ],
           "yaxis": "y"
          },
          {
           "hovertemplate": "carrier=AA<br>day=24<br>variable=%{x}<br>value=%{marker.size}<extra></extra>",
           "legendgroup": "AA",
           "marker": {
            "color": "#EF553B",
            "size": [
             3785,
             9502,
             22542,
             0,
             11935
            ],
            "sizemode": "area",
            "sizeref": 87.5575,
            "symbol": "circle"
           },
           "mode": "markers",
           "name": "AA",
           "orientation": "v",
           "showlegend": true,
           "type": "scatter",
           "x": [
            "carrier_delay",
            "weather_delay",
            "nas_delay",
            "security_delay",
            "late_aircraft_delay"
           ],
           "xaxis": "x",
           "y": [
            3785,
            9502,
            22542,
            0,
            11935
           ],
           "yaxis": "y"
          },
          {
           "hovertemplate": "carrier=AS<br>day=24<br>variable=%{x}<br>value=%{marker.size}<extra></extra>",
           "legendgroup": "AS",
           "marker": {
            "color": "#00cc96",
            "size": [
             647,
             512,
             707,
             0,
             928
            ],
            "sizemode": "area",
            "sizeref": 87.5575,
            "symbol": "circle"
           },
           "mode": "markers",
           "name": "AS",
           "orientation": "v",
           "showlegend": true,
           "type": "scatter",
           "x": [
            "carrier_delay",
            "weather_delay",
            "nas_delay",
            "security_delay",
            "late_aircraft_delay"
           ],
           "xaxis": "x",
           "y": [
            647,
            512,
            707,
            0,
            928
           ],
           "yaxis": "y"
          },
          {
           "hovertemplate": "carrier=B6<br>day=24<br>variable=%{x}<br>value=%{marker.size}<extra></extra>",
           "legendgroup": "B6",
           "marker": {
            "color": "#ab63fa",
            "size": [
             2111,
             0,
             999,
             39,
             1531
            ],
            "sizemode": "area",
            "sizeref": 87.5575,
            "symbol": "circle"
           },
           "mode": "markers",
           "name": "B6",
           "orientation": "v",
           "showlegend": true,
           "type": "scatter",
           "x": [
            "carrier_delay",
            "weather_delay",
            "nas_delay",
            "security_delay",
            "late_aircraft_delay"
           ],
           "xaxis": "x",
           "y": [
            2111,
            0,
            999,
            39,
            1531
           ],
           "yaxis": "y"
          },
          {
           "hovertemplate": "carrier=CO<br>day=24<br>variable=%{x}<br>value=%{marker.size}<extra></extra>",
           "legendgroup": "CO",
           "marker": {
            "color": "#FFA15A",
            "size": [
             2515,
             38,
             2404,
             71,
             1432
            ],
            "sizemode": "area",
            "sizeref": 87.5575,
            "symbol": "circle"
           },
           "mode": "markers",
           "name": "CO",
           "orientation": "v",
           "showlegend": true,
           "type": "scatter",
           "x": [
            "carrier_delay",
            "weather_delay",
            "nas_delay",
            "security_delay",
            "late_aircraft_delay"
           ],
           "xaxis": "x",
           "y": [
            2515,
            38,
            2404,
            71,
            1432
           ],
           "yaxis": "y"
          },
          {
           "hovertemplate": "carrier=DL<br>day=24<br>variable=%{x}<br>value=%{marker.size}<extra></extra>",
           "legendgroup": "DL",
           "marker": {
            "color": "#19d3f3",
            "size": [
             2395,
             40,
             1683,
             0,
             1585
            ],
            "sizemode": "area",
            "sizeref": 87.5575,
            "symbol": "circle"
           },
           "mode": "markers",
           "name": "DL",
           "orientation": "v",
           "showlegend": true,
           "type": "scatter",
           "x": [
            "carrier_delay",
            "weather_delay",
            "nas_delay",
            "security_delay",
            "late_aircraft_delay"
           ],
           "xaxis": "x",
           "y": [
            2395,
            40,
            1683,
            0,
            1585
           ],
           "yaxis": "y"
          },
          {
           "hovertemplate": "carrier=EV<br>day=24<br>variable=%{x}<br>value=%{marker.size}<extra></extra>",
           "legendgroup": "EV",
           "marker": {
            "color": "#FF6692",
            "size": [
             1163,
             117,
             686,
             0,
             1107
            ],
            "sizemode": "area",
            "sizeref": 87.5575,
            "symbol": "circle"
           },
           "mode": "markers",
           "name": "EV",
           "orientation": "v",
           "showlegend": true,
           "type": "scatter",
           "x": [
            "carrier_delay",
            "weather_delay",
            "nas_delay",
            "security_delay",
            "late_aircraft_delay"
           ],
           "xaxis": "x",
           "y": [
            1163,
            117,
            686,
            0,
            1107
           ],
           "yaxis": "y"
          },
          {
           "hovertemplate": "carrier=F9<br>day=24<br>variable=%{x}<br>value=%{marker.size}<extra></extra>",
           "legendgroup": "F9",
           "marker": {
            "color": "#B6E880",
            "size": [
             890,
             86,
             1041,
             0,
             2716
            ],
            "sizemode": "area",
            "sizeref": 87.5575,
            "symbol": "circle"
           },
           "mode": "markers",
           "name": "F9",
           "orientation": "v",
           "showlegend": true,
           "type": "scatter",
           "x": [
            "carrier_delay",
            "weather_delay",
            "nas_delay",
            "security_delay",
            "late_aircraft_delay"
           ],
           "xaxis": "x",
           "y": [
            890,
            86,
            1041,
            0,
            2716
           ],
           "yaxis": "y"
          },
          {
           "hovertemplate": "carrier=FL<br>day=24<br>variable=%{x}<br>value=%{marker.size}<extra></extra>",
           "legendgroup": "FL",
           "marker": {
            "color": "#FF97FF",
            "size": [
             1322,
             1,
             1239,
             0,
             3651
            ],
            "sizemode": "area",
            "sizeref": 87.5575,
            "symbol": "circle"
           },
           "mode": "markers",
           "name": "FL",
           "orientation": "v",
           "showlegend": true,
           "type": "scatter",
           "x": [
            "carrier_delay",
            "weather_delay",
            "nas_delay",
            "security_delay",
            "late_aircraft_delay"
           ],
           "xaxis": "x",
           "y": [
            1322,
            1,
            1239,
            0,
            3651
           ],
           "yaxis": "y"
          },
          {
           "hovertemplate": "carrier=HA<br>day=24<br>variable=%{x}<br>value=%{marker.size}<extra></extra>",
           "legendgroup": "HA",
           "marker": {
            "color": "#FECB52",
            "size": [
             270,
             8,
             125,
             0,
             336
            ],
            "sizemode": "area",
            "sizeref": 87.5575,
            "symbol": "circle"
           },
           "mode": "markers",
           "name": "HA",
           "orientation": "v",
           "showlegend": true,
           "type": "scatter",
           "x": [
            "carrier_delay",
            "weather_delay",
            "nas_delay",
            "security_delay",
            "late_aircraft_delay"
           ],
           "xaxis": "x",
           "y": [
            270,
            8,
            125,
            0,
            336
           ],
           "yaxis": "y"
          },
          {
           "hovertemplate": "carrier=MQ<br>day=24<br>variable=%{x}<br>value=%{marker.size}<extra></extra>",
           "legendgroup": "MQ",
           "marker": {
            "color": "#636efa",
            "size": [
             7012,
             7872,
             7695,
             9,
             6937
            ],
            "sizemode": "area",
            "sizeref": 87.5575,
            "symbol": "circle"
           },
           "mode": "markers",
           "name": "MQ",
           "orientation": "v",
           "showlegend": true,
           "type": "scatter",
           "x": [
            "carrier_delay",
            "weather_delay",
            "nas_delay",
            "security_delay",
            "late_aircraft_delay"
           ],
           "xaxis": "x",
           "y": [
            7012,
            7872,
            7695,
            9,
            6937
           ],
           "yaxis": "y"
          },
          {
           "hovertemplate": "carrier=NW<br>day=24<br>variable=%{x}<br>value=%{marker.size}<extra></extra>",
           "legendgroup": "NW",
           "marker": {
            "color": "#EF553B",
            "size": [
             3905,
             372,
             3512,
             41,
             2572
            ],
            "sizemode": "area",
            "sizeref": 87.5575,
            "symbol": "circle"
           },
           "mode": "markers",
           "name": "NW",
           "orientation": "v",
           "showlegend": true,
           "type": "scatter",
           "x": [
            "carrier_delay",
            "weather_delay",
            "nas_delay",
            "security_delay",
            "late_aircraft_delay"
           ],
           "xaxis": "x",
           "y": [
            3905,
            372,
            3512,
            41,
            2572
           ],
           "yaxis": "y"
          },
          {
           "hovertemplate": "carrier=OH<br>day=24<br>variable=%{x}<br>value=%{marker.size}<extra></extra>",
           "legendgroup": "OH",
           "marker": {
            "color": "#00cc96",
            "size": [
             1100,
             0,
             683,
             0,
             377
            ],
            "sizemode": "area",
            "sizeref": 87.5575,
            "symbol": "circle"
           },
           "mode": "markers",
           "name": "OH",
           "orientation": "v",
           "showlegend": true,
           "type": "scatter",
           "x": [
            "carrier_delay",
            "weather_delay",
            "nas_delay",
            "security_delay",
            "late_aircraft_delay"
           ],
           "xaxis": "x",
           "y": [
            1100,
            0,
            683,
            0,
            377
           ],
           "yaxis": "y"
          },
          {
           "hovertemplate": "carrier=OO<br>day=24<br>variable=%{x}<br>value=%{marker.size}<extra></extra>",
           "legendgroup": "OO",
           "marker": {
            "color": "#ab63fa",
            "size": [
             9026,
             893,
             3421,
             5,
             10692
            ],
            "sizemode": "area",
            "sizeref": 87.5575,
            "symbol": "circle"
           },
           "mode": "markers",
           "name": "OO",
           "orientation": "v",
           "showlegend": true,
           "type": "scatter",
           "x": [
            "carrier_delay",
            "weather_delay",
            "nas_delay",
            "security_delay",
            "late_aircraft_delay"
           ],
           "xaxis": "x",
           "y": [
            9026,
            893,
            3421,
            5,
            10692
           ],
           "yaxis": "y"
          },
          {
           "hovertemplate": "carrier=UA<br>day=24<br>variable=%{x}<br>value=%{marker.size}<extra></extra>",
           "legendgroup": "UA",
           "marker": {
            "color": "#FFA15A",
            "size": [
             2156,
             603,
             2398,
             0,
             3567
            ],
            "sizemode": "area",
            "sizeref": 87.5575,
            "symbol": "circle"
           },
           "mode": "markers",
           "name": "UA",
           "orientation": "v",
           "showlegend": true,
           "type": "scatter",
           "x": [
            "carrier_delay",
            "weather_delay",
            "nas_delay",
            "security_delay",
            "late_aircraft_delay"
           ],
           "xaxis": "x",
           "y": [
            2156,
            603,
            2398,
            0,
            3567
           ],
           "yaxis": "y"
          },
          {
           "hovertemplate": "carrier=US<br>day=24<br>variable=%{x}<br>value=%{marker.size}<extra></extra>",
           "legendgroup": "US",
           "marker": {
            "color": "#19d3f3",
            "size": [
             2625,
             267,
             3910,
             54,
             4660
            ],
            "sizemode": "area",
            "sizeref": 87.5575,
            "symbol": "circle"
           },
           "mode": "markers",
           "name": "US",
           "orientation": "v",
           "showlegend": true,
           "type": "scatter",
           "x": [
            "carrier_delay",
            "weather_delay",
            "nas_delay",
            "security_delay",
            "late_aircraft_delay"
           ],
           "xaxis": "x",
           "y": [
            2625,
            267,
            3910,
            54,
            4660
           ],
           "yaxis": "y"
          },
          {
           "hovertemplate": "carrier=WN<br>day=24<br>variable=%{x}<br>value=%{marker.size}<extra></extra>",
           "legendgroup": "WN",
           "marker": {
            "color": "#FF6692",
            "size": [
             7346,
             557,
             2537,
             1301,
             13161
            ],
            "sizemode": "area",
            "sizeref": 87.5575,
            "symbol": "circle"
           },
           "mode": "markers",
           "name": "WN",
           "orientation": "v",
           "showlegend": true,
           "type": "scatter",
           "x": [
            "carrier_delay",
            "weather_delay",
            "nas_delay",
            "security_delay",
            "late_aircraft_delay"
           ],
           "xaxis": "x",
           "y": [
            7346,
            557,
            2537,
            1301,
            13161
           ],
           "yaxis": "y"
          },
          {
           "hovertemplate": "carrier=XE<br>day=24<br>variable=%{x}<br>value=%{marker.size}<extra></extra>",
           "legendgroup": "XE",
           "marker": {
            "color": "#B6E880",
            "size": [
             3220,
             2103,
             4584,
             265,
             7342
            ],
            "sizemode": "area",
            "sizeref": 87.5575,
            "symbol": "circle"
           },
           "mode": "markers",
           "name": "XE",
           "orientation": "v",
           "showlegend": true,
           "type": "scatter",
           "x": [
            "carrier_delay",
            "weather_delay",
            "nas_delay",
            "security_delay",
            "late_aircraft_delay"
           ],
           "xaxis": "x",
           "y": [
            3220,
            2103,
            4584,
            265,
            7342
           ],
           "yaxis": "y"
          },
          {
           "hovertemplate": "carrier=YV<br>day=24<br>variable=%{x}<br>value=%{marker.size}<extra></extra>",
           "legendgroup": "YV",
           "marker": {
            "color": "#FF97FF",
            "size": [
             4775,
             736,
             917,
             0,
             0
            ],
            "sizemode": "area",
            "sizeref": 87.5575,
            "symbol": "circle"
           },
           "mode": "markers",
           "name": "YV",
           "orientation": "v",
           "showlegend": true,
           "type": "scatter",
           "x": [
            "carrier_delay",
            "weather_delay",
            "nas_delay",
            "security_delay",
            "late_aircraft_delay"
           ],
           "xaxis": "x",
           "y": [
            4775,
            736,
            917,
            0,
            0
           ],
           "yaxis": "y"
          }
         ],
         "name": "24"
        },
        {
         "data": [
          {
           "hovertemplate": "carrier=9E<br>day=25<br>variable=%{x}<br>value=%{marker.size}<extra></extra>",
           "legendgroup": "9E",
           "marker": {
            "color": "#636efa",
            "size": [
             2309,
             335,
             2406,
             0,
             3543
            ],
            "sizemode": "area",
            "sizeref": 87.5575,
            "symbol": "circle"
           },
           "mode": "markers",
           "name": "9E",
           "orientation": "v",
           "showlegend": true,
           "type": "scatter",
           "x": [
            "carrier_delay",
            "weather_delay",
            "nas_delay",
            "security_delay",
            "late_aircraft_delay"
           ],
           "xaxis": "x",
           "y": [
            2309,
            335,
            2406,
            0,
            3543
           ],
           "yaxis": "y"
          },
          {
           "hovertemplate": "carrier=AA<br>day=25<br>variable=%{x}<br>value=%{marker.size}<extra></extra>",
           "legendgroup": "AA",
           "marker": {
            "color": "#EF553B",
            "size": [
             10312,
             8182,
             4814,
             6,
             16191
            ],
            "sizemode": "area",
            "sizeref": 87.5575,
            "symbol": "circle"
           },
           "mode": "markers",
           "name": "AA",
           "orientation": "v",
           "showlegend": true,
           "type": "scatter",
           "x": [
            "carrier_delay",
            "weather_delay",
            "nas_delay",
            "security_delay",
            "late_aircraft_delay"
           ],
           "xaxis": "x",
           "y": [
            10312,
            8182,
            4814,
            6,
            16191
           ],
           "yaxis": "y"
          },
          {
           "hovertemplate": "carrier=AS<br>day=25<br>variable=%{x}<br>value=%{marker.size}<extra></extra>",
           "legendgroup": "AS",
           "marker": {
            "color": "#00cc96",
            "size": [
             307,
             0,
             623,
             0,
             166
            ],
            "sizemode": "area",
            "sizeref": 87.5575,
            "symbol": "circle"
           },
           "mode": "markers",
           "name": "AS",
           "orientation": "v",
           "showlegend": true,
           "type": "scatter",
           "x": [
            "carrier_delay",
            "weather_delay",
            "nas_delay",
            "security_delay",
            "late_aircraft_delay"
           ],
           "xaxis": "x",
           "y": [
            307,
            0,
            623,
            0,
            166
           ],
           "yaxis": "y"
          },
          {
           "hovertemplate": "carrier=B6<br>day=25<br>variable=%{x}<br>value=%{marker.size}<extra></extra>",
           "legendgroup": "B6",
           "marker": {
            "color": "#ab63fa",
            "size": [
             1694,
             15,
             970,
             0,
             714
            ],
            "sizemode": "area",
            "sizeref": 87.5575,
            "symbol": "circle"
           },
           "mode": "markers",
           "name": "B6",
           "orientation": "v",
           "showlegend": true,
           "type": "scatter",
           "x": [
            "carrier_delay",
            "weather_delay",
            "nas_delay",
            "security_delay",
            "late_aircraft_delay"
           ],
           "xaxis": "x",
           "y": [
            1694,
            15,
            970,
            0,
            714
           ],
           "yaxis": "y"
          },
          {
           "hovertemplate": "carrier=CO<br>day=25<br>variable=%{x}<br>value=%{marker.size}<extra></extra>",
           "legendgroup": "CO",
           "marker": {
            "color": "#FFA15A",
            "size": [
             1167,
             51,
             885,
             31,
             465
            ],
            "sizemode": "area",
            "sizeref": 87.5575,
            "symbol": "circle"
           },
           "mode": "markers",
           "name": "CO",
           "orientation": "v",
           "showlegend": true,
           "type": "scatter",
           "x": [
            "carrier_delay",
            "weather_delay",
            "nas_delay",
            "security_delay",
            "late_aircraft_delay"
           ],
           "xaxis": "x",
           "y": [
            1167,
            51,
            885,
            31,
            465
           ],
           "yaxis": "y"
          },
          {
           "hovertemplate": "carrier=DL<br>day=25<br>variable=%{x}<br>value=%{marker.size}<extra></extra>",
           "legendgroup": "DL",
           "marker": {
            "color": "#19d3f3",
            "size": [
             1237,
             120,
             1456,
             0,
             599
            ],
            "sizemode": "area",
            "sizeref": 87.5575,
            "symbol": "circle"
           },
           "mode": "markers",
           "name": "DL",
           "orientation": "v",
           "showlegend": true,
           "type": "scatter",
           "x": [
            "carrier_delay",
            "weather_delay",
            "nas_delay",
            "security_delay",
            "late_aircraft_delay"
           ],
           "xaxis": "x",
           "y": [
            1237,
            120,
            1456,
            0,
            599
           ],
           "yaxis": "y"
          },
          {
           "hovertemplate": "carrier=EV<br>day=25<br>variable=%{x}<br>value=%{marker.size}<extra></extra>",
           "legendgroup": "EV",
           "marker": {
            "color": "#FF6692",
            "size": [
             2872,
             98,
             619,
             8,
             1268
            ],
            "sizemode": "area",
            "sizeref": 87.5575,
            "symbol": "circle"
           },
           "mode": "markers",
           "name": "EV",
           "orientation": "v",
           "showlegend": true,
           "type": "scatter",
           "x": [
            "carrier_delay",
            "weather_delay",
            "nas_delay",
            "security_delay",
            "late_aircraft_delay"
           ],
           "xaxis": "x",
           "y": [
            2872,
            98,
            619,
            8,
            1268
           ],
           "yaxis": "y"
          },
          {
           "hovertemplate": "carrier=F9<br>day=25<br>variable=%{x}<br>value=%{marker.size}<extra></extra>",
           "legendgroup": "F9",
           "marker": {
            "color": "#B6E880",
            "size": [
             1319,
             165,
             596,
             0,
             2567
            ],
            "sizemode": "area",
            "sizeref": 87.5575,
            "symbol": "circle"
           },
           "mode": "markers",
           "name": "F9",
           "orientation": "v",
           "showlegend": true,
           "type": "scatter",
           "x": [
            "carrier_delay",
            "weather_delay",
            "nas_delay",
            "security_delay",
            "late_aircraft_delay"
           ],
           "xaxis": "x",
           "y": [
            1319,
            165,
            596,
            0,
            2567
           ],
           "yaxis": "y"
          },
          {
           "hovertemplate": "carrier=FL<br>day=25<br>variable=%{x}<br>value=%{marker.size}<extra></extra>",
           "legendgroup": "FL",
           "marker": {
            "color": "#FF97FF",
            "size": [
             1601,
             0,
             1598,
             0,
             3770
            ],
            "sizemode": "area",
            "sizeref": 87.5575,
            "symbol": "circle"
           },
           "mode": "markers",
           "name": "FL",
           "orientation": "v",
           "showlegend": true,
           "type": "scatter",
           "x": [
            "carrier_delay",
            "weather_delay",
            "nas_delay",
            "security_delay",
            "late_aircraft_delay"
           ],
           "xaxis": "x",
           "y": [
            1601,
            0,
            1598,
            0,
            3770
           ],
           "yaxis": "y"
          },
          {
           "hovertemplate": "carrier=HA<br>day=25<br>variable=%{x}<br>value=%{marker.size}<extra></extra>",
           "legendgroup": "HA",
           "marker": {
            "color": "#FECB52",
            "size": [
             493,
             0,
             0,
             0,
             40
            ],
            "sizemode": "area",
            "sizeref": 87.5575,
            "symbol": "circle"
           },
           "mode": "markers",
           "name": "HA",
           "orientation": "v",
           "showlegend": true,
           "type": "scatter",
           "x": [
            "carrier_delay",
            "weather_delay",
            "nas_delay",
            "security_delay",
            "late_aircraft_delay"
           ],
           "xaxis": "x",
           "y": [
            493,
            0,
            0,
            0,
            40
           ],
           "yaxis": "y"
          },
          {
           "hovertemplate": "carrier=MQ<br>day=25<br>variable=%{x}<br>value=%{marker.size}<extra></extra>",
           "legendgroup": "MQ",
           "marker": {
            "color": "#636efa",
            "size": [
             5305,
             10672,
             7057,
             0,
             21316
            ],
            "sizemode": "area",
            "sizeref": 87.5575,
            "symbol": "circle"
           },
           "mode": "markers",
           "name": "MQ",
           "orientation": "v",
           "showlegend": true,
           "type": "scatter",
           "x": [
            "carrier_delay",
            "weather_delay",
            "nas_delay",
            "security_delay",
            "late_aircraft_delay"
           ],
           "xaxis": "x",
           "y": [
            5305,
            10672,
            7057,
            0,
            21316
           ],
           "yaxis": "y"
          },
          {
           "hovertemplate": "carrier=NW<br>day=25<br>variable=%{x}<br>value=%{marker.size}<extra></extra>",
           "legendgroup": "NW",
           "marker": {
            "color": "#EF553B",
            "size": [
             3298,
             1356,
             2838,
             40,
             1721
            ],
            "sizemode": "area",
            "sizeref": 87.5575,
            "symbol": "circle"
           },
           "mode": "markers",
           "name": "NW",
           "orientation": "v",
           "showlegend": true,
           "type": "scatter",
           "x": [
            "carrier_delay",
            "weather_delay",
            "nas_delay",
            "security_delay",
            "late_aircraft_delay"
           ],
           "xaxis": "x",
           "y": [
            3298,
            1356,
            2838,
            40,
            1721
           ],
           "yaxis": "y"
          },
          {
           "hovertemplate": "carrier=OH<br>day=25<br>variable=%{x}<br>value=%{marker.size}<extra></extra>",
           "legendgroup": "OH",
           "marker": {
            "color": "#00cc96",
            "size": [
             1239,
             279,
             737,
             0,
             491
            ],
            "sizemode": "area",
            "sizeref": 87.5575,
            "symbol": "circle"
           },
           "mode": "markers",
           "name": "OH",
           "orientation": "v",
           "showlegend": true,
           "type": "scatter",
           "x": [
            "carrier_delay",
            "weather_delay",
            "nas_delay",
            "security_delay",
            "late_aircraft_delay"
           ],
           "xaxis": "x",
           "y": [
            1239,
            279,
            737,
            0,
            491
           ],
           "yaxis": "y"
          },
          {
           "hovertemplate": "carrier=OO<br>day=25<br>variable=%{x}<br>value=%{marker.size}<extra></extra>",
           "legendgroup": "OO",
           "marker": {
            "color": "#ab63fa",
            "size": [
             4438,
             1144,
             3250,
             0,
             6299
            ],
            "sizemode": "area",
            "sizeref": 87.5575,
            "symbol": "circle"
           },
           "mode": "markers",
           "name": "OO",
           "orientation": "v",
           "showlegend": true,
           "type": "scatter",
           "x": [
            "carrier_delay",
            "weather_delay",
            "nas_delay",
            "security_delay",
            "late_aircraft_delay"
           ],
           "xaxis": "x",
           "y": [
            4438,
            1144,
            3250,
            0,
            6299
           ],
           "yaxis": "y"
          },
          {
           "hovertemplate": "carrier=UA<br>day=25<br>variable=%{x}<br>value=%{marker.size}<extra></extra>",
           "legendgroup": "UA",
           "marker": {
            "color": "#FFA15A",
            "size": [
             2042,
             837,
             1907,
             0,
             2369
            ],
            "sizemode": "area",
            "sizeref": 87.5575,
            "symbol": "circle"
           },
           "mode": "markers",
           "name": "UA",
           "orientation": "v",
           "showlegend": true,
           "type": "scatter",
           "x": [
            "carrier_delay",
            "weather_delay",
            "nas_delay",
            "security_delay",
            "late_aircraft_delay"
           ],
           "xaxis": "x",
           "y": [
            2042,
            837,
            1907,
            0,
            2369
           ],
           "yaxis": "y"
          },
          {
           "hovertemplate": "carrier=US<br>day=25<br>variable=%{x}<br>value=%{marker.size}<extra></extra>",
           "legendgroup": "US",
           "marker": {
            "color": "#19d3f3",
            "size": [
             4010,
             163,
             5564,
             110,
             3202
            ],
            "sizemode": "area",
            "sizeref": 87.5575,
            "symbol": "circle"
           },
           "mode": "markers",
           "name": "US",
           "orientation": "v",
           "showlegend": true,
           "type": "scatter",
           "x": [
            "carrier_delay",
            "weather_delay",
            "nas_delay",
            "security_delay",
            "late_aircraft_delay"
           ],
           "xaxis": "x",
           "y": [
            4010,
            163,
            5564,
            110,
            3202
           ],
           "yaxis": "y"
          },
          {
           "hovertemplate": "carrier=WN<br>day=25<br>variable=%{x}<br>value=%{marker.size}<extra></extra>",
           "legendgroup": "WN",
           "marker": {
            "color": "#FF6692",
            "size": [
             4172,
             1823,
             3703,
             46,
             9048
            ],
            "sizemode": "area",
            "sizeref": 87.5575,
            "symbol": "circle"
           },
           "mode": "markers",
           "name": "WN",
           "orientation": "v",
           "showlegend": true,
           "type": "scatter",
           "x": [
            "carrier_delay",
            "weather_delay",
            "nas_delay",
            "security_delay",
            "late_aircraft_delay"
           ],
           "xaxis": "x",
           "y": [
            4172,
            1823,
            3703,
            46,
            9048
           ],
           "yaxis": "y"
          },
          {
           "hovertemplate": "carrier=XE<br>day=25<br>variable=%{x}<br>value=%{marker.size}<extra></extra>",
           "legendgroup": "XE",
           "marker": {
            "color": "#B6E880",
            "size": [
             1423,
             714,
             1182,
             35,
             1216
            ],
            "sizemode": "area",
            "sizeref": 87.5575,
            "symbol": "circle"
           },
           "mode": "markers",
           "name": "XE",
           "orientation": "v",
           "showlegend": true,
           "type": "scatter",
           "x": [
            "carrier_delay",
            "weather_delay",
            "nas_delay",
            "security_delay",
            "late_aircraft_delay"
           ],
           "xaxis": "x",
           "y": [
            1423,
            714,
            1182,
            35,
            1216
           ],
           "yaxis": "y"
          },
          {
           "hovertemplate": "carrier=YV<br>day=25<br>variable=%{x}<br>value=%{marker.size}<extra></extra>",
           "legendgroup": "YV",
           "marker": {
            "color": "#FF97FF",
            "size": [
             7145,
             749,
             1736,
             0,
             0
            ],
            "sizemode": "area",
            "sizeref": 87.5575,
            "symbol": "circle"
           },
           "mode": "markers",
           "name": "YV",
           "orientation": "v",
           "showlegend": true,
           "type": "scatter",
           "x": [
            "carrier_delay",
            "weather_delay",
            "nas_delay",
            "security_delay",
            "late_aircraft_delay"
           ],
           "xaxis": "x",
           "y": [
            7145,
            749,
            1736,
            0,
            0
           ],
           "yaxis": "y"
          }
         ],
         "name": "25"
        },
        {
         "data": [
          {
           "hovertemplate": "carrier=9E<br>day=26<br>variable=%{x}<br>value=%{marker.size}<extra></extra>",
           "legendgroup": "9E",
           "marker": {
            "color": "#636efa",
            "size": [
             3442,
             86,
             3571,
             22,
             4340
            ],
            "sizemode": "area",
            "sizeref": 87.5575,
            "symbol": "circle"
           },
           "mode": "markers",
           "name": "9E",
           "orientation": "v",
           "showlegend": true,
           "type": "scatter",
           "x": [
            "carrier_delay",
            "weather_delay",
            "nas_delay",
            "security_delay",
            "late_aircraft_delay"
           ],
           "xaxis": "x",
           "y": [
            3442,
            86,
            3571,
            22,
            4340
           ],
           "yaxis": "y"
          },
          {
           "hovertemplate": "carrier=AA<br>day=26<br>variable=%{x}<br>value=%{marker.size}<extra></extra>",
           "legendgroup": "AA",
           "marker": {
            "color": "#EF553B",
            "size": [
             11682,
             4915,
             17222,
             11,
             17321
            ],
            "sizemode": "area",
            "sizeref": 87.5575,
            "symbol": "circle"
           },
           "mode": "markers",
           "name": "AA",
           "orientation": "v",
           "showlegend": true,
           "type": "scatter",
           "x": [
            "carrier_delay",
            "weather_delay",
            "nas_delay",
            "security_delay",
            "late_aircraft_delay"
           ],
           "xaxis": "x",
           "y": [
            11682,
            4915,
            17222,
            11,
            17321
           ],
           "yaxis": "y"
          },
          {
           "hovertemplate": "carrier=AS<br>day=26<br>variable=%{x}<br>value=%{marker.size}<extra></extra>",
           "legendgroup": "AS",
           "marker": {
            "color": "#00cc96",
            "size": [
             270,
             487,
             1065,
             0,
             1065
            ],
            "sizemode": "area",
            "sizeref": 87.5575,
            "symbol": "circle"
           },
           "mode": "markers",
           "name": "AS",
           "orientation": "v",
           "showlegend": true,
           "type": "scatter",
           "x": [
            "carrier_delay",
            "weather_delay",
            "nas_delay",
            "security_delay",
            "late_aircraft_delay"
           ],
           "xaxis": "x",
           "y": [
            270,
            487,
            1065,
            0,
            1065
           ],
           "yaxis": "y"
          },
          {
           "hovertemplate": "carrier=B6<br>day=26<br>variable=%{x}<br>value=%{marker.size}<extra></extra>",
           "legendgroup": "B6",
           "marker": {
            "color": "#ab63fa",
            "size": [
             3896,
             124,
             9288,
             4,
             9032
            ],
            "sizemode": "area",
            "sizeref": 87.5575,
            "symbol": "circle"
           },
           "mode": "markers",
           "name": "B6",
           "orientation": "v",
           "showlegend": true,
           "type": "scatter",
           "x": [
            "carrier_delay",
            "weather_delay",
            "nas_delay",
            "security_delay",
            "late_aircraft_delay"
           ],
           "xaxis": "x",
           "y": [
            3896,
            124,
            9288,
            4,
            9032
           ],
           "yaxis": "y"
          },
          {
           "hovertemplate": "carrier=CO<br>day=26<br>variable=%{x}<br>value=%{marker.size}<extra></extra>",
           "legendgroup": "CO",
           "marker": {
            "color": "#FFA15A",
            "size": [
             2605,
             256,
             6373,
             120,
             2911
            ],
            "sizemode": "area",
            "sizeref": 87.5575,
            "symbol": "circle"
           },
           "mode": "markers",
           "name": "CO",
           "orientation": "v",
           "showlegend": true,
           "type": "scatter",
           "x": [
            "carrier_delay",
            "weather_delay",
            "nas_delay",
            "security_delay",
            "late_aircraft_delay"
           ],
           "xaxis": "x",
           "y": [
            2605,
            256,
            6373,
            120,
            2911
           ],
           "yaxis": "y"
          },
          {
           "hovertemplate": "carrier=DL<br>day=26<br>variable=%{x}<br>value=%{marker.size}<extra></extra>",
           "legendgroup": "DL",
           "marker": {
            "color": "#19d3f3",
            "size": [
             3405,
             315,
             4414,
             16,
             2634
            ],
            "sizemode": "area",
            "sizeref": 87.5575,
            "symbol": "circle"
           },
           "mode": "markers",
           "name": "DL",
           "orientation": "v",
           "showlegend": true,
           "type": "scatter",
           "x": [
            "carrier_delay",
            "weather_delay",
            "nas_delay",
            "security_delay",
            "late_aircraft_delay"
           ],
           "xaxis": "x",
           "y": [
            3405,
            315,
            4414,
            16,
            2634
           ],
           "yaxis": "y"
          },
          {
           "hovertemplate": "carrier=EV<br>day=26<br>variable=%{x}<br>value=%{marker.size}<extra></extra>",
           "legendgroup": "EV",
           "marker": {
            "color": "#FF6692",
            "size": [
             2262,
             230,
             1030,
             69,
             2614
            ],
            "sizemode": "area",
            "sizeref": 87.5575,
            "symbol": "circle"
           },
           "mode": "markers",
           "name": "EV",
           "orientation": "v",
           "showlegend": true,
           "type": "scatter",
           "x": [
            "carrier_delay",
            "weather_delay",
            "nas_delay",
            "security_delay",
            "late_aircraft_delay"
           ],
           "xaxis": "x",
           "y": [
            2262,
            230,
            1030,
            69,
            2614
           ],
           "yaxis": "y"
          },
          {
           "hovertemplate": "carrier=F9<br>day=26<br>variable=%{x}<br>value=%{marker.size}<extra></extra>",
           "legendgroup": "F9",
           "marker": {
            "color": "#B6E880",
            "size": [
             1372,
             98,
             1884,
             0,
             4781
            ],
            "sizemode": "area",
            "sizeref": 87.5575,
            "symbol": "circle"
           },
           "mode": "markers",
           "name": "F9",
           "orientation": "v",
           "showlegend": true,
           "type": "scatter",
           "x": [
            "carrier_delay",
            "weather_delay",
            "nas_delay",
            "security_delay",
            "late_aircraft_delay"
           ],
           "xaxis": "x",
           "y": [
            1372,
            98,
            1884,
            0,
            4781
           ],
           "yaxis": "y"
          },
          {
           "hovertemplate": "carrier=FL<br>day=26<br>variable=%{x}<br>value=%{marker.size}<extra></extra>",
           "legendgroup": "FL",
           "marker": {
            "color": "#FF97FF",
            "size": [
             3228,
             65,
             2700,
             0,
             7874
            ],
            "sizemode": "area",
            "sizeref": 87.5575,
            "symbol": "circle"
           },
           "mode": "markers",
           "name": "FL",
           "orientation": "v",
           "showlegend": true,
           "type": "scatter",
           "x": [
            "carrier_delay",
            "weather_delay",
            "nas_delay",
            "security_delay",
            "late_aircraft_delay"
           ],
           "xaxis": "x",
           "y": [
            3228,
            65,
            2700,
            0,
            7874
           ],
           "yaxis": "y"
          },
          {
           "hovertemplate": "carrier=HA<br>day=26<br>variable=%{x}<br>value=%{marker.size}<extra></extra>",
           "legendgroup": "HA",
           "marker": {
            "color": "#FECB52",
            "size": [
             703,
             0,
             1,
             0,
             212
            ],
            "sizemode": "area",
            "sizeref": 87.5575,
            "symbol": "circle"
           },
           "mode": "markers",
           "name": "HA",
           "orientation": "v",
           "showlegend": true,
           "type": "scatter",
           "x": [
            "carrier_delay",
            "weather_delay",
            "nas_delay",
            "security_delay",
            "late_aircraft_delay"
           ],
           "xaxis": "x",
           "y": [
            703,
            0,
            1,
            0,
            212
           ],
           "yaxis": "y"
          },
          {
           "hovertemplate": "carrier=MQ<br>day=26<br>variable=%{x}<br>value=%{marker.size}<extra></extra>",
           "legendgroup": "MQ",
           "marker": {
            "color": "#636efa",
            "size": [
             9427,
             2246,
             16701,
             28,
             16492
            ],
            "sizemode": "area",
            "sizeref": 87.5575,
            "symbol": "circle"
           },
           "mode": "markers",
           "name": "MQ",
           "orientation": "v",
           "showlegend": true,
           "type": "scatter",
           "x": [
            "carrier_delay",
            "weather_delay",
            "nas_delay",
            "security_delay",
            "late_aircraft_delay"
           ],
           "xaxis": "x",
           "y": [
            9427,
            2246,
            16701,
            28,
            16492
           ],
           "yaxis": "y"
          },
          {
           "hovertemplate": "carrier=NW<br>day=26<br>variable=%{x}<br>value=%{marker.size}<extra></extra>",
           "legendgroup": "NW",
           "marker": {
            "color": "#EF553B",
            "size": [
             5567,
             2608,
             3639,
             41,
             3361
            ],
            "sizemode": "area",
            "sizeref": 87.5575,
            "symbol": "circle"
           },
           "mode": "markers",
           "name": "NW",
           "orientation": "v",
           "showlegend": true,
           "type": "scatter",
           "x": [
            "carrier_delay",
            "weather_delay",
            "nas_delay",
            "security_delay",
            "late_aircraft_delay"
           ],
           "xaxis": "x",
           "y": [
            5567,
            2608,
            3639,
            41,
            3361
           ],
           "yaxis": "y"
          },
          {
           "hovertemplate": "carrier=OH<br>day=26<br>variable=%{x}<br>value=%{marker.size}<extra></extra>",
           "legendgroup": "OH",
           "marker": {
            "color": "#00cc96",
            "size": [
             1951,
             1907,
             4247,
             15,
             989
            ],
            "sizemode": "area",
            "sizeref": 87.5575,
            "symbol": "circle"
           },
           "mode": "markers",
           "name": "OH",
           "orientation": "v",
           "showlegend": true,
           "type": "scatter",
           "x": [
            "carrier_delay",
            "weather_delay",
            "nas_delay",
            "security_delay",
            "late_aircraft_delay"
           ],
           "xaxis": "x",
           "y": [
            1951,
            1907,
            4247,
            15,
            989
           ],
           "yaxis": "y"
          },
          {
           "hovertemplate": "carrier=OO<br>day=26<br>variable=%{x}<br>value=%{marker.size}<extra></extra>",
           "legendgroup": "OO",
           "marker": {
            "color": "#ab63fa",
            "size": [
             9804,
             2996,
             14595,
             323,
             25082
            ],
            "sizemode": "area",
            "sizeref": 87.5575,
            "symbol": "circle"
           },
           "mode": "markers",
           "name": "OO",
           "orientation": "v",
           "showlegend": true,
           "type": "scatter",
           "x": [
            "carrier_delay",
            "weather_delay",
            "nas_delay",
            "security_delay",
            "late_aircraft_delay"
           ],
           "xaxis": "x",
           "y": [
            9804,
            2996,
            14595,
            323,
            25082
           ],
           "yaxis": "y"
          },
          {
           "hovertemplate": "carrier=UA<br>day=26<br>variable=%{x}<br>value=%{marker.size}<extra></extra>",
           "legendgroup": "UA",
           "marker": {
            "color": "#FFA15A",
            "size": [
             6101,
             1003,
             11249,
             0,
             18843
            ],
            "sizemode": "area",
            "sizeref": 87.5575,
            "symbol": "circle"
           },
           "mode": "markers",
           "name": "UA",
           "orientation": "v",
           "showlegend": true,
           "type": "scatter",
           "x": [
            "carrier_delay",
            "weather_delay",
            "nas_delay",
            "security_delay",
            "late_aircraft_delay"
           ],
           "xaxis": "x",
           "y": [
            6101,
            1003,
            11249,
            0,
            18843
           ],
           "yaxis": "y"
          },
          {
           "hovertemplate": "carrier=US<br>day=26<br>variable=%{x}<br>value=%{marker.size}<extra></extra>",
           "legendgroup": "US",
           "marker": {
            "color": "#19d3f3",
            "size": [
             3559,
             190,
             5010,
             87,
             4463
            ],
            "sizemode": "area",
            "sizeref": 87.5575,
            "symbol": "circle"
           },
           "mode": "markers",
           "name": "US",
           "orientation": "v",
           "showlegend": true,
           "type": "scatter",
           "x": [
            "carrier_delay",
            "weather_delay",
            "nas_delay",
            "security_delay",
            "late_aircraft_delay"
           ],
           "xaxis": "x",
           "y": [
            3559,
            190,
            5010,
            87,
            4463
           ],
           "yaxis": "y"
          },
          {
           "hovertemplate": "carrier=WN<br>day=26<br>variable=%{x}<br>value=%{marker.size}<extra></extra>",
           "legendgroup": "WN",
           "marker": {
            "color": "#FF6692",
            "size": [
             13876,
             2166,
             9068,
             236,
             35023
            ],
            "sizemode": "area",
            "sizeref": 87.5575,
            "symbol": "circle"
           },
           "mode": "markers",
           "name": "WN",
           "orientation": "v",
           "showlegend": true,
           "type": "scatter",
           "x": [
            "carrier_delay",
            "weather_delay",
            "nas_delay",
            "security_delay",
            "late_aircraft_delay"
           ],
           "xaxis": "x",
           "y": [
            13876,
            2166,
            9068,
            236,
            35023
           ],
           "yaxis": "y"
          },
          {
           "hovertemplate": "carrier=XE<br>day=26<br>variable=%{x}<br>value=%{marker.size}<extra></extra>",
           "legendgroup": "XE",
           "marker": {
            "color": "#B6E880",
            "size": [
             2947,
             1349,
             9948,
             129,
             9032
            ],
            "sizemode": "area",
            "sizeref": 87.5575,
            "symbol": "circle"
           },
           "mode": "markers",
           "name": "XE",
           "orientation": "v",
           "showlegend": true,
           "type": "scatter",
           "x": [
            "carrier_delay",
            "weather_delay",
            "nas_delay",
            "security_delay",
            "late_aircraft_delay"
           ],
           "xaxis": "x",
           "y": [
            2947,
            1349,
            9948,
            129,
            9032
           ],
           "yaxis": "y"
          },
          {
           "hovertemplate": "carrier=YV<br>day=26<br>variable=%{x}<br>value=%{marker.size}<extra></extra>",
           "legendgroup": "YV",
           "marker": {
            "color": "#FF97FF",
            "size": [
             7411,
             1051,
             10253,
             0,
             65
            ],
            "sizemode": "area",
            "sizeref": 87.5575,
            "symbol": "circle"
           },
           "mode": "markers",
           "name": "YV",
           "orientation": "v",
           "showlegend": true,
           "type": "scatter",
           "x": [
            "carrier_delay",
            "weather_delay",
            "nas_delay",
            "security_delay",
            "late_aircraft_delay"
           ],
           "xaxis": "x",
           "y": [
            7411,
            1051,
            10253,
            0,
            65
           ],
           "yaxis": "y"
          }
         ],
         "name": "26"
        },
        {
         "data": [
          {
           "hovertemplate": "carrier=9E<br>day=27<br>variable=%{x}<br>value=%{marker.size}<extra></extra>",
           "legendgroup": "9E",
           "marker": {
            "color": "#636efa",
            "size": [
             4450,
             225,
             3379,
             0,
             2866
            ],
            "sizemode": "area",
            "sizeref": 87.5575,
            "symbol": "circle"
           },
           "mode": "markers",
           "name": "9E",
           "orientation": "v",
           "showlegend": true,
           "type": "scatter",
           "x": [
            "carrier_delay",
            "weather_delay",
            "nas_delay",
            "security_delay",
            "late_aircraft_delay"
           ],
           "xaxis": "x",
           "y": [
            4450,
            225,
            3379,
            0,
            2866
           ],
           "yaxis": "y"
          },
          {
           "hovertemplate": "carrier=AA<br>day=27<br>variable=%{x}<br>value=%{marker.size}<extra></extra>",
           "legendgroup": "AA",
           "marker": {
            "color": "#EF553B",
            "size": [
             9114,
             2065,
             3942,
             50,
             8197
            ],
            "sizemode": "area",
            "sizeref": 87.5575,
            "symbol": "circle"
           },
           "mode": "markers",
           "name": "AA",
           "orientation": "v",
           "showlegend": true,
           "type": "scatter",
           "x": [
            "carrier_delay",
            "weather_delay",
            "nas_delay",
            "security_delay",
            "late_aircraft_delay"
           ],
           "xaxis": "x",
           "y": [
            9114,
            2065,
            3942,
            50,
            8197
           ],
           "yaxis": "y"
          },
          {
           "hovertemplate": "carrier=AS<br>day=27<br>variable=%{x}<br>value=%{marker.size}<extra></extra>",
           "legendgroup": "AS",
           "marker": {
            "color": "#00cc96",
            "size": [
             332,
             165,
             628,
             114,
             735
            ],
            "sizemode": "area",
            "sizeref": 87.5575,
            "symbol": "circle"
           },
           "mode": "markers",
           "name": "AS",
           "orientation": "v",
           "showlegend": true,
           "type": "scatter",
           "x": [
            "carrier_delay",
            "weather_delay",
            "nas_delay",
            "security_delay",
            "late_aircraft_delay"
           ],
           "xaxis": "x",
           "y": [
            332,
            165,
            628,
            114,
            735
           ],
           "yaxis": "y"
          },
          {
           "hovertemplate": "carrier=B6<br>day=27<br>variable=%{x}<br>value=%{marker.size}<extra></extra>",
           "legendgroup": "B6",
           "marker": {
            "color": "#ab63fa",
            "size": [
             2795,
             73,
             1650,
             70,
             4794
            ],
            "sizemode": "area",
            "sizeref": 87.5575,
            "symbol": "circle"
           },
           "mode": "markers",
           "name": "B6",
           "orientation": "v",
           "showlegend": true,
           "type": "scatter",
           "x": [
            "carrier_delay",
            "weather_delay",
            "nas_delay",
            "security_delay",
            "late_aircraft_delay"
           ],
           "xaxis": "x",
           "y": [
            2795,
            73,
            1650,
            70,
            4794
           ],
           "yaxis": "y"
          },
          {
           "hovertemplate": "carrier=CO<br>day=27<br>variable=%{x}<br>value=%{marker.size}<extra></extra>",
           "legendgroup": "CO",
           "marker": {
            "color": "#FFA15A",
            "size": [
             2785,
             3,
             1703,
             52,
             1377
            ],
            "sizemode": "area",
            "sizeref": 87.5575,
            "symbol": "circle"
           },
           "mode": "markers",
           "name": "CO",
           "orientation": "v",
           "showlegend": true,
           "type": "scatter",
           "x": [
            "carrier_delay",
            "weather_delay",
            "nas_delay",
            "security_delay",
            "late_aircraft_delay"
           ],
           "xaxis": "x",
           "y": [
            2785,
            3,
            1703,
            52,
            1377
           ],
           "yaxis": "y"
          },
          {
           "hovertemplate": "carrier=DL<br>day=27<br>variable=%{x}<br>value=%{marker.size}<extra></extra>",
           "legendgroup": "DL",
           "marker": {
            "color": "#19d3f3",
            "size": [
             3101,
             57,
             1734,
             0,
             1589
            ],
            "sizemode": "area",
            "sizeref": 87.5575,
            "symbol": "circle"
           },
           "mode": "markers",
           "name": "DL",
           "orientation": "v",
           "showlegend": true,
           "type": "scatter",
           "x": [
            "carrier_delay",
            "weather_delay",
            "nas_delay",
            "security_delay",
            "late_aircraft_delay"
           ],
           "xaxis": "x",
           "y": [
            3101,
            57,
            1734,
            0,
            1589
           ],
           "yaxis": "y"
          },
          {
           "hovertemplate": "carrier=EV<br>day=27<br>variable=%{x}<br>value=%{marker.size}<extra></extra>",
           "legendgroup": "EV",
           "marker": {
            "color": "#FF6692",
            "size": [
             3935,
             107,
             1359,
             204,
             3401
            ],
            "sizemode": "area",
            "sizeref": 87.5575,
            "symbol": "circle"
           },
           "mode": "markers",
           "name": "EV",
           "orientation": "v",
           "showlegend": true,
           "type": "scatter",
           "x": [
            "carrier_delay",
            "weather_delay",
            "nas_delay",
            "security_delay",
            "late_aircraft_delay"
           ],
           "xaxis": "x",
           "y": [
            3935,
            107,
            1359,
            204,
            3401
           ],
           "yaxis": "y"
          },
          {
           "hovertemplate": "carrier=F9<br>day=27<br>variable=%{x}<br>value=%{marker.size}<extra></extra>",
           "legendgroup": "F9",
           "marker": {
            "color": "#B6E880",
            "size": [
             454,
             1,
             283,
             0,
             609
            ],
            "sizemode": "area",
            "sizeref": 87.5575,
            "symbol": "circle"
           },
           "mode": "markers",
           "name": "F9",
           "orientation": "v",
           "showlegend": true,
           "type": "scatter",
           "x": [
            "carrier_delay",
            "weather_delay",
            "nas_delay",
            "security_delay",
            "late_aircraft_delay"
           ],
           "xaxis": "x",
           "y": [
            454,
            1,
            283,
            0,
            609
           ],
           "yaxis": "y"
          },
          {
           "hovertemplate": "carrier=FL<br>day=27<br>variable=%{x}<br>value=%{marker.size}<extra></extra>",
           "legendgroup": "FL",
           "marker": {
            "color": "#FF97FF",
            "size": [
             3402,
             37,
             1938,
             0,
             5283
            ],
            "sizemode": "area",
            "sizeref": 87.5575,
            "symbol": "circle"
           },
           "mode": "markers",
           "name": "FL",
           "orientation": "v",
           "showlegend": true,
           "type": "scatter",
           "x": [
            "carrier_delay",
            "weather_delay",
            "nas_delay",
            "security_delay",
            "late_aircraft_delay"
           ],
           "xaxis": "x",
           "y": [
            3402,
            37,
            1938,
            0,
            5283
           ],
           "yaxis": "y"
          },
          {
           "hovertemplate": "carrier=HA<br>day=27<br>variable=%{x}<br>value=%{marker.size}<extra></extra>",
           "legendgroup": "HA",
           "marker": {
            "color": "#FECB52",
            "size": [
             603,
             0,
             0,
             6,
             33
            ],
            "sizemode": "area",
            "sizeref": 87.5575,
            "symbol": "circle"
           },
           "mode": "markers",
           "name": "HA",
           "orientation": "v",
           "showlegend": true,
           "type": "scatter",
           "x": [
            "carrier_delay",
            "weather_delay",
            "nas_delay",
            "security_delay",
            "late_aircraft_delay"
           ],
           "xaxis": "x",
           "y": [
            603,
            0,
            0,
            6,
            33
           ],
           "yaxis": "y"
          },
          {
           "hovertemplate": "carrier=MQ<br>day=27<br>variable=%{x}<br>value=%{marker.size}<extra></extra>",
           "legendgroup": "MQ",
           "marker": {
            "color": "#636efa",
            "size": [
             9804,
             2723,
             5898,
             0,
             15752
            ],
            "sizemode": "area",
            "sizeref": 87.5575,
            "symbol": "circle"
           },
           "mode": "markers",
           "name": "MQ",
           "orientation": "v",
           "showlegend": true,
           "type": "scatter",
           "x": [
            "carrier_delay",
            "weather_delay",
            "nas_delay",
            "security_delay",
            "late_aircraft_delay"
           ],
           "xaxis": "x",
           "y": [
            9804,
            2723,
            5898,
            0,
            15752
           ],
           "yaxis": "y"
          },
          {
           "hovertemplate": "carrier=NW<br>day=27<br>variable=%{x}<br>value=%{marker.size}<extra></extra>",
           "legendgroup": "NW",
           "marker": {
            "color": "#EF553B",
            "size": [
             7152,
             129,
             2587,
             6,
             2648
            ],
            "sizemode": "area",
            "sizeref": 87.5575,
            "symbol": "circle"
           },
           "mode": "markers",
           "name": "NW",
           "orientation": "v",
           "showlegend": true,
           "type": "scatter",
           "x": [
            "carrier_delay",
            "weather_delay",
            "nas_delay",
            "security_delay",
            "late_aircraft_delay"
           ],
           "xaxis": "x",
           "y": [
            7152,
            129,
            2587,
            6,
            2648
           ],
           "yaxis": "y"
          },
          {
           "hovertemplate": "carrier=OH<br>day=27<br>variable=%{x}<br>value=%{marker.size}<extra></extra>",
           "legendgroup": "OH",
           "marker": {
            "color": "#00cc96",
            "size": [
             4171,
             1897,
             2437,
             0,
             1466
            ],
            "sizemode": "area",
            "sizeref": 87.5575,
            "symbol": "circle"
           },
           "mode": "markers",
           "name": "OH",
           "orientation": "v",
           "showlegend": true,
           "type": "scatter",
           "x": [
            "carrier_delay",
            "weather_delay",
            "nas_delay",
            "security_delay",
            "late_aircraft_delay"
           ],
           "xaxis": "x",
           "y": [
            4171,
            1897,
            2437,
            0,
            1466
           ],
           "yaxis": "y"
          },
          {
           "hovertemplate": "carrier=OO<br>day=27<br>variable=%{x}<br>value=%{marker.size}<extra></extra>",
           "legendgroup": "OO",
           "marker": {
            "color": "#ab63fa",
            "size": [
             11093,
             101,
             3825,
             127,
             16065
            ],
            "sizemode": "area",
            "sizeref": 87.5575,
            "symbol": "circle"
           },
           "mode": "markers",
           "name": "OO",
           "orientation": "v",
           "showlegend": true,
           "type": "scatter",
           "x": [
            "carrier_delay",
            "weather_delay",
            "nas_delay",
            "security_delay",
            "late_aircraft_delay"
           ],
           "xaxis": "x",
           "y": [
            11093,
            101,
            3825,
            127,
            16065
           ],
           "yaxis": "y"
          },
          {
           "hovertemplate": "carrier=UA<br>day=27<br>variable=%{x}<br>value=%{marker.size}<extra></extra>",
           "legendgroup": "UA",
           "marker": {
            "color": "#FFA15A",
            "size": [
             2440,
             204,
             592,
             0,
             4601
            ],
            "sizemode": "area",
            "sizeref": 87.5575,
            "symbol": "circle"
           },
           "mode": "markers",
           "name": "UA",
           "orientation": "v",
           "showlegend": true,
           "type": "scatter",
           "x": [
            "carrier_delay",
            "weather_delay",
            "nas_delay",
            "security_delay",
            "late_aircraft_delay"
           ],
           "xaxis": "x",
           "y": [
            2440,
            204,
            592,
            0,
            4601
           ],
           "yaxis": "y"
          },
          {
           "hovertemplate": "carrier=US<br>day=27<br>variable=%{x}<br>value=%{marker.size}<extra></extra>",
           "legendgroup": "US",
           "marker": {
            "color": "#19d3f3",
            "size": [
             2440,
             0,
             1765,
             41,
             2333
            ],
            "sizemode": "area",
            "sizeref": 87.5575,
            "symbol": "circle"
           },
           "mode": "markers",
           "name": "US",
           "orientation": "v",
           "showlegend": true,
           "type": "scatter",
           "x": [
            "carrier_delay",
            "weather_delay",
            "nas_delay",
            "security_delay",
            "late_aircraft_delay"
           ],
           "xaxis": "x",
           "y": [
            2440,
            0,
            1765,
            41,
            2333
           ],
           "yaxis": "y"
          },
          {
           "hovertemplate": "carrier=WN<br>day=27<br>variable=%{x}<br>value=%{marker.size}<extra></extra>",
           "legendgroup": "WN",
           "marker": {
            "color": "#FF6692",
            "size": [
             11644,
             655,
             3743,
             143,
             22497
            ],
            "sizemode": "area",
            "sizeref": 87.5575,
            "symbol": "circle"
           },
           "mode": "markers",
           "name": "WN",
           "orientation": "v",
           "showlegend": true,
           "type": "scatter",
           "x": [
            "carrier_delay",
            "weather_delay",
            "nas_delay",
            "security_delay",
            "late_aircraft_delay"
           ],
           "xaxis": "x",
           "y": [
            11644,
            655,
            3743,
            143,
            22497
           ],
           "yaxis": "y"
          },
          {
           "hovertemplate": "carrier=XE<br>day=27<br>variable=%{x}<br>value=%{marker.size}<extra></extra>",
           "legendgroup": "XE",
           "marker": {
            "color": "#B6E880",
            "size": [
             5683,
             140,
             4567,
             94,
             7856
            ],
            "sizemode": "area",
            "sizeref": 87.5575,
            "symbol": "circle"
           },
           "mode": "markers",
           "name": "XE",
           "orientation": "v",
           "showlegend": true,
           "type": "scatter",
           "x": [
            "carrier_delay",
            "weather_delay",
            "nas_delay",
            "security_delay",
            "late_aircraft_delay"
           ],
           "xaxis": "x",
           "y": [
            5683,
            140,
            4567,
            94,
            7856
           ],
           "yaxis": "y"
          },
          {
           "hovertemplate": "carrier=YV<br>day=27<br>variable=%{x}<br>value=%{marker.size}<extra></extra>",
           "legendgroup": "YV",
           "marker": {
            "color": "#FF97FF",
            "size": [
             17131,
             647,
             1580,
             0,
             151
            ],
            "sizemode": "area",
            "sizeref": 87.5575,
            "symbol": "circle"
           },
           "mode": "markers",
           "name": "YV",
           "orientation": "v",
           "showlegend": true,
           "type": "scatter",
           "x": [
            "carrier_delay",
            "weather_delay",
            "nas_delay",
            "security_delay",
            "late_aircraft_delay"
           ],
           "xaxis": "x",
           "y": [
            17131,
            647,
            1580,
            0,
            151
           ],
           "yaxis": "y"
          }
         ],
         "name": "27"
        },
        {
         "data": [
          {
           "hovertemplate": "carrier=9E<br>day=28<br>variable=%{x}<br>value=%{marker.size}<extra></extra>",
           "legendgroup": "9E",
           "marker": {
            "color": "#636efa",
            "size": [
             3303,
             676,
             4680,
             22,
             5811
            ],
            "sizemode": "area",
            "sizeref": 87.5575,
            "symbol": "circle"
           },
           "mode": "markers",
           "name": "9E",
           "orientation": "v",
           "showlegend": true,
           "type": "scatter",
           "x": [
            "carrier_delay",
            "weather_delay",
            "nas_delay",
            "security_delay",
            "late_aircraft_delay"
           ],
           "xaxis": "x",
           "y": [
            3303,
            676,
            4680,
            22,
            5811
           ],
           "yaxis": "y"
          },
          {
           "hovertemplate": "carrier=AA<br>day=28<br>variable=%{x}<br>value=%{marker.size}<extra></extra>",
           "legendgroup": "AA",
           "marker": {
            "color": "#EF553B",
            "size": [
             6980,
             67,
             1536,
             40,
             4534
            ],
            "sizemode": "area",
            "sizeref": 87.5575,
            "symbol": "circle"
           },
           "mode": "markers",
           "name": "AA",
           "orientation": "v",
           "showlegend": true,
           "type": "scatter",
           "x": [
            "carrier_delay",
            "weather_delay",
            "nas_delay",
            "security_delay",
            "late_aircraft_delay"
           ],
           "xaxis": "x",
           "y": [
            6980,
            67,
            1536,
            40,
            4534
           ],
           "yaxis": "y"
          },
          {
           "hovertemplate": "carrier=AS<br>day=28<br>variable=%{x}<br>value=%{marker.size}<extra></extra>",
           "legendgroup": "AS",
           "marker": {
            "color": "#00cc96",
            "size": [
             1144,
             49,
             147,
             0,
             717
            ],
            "sizemode": "area",
            "sizeref": 87.5575,
            "symbol": "circle"
           },
           "mode": "markers",
           "name": "AS",
           "orientation": "v",
           "showlegend": true,
           "type": "scatter",
           "x": [
            "carrier_delay",
            "weather_delay",
            "nas_delay",
            "security_delay",
            "late_aircraft_delay"
           ],
           "xaxis": "x",
           "y": [
            1144,
            49,
            147,
            0,
            717
           ],
           "yaxis": "y"
          },
          {
           "hovertemplate": "carrier=B6<br>day=28<br>variable=%{x}<br>value=%{marker.size}<extra></extra>",
           "legendgroup": "B6",
           "marker": {
            "color": "#ab63fa",
            "size": [
             3594,
             0,
             1435,
             8,
             3191
            ],
            "sizemode": "area",
            "sizeref": 87.5575,
            "symbol": "circle"
           },
           "mode": "markers",
           "name": "B6",
           "orientation": "v",
           "showlegend": true,
           "type": "scatter",
           "x": [
            "carrier_delay",
            "weather_delay",
            "nas_delay",
            "security_delay",
            "late_aircraft_delay"
           ],
           "xaxis": "x",
           "y": [
            3594,
            0,
            1435,
            8,
            3191
           ],
           "yaxis": "y"
          },
          {
           "hovertemplate": "carrier=CO<br>day=28<br>variable=%{x}<br>value=%{marker.size}<extra></extra>",
           "legendgroup": "CO",
           "marker": {
            "color": "#FFA15A",
            "size": [
             1483,
             16,
             562,
             129,
             1061
            ],
            "sizemode": "area",
            "sizeref": 87.5575,
            "symbol": "circle"
           },
           "mode": "markers",
           "name": "CO",
           "orientation": "v",
           "showlegend": true,
           "type": "scatter",
           "x": [
            "carrier_delay",
            "weather_delay",
            "nas_delay",
            "security_delay",
            "late_aircraft_delay"
           ],
           "xaxis": "x",
           "y": [
            1483,
            16,
            562,
            129,
            1061
           ],
           "yaxis": "y"
          },
          {
           "hovertemplate": "carrier=DL<br>day=28<br>variable=%{x}<br>value=%{marker.size}<extra></extra>",
           "legendgroup": "DL",
           "marker": {
            "color": "#19d3f3",
            "size": [
             2146,
             8,
             1287,
             0,
             589
            ],
            "sizemode": "area",
            "sizeref": 87.5575,
            "symbol": "circle"
           },
           "mode": "markers",
           "name": "DL",
           "orientation": "v",
           "showlegend": true,
           "type": "scatter",
           "x": [
            "carrier_delay",
            "weather_delay",
            "nas_delay",
            "security_delay",
            "late_aircraft_delay"
           ],
           "xaxis": "x",
           "y": [
            2146,
            8,
            1287,
            0,
            589
           ],
           "yaxis": "y"
          },
          {
           "hovertemplate": "carrier=EV<br>day=28<br>variable=%{x}<br>value=%{marker.size}<extra></extra>",
           "legendgroup": "EV",
           "marker": {
            "color": "#FF6692",
            "size": [
             2557,
             49,
             1036,
             0,
             2109
            ],
            "sizemode": "area",
            "sizeref": 87.5575,
            "symbol": "circle"
           },
           "mode": "markers",
           "name": "EV",
           "orientation": "v",
           "showlegend": true,
           "type": "scatter",
           "x": [
            "carrier_delay",
            "weather_delay",
            "nas_delay",
            "security_delay",
            "late_aircraft_delay"
           ],
           "xaxis": "x",
           "y": [
            2557,
            49,
            1036,
            0,
            2109
           ],
           "yaxis": "y"
          },
          {
           "hovertemplate": "carrier=F9<br>day=28<br>variable=%{x}<br>value=%{marker.size}<extra></extra>",
           "legendgroup": "F9",
           "marker": {
            "color": "#B6E880",
            "size": [
             311,
             5,
             191,
             0,
             502
            ],
            "sizemode": "area",
            "sizeref": 87.5575,
            "symbol": "circle"
           },
           "mode": "markers",
           "name": "F9",
           "orientation": "v",
           "showlegend": true,
           "type": "scatter",
           "x": [
            "carrier_delay",
            "weather_delay",
            "nas_delay",
            "security_delay",
            "late_aircraft_delay"
           ],
           "xaxis": "x",
           "y": [
            311,
            5,
            191,
            0,
            502
           ],
           "yaxis": "y"
          },
          {
           "hovertemplate": "carrier=FL<br>day=28<br>variable=%{x}<br>value=%{marker.size}<extra></extra>",
           "legendgroup": "FL",
           "marker": {
            "color": "#FF97FF",
            "size": [
             2395,
             148,
             1483,
             0,
             5469
            ],
            "sizemode": "area",
            "sizeref": 87.5575,
            "symbol": "circle"
           },
           "mode": "markers",
           "name": "FL",
           "orientation": "v",
           "showlegend": true,
           "type": "scatter",
           "x": [
            "carrier_delay",
            "weather_delay",
            "nas_delay",
            "security_delay",
            "late_aircraft_delay"
           ],
           "xaxis": "x",
           "y": [
            2395,
            148,
            1483,
            0,
            5469
           ],
           "yaxis": "y"
          },
          {
           "hovertemplate": "carrier=HA<br>day=28<br>variable=%{x}<br>value=%{marker.size}<extra></extra>",
           "legendgroup": "HA",
           "marker": {
            "color": "#FECB52",
            "size": [
             386,
             0,
             0,
             0,
             68
            ],
            "sizemode": "area",
            "sizeref": 87.5575,
            "symbol": "circle"
           },
           "mode": "markers",
           "name": "HA",
           "orientation": "v",
           "showlegend": true,
           "type": "scatter",
           "x": [
            "carrier_delay",
            "weather_delay",
            "nas_delay",
            "security_delay",
            "late_aircraft_delay"
           ],
           "xaxis": "x",
           "y": [
            386,
            0,
            0,
            0,
            68
           ],
           "yaxis": "y"
          },
          {
           "hovertemplate": "carrier=MQ<br>day=28<br>variable=%{x}<br>value=%{marker.size}<extra></extra>",
           "legendgroup": "MQ",
           "marker": {
            "color": "#636efa",
            "size": [
             5962,
             2310,
             2748,
             10,
             6614
            ],
            "sizemode": "area",
            "sizeref": 87.5575,
            "symbol": "circle"
           },
           "mode": "markers",
           "name": "MQ",
           "orientation": "v",
           "showlegend": true,
           "type": "scatter",
           "x": [
            "carrier_delay",
            "weather_delay",
            "nas_delay",
            "security_delay",
            "late_aircraft_delay"
           ],
           "xaxis": "x",
           "y": [
            5962,
            2310,
            2748,
            10,
            6614
           ],
           "yaxis": "y"
          },
          {
           "hovertemplate": "carrier=NW<br>day=28<br>variable=%{x}<br>value=%{marker.size}<extra></extra>",
           "legendgroup": "NW",
           "marker": {
            "color": "#EF553B",
            "size": [
             5704,
             395,
             2916,
             15,
             4276
            ],
            "sizemode": "area",
            "sizeref": 87.5575,
            "symbol": "circle"
           },
           "mode": "markers",
           "name": "NW",
           "orientation": "v",
           "showlegend": true,
           "type": "scatter",
           "x": [
            "carrier_delay",
            "weather_delay",
            "nas_delay",
            "security_delay",
            "late_aircraft_delay"
           ],
           "xaxis": "x",
           "y": [
            5704,
            395,
            2916,
            15,
            4276
           ],
           "yaxis": "y"
          },
          {
           "hovertemplate": "carrier=OH<br>day=28<br>variable=%{x}<br>value=%{marker.size}<extra></extra>",
           "legendgroup": "OH",
           "marker": {
            "color": "#00cc96",
            "size": [
             6204,
             1507,
             2643,
             0,
             2635
            ],
            "sizemode": "area",
            "sizeref": 87.5575,
            "symbol": "circle"
           },
           "mode": "markers",
           "name": "OH",
           "orientation": "v",
           "showlegend": true,
           "type": "scatter",
           "x": [
            "carrier_delay",
            "weather_delay",
            "nas_delay",
            "security_delay",
            "late_aircraft_delay"
           ],
           "xaxis": "x",
           "y": [
            6204,
            1507,
            2643,
            0,
            2635
           ],
           "yaxis": "y"
          },
          {
           "hovertemplate": "carrier=OO<br>day=28<br>variable=%{x}<br>value=%{marker.size}<extra></extra>",
           "legendgroup": "OO",
           "marker": {
            "color": "#ab63fa",
            "size": [
             6039,
             276,
             3597,
             22,
             9677
            ],
            "sizemode": "area",
            "sizeref": 87.5575,
            "symbol": "circle"
           },
           "mode": "markers",
           "name": "OO",
           "orientation": "v",
           "showlegend": true,
           "type": "scatter",
           "x": [
            "carrier_delay",
            "weather_delay",
            "nas_delay",
            "security_delay",
            "late_aircraft_delay"
           ],
           "xaxis": "x",
           "y": [
            6039,
            276,
            3597,
            22,
            9677
           ],
           "yaxis": "y"
          },
          {
           "hovertemplate": "carrier=UA<br>day=28<br>variable=%{x}<br>value=%{marker.size}<extra></extra>",
           "legendgroup": "UA",
           "marker": {
            "color": "#FFA15A",
            "size": [
             2618,
             69,
             361,
             0,
             1424
            ],
            "sizemode": "area",
            "sizeref": 87.5575,
            "symbol": "circle"
           },
           "mode": "markers",
           "name": "UA",
           "orientation": "v",
           "showlegend": true,
           "type": "scatter",
           "x": [
            "carrier_delay",
            "weather_delay",
            "nas_delay",
            "security_delay",
            "late_aircraft_delay"
           ],
           "xaxis": "x",
           "y": [
            2618,
            69,
            361,
            0,
            1424
           ],
           "yaxis": "y"
          },
          {
           "hovertemplate": "carrier=US<br>day=28<br>variable=%{x}<br>value=%{marker.size}<extra></extra>",
           "legendgroup": "US",
           "marker": {
            "color": "#19d3f3",
            "size": [
             2201,
             76,
             2196,
             3,
             2852
            ],
            "sizemode": "area",
            "sizeref": 87.5575,
            "symbol": "circle"
           },
           "mode": "markers",
           "name": "US",
           "orientation": "v",
           "showlegend": true,
           "type": "scatter",
           "x": [
            "carrier_delay",
            "weather_delay",
            "nas_delay",
            "security_delay",
            "late_aircraft_delay"
           ],
           "xaxis": "x",
           "y": [
            2201,
            76,
            2196,
            3,
            2852
           ],
           "yaxis": "y"
          },
          {
           "hovertemplate": "carrier=WN<br>day=28<br>variable=%{x}<br>value=%{marker.size}<extra></extra>",
           "legendgroup": "WN",
           "marker": {
            "color": "#FF6692",
            "size": [
             10117,
             811,
             2451,
             178,
             16095
            ],
            "sizemode": "area",
            "sizeref": 87.5575,
            "symbol": "circle"
           },
           "mode": "markers",
           "name": "WN",
           "orientation": "v",
           "showlegend": true,
           "type": "scatter",
           "x": [
            "carrier_delay",
            "weather_delay",
            "nas_delay",
            "security_delay",
            "late_aircraft_delay"
           ],
           "xaxis": "x",
           "y": [
            10117,
            811,
            2451,
            178,
            16095
           ],
           "yaxis": "y"
          },
          {
           "hovertemplate": "carrier=XE<br>day=28<br>variable=%{x}<br>value=%{marker.size}<extra></extra>",
           "legendgroup": "XE",
           "marker": {
            "color": "#B6E880",
            "size": [
             3729,
             148,
             3499,
             163,
             5387
            ],
            "sizemode": "area",
            "sizeref": 87.5575,
            "symbol": "circle"
           },
           "mode": "markers",
           "name": "XE",
           "orientation": "v",
           "showlegend": true,
           "type": "scatter",
           "x": [
            "carrier_delay",
            "weather_delay",
            "nas_delay",
            "security_delay",
            "late_aircraft_delay"
           ],
           "xaxis": "x",
           "y": [
            3729,
            148,
            3499,
            163,
            5387
           ],
           "yaxis": "y"
          },
          {
           "hovertemplate": "carrier=YV<br>day=28<br>variable=%{x}<br>value=%{marker.size}<extra></extra>",
           "legendgroup": "YV",
           "marker": {
            "color": "#FF97FF",
            "size": [
             14820,
             454,
             604,
             0,
             48
            ],
            "sizemode": "area",
            "sizeref": 87.5575,
            "symbol": "circle"
           },
           "mode": "markers",
           "name": "YV",
           "orientation": "v",
           "showlegend": true,
           "type": "scatter",
           "x": [
            "carrier_delay",
            "weather_delay",
            "nas_delay",
            "security_delay",
            "late_aircraft_delay"
           ],
           "xaxis": "x",
           "y": [
            14820,
            454,
            604,
            0,
            48
           ],
           "yaxis": "y"
          }
         ],
         "name": "28"
        },
        {
         "data": [
          {
           "hovertemplate": "carrier=9E<br>day=29<br>variable=%{x}<br>value=%{marker.size}<extra></extra>",
           "legendgroup": "9E",
           "marker": {
            "color": "#636efa",
            "size": [
             2801,
             109,
             1610,
             0,
             2103
            ],
            "sizemode": "area",
            "sizeref": 87.5575,
            "symbol": "circle"
           },
           "mode": "markers",
           "name": "9E",
           "orientation": "v",
           "showlegend": true,
           "type": "scatter",
           "x": [
            "carrier_delay",
            "weather_delay",
            "nas_delay",
            "security_delay",
            "late_aircraft_delay"
           ],
           "xaxis": "x",
           "y": [
            2801,
            109,
            1610,
            0,
            2103
           ],
           "yaxis": "y"
          },
          {
           "hovertemplate": "carrier=AA<br>day=29<br>variable=%{x}<br>value=%{marker.size}<extra></extra>",
           "legendgroup": "AA",
           "marker": {
            "color": "#EF553B",
            "size": [
             4831,
             3250,
             15710,
             0,
             12186
            ],
            "sizemode": "area",
            "sizeref": 87.5575,
            "symbol": "circle"
           },
           "mode": "markers",
           "name": "AA",
           "orientation": "v",
           "showlegend": true,
           "type": "scatter",
           "x": [
            "carrier_delay",
            "weather_delay",
            "nas_delay",
            "security_delay",
            "late_aircraft_delay"
           ],
           "xaxis": "x",
           "y": [
            4831,
            3250,
            15710,
            0,
            12186
           ],
           "yaxis": "y"
          },
          {
           "hovertemplate": "carrier=AS<br>day=29<br>variable=%{x}<br>value=%{marker.size}<extra></extra>",
           "legendgroup": "AS",
           "marker": {
            "color": "#00cc96",
            "size": [
             439,
             480,
             774,
             0,
             952
            ],
            "sizemode": "area",
            "sizeref": 87.5575,
            "symbol": "circle"
           },
           "mode": "markers",
           "name": "AS",
           "orientation": "v",
           "showlegend": true,
           "type": "scatter",
           "x": [
            "carrier_delay",
            "weather_delay",
            "nas_delay",
            "security_delay",
            "late_aircraft_delay"
           ],
           "xaxis": "x",
           "y": [
            439,
            480,
            774,
            0,
            952
           ],
           "yaxis": "y"
          },
          {
           "hovertemplate": "carrier=B6<br>day=29<br>variable=%{x}<br>value=%{marker.size}<extra></extra>",
           "legendgroup": "B6",
           "marker": {
            "color": "#ab63fa",
            "size": [
             4903,
             380,
             4325,
             9,
             10008
            ],
            "sizemode": "area",
            "sizeref": 87.5575,
            "symbol": "circle"
           },
           "mode": "markers",
           "name": "B6",
           "orientation": "v",
           "showlegend": true,
           "type": "scatter",
           "x": [
            "carrier_delay",
            "weather_delay",
            "nas_delay",
            "security_delay",
            "late_aircraft_delay"
           ],
           "xaxis": "x",
           "y": [
            4903,
            380,
            4325,
            9,
            10008
           ],
           "yaxis": "y"
          },
          {
           "hovertemplate": "carrier=CO<br>day=29<br>variable=%{x}<br>value=%{marker.size}<extra></extra>",
           "legendgroup": "CO",
           "marker": {
            "color": "#FFA15A",
            "size": [
             2107,
             797,
             5459,
             98,
             3691
            ],
            "sizemode": "area",
            "sizeref": 87.5575,
            "symbol": "circle"
           },
           "mode": "markers",
           "name": "CO",
           "orientation": "v",
           "showlegend": true,
           "type": "scatter",
           "x": [
            "carrier_delay",
            "weather_delay",
            "nas_delay",
            "security_delay",
            "late_aircraft_delay"
           ],
           "xaxis": "x",
           "y": [
            2107,
            797,
            5459,
            98,
            3691
           ],
           "yaxis": "y"
          },
          {
           "hovertemplate": "carrier=DL<br>day=29<br>variable=%{x}<br>value=%{marker.size}<extra></extra>",
           "legendgroup": "DL",
           "marker": {
            "color": "#19d3f3",
            "size": [
             4379,
             454,
             3615,
             0,
             2015
            ],
            "sizemode": "area",
            "sizeref": 87.5575,
            "symbol": "circle"
           },
           "mode": "markers",
           "name": "DL",
           "orientation": "v",
           "showlegend": true,
           "type": "scatter",
           "x": [
            "carrier_delay",
            "weather_delay",
            "nas_delay",
            "security_delay",
            "late_aircraft_delay"
           ],
           "xaxis": "x",
           "y": [
            4379,
            454,
            3615,
            0,
            2015
           ],
           "yaxis": "y"
          },
          {
           "hovertemplate": "carrier=EV<br>day=29<br>variable=%{x}<br>value=%{marker.size}<extra></extra>",
           "legendgroup": "EV",
           "marker": {
            "color": "#FF6692",
            "size": [
             1664,
             1,
             756,
             0,
             1503
            ],
            "sizemode": "area",
            "sizeref": 87.5575,
            "symbol": "circle"
           },
           "mode": "markers",
           "name": "EV",
           "orientation": "v",
           "showlegend": true,
           "type": "scatter",
           "x": [
            "carrier_delay",
            "weather_delay",
            "nas_delay",
            "security_delay",
            "late_aircraft_delay"
           ],
           "xaxis": "x",
           "y": [
            1664,
            1,
            756,
            0,
            1503
           ],
           "yaxis": "y"
          },
          {
           "hovertemplate": "carrier=F9<br>day=29<br>variable=%{x}<br>value=%{marker.size}<extra></extra>",
           "legendgroup": "F9",
           "marker": {
            "color": "#B6E880",
            "size": [
             497,
             8,
             413,
             0,
             783
            ],
            "sizemode": "area",
            "sizeref": 87.5575,
            "symbol": "circle"
           },
           "mode": "markers",
           "name": "F9",
           "orientation": "v",
           "showlegend": true,
           "type": "scatter",
           "x": [
            "carrier_delay",
            "weather_delay",
            "nas_delay",
            "security_delay",
            "late_aircraft_delay"
           ],
           "xaxis": "x",
           "y": [
            497,
            8,
            413,
            0,
            783
           ],
           "yaxis": "y"
          },
          {
           "hovertemplate": "carrier=FL<br>day=29<br>variable=%{x}<br>value=%{marker.size}<extra></extra>",
           "legendgroup": "FL",
           "marker": {
            "color": "#FF97FF",
            "size": [
             1927,
             0,
             788,
             0,
             3339
            ],
            "sizemode": "area",
            "sizeref": 87.5575,
            "symbol": "circle"
           },
           "mode": "markers",
           "name": "FL",
           "orientation": "v",
           "showlegend": true,
           "type": "scatter",
           "x": [
            "carrier_delay",
            "weather_delay",
            "nas_delay",
            "security_delay",
            "late_aircraft_delay"
           ],
           "xaxis": "x",
           "y": [
            1927,
            0,
            788,
            0,
            3339
           ],
           "yaxis": "y"
          },
          {
           "hovertemplate": "carrier=HA<br>day=29<br>variable=%{x}<br>value=%{marker.size}<extra></extra>",
           "legendgroup": "HA",
           "marker": {
            "color": "#FECB52",
            "size": [
             491,
             0,
             0,
             0,
             45
            ],
            "sizemode": "area",
            "sizeref": 87.5575,
            "symbol": "circle"
           },
           "mode": "markers",
           "name": "HA",
           "orientation": "v",
           "showlegend": true,
           "type": "scatter",
           "x": [
            "carrier_delay",
            "weather_delay",
            "nas_delay",
            "security_delay",
            "late_aircraft_delay"
           ],
           "xaxis": "x",
           "y": [
            491,
            0,
            0,
            0,
            45
           ],
           "yaxis": "y"
          },
          {
           "hovertemplate": "carrier=MQ<br>day=29<br>variable=%{x}<br>value=%{marker.size}<extra></extra>",
           "legendgroup": "MQ",
           "marker": {
            "color": "#636efa",
            "size": [
             3223,
             1827,
             2917,
             0,
             4664
            ],
            "sizemode": "area",
            "sizeref": 87.5575,
            "symbol": "circle"
           },
           "mode": "markers",
           "name": "MQ",
           "orientation": "v",
           "showlegend": true,
           "type": "scatter",
           "x": [
            "carrier_delay",
            "weather_delay",
            "nas_delay",
            "security_delay",
            "late_aircraft_delay"
           ],
           "xaxis": "x",
           "y": [
            3223,
            1827,
            2917,
            0,
            4664
           ],
           "yaxis": "y"
          },
          {
           "hovertemplate": "carrier=NW<br>day=29<br>variable=%{x}<br>value=%{marker.size}<extra></extra>",
           "legendgroup": "NW",
           "marker": {
            "color": "#EF553B",
            "size": [
             3991,
             400,
             846,
             0,
             1523
            ],
            "sizemode": "area",
            "sizeref": 87.5575,
            "symbol": "circle"
           },
           "mode": "markers",
           "name": "NW",
           "orientation": "v",
           "showlegend": true,
           "type": "scatter",
           "x": [
            "carrier_delay",
            "weather_delay",
            "nas_delay",
            "security_delay",
            "late_aircraft_delay"
           ],
           "xaxis": "x",
           "y": [
            3991,
            400,
            846,
            0,
            1523
           ],
           "yaxis": "y"
          },
          {
           "hovertemplate": "carrier=OH<br>day=29<br>variable=%{x}<br>value=%{marker.size}<extra></extra>",
           "legendgroup": "OH",
           "marker": {
            "color": "#00cc96",
            "size": [
             4763,
             1300,
             2934,
             0,
             1276
            ],
            "sizemode": "area",
            "sizeref": 87.5575,
            "symbol": "circle"
           },
           "mode": "markers",
           "name": "OH",
           "orientation": "v",
           "showlegend": true,
           "type": "scatter",
           "x": [
            "carrier_delay",
            "weather_delay",
            "nas_delay",
            "security_delay",
            "late_aircraft_delay"
           ],
           "xaxis": "x",
           "y": [
            4763,
            1300,
            2934,
            0,
            1276
           ],
           "yaxis": "y"
          },
          {
           "hovertemplate": "carrier=OO<br>day=29<br>variable=%{x}<br>value=%{marker.size}<extra></extra>",
           "legendgroup": "OO",
           "marker": {
            "color": "#ab63fa",
            "size": [
             6101,
             456,
             8884,
             46,
             15457
            ],
            "sizemode": "area",
            "sizeref": 87.5575,
            "symbol": "circle"
           },
           "mode": "markers",
           "name": "OO",
           "orientation": "v",
           "showlegend": true,
           "type": "scatter",
           "x": [
            "carrier_delay",
            "weather_delay",
            "nas_delay",
            "security_delay",
            "late_aircraft_delay"
           ],
           "xaxis": "x",
           "y": [
            6101,
            456,
            8884,
            46,
            15457
           ],
           "yaxis": "y"
          },
          {
           "hovertemplate": "carrier=UA<br>day=29<br>variable=%{x}<br>value=%{marker.size}<extra></extra>",
           "legendgroup": "UA",
           "marker": {
            "color": "#FFA15A",
            "size": [
             2567,
             218,
             1188,
             0,
             2548
            ],
            "sizemode": "area",
            "sizeref": 87.5575,
            "symbol": "circle"
           },
           "mode": "markers",
           "name": "UA",
           "orientation": "v",
           "showlegend": true,
           "type": "scatter",
           "x": [
            "carrier_delay",
            "weather_delay",
            "nas_delay",
            "security_delay",
            "late_aircraft_delay"
           ],
           "xaxis": "x",
           "y": [
            2567,
            218,
            1188,
            0,
            2548
           ],
           "yaxis": "y"
          },
          {
           "hovertemplate": "carrier=US<br>day=29<br>variable=%{x}<br>value=%{marker.size}<extra></extra>",
           "legendgroup": "US",
           "marker": {
            "color": "#19d3f3",
            "size": [
             2491,
             185,
             3280,
             0,
             3548
            ],
            "sizemode": "area",
            "sizeref": 87.5575,
            "symbol": "circle"
           },
           "mode": "markers",
           "name": "US",
           "orientation": "v",
           "showlegend": true,
           "type": "scatter",
           "x": [
            "carrier_delay",
            "weather_delay",
            "nas_delay",
            "security_delay",
            "late_aircraft_delay"
           ],
           "xaxis": "x",
           "y": [
            2491,
            185,
            3280,
            0,
            3548
           ],
           "yaxis": "y"
          },
          {
           "hovertemplate": "carrier=WN<br>day=29<br>variable=%{x}<br>value=%{marker.size}<extra></extra>",
           "legendgroup": "WN",
           "marker": {
            "color": "#FF6692",
            "size": [
             9275,
             869,
             2527,
             60,
             12978
            ],
            "sizemode": "area",
            "sizeref": 87.5575,
            "symbol": "circle"
           },
           "mode": "markers",
           "name": "WN",
           "orientation": "v",
           "showlegend": true,
           "type": "scatter",
           "x": [
            "carrier_delay",
            "weather_delay",
            "nas_delay",
            "security_delay",
            "late_aircraft_delay"
           ],
           "xaxis": "x",
           "y": [
            9275,
            869,
            2527,
            60,
            12978
           ],
           "yaxis": "y"
          },
          {
           "hovertemplate": "carrier=XE<br>day=29<br>variable=%{x}<br>value=%{marker.size}<extra></extra>",
           "legendgroup": "XE",
           "marker": {
            "color": "#B6E880",
            "size": [
             4808,
             842,
             9675,
             9,
             11564
            ],
            "sizemode": "area",
            "sizeref": 87.5575,
            "symbol": "circle"
           },
           "mode": "markers",
           "name": "XE",
           "orientation": "v",
           "showlegend": true,
           "type": "scatter",
           "x": [
            "carrier_delay",
            "weather_delay",
            "nas_delay",
            "security_delay",
            "late_aircraft_delay"
           ],
           "xaxis": "x",
           "y": [
            4808,
            842,
            9675,
            9,
            11564
           ],
           "yaxis": "y"
          },
          {
           "hovertemplate": "carrier=YV<br>day=29<br>variable=%{x}<br>value=%{marker.size}<extra></extra>",
           "legendgroup": "YV",
           "marker": {
            "color": "#FF97FF",
            "size": [
             4949,
             91,
             712,
             90,
             52
            ],
            "sizemode": "area",
            "sizeref": 87.5575,
            "symbol": "circle"
           },
           "mode": "markers",
           "name": "YV",
           "orientation": "v",
           "showlegend": true,
           "type": "scatter",
           "x": [
            "carrier_delay",
            "weather_delay",
            "nas_delay",
            "security_delay",
            "late_aircraft_delay"
           ],
           "xaxis": "x",
           "y": [
            4949,
            91,
            712,
            90,
            52
           ],
           "yaxis": "y"
          }
         ],
         "name": "29"
        },
        {
         "data": [
          {
           "hovertemplate": "carrier=9E<br>day=30<br>variable=%{x}<br>value=%{marker.size}<extra></extra>",
           "legendgroup": "9E",
           "marker": {
            "color": "#636efa",
            "size": [
             2378,
             6,
             3069,
             0,
             1925
            ],
            "sizemode": "area",
            "sizeref": 87.5575,
            "symbol": "circle"
           },
           "mode": "markers",
           "name": "9E",
           "orientation": "v",
           "showlegend": true,
           "type": "scatter",
           "x": [
            "carrier_delay",
            "weather_delay",
            "nas_delay",
            "security_delay",
            "late_aircraft_delay"
           ],
           "xaxis": "x",
           "y": [
            2378,
            6,
            3069,
            0,
            1925
           ],
           "yaxis": "y"
          },
          {
           "hovertemplate": "carrier=AA<br>day=30<br>variable=%{x}<br>value=%{marker.size}<extra></extra>",
           "legendgroup": "AA",
           "marker": {
            "color": "#EF553B",
            "size": [
             8422,
             1742,
             6328,
             104,
             7711
            ],
            "sizemode": "area",
            "sizeref": 87.5575,
            "symbol": "circle"
           },
           "mode": "markers",
           "name": "AA",
           "orientation": "v",
           "showlegend": true,
           "type": "scatter",
           "x": [
            "carrier_delay",
            "weather_delay",
            "nas_delay",
            "security_delay",
            "late_aircraft_delay"
           ],
           "xaxis": "x",
           "y": [
            8422,
            1742,
            6328,
            104,
            7711
           ],
           "yaxis": "y"
          },
          {
           "hovertemplate": "carrier=AS<br>day=30<br>variable=%{x}<br>value=%{marker.size}<extra></extra>",
           "legendgroup": "AS",
           "marker": {
            "color": "#00cc96",
            "size": [
             940,
             20,
             672,
             0,
             576
            ],
            "sizemode": "area",
            "sizeref": 87.5575,
            "symbol": "circle"
           },
           "mode": "markers",
           "name": "AS",
           "orientation": "v",
           "showlegend": true,
           "type": "scatter",
           "x": [
            "carrier_delay",
            "weather_delay",
            "nas_delay",
            "security_delay",
            "late_aircraft_delay"
           ],
           "xaxis": "x",
           "y": [
            940,
            20,
            672,
            0,
            576
           ],
           "yaxis": "y"
          },
          {
           "hovertemplate": "carrier=B6<br>day=30<br>variable=%{x}<br>value=%{marker.size}<extra></extra>",
           "legendgroup": "B6",
           "marker": {
            "color": "#ab63fa",
            "size": [
             4796,
             26,
             1305,
             90,
             4795
            ],
            "sizemode": "area",
            "sizeref": 87.5575,
            "symbol": "circle"
           },
           "mode": "markers",
           "name": "B6",
           "orientation": "v",
           "showlegend": true,
           "type": "scatter",
           "x": [
            "carrier_delay",
            "weather_delay",
            "nas_delay",
            "security_delay",
            "late_aircraft_delay"
           ],
           "xaxis": "x",
           "y": [
            4796,
            26,
            1305,
            90,
            4795
           ],
           "yaxis": "y"
          },
          {
           "hovertemplate": "carrier=CO<br>day=30<br>variable=%{x}<br>value=%{marker.size}<extra></extra>",
           "legendgroup": "CO",
           "marker": {
            "color": "#FFA15A",
            "size": [
             3717,
             110,
             1656,
             96,
             3759
            ],
            "sizemode": "area",
            "sizeref": 87.5575,
            "symbol": "circle"
           },
           "mode": "markers",
           "name": "CO",
           "orientation": "v",
           "showlegend": true,
           "type": "scatter",
           "x": [
            "carrier_delay",
            "weather_delay",
            "nas_delay",
            "security_delay",
            "late_aircraft_delay"
           ],
           "xaxis": "x",
           "y": [
            3717,
            110,
            1656,
            96,
            3759
           ],
           "yaxis": "y"
          },
          {
           "hovertemplate": "carrier=DL<br>day=30<br>variable=%{x}<br>value=%{marker.size}<extra></extra>",
           "legendgroup": "DL",
           "marker": {
            "color": "#19d3f3",
            "size": [
             3108,
             520,
             3567,
             0,
             2901
            ],
            "sizemode": "area",
            "sizeref": 87.5575,
            "symbol": "circle"
           },
           "mode": "markers",
           "name": "DL",
           "orientation": "v",
           "showlegend": true,
           "type": "scatter",
           "x": [
            "carrier_delay",
            "weather_delay",
            "nas_delay",
            "security_delay",
            "late_aircraft_delay"
           ],
           "xaxis": "x",
           "y": [
            3108,
            520,
            3567,
            0,
            2901
           ],
           "yaxis": "y"
          },
          {
           "hovertemplate": "carrier=EV<br>day=30<br>variable=%{x}<br>value=%{marker.size}<extra></extra>",
           "legendgroup": "EV",
           "marker": {
            "color": "#FF6692",
            "size": [
             979,
             10,
             1327,
             0,
             349
            ],
            "sizemode": "area",
            "sizeref": 87.5575,
            "symbol": "circle"
           },
           "mode": "markers",
           "name": "EV",
           "orientation": "v",
           "showlegend": true,
           "type": "scatter",
           "x": [
            "carrier_delay",
            "weather_delay",
            "nas_delay",
            "security_delay",
            "late_aircraft_delay"
           ],
           "xaxis": "x",
           "y": [
            979,
            10,
            1327,
            0,
            349
           ],
           "yaxis": "y"
          },
          {
           "hovertemplate": "carrier=F9<br>day=30<br>variable=%{x}<br>value=%{marker.size}<extra></extra>",
           "legendgroup": "F9",
           "marker": {
            "color": "#B6E880",
            "size": [
             656,
             13,
             433,
             0,
             1381
            ],
            "sizemode": "area",
            "sizeref": 87.5575,
            "symbol": "circle"
           },
           "mode": "markers",
           "name": "F9",
           "orientation": "v",
           "showlegend": true,
           "type": "scatter",
           "x": [
            "carrier_delay",
            "weather_delay",
            "nas_delay",
            "security_delay",
            "late_aircraft_delay"
           ],
           "xaxis": "x",
           "y": [
            656,
            13,
            433,
            0,
            1381
           ],
           "yaxis": "y"
          },
          {
           "hovertemplate": "carrier=FL<br>day=30<br>variable=%{x}<br>value=%{marker.size}<extra></extra>",
           "legendgroup": "FL",
           "marker": {
            "color": "#FF97FF",
            "size": [
             1560,
             0,
             1208,
             0,
             3695
            ],
            "sizemode": "area",
            "sizeref": 87.5575,
            "symbol": "circle"
           },
           "mode": "markers",
           "name": "FL",
           "orientation": "v",
           "showlegend": true,
           "type": "scatter",
           "x": [
            "carrier_delay",
            "weather_delay",
            "nas_delay",
            "security_delay",
            "late_aircraft_delay"
           ],
           "xaxis": "x",
           "y": [
            1560,
            0,
            1208,
            0,
            3695
           ],
           "yaxis": "y"
          },
          {
           "hovertemplate": "carrier=HA<br>day=30<br>variable=%{x}<br>value=%{marker.size}<extra></extra>",
           "legendgroup": "HA",
           "marker": {
            "color": "#FECB52",
            "size": [
             1237,
             10,
             0,
             0,
             671
            ],
            "sizemode": "area",
            "sizeref": 87.5575,
            "symbol": "circle"
           },
           "mode": "markers",
           "name": "HA",
           "orientation": "v",
           "showlegend": true,
           "type": "scatter",
           "x": [
            "carrier_delay",
            "weather_delay",
            "nas_delay",
            "security_delay",
            "late_aircraft_delay"
           ],
           "xaxis": "x",
           "y": [
            1237,
            10,
            0,
            0,
            671
           ],
           "yaxis": "y"
          },
          {
           "hovertemplate": "carrier=MQ<br>day=30<br>variable=%{x}<br>value=%{marker.size}<extra></extra>",
           "legendgroup": "MQ",
           "marker": {
            "color": "#636efa",
            "size": [
             5428,
             2068,
             7936,
             17,
             14107
            ],
            "sizemode": "area",
            "sizeref": 87.5575,
            "symbol": "circle"
           },
           "mode": "markers",
           "name": "MQ",
           "orientation": "v",
           "showlegend": true,
           "type": "scatter",
           "x": [
            "carrier_delay",
            "weather_delay",
            "nas_delay",
            "security_delay",
            "late_aircraft_delay"
           ],
           "xaxis": "x",
           "y": [
            5428,
            2068,
            7936,
            17,
            14107
           ],
           "yaxis": "y"
          },
          {
           "hovertemplate": "carrier=NW<br>day=30<br>variable=%{x}<br>value=%{marker.size}<extra></extra>",
           "legendgroup": "NW",
           "marker": {
            "color": "#EF553B",
            "size": [
             5640,
             212,
             3191,
             0,
             2608
            ],
            "sizemode": "area",
            "sizeref": 87.5575,
            "symbol": "circle"
           },
           "mode": "markers",
           "name": "NW",
           "orientation": "v",
           "showlegend": true,
           "type": "scatter",
           "x": [
            "carrier_delay",
            "weather_delay",
            "nas_delay",
            "security_delay",
            "late_aircraft_delay"
           ],
           "xaxis": "x",
           "y": [
            5640,
            212,
            3191,
            0,
            2608
           ],
           "yaxis": "y"
          },
          {
           "hovertemplate": "carrier=OH<br>day=30<br>variable=%{x}<br>value=%{marker.size}<extra></extra>",
           "legendgroup": "OH",
           "marker": {
            "color": "#00cc96",
            "size": [
             3116,
             250,
             1222,
             0,
             1151
            ],
            "sizemode": "area",
            "sizeref": 87.5575,
            "symbol": "circle"
           },
           "mode": "markers",
           "name": "OH",
           "orientation": "v",
           "showlegend": true,
           "type": "scatter",
           "x": [
            "carrier_delay",
            "weather_delay",
            "nas_delay",
            "security_delay",
            "late_aircraft_delay"
           ],
           "xaxis": "x",
           "y": [
            3116,
            250,
            1222,
            0,
            1151
           ],
           "yaxis": "y"
          },
          {
           "hovertemplate": "carrier=OO<br>day=30<br>variable=%{x}<br>value=%{marker.size}<extra></extra>",
           "legendgroup": "OO",
           "marker": {
            "color": "#ab63fa",
            "size": [
             6542,
             1426,
             12633,
             26,
             24403
            ],
            "sizemode": "area",
            "sizeref": 87.5575,
            "symbol": "circle"
           },
           "mode": "markers",
           "name": "OO",
           "orientation": "v",
           "showlegend": true,
           "type": "scatter",
           "x": [
            "carrier_delay",
            "weather_delay",
            "nas_delay",
            "security_delay",
            "late_aircraft_delay"
           ],
           "xaxis": "x",
           "y": [
            6542,
            1426,
            12633,
            26,
            24403
           ],
           "yaxis": "y"
          },
          {
           "hovertemplate": "carrier=UA<br>day=30<br>variable=%{x}<br>value=%{marker.size}<extra></extra>",
           "legendgroup": "UA",
           "marker": {
            "color": "#FFA15A",
            "size": [
             2428,
             247,
             1955,
             0,
             2673
            ],
            "sizemode": "area",
            "sizeref": 87.5575,
            "symbol": "circle"
           },
           "mode": "markers",
           "name": "UA",
           "orientation": "v",
           "showlegend": true,
           "type": "scatter",
           "x": [
            "carrier_delay",
            "weather_delay",
            "nas_delay",
            "security_delay",
            "late_aircraft_delay"
           ],
           "xaxis": "x",
           "y": [
            2428,
            247,
            1955,
            0,
            2673
           ],
           "yaxis": "y"
          },
          {
           "hovertemplate": "carrier=US<br>day=30<br>variable=%{x}<br>value=%{marker.size}<extra></extra>",
           "legendgroup": "US",
           "marker": {
            "color": "#19d3f3",
            "size": [
             2345,
             12,
             2417,
             28,
             2517
            ],
            "sizemode": "area",
            "sizeref": 87.5575,
            "symbol": "circle"
           },
           "mode": "markers",
           "name": "US",
           "orientation": "v",
           "showlegend": true,
           "type": "scatter",
           "x": [
            "carrier_delay",
            "weather_delay",
            "nas_delay",
            "security_delay",
            "late_aircraft_delay"
           ],
           "xaxis": "x",
           "y": [
            2345,
            12,
            2417,
            28,
            2517
           ],
           "yaxis": "y"
          },
          {
           "hovertemplate": "carrier=WN<br>day=30<br>variable=%{x}<br>value=%{marker.size}<extra></extra>",
           "legendgroup": "WN",
           "marker": {
            "color": "#FF6692",
            "size": [
             12249,
             1260,
             5118,
             198,
             24437
            ],
            "sizemode": "area",
            "sizeref": 87.5575,
            "symbol": "circle"
           },
           "mode": "markers",
           "name": "WN",
           "orientation": "v",
           "showlegend": true,
           "type": "scatter",
           "x": [
            "carrier_delay",
            "weather_delay",
            "nas_delay",
            "security_delay",
            "late_aircraft_delay"
           ],
           "xaxis": "x",
           "y": [
            12249,
            1260,
            5118,
            198,
            24437
           ],
           "yaxis": "y"
          },
          {
           "hovertemplate": "carrier=XE<br>day=30<br>variable=%{x}<br>value=%{marker.size}<extra></extra>",
           "legendgroup": "XE",
           "marker": {
            "color": "#B6E880",
            "size": [
             4155,
             516,
             4033,
             55,
             7721
            ],
            "sizemode": "area",
            "sizeref": 87.5575,
            "symbol": "circle"
           },
           "mode": "markers",
           "name": "XE",
           "orientation": "v",
           "showlegend": true,
           "type": "scatter",
           "x": [
            "carrier_delay",
            "weather_delay",
            "nas_delay",
            "security_delay",
            "late_aircraft_delay"
           ],
           "xaxis": "x",
           "y": [
            4155,
            516,
            4033,
            55,
            7721
           ],
           "yaxis": "y"
          },
          {
           "hovertemplate": "carrier=YV<br>day=30<br>variable=%{x}<br>value=%{marker.size}<extra></extra>",
           "legendgroup": "YV",
           "marker": {
            "color": "#FF97FF",
            "size": [
             4180,
             1108,
             4855,
             0,
             0
            ],
            "sizemode": "area",
            "sizeref": 87.5575,
            "symbol": "circle"
           },
           "mode": "markers",
           "name": "YV",
           "orientation": "v",
           "showlegend": true,
           "type": "scatter",
           "x": [
            "carrier_delay",
            "weather_delay",
            "nas_delay",
            "security_delay",
            "late_aircraft_delay"
           ],
           "xaxis": "x",
           "y": [
            4180,
            1108,
            4855,
            0,
            0
           ],
           "yaxis": "y"
          }
         ],
         "name": "30"
        },
        {
         "data": [
          {
           "hovertemplate": "carrier=9E<br>day=31<br>variable=%{x}<br>value=%{marker.size}<extra></extra>",
           "legendgroup": "9E",
           "marker": {
            "color": "#636efa",
            "size": [
             1297,
             486,
             1929,
             0,
             812
            ],
            "sizemode": "area",
            "sizeref": 87.5575,
            "symbol": "circle"
           },
           "mode": "markers",
           "name": "9E",
           "orientation": "v",
           "showlegend": true,
           "type": "scatter",
           "x": [
            "carrier_delay",
            "weather_delay",
            "nas_delay",
            "security_delay",
            "late_aircraft_delay"
           ],
           "xaxis": "x",
           "y": [
            1297,
            486,
            1929,
            0,
            812
           ],
           "yaxis": "y"
          },
          {
           "hovertemplate": "carrier=AA<br>day=31<br>variable=%{x}<br>value=%{marker.size}<extra></extra>",
           "legendgroup": "AA",
           "marker": {
            "color": "#EF553B",
            "size": [
             8799,
             2057,
             5667,
             27,
             9015
            ],
            "sizemode": "area",
            "sizeref": 87.5575,
            "symbol": "circle"
           },
           "mode": "markers",
           "name": "AA",
           "orientation": "v",
           "showlegend": true,
           "type": "scatter",
           "x": [
            "carrier_delay",
            "weather_delay",
            "nas_delay",
            "security_delay",
            "late_aircraft_delay"
           ],
           "xaxis": "x",
           "y": [
            8799,
            2057,
            5667,
            27,
            9015
           ],
           "yaxis": "y"
          },
          {
           "hovertemplate": "carrier=AS<br>day=31<br>variable=%{x}<br>value=%{marker.size}<extra></extra>",
           "legendgroup": "AS",
           "marker": {
            "color": "#00cc96",
            "size": [
             554,
             401,
             655,
             0,
             122
            ],
            "sizemode": "area",
            "sizeref": 87.5575,
            "symbol": "circle"
           },
           "mode": "markers",
           "name": "AS",
           "orientation": "v",
           "showlegend": true,
           "type": "scatter",
           "x": [
            "carrier_delay",
            "weather_delay",
            "nas_delay",
            "security_delay",
            "late_aircraft_delay"
           ],
           "xaxis": "x",
           "y": [
            554,
            401,
            655,
            0,
            122
           ],
           "yaxis": "y"
          },
          {
           "hovertemplate": "carrier=B6<br>day=31<br>variable=%{x}<br>value=%{marker.size}<extra></extra>",
           "legendgroup": "B6",
           "marker": {
            "color": "#ab63fa",
            "size": [
             3968,
             307,
             6074,
             13,
             10847
            ],
            "sizemode": "area",
            "sizeref": 87.5575,
            "symbol": "circle"
           },
           "mode": "markers",
           "name": "B6",
           "orientation": "v",
           "showlegend": true,
           "type": "scatter",
           "x": [
            "carrier_delay",
            "weather_delay",
            "nas_delay",
            "security_delay",
            "late_aircraft_delay"
           ],
           "xaxis": "x",
           "y": [
            3968,
            307,
            6074,
            13,
            10847
           ],
           "yaxis": "y"
          },
          {
           "hovertemplate": "carrier=CO<br>day=31<br>variable=%{x}<br>value=%{marker.size}<extra></extra>",
           "legendgroup": "CO",
           "marker": {
            "color": "#FFA15A",
            "size": [
             2946,
             4438,
             4897,
             84,
             7685
            ],
            "sizemode": "area",
            "sizeref": 87.5575,
            "symbol": "circle"
           },
           "mode": "markers",
           "name": "CO",
           "orientation": "v",
           "showlegend": true,
           "type": "scatter",
           "x": [
            "carrier_delay",
            "weather_delay",
            "nas_delay",
            "security_delay",
            "late_aircraft_delay"
           ],
           "xaxis": "x",
           "y": [
            2946,
            4438,
            4897,
            84,
            7685
           ],
           "yaxis": "y"
          },
          {
           "hovertemplate": "carrier=DL<br>day=31<br>variable=%{x}<br>value=%{marker.size}<extra></extra>",
           "legendgroup": "DL",
           "marker": {
            "color": "#19d3f3",
            "size": [
             3293,
             1815,
             5223,
             0,
             4364
            ],
            "sizemode": "area",
            "sizeref": 87.5575,
            "symbol": "circle"
           },
           "mode": "markers",
           "name": "DL",
           "orientation": "v",
           "showlegend": true,
           "type": "scatter",
           "x": [
            "carrier_delay",
            "weather_delay",
            "nas_delay",
            "security_delay",
            "late_aircraft_delay"
           ],
           "xaxis": "x",
           "y": [
            3293,
            1815,
            5223,
            0,
            4364
           ],
           "yaxis": "y"
          },
          {
           "hovertemplate": "carrier=EV<br>day=31<br>variable=%{x}<br>value=%{marker.size}<extra></extra>",
           "legendgroup": "EV",
           "marker": {
            "color": "#FF6692",
            "size": [
             1017,
             333,
             1325,
             18,
             1082
            ],
            "sizemode": "area",
            "sizeref": 87.5575,
            "symbol": "circle"
           },
           "mode": "markers",
           "name": "EV",
           "orientation": "v",
           "showlegend": true,
           "type": "scatter",
           "x": [
            "carrier_delay",
            "weather_delay",
            "nas_delay",
            "security_delay",
            "late_aircraft_delay"
           ],
           "xaxis": "x",
           "y": [
            1017,
            333,
            1325,
            18,
            1082
           ],
           "yaxis": "y"
          },
          {
           "hovertemplate": "carrier=F9<br>day=31<br>variable=%{x}<br>value=%{marker.size}<extra></extra>",
           "legendgroup": "F9",
           "marker": {
            "color": "#B6E880",
            "size": [
             447,
             3,
             363,
             0,
             889
            ],
            "sizemode": "area",
            "sizeref": 87.5575,
            "symbol": "circle"
           },
           "mode": "markers",
           "name": "F9",
           "orientation": "v",
           "showlegend": true,
           "type": "scatter",
           "x": [
            "carrier_delay",
            "weather_delay",
            "nas_delay",
            "security_delay",
            "late_aircraft_delay"
           ],
           "xaxis": "x",
           "y": [
            447,
            3,
            363,
            0,
            889
           ],
           "yaxis": "y"
          },
          {
           "hovertemplate": "carrier=FL<br>day=31<br>variable=%{x}<br>value=%{marker.size}<extra></extra>",
           "legendgroup": "FL",
           "marker": {
            "color": "#FF97FF",
            "size": [
             3260,
             150,
             3630,
             0,
             12200
            ],
            "sizemode": "area",
            "sizeref": 87.5575,
            "symbol": "circle"
           },
           "mode": "markers",
           "name": "FL",
           "orientation": "v",
           "showlegend": true,
           "type": "scatter",
           "x": [
            "carrier_delay",
            "weather_delay",
            "nas_delay",
            "security_delay",
            "late_aircraft_delay"
           ],
           "xaxis": "x",
           "y": [
            3260,
            150,
            3630,
            0,
            12200
           ],
           "yaxis": "y"
          },
          {
           "hovertemplate": "carrier=HA<br>day=31<br>variable=%{x}<br>value=%{marker.size}<extra></extra>",
           "legendgroup": "HA",
           "marker": {
            "color": "#FECB52",
            "size": [
             977,
             0,
             20,
             0,
             450
            ],
            "sizemode": "area",
            "sizeref": 87.5575,
            "symbol": "circle"
           },
           "mode": "markers",
           "name": "HA",
           "orientation": "v",
           "showlegend": true,
           "type": "scatter",
           "x": [
            "carrier_delay",
            "weather_delay",
            "nas_delay",
            "security_delay",
            "late_aircraft_delay"
           ],
           "xaxis": "x",
           "y": [
            977,
            0,
            20,
            0,
            450
           ],
           "yaxis": "y"
          },
          {
           "hovertemplate": "carrier=MQ<br>day=31<br>variable=%{x}<br>value=%{marker.size}<extra></extra>",
           "legendgroup": "MQ",
           "marker": {
            "color": "#636efa",
            "size": [
             7526,
             2379,
             6023,
             301,
             12417
            ],
            "sizemode": "area",
            "sizeref": 87.5575,
            "symbol": "circle"
           },
           "mode": "markers",
           "name": "MQ",
           "orientation": "v",
           "showlegend": true,
           "type": "scatter",
           "x": [
            "carrier_delay",
            "weather_delay",
            "nas_delay",
            "security_delay",
            "late_aircraft_delay"
           ],
           "xaxis": "x",
           "y": [
            7526,
            2379,
            6023,
            301,
            12417
           ],
           "yaxis": "y"
          },
          {
           "hovertemplate": "carrier=NW<br>day=31<br>variable=%{x}<br>value=%{marker.size}<extra></extra>",
           "legendgroup": "NW",
           "marker": {
            "color": "#EF553B",
            "size": [
             3336,
             784,
             2618,
             0,
             3203
            ],
            "sizemode": "area",
            "sizeref": 87.5575,
            "symbol": "circle"
           },
           "mode": "markers",
           "name": "NW",
           "orientation": "v",
           "showlegend": true,
           "type": "scatter",
           "x": [
            "carrier_delay",
            "weather_delay",
            "nas_delay",
            "security_delay",
            "late_aircraft_delay"
           ],
           "xaxis": "x",
           "y": [
            3336,
            784,
            2618,
            0,
            3203
           ],
           "yaxis": "y"
          },
          {
           "hovertemplate": "carrier=OH<br>day=31<br>variable=%{x}<br>value=%{marker.size}<extra></extra>",
           "legendgroup": "OH",
           "marker": {
            "color": "#00cc96",
            "size": [
             2995,
             4476,
             4162,
             0,
             653
            ],
            "sizemode": "area",
            "sizeref": 87.5575,
            "symbol": "circle"
           },
           "mode": "markers",
           "name": "OH",
           "orientation": "v",
           "showlegend": true,
           "type": "scatter",
           "x": [
            "carrier_delay",
            "weather_delay",
            "nas_delay",
            "security_delay",
            "late_aircraft_delay"
           ],
           "xaxis": "x",
           "y": [
            2995,
            4476,
            4162,
            0,
            653
           ],
           "yaxis": "y"
          },
          {
           "hovertemplate": "carrier=OO<br>day=31<br>variable=%{x}<br>value=%{marker.size}<extra></extra>",
           "legendgroup": "OO",
           "marker": {
            "color": "#ab63fa",
            "size": [
             5759,
             192,
             1848,
             192,
             5633
            ],
            "sizemode": "area",
            "sizeref": 87.5575,
            "symbol": "circle"
           },
           "mode": "markers",
           "name": "OO",
           "orientation": "v",
           "showlegend": true,
           "type": "scatter",
           "x": [
            "carrier_delay",
            "weather_delay",
            "nas_delay",
            "security_delay",
            "late_aircraft_delay"
           ],
           "xaxis": "x",
           "y": [
            5759,
            192,
            1848,
            192,
            5633
           ],
           "yaxis": "y"
          },
          {
           "hovertemplate": "carrier=UA<br>day=31<br>variable=%{x}<br>value=%{marker.size}<extra></extra>",
           "legendgroup": "UA",
           "marker": {
            "color": "#FFA15A",
            "size": [
             2754,
             287,
             2273,
             0,
             3499
            ],
            "sizemode": "area",
            "sizeref": 87.5575,
            "symbol": "circle"
           },
           "mode": "markers",
           "name": "UA",
           "orientation": "v",
           "showlegend": true,
           "type": "scatter",
           "x": [
            "carrier_delay",
            "weather_delay",
            "nas_delay",
            "security_delay",
            "late_aircraft_delay"
           ],
           "xaxis": "x",
           "y": [
            2754,
            287,
            2273,
            0,
            3499
           ],
           "yaxis": "y"
          },
          {
           "hovertemplate": "carrier=US<br>day=31<br>variable=%{x}<br>value=%{marker.size}<extra></extra>",
           "legendgroup": "US",
           "marker": {
            "color": "#19d3f3",
            "size": [
             4278,
             581,
             8922,
             34,
             9347
            ],
            "sizemode": "area",
            "sizeref": 87.5575,
            "symbol": "circle"
           },
           "mode": "markers",
           "name": "US",
           "orientation": "v",
           "showlegend": true,
           "type": "scatter",
           "x": [
            "carrier_delay",
            "weather_delay",
            "nas_delay",
            "security_delay",
            "late_aircraft_delay"
           ],
           "xaxis": "x",
           "y": [
            4278,
            581,
            8922,
            34,
            9347
           ],
           "yaxis": "y"
          },
          {
           "hovertemplate": "carrier=WN<br>day=31<br>variable=%{x}<br>value=%{marker.size}<extra></extra>",
           "legendgroup": "WN",
           "marker": {
            "color": "#FF6692",
            "size": [
             7609,
             1807,
             6218,
             34,
             18507
            ],
            "sizemode": "area",
            "sizeref": 87.5575,
            "symbol": "circle"
           },
           "mode": "markers",
           "name": "WN",
           "orientation": "v",
           "showlegend": true,
           "type": "scatter",
           "x": [
            "carrier_delay",
            "weather_delay",
            "nas_delay",
            "security_delay",
            "late_aircraft_delay"
           ],
           "xaxis": "x",
           "y": [
            7609,
            1807,
            6218,
            34,
            18507
           ],
           "yaxis": "y"
          },
          {
           "hovertemplate": "carrier=XE<br>day=31<br>variable=%{x}<br>value=%{marker.size}<extra></extra>",
           "legendgroup": "XE",
           "marker": {
            "color": "#B6E880",
            "size": [
             4568,
             3224,
             5462,
             219,
             6012
            ],
            "sizemode": "area",
            "sizeref": 87.5575,
            "symbol": "circle"
           },
           "mode": "markers",
           "name": "XE",
           "orientation": "v",
           "showlegend": true,
           "type": "scatter",
           "x": [
            "carrier_delay",
            "weather_delay",
            "nas_delay",
            "security_delay",
            "late_aircraft_delay"
           ],
           "xaxis": "x",
           "y": [
            4568,
            3224,
            5462,
            219,
            6012
           ],
           "yaxis": "y"
          },
          {
           "hovertemplate": "carrier=YV<br>day=31<br>variable=%{x}<br>value=%{marker.size}<extra></extra>",
           "legendgroup": "YV",
           "marker": {
            "color": "#FF97FF",
            "size": [
             4357,
             1259,
             867,
             0,
             39
            ],
            "sizemode": "area",
            "sizeref": 87.5575,
            "symbol": "circle"
           },
           "mode": "markers",
           "name": "YV",
           "orientation": "v",
           "showlegend": true,
           "type": "scatter",
           "x": [
            "carrier_delay",
            "weather_delay",
            "nas_delay",
            "security_delay",
            "late_aircraft_delay"
           ],
           "xaxis": "x",
           "y": [
            4357,
            1259,
            867,
            0,
            39
           ],
           "yaxis": "y"
          }
         ],
         "name": "31"
        }
       ],
       "layout": {
        "legend": {
         "itemsizing": "constant",
         "title": {
          "text": "carrier"
         },
         "tracegroupgap": 0
        },
        "sliders": [
         {
          "active": 0,
          "currentvalue": {
           "prefix": "day="
          },
          "len": 0.9,
          "pad": {
           "b": 10,
           "t": 60
          },
          "steps": [
           {
            "args": [
             [
              "22"
             ],
             {
              "frame": {
               "duration": 0,
               "redraw": false
              },
              "fromcurrent": true,
              "mode": "immediate",
              "transition": {
               "duration": 0,
               "easing": "linear"
              }
             }
            ],
            "label": "22",
            "method": "animate"
           },
           {
            "args": [
             [
              "23"
             ],
             {
              "frame": {
               "duration": 0,
               "redraw": false
              },
              "fromcurrent": true,
              "mode": "immediate",
              "transition": {
               "duration": 0,
               "easing": "linear"
              }
             }
            ],
            "label": "23",
            "method": "animate"
           },
           {
            "args": [
             [
              "24"
             ],
             {
              "frame": {
               "duration": 0,
               "redraw": false
              },
              "fromcurrent": true,
              "mode": "immediate",
              "transition": {
               "duration": 0,
               "easing": "linear"
              }
             }
            ],
            "label": "24",
            "method": "animate"
           },
           {
            "args": [
             [
              "25"
             ],
             {
              "frame": {
               "duration": 0,
               "redraw": false
              },
              "fromcurrent": true,
              "mode": "immediate",
              "transition": {
               "duration": 0,
               "easing": "linear"
              }
             }
            ],
            "label": "25",
            "method": "animate"
           },
           {
            "args": [
             [
              "26"
             ],
             {
              "frame": {
               "duration": 0,
               "redraw": false
              },
              "fromcurrent": true,
              "mode": "immediate",
              "transition": {
               "duration": 0,
               "easing": "linear"
              }
             }
            ],
            "label": "26",
            "method": "animate"
           },
           {
            "args": [
             [
              "27"
             ],
             {
              "frame": {
               "duration": 0,
               "redraw": false
              },
              "fromcurrent": true,
              "mode": "immediate",
              "transition": {
               "duration": 0,
               "easing": "linear"
              }
             }
            ],
            "label": "27",
            "method": "animate"
           },
           {
            "args": [
             [
              "28"
             ],
             {
              "frame": {
               "duration": 0,
               "redraw": false
              },
              "fromcurrent": true,
              "mode": "immediate",
              "transition": {
               "duration": 0,
               "easing": "linear"
              }
             }
            ],
            "label": "28",
            "method": "animate"
           },
           {
            "args": [
             [
              "29"
             ],
             {
              "frame": {
               "duration": 0,
               "redraw": false
              },
              "fromcurrent": true,
              "mode": "immediate",
              "transition": {
               "duration": 0,
               "easing": "linear"
              }
             }
            ],
            "label": "29",
            "method": "animate"
           },
           {
            "args": [
             [
              "30"
             ],
             {
              "frame": {
               "duration": 0,
               "redraw": false
              },
              "fromcurrent": true,
              "mode": "immediate",
              "transition": {
               "duration": 0,
               "easing": "linear"
              }
             }
            ],
            "label": "30",
            "method": "animate"
           },
           {
            "args": [
             [
              "31"
             ],
             {
              "frame": {
               "duration": 0,
               "redraw": false
              },
              "fromcurrent": true,
              "mode": "immediate",
              "transition": {
               "duration": 0,
               "easing": "linear"
              }
             }
            ],
            "label": "31",
            "method": "animate"
           }
          ],
          "x": 0.1,
          "xanchor": "left",
          "y": 0,
          "yanchor": "top"
         }
        ],
        "template": {
         "data": {
          "bar": [
           {
            "error_x": {
             "color": "#2a3f5f"
            },
            "error_y": {
             "color": "#2a3f5f"
            },
            "marker": {
             "line": {
              "color": "#E5ECF6",
              "width": 0.5
             },
             "pattern": {
              "fillmode": "overlay",
              "size": 10,
              "solidity": 0.2
             }
            },
            "type": "bar"
           }
          ],
          "barpolar": [
           {
            "marker": {
             "line": {
              "color": "#E5ECF6",
              "width": 0.5
             },
             "pattern": {
              "fillmode": "overlay",
              "size": 10,
              "solidity": 0.2
             }
            },
            "type": "barpolar"
           }
          ],
          "carpet": [
           {
            "aaxis": {
             "endlinecolor": "#2a3f5f",
             "gridcolor": "white",
             "linecolor": "white",
             "minorgridcolor": "white",
             "startlinecolor": "#2a3f5f"
            },
            "baxis": {
             "endlinecolor": "#2a3f5f",
             "gridcolor": "white",
             "linecolor": "white",
             "minorgridcolor": "white",
             "startlinecolor": "#2a3f5f"
            },
            "type": "carpet"
           }
          ],
          "choropleth": [
           {
            "colorbar": {
             "outlinewidth": 0,
             "ticks": ""
            },
            "type": "choropleth"
           }
          ],
          "contour": [
           {
            "colorbar": {
             "outlinewidth": 0,
             "ticks": ""
            },
            "colorscale": [
             [
              0,
              "#0d0887"
             ],
             [
              0.1111111111111111,
              "#46039f"
             ],
             [
              0.2222222222222222,
              "#7201a8"
             ],
             [
              0.3333333333333333,
              "#9c179e"
             ],
             [
              0.4444444444444444,
              "#bd3786"
             ],
             [
              0.5555555555555556,
              "#d8576b"
             ],
             [
              0.6666666666666666,
              "#ed7953"
             ],
             [
              0.7777777777777778,
              "#fb9f3a"
             ],
             [
              0.8888888888888888,
              "#fdca26"
             ],
             [
              1,
              "#f0f921"
             ]
            ],
            "type": "contour"
           }
          ],
          "contourcarpet": [
           {
            "colorbar": {
             "outlinewidth": 0,
             "ticks": ""
            },
            "type": "contourcarpet"
           }
          ],
          "heatmap": [
           {
            "colorbar": {
             "outlinewidth": 0,
             "ticks": ""
            },
            "colorscale": [
             [
              0,
              "#0d0887"
             ],
             [
              0.1111111111111111,
              "#46039f"
             ],
             [
              0.2222222222222222,
              "#7201a8"
             ],
             [
              0.3333333333333333,
              "#9c179e"
             ],
             [
              0.4444444444444444,
              "#bd3786"
             ],
             [
              0.5555555555555556,
              "#d8576b"
             ],
             [
              0.6666666666666666,
              "#ed7953"
             ],
             [
              0.7777777777777778,
              "#fb9f3a"
             ],
             [
              0.8888888888888888,
              "#fdca26"
             ],
             [
              1,
              "#f0f921"
             ]
            ],
            "type": "heatmap"
           }
          ],
          "heatmapgl": [
           {
            "colorbar": {
             "outlinewidth": 0,
             "ticks": ""
            },
            "colorscale": [
             [
              0,
              "#0d0887"
             ],
             [
              0.1111111111111111,
              "#46039f"
             ],
             [
              0.2222222222222222,
              "#7201a8"
             ],
             [
              0.3333333333333333,
              "#9c179e"
             ],
             [
              0.4444444444444444,
              "#bd3786"
             ],
             [
              0.5555555555555556,
              "#d8576b"
             ],
             [
              0.6666666666666666,
              "#ed7953"
             ],
             [
              0.7777777777777778,
              "#fb9f3a"
             ],
             [
              0.8888888888888888,
              "#fdca26"
             ],
             [
              1,
              "#f0f921"
             ]
            ],
            "type": "heatmapgl"
           }
          ],
          "histogram": [
           {
            "marker": {
             "pattern": {
              "fillmode": "overlay",
              "size": 10,
              "solidity": 0.2
             }
            },
            "type": "histogram"
           }
          ],
          "histogram2d": [
           {
            "colorbar": {
             "outlinewidth": 0,
             "ticks": ""
            },
            "colorscale": [
             [
              0,
              "#0d0887"
             ],
             [
              0.1111111111111111,
              "#46039f"
             ],
             [
              0.2222222222222222,
              "#7201a8"
             ],
             [
              0.3333333333333333,
              "#9c179e"
             ],
             [
              0.4444444444444444,
              "#bd3786"
             ],
             [
              0.5555555555555556,
              "#d8576b"
             ],
             [
              0.6666666666666666,
              "#ed7953"
             ],
             [
              0.7777777777777778,
              "#fb9f3a"
             ],
             [
              0.8888888888888888,
              "#fdca26"
             ],
             [
              1,
              "#f0f921"
             ]
            ],
            "type": "histogram2d"
           }
          ],
          "histogram2dcontour": [
           {
            "colorbar": {
             "outlinewidth": 0,
             "ticks": ""
            },
            "colorscale": [
             [
              0,
              "#0d0887"
             ],
             [
              0.1111111111111111,
              "#46039f"
             ],
             [
              0.2222222222222222,
              "#7201a8"
             ],
             [
              0.3333333333333333,
              "#9c179e"
             ],
             [
              0.4444444444444444,
              "#bd3786"
             ],
             [
              0.5555555555555556,
              "#d8576b"
             ],
             [
              0.6666666666666666,
              "#ed7953"
             ],
             [
              0.7777777777777778,
              "#fb9f3a"
             ],
             [
              0.8888888888888888,
              "#fdca26"
             ],
             [
              1,
              "#f0f921"
             ]
            ],
            "type": "histogram2dcontour"
           }
          ],
          "mesh3d": [
           {
            "colorbar": {
             "outlinewidth": 0,
             "ticks": ""
            },
            "type": "mesh3d"
           }
          ],
          "parcoords": [
           {
            "line": {
             "colorbar": {
              "outlinewidth": 0,
              "ticks": ""
             }
            },
            "type": "parcoords"
           }
          ],
          "pie": [
           {
            "automargin": true,
            "type": "pie"
           }
          ],
          "scatter": [
           {
            "fillpattern": {
             "fillmode": "overlay",
             "size": 10,
             "solidity": 0.2
            },
            "type": "scatter"
           }
          ],
          "scatter3d": [
           {
            "line": {
             "colorbar": {
              "outlinewidth": 0,
              "ticks": ""
             }
            },
            "marker": {
             "colorbar": {
              "outlinewidth": 0,
              "ticks": ""
             }
            },
            "type": "scatter3d"
           }
          ],
          "scattercarpet": [
           {
            "marker": {
             "colorbar": {
              "outlinewidth": 0,
              "ticks": ""
             }
            },
            "type": "scattercarpet"
           }
          ],
          "scattergeo": [
           {
            "marker": {
             "colorbar": {
              "outlinewidth": 0,
              "ticks": ""
             }
            },
            "type": "scattergeo"
           }
          ],
          "scattergl": [
           {
            "marker": {
             "colorbar": {
              "outlinewidth": 0,
              "ticks": ""
             }
            },
            "type": "scattergl"
           }
          ],
          "scattermapbox": [
           {
            "marker": {
             "colorbar": {
              "outlinewidth": 0,
              "ticks": ""
             }
            },
            "type": "scattermapbox"
           }
          ],
          "scatterpolar": [
           {
            "marker": {
             "colorbar": {
              "outlinewidth": 0,
              "ticks": ""
             }
            },
            "type": "scatterpolar"
           }
          ],
          "scatterpolargl": [
           {
            "marker": {
             "colorbar": {
              "outlinewidth": 0,
              "ticks": ""
             }
            },
            "type": "scatterpolargl"
           }
          ],
          "scatterternary": [
           {
            "marker": {
             "colorbar": {
              "outlinewidth": 0,
              "ticks": ""
             }
            },
            "type": "scatterternary"
           }
          ],
          "surface": [
           {
            "colorbar": {
             "outlinewidth": 0,
             "ticks": ""
            },
            "colorscale": [
             [
              0,
              "#0d0887"
             ],
             [
              0.1111111111111111,
              "#46039f"
             ],
             [
              0.2222222222222222,
              "#7201a8"
             ],
             [
              0.3333333333333333,
              "#9c179e"
             ],
             [
              0.4444444444444444,
              "#bd3786"
             ],
             [
              0.5555555555555556,
              "#d8576b"
             ],
             [
              0.6666666666666666,
              "#ed7953"
             ],
             [
              0.7777777777777778,
              "#fb9f3a"
             ],
             [
              0.8888888888888888,
              "#fdca26"
             ],
             [
              1,
              "#f0f921"
             ]
            ],
            "type": "surface"
           }
          ],
          "table": [
           {
            "cells": {
             "fill": {
              "color": "#EBF0F8"
             },
             "line": {
              "color": "white"
             }
            },
            "header": {
             "fill": {
              "color": "#C8D4E3"
             },
             "line": {
              "color": "white"
             }
            },
            "type": "table"
           }
          ]
         },
         "layout": {
          "annotationdefaults": {
           "arrowcolor": "#2a3f5f",
           "arrowhead": 0,
           "arrowwidth": 1
          },
          "autotypenumbers": "strict",
          "coloraxis": {
           "colorbar": {
            "outlinewidth": 0,
            "ticks": ""
           }
          },
          "colorscale": {
           "diverging": [
            [
             0,
             "#8e0152"
            ],
            [
             0.1,
             "#c51b7d"
            ],
            [
             0.2,
             "#de77ae"
            ],
            [
             0.3,
             "#f1b6da"
            ],
            [
             0.4,
             "#fde0ef"
            ],
            [
             0.5,
             "#f7f7f7"
            ],
            [
             0.6,
             "#e6f5d0"
            ],
            [
             0.7,
             "#b8e186"
            ],
            [
             0.8,
             "#7fbc41"
            ],
            [
             0.9,
             "#4d9221"
            ],
            [
             1,
             "#276419"
            ]
           ],
           "sequential": [
            [
             0,
             "#0d0887"
            ],
            [
             0.1111111111111111,
             "#46039f"
            ],
            [
             0.2222222222222222,
             "#7201a8"
            ],
            [
             0.3333333333333333,
             "#9c179e"
            ],
            [
             0.4444444444444444,
             "#bd3786"
            ],
            [
             0.5555555555555556,
             "#d8576b"
            ],
            [
             0.6666666666666666,
             "#ed7953"
            ],
            [
             0.7777777777777778,
             "#fb9f3a"
            ],
            [
             0.8888888888888888,
             "#fdca26"
            ],
            [
             1,
             "#f0f921"
            ]
           ],
           "sequentialminus": [
            [
             0,
             "#0d0887"
            ],
            [
             0.1111111111111111,
             "#46039f"
            ],
            [
             0.2222222222222222,
             "#7201a8"
            ],
            [
             0.3333333333333333,
             "#9c179e"
            ],
            [
             0.4444444444444444,
             "#bd3786"
            ],
            [
             0.5555555555555556,
             "#d8576b"
            ],
            [
             0.6666666666666666,
             "#ed7953"
            ],
            [
             0.7777777777777778,
             "#fb9f3a"
            ],
            [
             0.8888888888888888,
             "#fdca26"
            ],
            [
             1,
             "#f0f921"
            ]
           ]
          },
          "colorway": [
           "#636efa",
           "#EF553B",
           "#00cc96",
           "#ab63fa",
           "#FFA15A",
           "#19d3f3",
           "#FF6692",
           "#B6E880",
           "#FF97FF",
           "#FECB52"
          ],
          "font": {
           "color": "#2a3f5f"
          },
          "geo": {
           "bgcolor": "white",
           "lakecolor": "white",
           "landcolor": "#E5ECF6",
           "showlakes": true,
           "showland": true,
           "subunitcolor": "white"
          },
          "hoverlabel": {
           "align": "left"
          },
          "hovermode": "closest",
          "mapbox": {
           "style": "light"
          },
          "paper_bgcolor": "white",
          "plot_bgcolor": "#E5ECF6",
          "polar": {
           "angularaxis": {
            "gridcolor": "white",
            "linecolor": "white",
            "ticks": ""
           },
           "bgcolor": "#E5ECF6",
           "radialaxis": {
            "gridcolor": "white",
            "linecolor": "white",
            "ticks": ""
           }
          },
          "scene": {
           "xaxis": {
            "backgroundcolor": "#E5ECF6",
            "gridcolor": "white",
            "gridwidth": 2,
            "linecolor": "white",
            "showbackground": true,
            "ticks": "",
            "zerolinecolor": "white"
           },
           "yaxis": {
            "backgroundcolor": "#E5ECF6",
            "gridcolor": "white",
            "gridwidth": 2,
            "linecolor": "white",
            "showbackground": true,
            "ticks": "",
            "zerolinecolor": "white"
           },
           "zaxis": {
            "backgroundcolor": "#E5ECF6",
            "gridcolor": "white",
            "gridwidth": 2,
            "linecolor": "white",
            "showbackground": true,
            "ticks": "",
            "zerolinecolor": "white"
           }
          },
          "shapedefaults": {
           "line": {
            "color": "#2a3f5f"
           }
          },
          "ternary": {
           "aaxis": {
            "gridcolor": "white",
            "linecolor": "white",
            "ticks": ""
           },
           "baxis": {
            "gridcolor": "white",
            "linecolor": "white",
            "ticks": ""
           },
           "bgcolor": "#E5ECF6",
           "caxis": {
            "gridcolor": "white",
            "linecolor": "white",
            "ticks": ""
           }
          },
          "title": {
           "x": 0.05
          },
          "xaxis": {
           "automargin": true,
           "gridcolor": "white",
           "linecolor": "white",
           "ticks": "",
           "title": {
            "standoff": 15
           },
           "zerolinecolor": "white",
           "zerolinewidth": 2
          },
          "yaxis": {
           "automargin": true,
           "gridcolor": "white",
           "linecolor": "white",
           "ticks": "",
           "title": {
            "standoff": 15
           },
           "zerolinecolor": "white",
           "zerolinewidth": 2
          }
         }
        },
        "title": {
         "text": "Chirstmas time top delay reason related to different carriers"
        },
        "updatemenus": [
         {
          "buttons": [
           {
            "args": [
             null,
             {
              "frame": {
               "duration": 500,
               "redraw": false
              },
              "fromcurrent": true,
              "mode": "immediate",
              "transition": {
               "duration": 500,
               "easing": "linear"
              }
             }
            ],
            "label": "&#9654;",
            "method": "animate"
           },
           {
            "args": [
             [
              null
             ],
             {
              "frame": {
               "duration": 0,
               "redraw": false
              },
              "fromcurrent": true,
              "mode": "immediate",
              "transition": {
               "duration": 0,
               "easing": "linear"
              }
             }
            ],
            "label": "&#9724;",
            "method": "animate"
           }
          ],
          "direction": "left",
          "pad": {
           "r": 10,
           "t": 70
          },
          "showactive": false,
          "type": "buttons",
          "x": 0.1,
          "xanchor": "right",
          "y": 0,
          "yanchor": "top"
         }
        ],
        "xaxis": {
         "anchor": "y",
         "domain": [
          0,
          1
         ],
         "title": {
          "text": "variable"
         }
        },
        "yaxis": {
         "anchor": "x",
         "domain": [
          0,
          1
         ],
         "title": {
          "text": "value"
         }
        }
       }
      }
     },
     "metadata": {},
     "output_type": "display_data"
    }
   ],
   "source": [
    "# plot the animation \n",
    "fig = px.scatter(df_delay_christmas_carrier_plot, x=\"variable\", y=\"value\", animation_frame=\"day\",color='carrier',size = 'value',\n",
    "title= 'Chirstmas time top delay reason related to different carriers')\n",
    "\n",
    "fig.show()"
   ]
  },
  {
   "cell_type": "code",
   "execution_count": 29,
   "metadata": {},
   "outputs": [],
   "source": [
    "# build the suitable dataframe\n",
    "# we want MONTH as animation_frame\n",
    "df_delay_christmas_state1 = df_flights[['DAY_OF_MONTH','CARRIER_DELAY','WEATHER_DELAY','NAS_DELAY','SECURITY_DELAY','LATE_AIRCRAFT_DELAY','ORIGIN_STATE_NM']]\n",
    "# create empty list to store the value\n",
    "day_list = [22,23,24,25,26,27,28,29,30,31]\n",
    "state_list = (df_flights['ORIGIN_STATE_NM'].unique()).tolist()\n",
    "day_list_merge = []\n",
    "state_list_merge = []\n",
    "carrier_delay_list, weather_delay_list, nas_delay_list, security_delay_list, late_aircraft_delay_list = [],[],[],[],[]\n",
    "# for each month, sum up all delay time in each type of delay\n",
    "for day in range(22,32):\n",
    "  for state in state_list:\n",
    "        day_list_merge.append(day)\n",
    "        state_list_merge.append(state)\n",
    "        carrier_delay_list.append((df_delay_christmas_state1[(df_delay_christmas_state1['DAY_OF_MONTH'] == day) & (df_delay_christmas_state1['ORIGIN_STATE_NM'] == state) ]['CARRIER_DELAY']).sum())\n",
    "        weather_delay_list.append((df_delay_christmas_state1[(df_delay_christmas_state1['DAY_OF_MONTH'] == day) & (df_delay_christmas_state1['ORIGIN_STATE_NM'] == state) ]['WEATHER_DELAY']).sum())\n",
    "        nas_delay_list.append((df_delay_christmas_state1[(df_delay_christmas_state1['DAY_OF_MONTH'] == day) & (df_delay_christmas_state1['ORIGIN_STATE_NM'] == state)]['NAS_DELAY']).sum())\n",
    "        security_delay_list.append((df_delay_christmas_state1[(df_delay_christmas_state1['DAY_OF_MONTH'] == day) & (df_delay_christmas_state1['ORIGIN_STATE_NM'] == state)]['SECURITY_DELAY']).sum())\n",
    "        late_aircraft_delay_list.append((df_delay_christmas_state1[(df_delay_christmas_state1['DAY_OF_MONTH'] == day) & (df_delay_christmas_state1['ORIGIN_STATE_NM'] == state)]['LATE_AIRCRAFT_DELAY']).sum())\n",
    "\n",
    "# create dictionary\n",
    "dictionary_delay_christmas_state1 = {'day':day_list_merge, 'state':state_list_merge, 'carrier_delay':carrier_delay_list, 'weather_delay':weather_delay_list,\n",
    "                          'nas_delay':nas_delay_list,'security_delay':security_delay_list,'late_aircraft_delay':late_aircraft_delay_list}\n",
    "# create pandas dataframe\n",
    "df_delay_christmas_state = pd.DataFrame(dictionary_delay_christmas_state1)\n",
    "\n",
    "# melt the dataframe\n",
    "# change the horizontal df to vertical df\n",
    "df_delay_christmas_state_plot = pd.melt(df_delay_christmas_state, id_vars=['day','state'], value_vars=['carrier_delay','weather_delay','nas_delay','security_delay','late_aircraft_delay'])\n"
   ]
  },
  {
   "cell_type": "code",
   "execution_count": 30,
   "metadata": {},
   "outputs": [
    {
     "data": {
      "application/vnd.plotly.v1+json": {
       "config": {
        "plotlyServerURL": "https://plot.ly"
       },
       "data": [
        {
         "hovertemplate": "state=Georgia<br>day=22<br>variable=%{x}<br>value=%{marker.size}<extra></extra>",
         "legendgroup": "Georgia",
         "marker": {
          "color": "#636efa",
          "size": [
           4230,
           301,
           3332,
           0,
           2782
          ],
          "sizemode": "area",
          "sizeref": 73.6175,
          "symbol": "circle"
         },
         "mode": "markers",
         "name": "Georgia",
         "orientation": "v",
         "showlegend": true,
         "type": "scatter",
         "x": [
          "carrier_delay",
          "weather_delay",
          "nas_delay",
          "security_delay",
          "late_aircraft_delay"
         ],
         "xaxis": "x",
         "y": [
          4230,
          301,
          3332,
          0,
          2782
         ],
         "yaxis": "y"
        },
        {
         "hovertemplate": "state=Tennessee<br>day=22<br>variable=%{x}<br>value=%{marker.size}<extra></extra>",
         "legendgroup": "Tennessee",
         "marker": {
          "color": "#EF553B",
          "size": [
           1767,
           384,
           2521,
           0,
           2674
          ],
          "sizemode": "area",
          "sizeref": 73.6175,
          "symbol": "circle"
         },
         "mode": "markers",
         "name": "Tennessee",
         "orientation": "v",
         "showlegend": true,
         "type": "scatter",
         "x": [
          "carrier_delay",
          "weather_delay",
          "nas_delay",
          "security_delay",
          "late_aircraft_delay"
         ],
         "xaxis": "x",
         "y": [
          1767,
          384,
          2521,
          0,
          2674
         ],
         "yaxis": "y"
        },
        {
         "hovertemplate": "state=Virginia<br>day=22<br>variable=%{x}<br>value=%{marker.size}<extra></extra>",
         "legendgroup": "Virginia",
         "marker": {
          "color": "#00cc96",
          "size": [
           629,
           107,
           736,
           0,
           893
          ],
          "sizemode": "area",
          "sizeref": 73.6175,
          "symbol": "circle"
         },
         "mode": "markers",
         "name": "Virginia",
         "orientation": "v",
         "showlegend": true,
         "type": "scatter",
         "x": [
          "carrier_delay",
          "weather_delay",
          "nas_delay",
          "security_delay",
          "late_aircraft_delay"
         ],
         "xaxis": "x",
         "y": [
          629,
          107,
          736,
          0,
          893
         ],
         "yaxis": "y"
        },
        {
         "hovertemplate": "state=Mississippi<br>day=22<br>variable=%{x}<br>value=%{marker.size}<extra></extra>",
         "legendgroup": "Mississippi",
         "marker": {
          "color": "#ab63fa",
          "size": [
           403,
           0,
           89,
           0,
           127
          ],
          "sizemode": "area",
          "sizeref": 73.6175,
          "symbol": "circle"
         },
         "mode": "markers",
         "name": "Mississippi",
         "orientation": "v",
         "showlegend": true,
         "type": "scatter",
         "x": [
          "carrier_delay",
          "weather_delay",
          "nas_delay",
          "security_delay",
          "late_aircraft_delay"
         ],
         "xaxis": "x",
         "y": [
          403,
          0,
          89,
          0,
          127
         ],
         "yaxis": "y"
        },
        {
         "hovertemplate": "state=District of Columbia<br>day=22<br>variable=%{x}<br>value=%{marker.size}<extra></extra>",
         "legendgroup": "District of Columbia",
         "marker": {
          "color": "#FFA15A",
          "size": [
           2467,
           88,
           1928,
           70,
           2430
          ],
          "sizemode": "area",
          "sizeref": 73.6175,
          "symbol": "circle"
         },
         "mode": "markers",
         "name": "District of Columbia",
         "orientation": "v",
         "showlegend": true,
         "type": "scatter",
         "x": [
          "carrier_delay",
          "weather_delay",
          "nas_delay",
          "security_delay",
          "late_aircraft_delay"
         ],
         "xaxis": "x",
         "y": [
          2467,
          88,
          1928,
          70,
          2430
         ],
         "yaxis": "y"
        },
        {
         "hovertemplate": "state=Louisiana<br>day=22<br>variable=%{x}<br>value=%{marker.size}<extra></extra>",
         "legendgroup": "Louisiana",
         "marker": {
          "color": "#19d3f3",
          "size": [
           305,
           0,
           295,
           0,
           874
          ],
          "sizemode": "area",
          "sizeref": 73.6175,
          "symbol": "circle"
         },
         "mode": "markers",
         "name": "Louisiana",
         "orientation": "v",
         "showlegend": true,
         "type": "scatter",
         "x": [
          "carrier_delay",
          "weather_delay",
          "nas_delay",
          "security_delay",
          "late_aircraft_delay"
         ],
         "xaxis": "x",
         "y": [
          305,
          0,
          295,
          0,
          874
         ],
         "yaxis": "y"
        },
        {
         "hovertemplate": "state=North Carolina<br>day=22<br>variable=%{x}<br>value=%{marker.size}<extra></extra>",
         "legendgroup": "North Carolina",
         "marker": {
          "color": "#FF6692",
          "size": [
           1788,
           95,
           2520,
           42,
           2110
          ],
          "sizemode": "area",
          "sizeref": 73.6175,
          "symbol": "circle"
         },
         "mode": "markers",
         "name": "North Carolina",
         "orientation": "v",
         "showlegend": true,
         "type": "scatter",
         "x": [
          "carrier_delay",
          "weather_delay",
          "nas_delay",
          "security_delay",
          "late_aircraft_delay"
         ],
         "xaxis": "x",
         "y": [
          1788,
          95,
          2520,
          42,
          2110
         ],
         "yaxis": "y"
        },
        {
         "hovertemplate": "state=Florida<br>day=22<br>variable=%{x}<br>value=%{marker.size}<extra></extra>",
         "legendgroup": "Florida",
         "marker": {
          "color": "#B6E880",
          "size": [
           5423,
           54,
           3828,
           157,
           8565
          ],
          "sizemode": "area",
          "sizeref": 73.6175,
          "symbol": "circle"
         },
         "mode": "markers",
         "name": "Florida",
         "orientation": "v",
         "showlegend": true,
         "type": "scatter",
         "x": [
          "carrier_delay",
          "weather_delay",
          "nas_delay",
          "security_delay",
          "late_aircraft_delay"
         ],
         "xaxis": "x",
         "y": [
          5423,
          54,
          3828,
          157,
          8565
         ],
         "yaxis": "y"
        },
        {
         "hovertemplate": "state=Missouri<br>day=22<br>variable=%{x}<br>value=%{marker.size}<extra></extra>",
         "legendgroup": "Missouri",
         "marker": {
          "color": "#FF97FF",
          "size": [
           336,
           36,
           1656,
           0,
           3261
          ],
          "sizemode": "area",
          "sizeref": 73.6175,
          "symbol": "circle"
         },
         "mode": "markers",
         "name": "Missouri",
         "orientation": "v",
         "showlegend": true,
         "type": "scatter",
         "x": [
          "carrier_delay",
          "weather_delay",
          "nas_delay",
          "security_delay",
          "late_aircraft_delay"
         ],
         "xaxis": "x",
         "y": [
          336,
          36,
          1656,
          0,
          3261
         ],
         "yaxis": "y"
        },
        {
         "hovertemplate": "state=Wisconsin<br>day=22<br>variable=%{x}<br>value=%{marker.size}<extra></extra>",
         "legendgroup": "Wisconsin",
         "marker": {
          "color": "#FECB52",
          "size": [
           937,
           107,
           5042,
           0,
           4418
          ],
          "sizemode": "area",
          "sizeref": 73.6175,
          "symbol": "circle"
         },
         "mode": "markers",
         "name": "Wisconsin",
         "orientation": "v",
         "showlegend": true,
         "type": "scatter",
         "x": [
          "carrier_delay",
          "weather_delay",
          "nas_delay",
          "security_delay",
          "late_aircraft_delay"
         ],
         "xaxis": "x",
         "y": [
          937,
          107,
          5042,
          0,
          4418
         ],
         "yaxis": "y"
        },
        {
         "hovertemplate": "state=New York<br>day=22<br>variable=%{x}<br>value=%{marker.size}<extra></extra>",
         "legendgroup": "New York",
         "marker": {
          "color": "#636efa",
          "size": [
           4361,
           218,
           4586,
           210,
           4367
          ],
          "sizemode": "area",
          "sizeref": 73.6175,
          "symbol": "circle"
         },
         "mode": "markers",
         "name": "New York",
         "orientation": "v",
         "showlegend": true,
         "type": "scatter",
         "x": [
          "carrier_delay",
          "weather_delay",
          "nas_delay",
          "security_delay",
          "late_aircraft_delay"
         ],
         "xaxis": "x",
         "y": [
          4361,
          218,
          4586,
          210,
          4367
         ],
         "yaxis": "y"
        },
        {
         "hovertemplate": "state=Rhode Island<br>day=22<br>variable=%{x}<br>value=%{marker.size}<extra></extra>",
         "legendgroup": "Rhode Island",
         "marker": {
          "color": "#EF553B",
          "size": [
           123,
           0,
           328,
           0,
           89
          ],
          "sizemode": "area",
          "sizeref": 73.6175,
          "symbol": "circle"
         },
         "mode": "markers",
         "name": "Rhode Island",
         "orientation": "v",
         "showlegend": true,
         "type": "scatter",
         "x": [
          "carrier_delay",
          "weather_delay",
          "nas_delay",
          "security_delay",
          "late_aircraft_delay"
         ],
         "xaxis": "x",
         "y": [
          123,
          0,
          328,
          0,
          89
         ],
         "yaxis": "y"
        },
        {
         "hovertemplate": "state=Texas<br>day=22<br>variable=%{x}<br>value=%{marker.size}<extra></extra>",
         "legendgroup": "Texas",
         "marker": {
          "color": "#00cc96",
          "size": [
           6890,
           311,
           5324,
           184,
           6983
          ],
          "sizemode": "area",
          "sizeref": 73.6175,
          "symbol": "circle"
         },
         "mode": "markers",
         "name": "Texas",
         "orientation": "v",
         "showlegend": true,
         "type": "scatter",
         "x": [
          "carrier_delay",
          "weather_delay",
          "nas_delay",
          "security_delay",
          "late_aircraft_delay"
         ],
         "xaxis": "x",
         "y": [
          6890,
          311,
          5324,
          184,
          6983
         ],
         "yaxis": "y"
        },
        {
         "hovertemplate": "state=Kentucky<br>day=22<br>variable=%{x}<br>value=%{marker.size}<extra></extra>",
         "legendgroup": "Kentucky",
         "marker": {
          "color": "#ab63fa",
          "size": [
           114,
           26,
           747,
           0,
           768
          ],
          "sizemode": "area",
          "sizeref": 73.6175,
          "symbol": "circle"
         },
         "mode": "markers",
         "name": "Kentucky",
         "orientation": "v",
         "showlegend": true,
         "type": "scatter",
         "x": [
          "carrier_delay",
          "weather_delay",
          "nas_delay",
          "security_delay",
          "late_aircraft_delay"
         ],
         "xaxis": "x",
         "y": [
          114,
          26,
          747,
          0,
          768
         ],
         "yaxis": "y"
        },
        {
         "hovertemplate": "state=South Carolina<br>day=22<br>variable=%{x}<br>value=%{marker.size}<extra></extra>",
         "legendgroup": "South Carolina",
         "marker": {
          "color": "#FFA15A",
          "size": [
           759,
           0,
           1036,
           0,
           135
          ],
          "sizemode": "area",
          "sizeref": 73.6175,
          "symbol": "circle"
         },
         "mode": "markers",
         "name": "South Carolina",
         "orientation": "v",
         "showlegend": true,
         "type": "scatter",
         "x": [
          "carrier_delay",
          "weather_delay",
          "nas_delay",
          "security_delay",
          "late_aircraft_delay"
         ],
         "xaxis": "x",
         "y": [
          759,
          0,
          1036,
          0,
          135
         ],
         "yaxis": "y"
        },
        {
         "hovertemplate": "state=Pennsylvania<br>day=22<br>variable=%{x}<br>value=%{marker.size}<extra></extra>",
         "legendgroup": "Pennsylvania",
         "marker": {
          "color": "#19d3f3",
          "size": [
           1995,
           546,
           2879,
           168,
           3281
          ],
          "sizemode": "area",
          "sizeref": 73.6175,
          "symbol": "circle"
         },
         "mode": "markers",
         "name": "Pennsylvania",
         "orientation": "v",
         "showlegend": true,
         "type": "scatter",
         "x": [
          "carrier_delay",
          "weather_delay",
          "nas_delay",
          "security_delay",
          "late_aircraft_delay"
         ],
         "xaxis": "x",
         "y": [
          1995,
          546,
          2879,
          168,
          3281
         ],
         "yaxis": "y"
        },
        {
         "hovertemplate": "state=Illinois<br>day=22<br>variable=%{x}<br>value=%{marker.size}<extra></extra>",
         "legendgroup": "Illinois",
         "marker": {
          "color": "#FF6692",
          "size": [
           11985,
           7568,
           16495,
           9,
           29447
          ],
          "sizemode": "area",
          "sizeref": 73.6175,
          "symbol": "circle"
         },
         "mode": "markers",
         "name": "Illinois",
         "orientation": "v",
         "showlegend": true,
         "type": "scatter",
         "x": [
          "carrier_delay",
          "weather_delay",
          "nas_delay",
          "security_delay",
          "late_aircraft_delay"
         ],
         "xaxis": "x",
         "y": [
          11985,
          7568,
          16495,
          9,
          29447
         ],
         "yaxis": "y"
        },
        {
         "hovertemplate": "state=Ohio<br>day=22<br>variable=%{x}<br>value=%{marker.size}<extra></extra>",
         "legendgroup": "Ohio",
         "marker": {
          "color": "#B6E880",
          "size": [
           1829,
           129,
           4328,
           0,
           3312
          ],
          "sizemode": "area",
          "sizeref": 73.6175,
          "symbol": "circle"
         },
         "mode": "markers",
         "name": "Ohio",
         "orientation": "v",
         "showlegend": true,
         "type": "scatter",
         "x": [
          "carrier_delay",
          "weather_delay",
          "nas_delay",
          "security_delay",
          "late_aircraft_delay"
         ],
         "xaxis": "x",
         "y": [
          1829,
          129,
          4328,
          0,
          3312
         ],
         "yaxis": "y"
        },
        {
         "hovertemplate": "state=Michigan<br>day=22<br>variable=%{x}<br>value=%{marker.size}<extra></extra>",
         "legendgroup": "Michigan",
         "marker": {
          "color": "#FF97FF",
          "size": [
           3182,
           454,
           3326,
           0,
           3325
          ],
          "sizemode": "area",
          "sizeref": 73.6175,
          "symbol": "circle"
         },
         "mode": "markers",
         "name": "Michigan",
         "orientation": "v",
         "showlegend": true,
         "type": "scatter",
         "x": [
          "carrier_delay",
          "weather_delay",
          "nas_delay",
          "security_delay",
          "late_aircraft_delay"
         ],
         "xaxis": "x",
         "y": [
          3182,
          454,
          3326,
          0,
          3325
         ],
         "yaxis": "y"
        },
        {
         "hovertemplate": "state=New Jersey<br>day=22<br>variable=%{x}<br>value=%{marker.size}<extra></extra>",
         "legendgroup": "New Jersey",
         "marker": {
          "color": "#FECB52",
          "size": [
           2891,
           341,
           1336,
           400,
           6040
          ],
          "sizemode": "area",
          "sizeref": 73.6175,
          "symbol": "circle"
         },
         "mode": "markers",
         "name": "New Jersey",
         "orientation": "v",
         "showlegend": true,
         "type": "scatter",
         "x": [
          "carrier_delay",
          "weather_delay",
          "nas_delay",
          "security_delay",
          "late_aircraft_delay"
         ],
         "xaxis": "x",
         "y": [
          2891,
          341,
          1336,
          400,
          6040
         ],
         "yaxis": "y"
        },
        {
         "hovertemplate": "state=Oklahoma<br>day=22<br>variable=%{x}<br>value=%{marker.size}<extra></extra>",
         "legendgroup": "Oklahoma",
         "marker": {
          "color": "#636efa",
          "size": [
           264,
           0,
           929,
           0,
           745
          ],
          "sizemode": "area",
          "sizeref": 73.6175,
          "symbol": "circle"
         },
         "mode": "markers",
         "name": "Oklahoma",
         "orientation": "v",
         "showlegend": true,
         "type": "scatter",
         "x": [
          "carrier_delay",
          "weather_delay",
          "nas_delay",
          "security_delay",
          "late_aircraft_delay"
         ],
         "xaxis": "x",
         "y": [
          264,
          0,
          929,
          0,
          745
         ],
         "yaxis": "y"
        },
        {
         "hovertemplate": "state=Maine<br>day=22<br>variable=%{x}<br>value=%{marker.size}<extra></extra>",
         "legendgroup": "Maine",
         "marker": {
          "color": "#EF553B",
          "size": [
           29,
           0,
           51,
           0,
           187
          ],
          "sizemode": "area",
          "sizeref": 73.6175,
          "symbol": "circle"
         },
         "mode": "markers",
         "name": "Maine",
         "orientation": "v",
         "showlegend": true,
         "type": "scatter",
         "x": [
          "carrier_delay",
          "weather_delay",
          "nas_delay",
          "security_delay",
          "late_aircraft_delay"
         ],
         "xaxis": "x",
         "y": [
          29,
          0,
          51,
          0,
          187
         ],
         "yaxis": "y"
        },
        {
         "hovertemplate": "state=Minnesota<br>day=22<br>variable=%{x}<br>value=%{marker.size}<extra></extra>",
         "legendgroup": "Minnesota",
         "marker": {
          "color": "#00cc96",
          "size": [
           2616,
           201,
           2186,
           0,
           2148
          ],
          "sizemode": "area",
          "sizeref": 73.6175,
          "symbol": "circle"
         },
         "mode": "markers",
         "name": "Minnesota",
         "orientation": "v",
         "showlegend": true,
         "type": "scatter",
         "x": [
          "carrier_delay",
          "weather_delay",
          "nas_delay",
          "security_delay",
          "late_aircraft_delay"
         ],
         "xaxis": "x",
         "y": [
          2616,
          201,
          2186,
          0,
          2148
         ],
         "yaxis": "y"
        },
        {
         "hovertemplate": "state=Iowa<br>day=22<br>variable=%{x}<br>value=%{marker.size}<extra></extra>",
         "legendgroup": "Iowa",
         "marker": {
          "color": "#ab63fa",
          "size": [
           96,
           240,
           1460,
           0,
           1258
          ],
          "sizemode": "area",
          "sizeref": 73.6175,
          "symbol": "circle"
         },
         "mode": "markers",
         "name": "Iowa",
         "orientation": "v",
         "showlegend": true,
         "type": "scatter",
         "x": [
          "carrier_delay",
          "weather_delay",
          "nas_delay",
          "security_delay",
          "late_aircraft_delay"
         ],
         "xaxis": "x",
         "y": [
          96,
          240,
          1460,
          0,
          1258
         ],
         "yaxis": "y"
        },
        {
         "hovertemplate": "state=Alabama<br>day=22<br>variable=%{x}<br>value=%{marker.size}<extra></extra>",
         "legendgroup": "Alabama",
         "marker": {
          "color": "#FFA15A",
          "size": [
           232,
           60,
           598,
           0,
           663
          ],
          "sizemode": "area",
          "sizeref": 73.6175,
          "symbol": "circle"
         },
         "mode": "markers",
         "name": "Alabama",
         "orientation": "v",
         "showlegend": true,
         "type": "scatter",
         "x": [
          "carrier_delay",
          "weather_delay",
          "nas_delay",
          "security_delay",
          "late_aircraft_delay"
         ],
         "xaxis": "x",
         "y": [
          232,
          60,
          598,
          0,
          663
         ],
         "yaxis": "y"
        },
        {
         "hovertemplate": "state=Indiana<br>day=22<br>variable=%{x}<br>value=%{marker.size}<extra></extra>",
         "legendgroup": "Indiana",
         "marker": {
          "color": "#19d3f3",
          "size": [
           451,
           50,
           1633,
           0,
           1004
          ],
          "sizemode": "area",
          "sizeref": 73.6175,
          "symbol": "circle"
         },
         "mode": "markers",
         "name": "Indiana",
         "orientation": "v",
         "showlegend": true,
         "type": "scatter",
         "x": [
          "carrier_delay",
          "weather_delay",
          "nas_delay",
          "security_delay",
          "late_aircraft_delay"
         ],
         "xaxis": "x",
         "y": [
          451,
          50,
          1633,
          0,
          1004
         ],
         "yaxis": "y"
        },
        {
         "hovertemplate": "state=Kansas<br>day=22<br>variable=%{x}<br>value=%{marker.size}<extra></extra>",
         "legendgroup": "Kansas",
         "marker": {
          "color": "#FF6692",
          "size": [
           218,
           0,
           400,
           0,
           845
          ],
          "sizemode": "area",
          "sizeref": 73.6175,
          "symbol": "circle"
         },
         "mode": "markers",
         "name": "Kansas",
         "orientation": "v",
         "showlegend": true,
         "type": "scatter",
         "x": [
          "carrier_delay",
          "weather_delay",
          "nas_delay",
          "security_delay",
          "late_aircraft_delay"
         ],
         "xaxis": "x",
         "y": [
          218,
          0,
          400,
          0,
          845
         ],
         "yaxis": "y"
        },
        {
         "hovertemplate": "state=South Dakota<br>day=22<br>variable=%{x}<br>value=%{marker.size}<extra></extra>",
         "legendgroup": "South Dakota",
         "marker": {
          "color": "#B6E880",
          "size": [
           17,
           0,
           629,
           0,
           90
          ],
          "sizemode": "area",
          "sizeref": 73.6175,
          "symbol": "circle"
         },
         "mode": "markers",
         "name": "South Dakota",
         "orientation": "v",
         "showlegend": true,
         "type": "scatter",
         "x": [
          "carrier_delay",
          "weather_delay",
          "nas_delay",
          "security_delay",
          "late_aircraft_delay"
         ],
         "xaxis": "x",
         "y": [
          17,
          0,
          629,
          0,
          90
         ],
         "yaxis": "y"
        },
        {
         "hovertemplate": "state=North Dakota<br>day=22<br>variable=%{x}<br>value=%{marker.size}<extra></extra>",
         "legendgroup": "North Dakota",
         "marker": {
          "color": "#FF97FF",
          "size": [
           121,
           0,
           482,
           0,
           552
          ],
          "sizemode": "area",
          "sizeref": 73.6175,
          "symbol": "circle"
         },
         "mode": "markers",
         "name": "North Dakota",
         "orientation": "v",
         "showlegend": true,
         "type": "scatter",
         "x": [
          "carrier_delay",
          "weather_delay",
          "nas_delay",
          "security_delay",
          "late_aircraft_delay"
         ],
         "xaxis": "x",
         "y": [
          121,
          0,
          482,
          0,
          552
         ],
         "yaxis": "y"
        },
        {
         "hovertemplate": "state=Nebraska<br>day=22<br>variable=%{x}<br>value=%{marker.size}<extra></extra>",
         "legendgroup": "Nebraska",
         "marker": {
          "color": "#FECB52",
          "size": [
           215,
           4,
           1187,
           0,
           1467
          ],
          "sizemode": "area",
          "sizeref": 73.6175,
          "symbol": "circle"
         },
         "mode": "markers",
         "name": "Nebraska",
         "orientation": "v",
         "showlegend": true,
         "type": "scatter",
         "x": [
          "carrier_delay",
          "weather_delay",
          "nas_delay",
          "security_delay",
          "late_aircraft_delay"
         ],
         "xaxis": "x",
         "y": [
          215,
          4,
          1187,
          0,
          1467
         ],
         "yaxis": "y"
        },
        {
         "hovertemplate": "state=Vermont<br>day=22<br>variable=%{x}<br>value=%{marker.size}<extra></extra>",
         "legendgroup": "Vermont",
         "marker": {
          "color": "#636efa",
          "size": [
           20,
           3,
           76,
           0,
           56
          ],
          "sizemode": "area",
          "sizeref": 73.6175,
          "symbol": "circle"
         },
         "mode": "markers",
         "name": "Vermont",
         "orientation": "v",
         "showlegend": true,
         "type": "scatter",
         "x": [
          "carrier_delay",
          "weather_delay",
          "nas_delay",
          "security_delay",
          "late_aircraft_delay"
         ],
         "xaxis": "x",
         "y": [
          20,
          3,
          76,
          0,
          56
         ],
         "yaxis": "y"
        },
        {
         "hovertemplate": "state=Arkansas<br>day=22<br>variable=%{x}<br>value=%{marker.size}<extra></extra>",
         "legendgroup": "Arkansas",
         "marker": {
          "color": "#EF553B",
          "size": [
           224,
           0,
           1300,
           0,
           904
          ],
          "sizemode": "area",
          "sizeref": 73.6175,
          "symbol": "circle"
         },
         "mode": "markers",
         "name": "Arkansas",
         "orientation": "v",
         "showlegend": true,
         "type": "scatter",
         "x": [
          "carrier_delay",
          "weather_delay",
          "nas_delay",
          "security_delay",
          "late_aircraft_delay"
         ],
         "xaxis": "x",
         "y": [
          224,
          0,
          1300,
          0,
          904
         ],
         "yaxis": "y"
        },
        {
         "hovertemplate": "state=Massachusetts<br>day=22<br>variable=%{x}<br>value=%{marker.size}<extra></extra>",
         "legendgroup": "Massachusetts",
         "marker": {
          "color": "#00cc96",
          "size": [
           1113,
           107,
           1014,
           0,
           1628
          ],
          "sizemode": "area",
          "sizeref": 73.6175,
          "symbol": "circle"
         },
         "mode": "markers",
         "name": "Massachusetts",
         "orientation": "v",
         "showlegend": true,
         "type": "scatter",
         "x": [
          "carrier_delay",
          "weather_delay",
          "nas_delay",
          "security_delay",
          "late_aircraft_delay"
         ],
         "xaxis": "x",
         "y": [
          1113,
          107,
          1014,
          0,
          1628
         ],
         "yaxis": "y"
        },
        {
         "hovertemplate": "state=Connecticut<br>day=22<br>variable=%{x}<br>value=%{marker.size}<extra></extra>",
         "legendgroup": "Connecticut",
         "marker": {
          "color": "#ab63fa",
          "size": [
           356,
           7,
           310,
           0,
           588
          ],
          "sizemode": "area",
          "sizeref": 73.6175,
          "symbol": "circle"
         },
         "mode": "markers",
         "name": "Connecticut",
         "orientation": "v",
         "showlegend": true,
         "type": "scatter",
         "x": [
          "carrier_delay",
          "weather_delay",
          "nas_delay",
          "security_delay",
          "late_aircraft_delay"
         ],
         "xaxis": "x",
         "y": [
          356,
          7,
          310,
          0,
          588
         ],
         "yaxis": "y"
        },
        {
         "hovertemplate": "state=New Hampshire<br>day=22<br>variable=%{x}<br>value=%{marker.size}<extra></extra>",
         "legendgroup": "New Hampshire",
         "marker": {
          "color": "#FFA15A",
          "size": [
           347,
           0,
           247,
           0,
           251
          ],
          "sizemode": "area",
          "sizeref": 73.6175,
          "symbol": "circle"
         },
         "mode": "markers",
         "name": "New Hampshire",
         "orientation": "v",
         "showlegend": true,
         "type": "scatter",
         "x": [
          "carrier_delay",
          "weather_delay",
          "nas_delay",
          "security_delay",
          "late_aircraft_delay"
         ],
         "xaxis": "x",
         "y": [
          347,
          0,
          247,
          0,
          251
         ],
         "yaxis": "y"
        },
        {
         "hovertemplate": "state=California<br>day=22<br>variable=%{x}<br>value=%{marker.size}<extra></extra>",
         "legendgroup": "California",
         "marker": {
          "color": "#19d3f3",
          "size": [
           8139,
           744,
           5077,
           62,
           14872
          ],
          "sizemode": "area",
          "sizeref": 73.6175,
          "symbol": "circle"
         },
         "mode": "markers",
         "name": "California",
         "orientation": "v",
         "showlegend": true,
         "type": "scatter",
         "x": [
          "carrier_delay",
          "weather_delay",
          "nas_delay",
          "security_delay",
          "late_aircraft_delay"
         ],
         "xaxis": "x",
         "y": [
          8139,
          744,
          5077,
          62,
          14872
         ],
         "yaxis": "y"
        },
        {
         "hovertemplate": "state=Hawaii<br>day=22<br>variable=%{x}<br>value=%{marker.size}<extra></extra>",
         "legendgroup": "Hawaii",
         "marker": {
          "color": "#FF6692",
          "size": [
           586,
           0,
           109,
           0,
           492
          ],
          "sizemode": "area",
          "sizeref": 73.6175,
          "symbol": "circle"
         },
         "mode": "markers",
         "name": "Hawaii",
         "orientation": "v",
         "showlegend": true,
         "type": "scatter",
         "x": [
          "carrier_delay",
          "weather_delay",
          "nas_delay",
          "security_delay",
          "late_aircraft_delay"
         ],
         "xaxis": "x",
         "y": [
          586,
          0,
          109,
          0,
          492
         ],
         "yaxis": "y"
        },
        {
         "hovertemplate": "state=Puerto Rico<br>day=22<br>variable=%{x}<br>value=%{marker.size}<extra></extra>",
         "legendgroup": "Puerto Rico",
         "marker": {
          "color": "#B6E880",
          "size": [
           553,
           0,
           32,
           0,
           923
          ],
          "sizemode": "area",
          "sizeref": 73.6175,
          "symbol": "circle"
         },
         "mode": "markers",
         "name": "Puerto Rico",
         "orientation": "v",
         "showlegend": true,
         "type": "scatter",
         "x": [
          "carrier_delay",
          "weather_delay",
          "nas_delay",
          "security_delay",
          "late_aircraft_delay"
         ],
         "xaxis": "x",
         "y": [
          553,
          0,
          32,
          0,
          923
         ],
         "yaxis": "y"
        },
        {
         "hovertemplate": "state=Nevada<br>day=22<br>variable=%{x}<br>value=%{marker.size}<extra></extra>",
         "legendgroup": "Nevada",
         "marker": {
          "color": "#FF97FF",
          "size": [
           2673,
           263,
           933,
           17,
           4646
          ],
          "sizemode": "area",
          "sizeref": 73.6175,
          "symbol": "circle"
         },
         "mode": "markers",
         "name": "Nevada",
         "orientation": "v",
         "showlegend": true,
         "type": "scatter",
         "x": [
          "carrier_delay",
          "weather_delay",
          "nas_delay",
          "security_delay",
          "late_aircraft_delay"
         ],
         "xaxis": "x",
         "y": [
          2673,
          263,
          933,
          17,
          4646
         ],
         "yaxis": "y"
        },
        {
         "hovertemplate": "state=Washington<br>day=22<br>variable=%{x}<br>value=%{marker.size}<extra></extra>",
         "legendgroup": "Washington",
         "marker": {
          "color": "#FECB52",
          "size": [
           727,
           11,
           852,
           0,
           1110
          ],
          "sizemode": "area",
          "sizeref": 73.6175,
          "symbol": "circle"
         },
         "mode": "markers",
         "name": "Washington",
         "orientation": "v",
         "showlegend": true,
         "type": "scatter",
         "x": [
          "carrier_delay",
          "weather_delay",
          "nas_delay",
          "security_delay",
          "late_aircraft_delay"
         ],
         "xaxis": "x",
         "y": [
          727,
          11,
          852,
          0,
          1110
         ],
         "yaxis": "y"
        },
        {
         "hovertemplate": "state=Colorado<br>day=22<br>variable=%{x}<br>value=%{marker.size}<extra></extra>",
         "legendgroup": "Colorado",
         "marker": {
          "color": "#636efa",
          "size": [
           4841,
           206,
           2492,
           11,
           7767
          ],
          "sizemode": "area",
          "sizeref": 73.6175,
          "symbol": "circle"
         },
         "mode": "markers",
         "name": "Colorado",
         "orientation": "v",
         "showlegend": true,
         "type": "scatter",
         "x": [
          "carrier_delay",
          "weather_delay",
          "nas_delay",
          "security_delay",
          "late_aircraft_delay"
         ],
         "xaxis": "x",
         "y": [
          4841,
          206,
          2492,
          11,
          7767
         ],
         "yaxis": "y"
        },
        {
         "hovertemplate": "state=New Mexico<br>day=22<br>variable=%{x}<br>value=%{marker.size}<extra></extra>",
         "legendgroup": "New Mexico",
         "marker": {
          "color": "#EF553B",
          "size": [
           449,
           0,
           152,
           0,
           803
          ],
          "sizemode": "area",
          "sizeref": 73.6175,
          "symbol": "circle"
         },
         "mode": "markers",
         "name": "New Mexico",
         "orientation": "v",
         "showlegend": true,
         "type": "scatter",
         "x": [
          "carrier_delay",
          "weather_delay",
          "nas_delay",
          "security_delay",
          "late_aircraft_delay"
         ],
         "xaxis": "x",
         "y": [
          449,
          0,
          152,
          0,
          803
         ],
         "yaxis": "y"
        },
        {
         "hovertemplate": "state=Arizona<br>day=22<br>variable=%{x}<br>value=%{marker.size}<extra></extra>",
         "legendgroup": "Arizona",
         "marker": {
          "color": "#00cc96",
          "size": [
           4388,
           854,
           1848,
           0,
           3504
          ],
          "sizemode": "area",
          "sizeref": 73.6175,
          "symbol": "circle"
         },
         "mode": "markers",
         "name": "Arizona",
         "orientation": "v",
         "showlegend": true,
         "type": "scatter",
         "x": [
          "carrier_delay",
          "weather_delay",
          "nas_delay",
          "security_delay",
          "late_aircraft_delay"
         ],
         "xaxis": "x",
         "y": [
          4388,
          854,
          1848,
          0,
          3504
         ],
         "yaxis": "y"
        },
        {
         "hovertemplate": "state=Utah<br>day=22<br>variable=%{x}<br>value=%{marker.size}<extra></extra>",
         "legendgroup": "Utah",
         "marker": {
          "color": "#ab63fa",
          "size": [
           1994,
           820,
           5810,
           0,
           4190
          ],
          "sizemode": "area",
          "sizeref": 73.6175,
          "symbol": "circle"
         },
         "mode": "markers",
         "name": "Utah",
         "orientation": "v",
         "showlegend": true,
         "type": "scatter",
         "x": [
          "carrier_delay",
          "weather_delay",
          "nas_delay",
          "security_delay",
          "late_aircraft_delay"
         ],
         "xaxis": "x",
         "y": [
          1994,
          820,
          5810,
          0,
          4190
         ],
         "yaxis": "y"
        },
        {
         "hovertemplate": "state=U.S. Virgin Islands<br>day=22<br>variable=%{x}<br>value=%{marker.size}<extra></extra>",
         "legendgroup": "U.S. Virgin Islands",
         "marker": {
          "color": "#FFA15A",
          "size": [
           0,
           0,
           0,
           0,
           21
          ],
          "sizemode": "area",
          "sizeref": 73.6175,
          "symbol": "circle"
         },
         "mode": "markers",
         "name": "U.S. Virgin Islands",
         "orientation": "v",
         "showlegend": true,
         "type": "scatter",
         "x": [
          "carrier_delay",
          "weather_delay",
          "nas_delay",
          "security_delay",
          "late_aircraft_delay"
         ],
         "xaxis": "x",
         "y": [
          0,
          0,
          0,
          0,
          21
         ],
         "yaxis": "y"
        },
        {
         "hovertemplate": "state=Oregon<br>day=22<br>variable=%{x}<br>value=%{marker.size}<extra></extra>",
         "legendgroup": "Oregon",
         "marker": {
          "color": "#19d3f3",
          "size": [
           381,
           45,
           483,
           0,
           1724
          ],
          "sizemode": "area",
          "sizeref": 73.6175,
          "symbol": "circle"
         },
         "mode": "markers",
         "name": "Oregon",
         "orientation": "v",
         "showlegend": true,
         "type": "scatter",
         "x": [
          "carrier_delay",
          "weather_delay",
          "nas_delay",
          "security_delay",
          "late_aircraft_delay"
         ],
         "xaxis": "x",
         "y": [
          381,
          45,
          483,
          0,
          1724
         ],
         "yaxis": "y"
        },
        {
         "hovertemplate": "state=Maryland<br>day=22<br>variable=%{x}<br>value=%{marker.size}<extra></extra>",
         "legendgroup": "Maryland",
         "marker": {
          "color": "#FF6692",
          "size": [
           1915,
           101,
           546,
           8,
           2589
          ],
          "sizemode": "area",
          "sizeref": 73.6175,
          "symbol": "circle"
         },
         "mode": "markers",
         "name": "Maryland",
         "orientation": "v",
         "showlegend": true,
         "type": "scatter",
         "x": [
          "carrier_delay",
          "weather_delay",
          "nas_delay",
          "security_delay",
          "late_aircraft_delay"
         ],
         "xaxis": "x",
         "y": [
          1915,
          101,
          546,
          8,
          2589
         ],
         "yaxis": "y"
        },
        {
         "hovertemplate": "state=Wyoming<br>day=22<br>variable=%{x}<br>value=%{marker.size}<extra></extra>",
         "legendgroup": "Wyoming",
         "marker": {
          "color": "#B6E880",
          "size": [
           256,
           0,
           129,
           0,
           114
          ],
          "sizemode": "area",
          "sizeref": 73.6175,
          "symbol": "circle"
         },
         "mode": "markers",
         "name": "Wyoming",
         "orientation": "v",
         "showlegend": true,
         "type": "scatter",
         "x": [
          "carrier_delay",
          "weather_delay",
          "nas_delay",
          "security_delay",
          "late_aircraft_delay"
         ],
         "xaxis": "x",
         "y": [
          256,
          0,
          129,
          0,
          114
         ],
         "yaxis": "y"
        },
        {
         "hovertemplate": "state=Alaska<br>day=22<br>variable=%{x}<br>value=%{marker.size}<extra></extra>",
         "legendgroup": "Alaska",
         "marker": {
          "color": "#FF97FF",
          "size": [
           361,
           0,
           103,
           0,
           972
          ],
          "sizemode": "area",
          "sizeref": 73.6175,
          "symbol": "circle"
         },
         "mode": "markers",
         "name": "Alaska",
         "orientation": "v",
         "showlegend": true,
         "type": "scatter",
         "x": [
          "carrier_delay",
          "weather_delay",
          "nas_delay",
          "security_delay",
          "late_aircraft_delay"
         ],
         "xaxis": "x",
         "y": [
          361,
          0,
          103,
          0,
          972
         ],
         "yaxis": "y"
        },
        {
         "hovertemplate": "state=Idaho<br>day=22<br>variable=%{x}<br>value=%{marker.size}<extra></extra>",
         "legendgroup": "Idaho",
         "marker": {
          "color": "#FECB52",
          "size": [
           66,
           100,
           404,
           0,
           735
          ],
          "sizemode": "area",
          "sizeref": 73.6175,
          "symbol": "circle"
         },
         "mode": "markers",
         "name": "Idaho",
         "orientation": "v",
         "showlegend": true,
         "type": "scatter",
         "x": [
          "carrier_delay",
          "weather_delay",
          "nas_delay",
          "security_delay",
          "late_aircraft_delay"
         ],
         "xaxis": "x",
         "y": [
          66,
          100,
          404,
          0,
          735
         ],
         "yaxis": "y"
        },
        {
         "hovertemplate": "state=Montana<br>day=22<br>variable=%{x}<br>value=%{marker.size}<extra></extra>",
         "legendgroup": "Montana",
         "marker": {
          "color": "#636efa",
          "size": [
           138,
           171,
           606,
           0,
           794
          ],
          "sizemode": "area",
          "sizeref": 73.6175,
          "symbol": "circle"
         },
         "mode": "markers",
         "name": "Montana",
         "orientation": "v",
         "showlegend": true,
         "type": "scatter",
         "x": [
          "carrier_delay",
          "weather_delay",
          "nas_delay",
          "security_delay",
          "late_aircraft_delay"
         ],
         "xaxis": "x",
         "y": [
          138,
          171,
          606,
          0,
          794
         ],
         "yaxis": "y"
        },
        {
         "hovertemplate": "state=West Virginia<br>day=22<br>variable=%{x}<br>value=%{marker.size}<extra></extra>",
         "legendgroup": "West Virginia",
         "marker": {
          "color": "#EF553B",
          "size": [
           5,
           0,
           145,
           0,
           192
          ],
          "sizemode": "area",
          "sizeref": 73.6175,
          "symbol": "circle"
         },
         "mode": "markers",
         "name": "West Virginia",
         "orientation": "v",
         "showlegend": true,
         "type": "scatter",
         "x": [
          "carrier_delay",
          "weather_delay",
          "nas_delay",
          "security_delay",
          "late_aircraft_delay"
         ],
         "xaxis": "x",
         "y": [
          5,
          0,
          145,
          0,
          192
         ],
         "yaxis": "y"
        }
       ],
       "frames": [
        {
         "data": [
          {
           "hovertemplate": "state=Georgia<br>day=22<br>variable=%{x}<br>value=%{marker.size}<extra></extra>",
           "legendgroup": "Georgia",
           "marker": {
            "color": "#636efa",
            "size": [
             4230,
             301,
             3332,
             0,
             2782
            ],
            "sizemode": "area",
            "sizeref": 73.6175,
            "symbol": "circle"
           },
           "mode": "markers",
           "name": "Georgia",
           "orientation": "v",
           "showlegend": true,
           "type": "scatter",
           "x": [
            "carrier_delay",
            "weather_delay",
            "nas_delay",
            "security_delay",
            "late_aircraft_delay"
           ],
           "xaxis": "x",
           "y": [
            4230,
            301,
            3332,
            0,
            2782
           ],
           "yaxis": "y"
          },
          {
           "hovertemplate": "state=Tennessee<br>day=22<br>variable=%{x}<br>value=%{marker.size}<extra></extra>",
           "legendgroup": "Tennessee",
           "marker": {
            "color": "#EF553B",
            "size": [
             1767,
             384,
             2521,
             0,
             2674
            ],
            "sizemode": "area",
            "sizeref": 73.6175,
            "symbol": "circle"
           },
           "mode": "markers",
           "name": "Tennessee",
           "orientation": "v",
           "showlegend": true,
           "type": "scatter",
           "x": [
            "carrier_delay",
            "weather_delay",
            "nas_delay",
            "security_delay",
            "late_aircraft_delay"
           ],
           "xaxis": "x",
           "y": [
            1767,
            384,
            2521,
            0,
            2674
           ],
           "yaxis": "y"
          },
          {
           "hovertemplate": "state=Virginia<br>day=22<br>variable=%{x}<br>value=%{marker.size}<extra></extra>",
           "legendgroup": "Virginia",
           "marker": {
            "color": "#00cc96",
            "size": [
             629,
             107,
             736,
             0,
             893
            ],
            "sizemode": "area",
            "sizeref": 73.6175,
            "symbol": "circle"
           },
           "mode": "markers",
           "name": "Virginia",
           "orientation": "v",
           "showlegend": true,
           "type": "scatter",
           "x": [
            "carrier_delay",
            "weather_delay",
            "nas_delay",
            "security_delay",
            "late_aircraft_delay"
           ],
           "xaxis": "x",
           "y": [
            629,
            107,
            736,
            0,
            893
           ],
           "yaxis": "y"
          },
          {
           "hovertemplate": "state=Mississippi<br>day=22<br>variable=%{x}<br>value=%{marker.size}<extra></extra>",
           "legendgroup": "Mississippi",
           "marker": {
            "color": "#ab63fa",
            "size": [
             403,
             0,
             89,
             0,
             127
            ],
            "sizemode": "area",
            "sizeref": 73.6175,
            "symbol": "circle"
           },
           "mode": "markers",
           "name": "Mississippi",
           "orientation": "v",
           "showlegend": true,
           "type": "scatter",
           "x": [
            "carrier_delay",
            "weather_delay",
            "nas_delay",
            "security_delay",
            "late_aircraft_delay"
           ],
           "xaxis": "x",
           "y": [
            403,
            0,
            89,
            0,
            127
           ],
           "yaxis": "y"
          },
          {
           "hovertemplate": "state=District of Columbia<br>day=22<br>variable=%{x}<br>value=%{marker.size}<extra></extra>",
           "legendgroup": "District of Columbia",
           "marker": {
            "color": "#FFA15A",
            "size": [
             2467,
             88,
             1928,
             70,
             2430
            ],
            "sizemode": "area",
            "sizeref": 73.6175,
            "symbol": "circle"
           },
           "mode": "markers",
           "name": "District of Columbia",
           "orientation": "v",
           "showlegend": true,
           "type": "scatter",
           "x": [
            "carrier_delay",
            "weather_delay",
            "nas_delay",
            "security_delay",
            "late_aircraft_delay"
           ],
           "xaxis": "x",
           "y": [
            2467,
            88,
            1928,
            70,
            2430
           ],
           "yaxis": "y"
          },
          {
           "hovertemplate": "state=Louisiana<br>day=22<br>variable=%{x}<br>value=%{marker.size}<extra></extra>",
           "legendgroup": "Louisiana",
           "marker": {
            "color": "#19d3f3",
            "size": [
             305,
             0,
             295,
             0,
             874
            ],
            "sizemode": "area",
            "sizeref": 73.6175,
            "symbol": "circle"
           },
           "mode": "markers",
           "name": "Louisiana",
           "orientation": "v",
           "showlegend": true,
           "type": "scatter",
           "x": [
            "carrier_delay",
            "weather_delay",
            "nas_delay",
            "security_delay",
            "late_aircraft_delay"
           ],
           "xaxis": "x",
           "y": [
            305,
            0,
            295,
            0,
            874
           ],
           "yaxis": "y"
          },
          {
           "hovertemplate": "state=North Carolina<br>day=22<br>variable=%{x}<br>value=%{marker.size}<extra></extra>",
           "legendgroup": "North Carolina",
           "marker": {
            "color": "#FF6692",
            "size": [
             1788,
             95,
             2520,
             42,
             2110
            ],
            "sizemode": "area",
            "sizeref": 73.6175,
            "symbol": "circle"
           },
           "mode": "markers",
           "name": "North Carolina",
           "orientation": "v",
           "showlegend": true,
           "type": "scatter",
           "x": [
            "carrier_delay",
            "weather_delay",
            "nas_delay",
            "security_delay",
            "late_aircraft_delay"
           ],
           "xaxis": "x",
           "y": [
            1788,
            95,
            2520,
            42,
            2110
           ],
           "yaxis": "y"
          },
          {
           "hovertemplate": "state=Florida<br>day=22<br>variable=%{x}<br>value=%{marker.size}<extra></extra>",
           "legendgroup": "Florida",
           "marker": {
            "color": "#B6E880",
            "size": [
             5423,
             54,
             3828,
             157,
             8565
            ],
            "sizemode": "area",
            "sizeref": 73.6175,
            "symbol": "circle"
           },
           "mode": "markers",
           "name": "Florida",
           "orientation": "v",
           "showlegend": true,
           "type": "scatter",
           "x": [
            "carrier_delay",
            "weather_delay",
            "nas_delay",
            "security_delay",
            "late_aircraft_delay"
           ],
           "xaxis": "x",
           "y": [
            5423,
            54,
            3828,
            157,
            8565
           ],
           "yaxis": "y"
          },
          {
           "hovertemplate": "state=Missouri<br>day=22<br>variable=%{x}<br>value=%{marker.size}<extra></extra>",
           "legendgroup": "Missouri",
           "marker": {
            "color": "#FF97FF",
            "size": [
             336,
             36,
             1656,
             0,
             3261
            ],
            "sizemode": "area",
            "sizeref": 73.6175,
            "symbol": "circle"
           },
           "mode": "markers",
           "name": "Missouri",
           "orientation": "v",
           "showlegend": true,
           "type": "scatter",
           "x": [
            "carrier_delay",
            "weather_delay",
            "nas_delay",
            "security_delay",
            "late_aircraft_delay"
           ],
           "xaxis": "x",
           "y": [
            336,
            36,
            1656,
            0,
            3261
           ],
           "yaxis": "y"
          },
          {
           "hovertemplate": "state=Wisconsin<br>day=22<br>variable=%{x}<br>value=%{marker.size}<extra></extra>",
           "legendgroup": "Wisconsin",
           "marker": {
            "color": "#FECB52",
            "size": [
             937,
             107,
             5042,
             0,
             4418
            ],
            "sizemode": "area",
            "sizeref": 73.6175,
            "symbol": "circle"
           },
           "mode": "markers",
           "name": "Wisconsin",
           "orientation": "v",
           "showlegend": true,
           "type": "scatter",
           "x": [
            "carrier_delay",
            "weather_delay",
            "nas_delay",
            "security_delay",
            "late_aircraft_delay"
           ],
           "xaxis": "x",
           "y": [
            937,
            107,
            5042,
            0,
            4418
           ],
           "yaxis": "y"
          },
          {
           "hovertemplate": "state=New York<br>day=22<br>variable=%{x}<br>value=%{marker.size}<extra></extra>",
           "legendgroup": "New York",
           "marker": {
            "color": "#636efa",
            "size": [
             4361,
             218,
             4586,
             210,
             4367
            ],
            "sizemode": "area",
            "sizeref": 73.6175,
            "symbol": "circle"
           },
           "mode": "markers",
           "name": "New York",
           "orientation": "v",
           "showlegend": true,
           "type": "scatter",
           "x": [
            "carrier_delay",
            "weather_delay",
            "nas_delay",
            "security_delay",
            "late_aircraft_delay"
           ],
           "xaxis": "x",
           "y": [
            4361,
            218,
            4586,
            210,
            4367
           ],
           "yaxis": "y"
          },
          {
           "hovertemplate": "state=Rhode Island<br>day=22<br>variable=%{x}<br>value=%{marker.size}<extra></extra>",
           "legendgroup": "Rhode Island",
           "marker": {
            "color": "#EF553B",
            "size": [
             123,
             0,
             328,
             0,
             89
            ],
            "sizemode": "area",
            "sizeref": 73.6175,
            "symbol": "circle"
           },
           "mode": "markers",
           "name": "Rhode Island",
           "orientation": "v",
           "showlegend": true,
           "type": "scatter",
           "x": [
            "carrier_delay",
            "weather_delay",
            "nas_delay",
            "security_delay",
            "late_aircraft_delay"
           ],
           "xaxis": "x",
           "y": [
            123,
            0,
            328,
            0,
            89
           ],
           "yaxis": "y"
          },
          {
           "hovertemplate": "state=Texas<br>day=22<br>variable=%{x}<br>value=%{marker.size}<extra></extra>",
           "legendgroup": "Texas",
           "marker": {
            "color": "#00cc96",
            "size": [
             6890,
             311,
             5324,
             184,
             6983
            ],
            "sizemode": "area",
            "sizeref": 73.6175,
            "symbol": "circle"
           },
           "mode": "markers",
           "name": "Texas",
           "orientation": "v",
           "showlegend": true,
           "type": "scatter",
           "x": [
            "carrier_delay",
            "weather_delay",
            "nas_delay",
            "security_delay",
            "late_aircraft_delay"
           ],
           "xaxis": "x",
           "y": [
            6890,
            311,
            5324,
            184,
            6983
           ],
           "yaxis": "y"
          },
          {
           "hovertemplate": "state=Kentucky<br>day=22<br>variable=%{x}<br>value=%{marker.size}<extra></extra>",
           "legendgroup": "Kentucky",
           "marker": {
            "color": "#ab63fa",
            "size": [
             114,
             26,
             747,
             0,
             768
            ],
            "sizemode": "area",
            "sizeref": 73.6175,
            "symbol": "circle"
           },
           "mode": "markers",
           "name": "Kentucky",
           "orientation": "v",
           "showlegend": true,
           "type": "scatter",
           "x": [
            "carrier_delay",
            "weather_delay",
            "nas_delay",
            "security_delay",
            "late_aircraft_delay"
           ],
           "xaxis": "x",
           "y": [
            114,
            26,
            747,
            0,
            768
           ],
           "yaxis": "y"
          },
          {
           "hovertemplate": "state=South Carolina<br>day=22<br>variable=%{x}<br>value=%{marker.size}<extra></extra>",
           "legendgroup": "South Carolina",
           "marker": {
            "color": "#FFA15A",
            "size": [
             759,
             0,
             1036,
             0,
             135
            ],
            "sizemode": "area",
            "sizeref": 73.6175,
            "symbol": "circle"
           },
           "mode": "markers",
           "name": "South Carolina",
           "orientation": "v",
           "showlegend": true,
           "type": "scatter",
           "x": [
            "carrier_delay",
            "weather_delay",
            "nas_delay",
            "security_delay",
            "late_aircraft_delay"
           ],
           "xaxis": "x",
           "y": [
            759,
            0,
            1036,
            0,
            135
           ],
           "yaxis": "y"
          },
          {
           "hovertemplate": "state=Pennsylvania<br>day=22<br>variable=%{x}<br>value=%{marker.size}<extra></extra>",
           "legendgroup": "Pennsylvania",
           "marker": {
            "color": "#19d3f3",
            "size": [
             1995,
             546,
             2879,
             168,
             3281
            ],
            "sizemode": "area",
            "sizeref": 73.6175,
            "symbol": "circle"
           },
           "mode": "markers",
           "name": "Pennsylvania",
           "orientation": "v",
           "showlegend": true,
           "type": "scatter",
           "x": [
            "carrier_delay",
            "weather_delay",
            "nas_delay",
            "security_delay",
            "late_aircraft_delay"
           ],
           "xaxis": "x",
           "y": [
            1995,
            546,
            2879,
            168,
            3281
           ],
           "yaxis": "y"
          },
          {
           "hovertemplate": "state=Illinois<br>day=22<br>variable=%{x}<br>value=%{marker.size}<extra></extra>",
           "legendgroup": "Illinois",
           "marker": {
            "color": "#FF6692",
            "size": [
             11985,
             7568,
             16495,
             9,
             29447
            ],
            "sizemode": "area",
            "sizeref": 73.6175,
            "symbol": "circle"
           },
           "mode": "markers",
           "name": "Illinois",
           "orientation": "v",
           "showlegend": true,
           "type": "scatter",
           "x": [
            "carrier_delay",
            "weather_delay",
            "nas_delay",
            "security_delay",
            "late_aircraft_delay"
           ],
           "xaxis": "x",
           "y": [
            11985,
            7568,
            16495,
            9,
            29447
           ],
           "yaxis": "y"
          },
          {
           "hovertemplate": "state=Ohio<br>day=22<br>variable=%{x}<br>value=%{marker.size}<extra></extra>",
           "legendgroup": "Ohio",
           "marker": {
            "color": "#B6E880",
            "size": [
             1829,
             129,
             4328,
             0,
             3312
            ],
            "sizemode": "area",
            "sizeref": 73.6175,
            "symbol": "circle"
           },
           "mode": "markers",
           "name": "Ohio",
           "orientation": "v",
           "showlegend": true,
           "type": "scatter",
           "x": [
            "carrier_delay",
            "weather_delay",
            "nas_delay",
            "security_delay",
            "late_aircraft_delay"
           ],
           "xaxis": "x",
           "y": [
            1829,
            129,
            4328,
            0,
            3312
           ],
           "yaxis": "y"
          },
          {
           "hovertemplate": "state=Michigan<br>day=22<br>variable=%{x}<br>value=%{marker.size}<extra></extra>",
           "legendgroup": "Michigan",
           "marker": {
            "color": "#FF97FF",
            "size": [
             3182,
             454,
             3326,
             0,
             3325
            ],
            "sizemode": "area",
            "sizeref": 73.6175,
            "symbol": "circle"
           },
           "mode": "markers",
           "name": "Michigan",
           "orientation": "v",
           "showlegend": true,
           "type": "scatter",
           "x": [
            "carrier_delay",
            "weather_delay",
            "nas_delay",
            "security_delay",
            "late_aircraft_delay"
           ],
           "xaxis": "x",
           "y": [
            3182,
            454,
            3326,
            0,
            3325
           ],
           "yaxis": "y"
          },
          {
           "hovertemplate": "state=New Jersey<br>day=22<br>variable=%{x}<br>value=%{marker.size}<extra></extra>",
           "legendgroup": "New Jersey",
           "marker": {
            "color": "#FECB52",
            "size": [
             2891,
             341,
             1336,
             400,
             6040
            ],
            "sizemode": "area",
            "sizeref": 73.6175,
            "symbol": "circle"
           },
           "mode": "markers",
           "name": "New Jersey",
           "orientation": "v",
           "showlegend": true,
           "type": "scatter",
           "x": [
            "carrier_delay",
            "weather_delay",
            "nas_delay",
            "security_delay",
            "late_aircraft_delay"
           ],
           "xaxis": "x",
           "y": [
            2891,
            341,
            1336,
            400,
            6040
           ],
           "yaxis": "y"
          },
          {
           "hovertemplate": "state=Oklahoma<br>day=22<br>variable=%{x}<br>value=%{marker.size}<extra></extra>",
           "legendgroup": "Oklahoma",
           "marker": {
            "color": "#636efa",
            "size": [
             264,
             0,
             929,
             0,
             745
            ],
            "sizemode": "area",
            "sizeref": 73.6175,
            "symbol": "circle"
           },
           "mode": "markers",
           "name": "Oklahoma",
           "orientation": "v",
           "showlegend": true,
           "type": "scatter",
           "x": [
            "carrier_delay",
            "weather_delay",
            "nas_delay",
            "security_delay",
            "late_aircraft_delay"
           ],
           "xaxis": "x",
           "y": [
            264,
            0,
            929,
            0,
            745
           ],
           "yaxis": "y"
          },
          {
           "hovertemplate": "state=Maine<br>day=22<br>variable=%{x}<br>value=%{marker.size}<extra></extra>",
           "legendgroup": "Maine",
           "marker": {
            "color": "#EF553B",
            "size": [
             29,
             0,
             51,
             0,
             187
            ],
            "sizemode": "area",
            "sizeref": 73.6175,
            "symbol": "circle"
           },
           "mode": "markers",
           "name": "Maine",
           "orientation": "v",
           "showlegend": true,
           "type": "scatter",
           "x": [
            "carrier_delay",
            "weather_delay",
            "nas_delay",
            "security_delay",
            "late_aircraft_delay"
           ],
           "xaxis": "x",
           "y": [
            29,
            0,
            51,
            0,
            187
           ],
           "yaxis": "y"
          },
          {
           "hovertemplate": "state=Minnesota<br>day=22<br>variable=%{x}<br>value=%{marker.size}<extra></extra>",
           "legendgroup": "Minnesota",
           "marker": {
            "color": "#00cc96",
            "size": [
             2616,
             201,
             2186,
             0,
             2148
            ],
            "sizemode": "area",
            "sizeref": 73.6175,
            "symbol": "circle"
           },
           "mode": "markers",
           "name": "Minnesota",
           "orientation": "v",
           "showlegend": true,
           "type": "scatter",
           "x": [
            "carrier_delay",
            "weather_delay",
            "nas_delay",
            "security_delay",
            "late_aircraft_delay"
           ],
           "xaxis": "x",
           "y": [
            2616,
            201,
            2186,
            0,
            2148
           ],
           "yaxis": "y"
          },
          {
           "hovertemplate": "state=Iowa<br>day=22<br>variable=%{x}<br>value=%{marker.size}<extra></extra>",
           "legendgroup": "Iowa",
           "marker": {
            "color": "#ab63fa",
            "size": [
             96,
             240,
             1460,
             0,
             1258
            ],
            "sizemode": "area",
            "sizeref": 73.6175,
            "symbol": "circle"
           },
           "mode": "markers",
           "name": "Iowa",
           "orientation": "v",
           "showlegend": true,
           "type": "scatter",
           "x": [
            "carrier_delay",
            "weather_delay",
            "nas_delay",
            "security_delay",
            "late_aircraft_delay"
           ],
           "xaxis": "x",
           "y": [
            96,
            240,
            1460,
            0,
            1258
           ],
           "yaxis": "y"
          },
          {
           "hovertemplate": "state=Alabama<br>day=22<br>variable=%{x}<br>value=%{marker.size}<extra></extra>",
           "legendgroup": "Alabama",
           "marker": {
            "color": "#FFA15A",
            "size": [
             232,
             60,
             598,
             0,
             663
            ],
            "sizemode": "area",
            "sizeref": 73.6175,
            "symbol": "circle"
           },
           "mode": "markers",
           "name": "Alabama",
           "orientation": "v",
           "showlegend": true,
           "type": "scatter",
           "x": [
            "carrier_delay",
            "weather_delay",
            "nas_delay",
            "security_delay",
            "late_aircraft_delay"
           ],
           "xaxis": "x",
           "y": [
            232,
            60,
            598,
            0,
            663
           ],
           "yaxis": "y"
          },
          {
           "hovertemplate": "state=Indiana<br>day=22<br>variable=%{x}<br>value=%{marker.size}<extra></extra>",
           "legendgroup": "Indiana",
           "marker": {
            "color": "#19d3f3",
            "size": [
             451,
             50,
             1633,
             0,
             1004
            ],
            "sizemode": "area",
            "sizeref": 73.6175,
            "symbol": "circle"
           },
           "mode": "markers",
           "name": "Indiana",
           "orientation": "v",
           "showlegend": true,
           "type": "scatter",
           "x": [
            "carrier_delay",
            "weather_delay",
            "nas_delay",
            "security_delay",
            "late_aircraft_delay"
           ],
           "xaxis": "x",
           "y": [
            451,
            50,
            1633,
            0,
            1004
           ],
           "yaxis": "y"
          },
          {
           "hovertemplate": "state=Kansas<br>day=22<br>variable=%{x}<br>value=%{marker.size}<extra></extra>",
           "legendgroup": "Kansas",
           "marker": {
            "color": "#FF6692",
            "size": [
             218,
             0,
             400,
             0,
             845
            ],
            "sizemode": "area",
            "sizeref": 73.6175,
            "symbol": "circle"
           },
           "mode": "markers",
           "name": "Kansas",
           "orientation": "v",
           "showlegend": true,
           "type": "scatter",
           "x": [
            "carrier_delay",
            "weather_delay",
            "nas_delay",
            "security_delay",
            "late_aircraft_delay"
           ],
           "xaxis": "x",
           "y": [
            218,
            0,
            400,
            0,
            845
           ],
           "yaxis": "y"
          },
          {
           "hovertemplate": "state=South Dakota<br>day=22<br>variable=%{x}<br>value=%{marker.size}<extra></extra>",
           "legendgroup": "South Dakota",
           "marker": {
            "color": "#B6E880",
            "size": [
             17,
             0,
             629,
             0,
             90
            ],
            "sizemode": "area",
            "sizeref": 73.6175,
            "symbol": "circle"
           },
           "mode": "markers",
           "name": "South Dakota",
           "orientation": "v",
           "showlegend": true,
           "type": "scatter",
           "x": [
            "carrier_delay",
            "weather_delay",
            "nas_delay",
            "security_delay",
            "late_aircraft_delay"
           ],
           "xaxis": "x",
           "y": [
            17,
            0,
            629,
            0,
            90
           ],
           "yaxis": "y"
          },
          {
           "hovertemplate": "state=North Dakota<br>day=22<br>variable=%{x}<br>value=%{marker.size}<extra></extra>",
           "legendgroup": "North Dakota",
           "marker": {
            "color": "#FF97FF",
            "size": [
             121,
             0,
             482,
             0,
             552
            ],
            "sizemode": "area",
            "sizeref": 73.6175,
            "symbol": "circle"
           },
           "mode": "markers",
           "name": "North Dakota",
           "orientation": "v",
           "showlegend": true,
           "type": "scatter",
           "x": [
            "carrier_delay",
            "weather_delay",
            "nas_delay",
            "security_delay",
            "late_aircraft_delay"
           ],
           "xaxis": "x",
           "y": [
            121,
            0,
            482,
            0,
            552
           ],
           "yaxis": "y"
          },
          {
           "hovertemplate": "state=Nebraska<br>day=22<br>variable=%{x}<br>value=%{marker.size}<extra></extra>",
           "legendgroup": "Nebraska",
           "marker": {
            "color": "#FECB52",
            "size": [
             215,
             4,
             1187,
             0,
             1467
            ],
            "sizemode": "area",
            "sizeref": 73.6175,
            "symbol": "circle"
           },
           "mode": "markers",
           "name": "Nebraska",
           "orientation": "v",
           "showlegend": true,
           "type": "scatter",
           "x": [
            "carrier_delay",
            "weather_delay",
            "nas_delay",
            "security_delay",
            "late_aircraft_delay"
           ],
           "xaxis": "x",
           "y": [
            215,
            4,
            1187,
            0,
            1467
           ],
           "yaxis": "y"
          },
          {
           "hovertemplate": "state=Vermont<br>day=22<br>variable=%{x}<br>value=%{marker.size}<extra></extra>",
           "legendgroup": "Vermont",
           "marker": {
            "color": "#636efa",
            "size": [
             20,
             3,
             76,
             0,
             56
            ],
            "sizemode": "area",
            "sizeref": 73.6175,
            "symbol": "circle"
           },
           "mode": "markers",
           "name": "Vermont",
           "orientation": "v",
           "showlegend": true,
           "type": "scatter",
           "x": [
            "carrier_delay",
            "weather_delay",
            "nas_delay",
            "security_delay",
            "late_aircraft_delay"
           ],
           "xaxis": "x",
           "y": [
            20,
            3,
            76,
            0,
            56
           ],
           "yaxis": "y"
          },
          {
           "hovertemplate": "state=Arkansas<br>day=22<br>variable=%{x}<br>value=%{marker.size}<extra></extra>",
           "legendgroup": "Arkansas",
           "marker": {
            "color": "#EF553B",
            "size": [
             224,
             0,
             1300,
             0,
             904
            ],
            "sizemode": "area",
            "sizeref": 73.6175,
            "symbol": "circle"
           },
           "mode": "markers",
           "name": "Arkansas",
           "orientation": "v",
           "showlegend": true,
           "type": "scatter",
           "x": [
            "carrier_delay",
            "weather_delay",
            "nas_delay",
            "security_delay",
            "late_aircraft_delay"
           ],
           "xaxis": "x",
           "y": [
            224,
            0,
            1300,
            0,
            904
           ],
           "yaxis": "y"
          },
          {
           "hovertemplate": "state=Massachusetts<br>day=22<br>variable=%{x}<br>value=%{marker.size}<extra></extra>",
           "legendgroup": "Massachusetts",
           "marker": {
            "color": "#00cc96",
            "size": [
             1113,
             107,
             1014,
             0,
             1628
            ],
            "sizemode": "area",
            "sizeref": 73.6175,
            "symbol": "circle"
           },
           "mode": "markers",
           "name": "Massachusetts",
           "orientation": "v",
           "showlegend": true,
           "type": "scatter",
           "x": [
            "carrier_delay",
            "weather_delay",
            "nas_delay",
            "security_delay",
            "late_aircraft_delay"
           ],
           "xaxis": "x",
           "y": [
            1113,
            107,
            1014,
            0,
            1628
           ],
           "yaxis": "y"
          },
          {
           "hovertemplate": "state=Connecticut<br>day=22<br>variable=%{x}<br>value=%{marker.size}<extra></extra>",
           "legendgroup": "Connecticut",
           "marker": {
            "color": "#ab63fa",
            "size": [
             356,
             7,
             310,
             0,
             588
            ],
            "sizemode": "area",
            "sizeref": 73.6175,
            "symbol": "circle"
           },
           "mode": "markers",
           "name": "Connecticut",
           "orientation": "v",
           "showlegend": true,
           "type": "scatter",
           "x": [
            "carrier_delay",
            "weather_delay",
            "nas_delay",
            "security_delay",
            "late_aircraft_delay"
           ],
           "xaxis": "x",
           "y": [
            356,
            7,
            310,
            0,
            588
           ],
           "yaxis": "y"
          },
          {
           "hovertemplate": "state=New Hampshire<br>day=22<br>variable=%{x}<br>value=%{marker.size}<extra></extra>",
           "legendgroup": "New Hampshire",
           "marker": {
            "color": "#FFA15A",
            "size": [
             347,
             0,
             247,
             0,
             251
            ],
            "sizemode": "area",
            "sizeref": 73.6175,
            "symbol": "circle"
           },
           "mode": "markers",
           "name": "New Hampshire",
           "orientation": "v",
           "showlegend": true,
           "type": "scatter",
           "x": [
            "carrier_delay",
            "weather_delay",
            "nas_delay",
            "security_delay",
            "late_aircraft_delay"
           ],
           "xaxis": "x",
           "y": [
            347,
            0,
            247,
            0,
            251
           ],
           "yaxis": "y"
          },
          {
           "hovertemplate": "state=California<br>day=22<br>variable=%{x}<br>value=%{marker.size}<extra></extra>",
           "legendgroup": "California",
           "marker": {
            "color": "#19d3f3",
            "size": [
             8139,
             744,
             5077,
             62,
             14872
            ],
            "sizemode": "area",
            "sizeref": 73.6175,
            "symbol": "circle"
           },
           "mode": "markers",
           "name": "California",
           "orientation": "v",
           "showlegend": true,
           "type": "scatter",
           "x": [
            "carrier_delay",
            "weather_delay",
            "nas_delay",
            "security_delay",
            "late_aircraft_delay"
           ],
           "xaxis": "x",
           "y": [
            8139,
            744,
            5077,
            62,
            14872
           ],
           "yaxis": "y"
          },
          {
           "hovertemplate": "state=Hawaii<br>day=22<br>variable=%{x}<br>value=%{marker.size}<extra></extra>",
           "legendgroup": "Hawaii",
           "marker": {
            "color": "#FF6692",
            "size": [
             586,
             0,
             109,
             0,
             492
            ],
            "sizemode": "area",
            "sizeref": 73.6175,
            "symbol": "circle"
           },
           "mode": "markers",
           "name": "Hawaii",
           "orientation": "v",
           "showlegend": true,
           "type": "scatter",
           "x": [
            "carrier_delay",
            "weather_delay",
            "nas_delay",
            "security_delay",
            "late_aircraft_delay"
           ],
           "xaxis": "x",
           "y": [
            586,
            0,
            109,
            0,
            492
           ],
           "yaxis": "y"
          },
          {
           "hovertemplate": "state=Puerto Rico<br>day=22<br>variable=%{x}<br>value=%{marker.size}<extra></extra>",
           "legendgroup": "Puerto Rico",
           "marker": {
            "color": "#B6E880",
            "size": [
             553,
             0,
             32,
             0,
             923
            ],
            "sizemode": "area",
            "sizeref": 73.6175,
            "symbol": "circle"
           },
           "mode": "markers",
           "name": "Puerto Rico",
           "orientation": "v",
           "showlegend": true,
           "type": "scatter",
           "x": [
            "carrier_delay",
            "weather_delay",
            "nas_delay",
            "security_delay",
            "late_aircraft_delay"
           ],
           "xaxis": "x",
           "y": [
            553,
            0,
            32,
            0,
            923
           ],
           "yaxis": "y"
          },
          {
           "hovertemplate": "state=Nevada<br>day=22<br>variable=%{x}<br>value=%{marker.size}<extra></extra>",
           "legendgroup": "Nevada",
           "marker": {
            "color": "#FF97FF",
            "size": [
             2673,
             263,
             933,
             17,
             4646
            ],
            "sizemode": "area",
            "sizeref": 73.6175,
            "symbol": "circle"
           },
           "mode": "markers",
           "name": "Nevada",
           "orientation": "v",
           "showlegend": true,
           "type": "scatter",
           "x": [
            "carrier_delay",
            "weather_delay",
            "nas_delay",
            "security_delay",
            "late_aircraft_delay"
           ],
           "xaxis": "x",
           "y": [
            2673,
            263,
            933,
            17,
            4646
           ],
           "yaxis": "y"
          },
          {
           "hovertemplate": "state=Washington<br>day=22<br>variable=%{x}<br>value=%{marker.size}<extra></extra>",
           "legendgroup": "Washington",
           "marker": {
            "color": "#FECB52",
            "size": [
             727,
             11,
             852,
             0,
             1110
            ],
            "sizemode": "area",
            "sizeref": 73.6175,
            "symbol": "circle"
           },
           "mode": "markers",
           "name": "Washington",
           "orientation": "v",
           "showlegend": true,
           "type": "scatter",
           "x": [
            "carrier_delay",
            "weather_delay",
            "nas_delay",
            "security_delay",
            "late_aircraft_delay"
           ],
           "xaxis": "x",
           "y": [
            727,
            11,
            852,
            0,
            1110
           ],
           "yaxis": "y"
          },
          {
           "hovertemplate": "state=Colorado<br>day=22<br>variable=%{x}<br>value=%{marker.size}<extra></extra>",
           "legendgroup": "Colorado",
           "marker": {
            "color": "#636efa",
            "size": [
             4841,
             206,
             2492,
             11,
             7767
            ],
            "sizemode": "area",
            "sizeref": 73.6175,
            "symbol": "circle"
           },
           "mode": "markers",
           "name": "Colorado",
           "orientation": "v",
           "showlegend": true,
           "type": "scatter",
           "x": [
            "carrier_delay",
            "weather_delay",
            "nas_delay",
            "security_delay",
            "late_aircraft_delay"
           ],
           "xaxis": "x",
           "y": [
            4841,
            206,
            2492,
            11,
            7767
           ],
           "yaxis": "y"
          },
          {
           "hovertemplate": "state=New Mexico<br>day=22<br>variable=%{x}<br>value=%{marker.size}<extra></extra>",
           "legendgroup": "New Mexico",
           "marker": {
            "color": "#EF553B",
            "size": [
             449,
             0,
             152,
             0,
             803
            ],
            "sizemode": "area",
            "sizeref": 73.6175,
            "symbol": "circle"
           },
           "mode": "markers",
           "name": "New Mexico",
           "orientation": "v",
           "showlegend": true,
           "type": "scatter",
           "x": [
            "carrier_delay",
            "weather_delay",
            "nas_delay",
            "security_delay",
            "late_aircraft_delay"
           ],
           "xaxis": "x",
           "y": [
            449,
            0,
            152,
            0,
            803
           ],
           "yaxis": "y"
          },
          {
           "hovertemplate": "state=Arizona<br>day=22<br>variable=%{x}<br>value=%{marker.size}<extra></extra>",
           "legendgroup": "Arizona",
           "marker": {
            "color": "#00cc96",
            "size": [
             4388,
             854,
             1848,
             0,
             3504
            ],
            "sizemode": "area",
            "sizeref": 73.6175,
            "symbol": "circle"
           },
           "mode": "markers",
           "name": "Arizona",
           "orientation": "v",
           "showlegend": true,
           "type": "scatter",
           "x": [
            "carrier_delay",
            "weather_delay",
            "nas_delay",
            "security_delay",
            "late_aircraft_delay"
           ],
           "xaxis": "x",
           "y": [
            4388,
            854,
            1848,
            0,
            3504
           ],
           "yaxis": "y"
          },
          {
           "hovertemplate": "state=Utah<br>day=22<br>variable=%{x}<br>value=%{marker.size}<extra></extra>",
           "legendgroup": "Utah",
           "marker": {
            "color": "#ab63fa",
            "size": [
             1994,
             820,
             5810,
             0,
             4190
            ],
            "sizemode": "area",
            "sizeref": 73.6175,
            "symbol": "circle"
           },
           "mode": "markers",
           "name": "Utah",
           "orientation": "v",
           "showlegend": true,
           "type": "scatter",
           "x": [
            "carrier_delay",
            "weather_delay",
            "nas_delay",
            "security_delay",
            "late_aircraft_delay"
           ],
           "xaxis": "x",
           "y": [
            1994,
            820,
            5810,
            0,
            4190
           ],
           "yaxis": "y"
          },
          {
           "hovertemplate": "state=U.S. Virgin Islands<br>day=22<br>variable=%{x}<br>value=%{marker.size}<extra></extra>",
           "legendgroup": "U.S. Virgin Islands",
           "marker": {
            "color": "#FFA15A",
            "size": [
             0,
             0,
             0,
             0,
             21
            ],
            "sizemode": "area",
            "sizeref": 73.6175,
            "symbol": "circle"
           },
           "mode": "markers",
           "name": "U.S. Virgin Islands",
           "orientation": "v",
           "showlegend": true,
           "type": "scatter",
           "x": [
            "carrier_delay",
            "weather_delay",
            "nas_delay",
            "security_delay",
            "late_aircraft_delay"
           ],
           "xaxis": "x",
           "y": [
            0,
            0,
            0,
            0,
            21
           ],
           "yaxis": "y"
          },
          {
           "hovertemplate": "state=Oregon<br>day=22<br>variable=%{x}<br>value=%{marker.size}<extra></extra>",
           "legendgroup": "Oregon",
           "marker": {
            "color": "#19d3f3",
            "size": [
             381,
             45,
             483,
             0,
             1724
            ],
            "sizemode": "area",
            "sizeref": 73.6175,
            "symbol": "circle"
           },
           "mode": "markers",
           "name": "Oregon",
           "orientation": "v",
           "showlegend": true,
           "type": "scatter",
           "x": [
            "carrier_delay",
            "weather_delay",
            "nas_delay",
            "security_delay",
            "late_aircraft_delay"
           ],
           "xaxis": "x",
           "y": [
            381,
            45,
            483,
            0,
            1724
           ],
           "yaxis": "y"
          },
          {
           "hovertemplate": "state=Maryland<br>day=22<br>variable=%{x}<br>value=%{marker.size}<extra></extra>",
           "legendgroup": "Maryland",
           "marker": {
            "color": "#FF6692",
            "size": [
             1915,
             101,
             546,
             8,
             2589
            ],
            "sizemode": "area",
            "sizeref": 73.6175,
            "symbol": "circle"
           },
           "mode": "markers",
           "name": "Maryland",
           "orientation": "v",
           "showlegend": true,
           "type": "scatter",
           "x": [
            "carrier_delay",
            "weather_delay",
            "nas_delay",
            "security_delay",
            "late_aircraft_delay"
           ],
           "xaxis": "x",
           "y": [
            1915,
            101,
            546,
            8,
            2589
           ],
           "yaxis": "y"
          },
          {
           "hovertemplate": "state=Wyoming<br>day=22<br>variable=%{x}<br>value=%{marker.size}<extra></extra>",
           "legendgroup": "Wyoming",
           "marker": {
            "color": "#B6E880",
            "size": [
             256,
             0,
             129,
             0,
             114
            ],
            "sizemode": "area",
            "sizeref": 73.6175,
            "symbol": "circle"
           },
           "mode": "markers",
           "name": "Wyoming",
           "orientation": "v",
           "showlegend": true,
           "type": "scatter",
           "x": [
            "carrier_delay",
            "weather_delay",
            "nas_delay",
            "security_delay",
            "late_aircraft_delay"
           ],
           "xaxis": "x",
           "y": [
            256,
            0,
            129,
            0,
            114
           ],
           "yaxis": "y"
          },
          {
           "hovertemplate": "state=Alaska<br>day=22<br>variable=%{x}<br>value=%{marker.size}<extra></extra>",
           "legendgroup": "Alaska",
           "marker": {
            "color": "#FF97FF",
            "size": [
             361,
             0,
             103,
             0,
             972
            ],
            "sizemode": "area",
            "sizeref": 73.6175,
            "symbol": "circle"
           },
           "mode": "markers",
           "name": "Alaska",
           "orientation": "v",
           "showlegend": true,
           "type": "scatter",
           "x": [
            "carrier_delay",
            "weather_delay",
            "nas_delay",
            "security_delay",
            "late_aircraft_delay"
           ],
           "xaxis": "x",
           "y": [
            361,
            0,
            103,
            0,
            972
           ],
           "yaxis": "y"
          },
          {
           "hovertemplate": "state=Idaho<br>day=22<br>variable=%{x}<br>value=%{marker.size}<extra></extra>",
           "legendgroup": "Idaho",
           "marker": {
            "color": "#FECB52",
            "size": [
             66,
             100,
             404,
             0,
             735
            ],
            "sizemode": "area",
            "sizeref": 73.6175,
            "symbol": "circle"
           },
           "mode": "markers",
           "name": "Idaho",
           "orientation": "v",
           "showlegend": true,
           "type": "scatter",
           "x": [
            "carrier_delay",
            "weather_delay",
            "nas_delay",
            "security_delay",
            "late_aircraft_delay"
           ],
           "xaxis": "x",
           "y": [
            66,
            100,
            404,
            0,
            735
           ],
           "yaxis": "y"
          },
          {
           "hovertemplate": "state=Montana<br>day=22<br>variable=%{x}<br>value=%{marker.size}<extra></extra>",
           "legendgroup": "Montana",
           "marker": {
            "color": "#636efa",
            "size": [
             138,
             171,
             606,
             0,
             794
            ],
            "sizemode": "area",
            "sizeref": 73.6175,
            "symbol": "circle"
           },
           "mode": "markers",
           "name": "Montana",
           "orientation": "v",
           "showlegend": true,
           "type": "scatter",
           "x": [
            "carrier_delay",
            "weather_delay",
            "nas_delay",
            "security_delay",
            "late_aircraft_delay"
           ],
           "xaxis": "x",
           "y": [
            138,
            171,
            606,
            0,
            794
           ],
           "yaxis": "y"
          },
          {
           "hovertemplate": "state=West Virginia<br>day=22<br>variable=%{x}<br>value=%{marker.size}<extra></extra>",
           "legendgroup": "West Virginia",
           "marker": {
            "color": "#EF553B",
            "size": [
             5,
             0,
             145,
             0,
             192
            ],
            "sizemode": "area",
            "sizeref": 73.6175,
            "symbol": "circle"
           },
           "mode": "markers",
           "name": "West Virginia",
           "orientation": "v",
           "showlegend": true,
           "type": "scatter",
           "x": [
            "carrier_delay",
            "weather_delay",
            "nas_delay",
            "security_delay",
            "late_aircraft_delay"
           ],
           "xaxis": "x",
           "y": [
            5,
            0,
            145,
            0,
            192
           ],
           "yaxis": "y"
          }
         ],
         "name": "22"
        },
        {
         "data": [
          {
           "hovertemplate": "state=Georgia<br>day=23<br>variable=%{x}<br>value=%{marker.size}<extra></extra>",
           "legendgroup": "Georgia",
           "marker": {
            "color": "#636efa",
            "size": [
             2810,
             0,
             1864,
             0,
             2160
            ],
            "sizemode": "area",
            "sizeref": 73.6175,
            "symbol": "circle"
           },
           "mode": "markers",
           "name": "Georgia",
           "orientation": "v",
           "showlegend": true,
           "type": "scatter",
           "x": [
            "carrier_delay",
            "weather_delay",
            "nas_delay",
            "security_delay",
            "late_aircraft_delay"
           ],
           "xaxis": "x",
           "y": [
            2810,
            0,
            1864,
            0,
            2160
           ],
           "yaxis": "y"
          },
          {
           "hovertemplate": "state=Tennessee<br>day=23<br>variable=%{x}<br>value=%{marker.size}<extra></extra>",
           "legendgroup": "Tennessee",
           "marker": {
            "color": "#EF553B",
            "size": [
             1869,
             82,
             1923,
             0,
             2840
            ],
            "sizemode": "area",
            "sizeref": 73.6175,
            "symbol": "circle"
           },
           "mode": "markers",
           "name": "Tennessee",
           "orientation": "v",
           "showlegend": true,
           "type": "scatter",
           "x": [
            "carrier_delay",
            "weather_delay",
            "nas_delay",
            "security_delay",
            "late_aircraft_delay"
           ],
           "xaxis": "x",
           "y": [
            1869,
            82,
            1923,
            0,
            2840
           ],
           "yaxis": "y"
          },
          {
           "hovertemplate": "state=Virginia<br>day=23<br>variable=%{x}<br>value=%{marker.size}<extra></extra>",
           "legendgroup": "Virginia",
           "marker": {
            "color": "#00cc96",
            "size": [
             134,
             0,
             395,
             0,
             699
            ],
            "sizemode": "area",
            "sizeref": 73.6175,
            "symbol": "circle"
           },
           "mode": "markers",
           "name": "Virginia",
           "orientation": "v",
           "showlegend": true,
           "type": "scatter",
           "x": [
            "carrier_delay",
            "weather_delay",
            "nas_delay",
            "security_delay",
            "late_aircraft_delay"
           ],
           "xaxis": "x",
           "y": [
            134,
            0,
            395,
            0,
            699
           ],
           "yaxis": "y"
          },
          {
           "hovertemplate": "state=Mississippi<br>day=23<br>variable=%{x}<br>value=%{marker.size}<extra></extra>",
           "legendgroup": "Mississippi",
           "marker": {
            "color": "#ab63fa",
            "size": [
             37,
             6,
             113,
             0,
             211
            ],
            "sizemode": "area",
            "sizeref": 73.6175,
            "symbol": "circle"
           },
           "mode": "markers",
           "name": "Mississippi",
           "orientation": "v",
           "showlegend": true,
           "type": "scatter",
           "x": [
            "carrier_delay",
            "weather_delay",
            "nas_delay",
            "security_delay",
            "late_aircraft_delay"
           ],
           "xaxis": "x",
           "y": [
            37,
            6,
            113,
            0,
            211
           ],
           "yaxis": "y"
          },
          {
           "hovertemplate": "state=District of Columbia<br>day=23<br>variable=%{x}<br>value=%{marker.size}<extra></extra>",
           "legendgroup": "District of Columbia",
           "marker": {
            "color": "#FFA15A",
            "size": [
             1810,
             0,
             1346,
             11,
             1231
            ],
            "sizemode": "area",
            "sizeref": 73.6175,
            "symbol": "circle"
           },
           "mode": "markers",
           "name": "District of Columbia",
           "orientation": "v",
           "showlegend": true,
           "type": "scatter",
           "x": [
            "carrier_delay",
            "weather_delay",
            "nas_delay",
            "security_delay",
            "late_aircraft_delay"
           ],
           "xaxis": "x",
           "y": [
            1810,
            0,
            1346,
            11,
            1231
           ],
           "yaxis": "y"
          },
          {
           "hovertemplate": "state=Louisiana<br>day=23<br>variable=%{x}<br>value=%{marker.size}<extra></extra>",
           "legendgroup": "Louisiana",
           "marker": {
            "color": "#19d3f3",
            "size": [
             331,
             0,
             359,
             19,
             1265
            ],
            "sizemode": "area",
            "sizeref": 73.6175,
            "symbol": "circle"
           },
           "mode": "markers",
           "name": "Louisiana",
           "orientation": "v",
           "showlegend": true,
           "type": "scatter",
           "x": [
            "carrier_delay",
            "weather_delay",
            "nas_delay",
            "security_delay",
            "late_aircraft_delay"
           ],
           "xaxis": "x",
           "y": [
            331,
            0,
            359,
            19,
            1265
           ],
           "yaxis": "y"
          },
          {
           "hovertemplate": "state=North Carolina<br>day=23<br>variable=%{x}<br>value=%{marker.size}<extra></extra>",
           "legendgroup": "North Carolina",
           "marker": {
            "color": "#FF6692",
            "size": [
             2065,
             104,
             1403,
             0,
             1869
            ],
            "sizemode": "area",
            "sizeref": 73.6175,
            "symbol": "circle"
           },
           "mode": "markers",
           "name": "North Carolina",
           "orientation": "v",
           "showlegend": true,
           "type": "scatter",
           "x": [
            "carrier_delay",
            "weather_delay",
            "nas_delay",
            "security_delay",
            "late_aircraft_delay"
           ],
           "xaxis": "x",
           "y": [
            2065,
            104,
            1403,
            0,
            1869
           ],
           "yaxis": "y"
          },
          {
           "hovertemplate": "state=Florida<br>day=23<br>variable=%{x}<br>value=%{marker.size}<extra></extra>",
           "legendgroup": "Florida",
           "marker": {
            "color": "#B6E880",
            "size": [
             4752,
             4,
             1933,
             0,
             6824
            ],
            "sizemode": "area",
            "sizeref": 73.6175,
            "symbol": "circle"
           },
           "mode": "markers",
           "name": "Florida",
           "orientation": "v",
           "showlegend": true,
           "type": "scatter",
           "x": [
            "carrier_delay",
            "weather_delay",
            "nas_delay",
            "security_delay",
            "late_aircraft_delay"
           ],
           "xaxis": "x",
           "y": [
            4752,
            4,
            1933,
            0,
            6824
           ],
           "yaxis": "y"
          },
          {
           "hovertemplate": "state=Missouri<br>day=23<br>variable=%{x}<br>value=%{marker.size}<extra></extra>",
           "legendgroup": "Missouri",
           "marker": {
            "color": "#FF97FF",
            "size": [
             878,
             46,
             706,
             10,
             2729
            ],
            "sizemode": "area",
            "sizeref": 73.6175,
            "symbol": "circle"
           },
           "mode": "markers",
           "name": "Missouri",
           "orientation": "v",
           "showlegend": true,
           "type": "scatter",
           "x": [
            "carrier_delay",
            "weather_delay",
            "nas_delay",
            "security_delay",
            "late_aircraft_delay"
           ],
           "xaxis": "x",
           "y": [
            878,
            46,
            706,
            10,
            2729
           ],
           "yaxis": "y"
          },
          {
           "hovertemplate": "state=Wisconsin<br>day=23<br>variable=%{x}<br>value=%{marker.size}<extra></extra>",
           "legendgroup": "Wisconsin",
           "marker": {
            "color": "#FECB52",
            "size": [
             1419,
             641,
             3068,
             0,
             4286
            ],
            "sizemode": "area",
            "sizeref": 73.6175,
            "symbol": "circle"
           },
           "mode": "markers",
           "name": "Wisconsin",
           "orientation": "v",
           "showlegend": true,
           "type": "scatter",
           "x": [
            "carrier_delay",
            "weather_delay",
            "nas_delay",
            "security_delay",
            "late_aircraft_delay"
           ],
           "xaxis": "x",
           "y": [
            1419,
            641,
            3068,
            0,
            4286
           ],
           "yaxis": "y"
          },
          {
           "hovertemplate": "state=New York<br>day=23<br>variable=%{x}<br>value=%{marker.size}<extra></extra>",
           "legendgroup": "New York",
           "marker": {
            "color": "#636efa",
            "size": [
             6718,
             640,
             4880,
             159,
             3304
            ],
            "sizemode": "area",
            "sizeref": 73.6175,
            "symbol": "circle"
           },
           "mode": "markers",
           "name": "New York",
           "orientation": "v",
           "showlegend": true,
           "type": "scatter",
           "x": [
            "carrier_delay",
            "weather_delay",
            "nas_delay",
            "security_delay",
            "late_aircraft_delay"
           ],
           "xaxis": "x",
           "y": [
            6718,
            640,
            4880,
            159,
            3304
           ],
           "yaxis": "y"
          },
          {
           "hovertemplate": "state=Rhode Island<br>day=23<br>variable=%{x}<br>value=%{marker.size}<extra></extra>",
           "legendgroup": "Rhode Island",
           "marker": {
            "color": "#EF553B",
            "size": [
             159,
             12,
             60,
             0,
             330
            ],
            "sizemode": "area",
            "sizeref": 73.6175,
            "symbol": "circle"
           },
           "mode": "markers",
           "name": "Rhode Island",
           "orientation": "v",
           "showlegend": true,
           "type": "scatter",
           "x": [
            "carrier_delay",
            "weather_delay",
            "nas_delay",
            "security_delay",
            "late_aircraft_delay"
           ],
           "xaxis": "x",
           "y": [
            159,
            12,
            60,
            0,
            330
           ],
           "yaxis": "y"
          },
          {
           "hovertemplate": "state=Texas<br>day=23<br>variable=%{x}<br>value=%{marker.size}<extra></extra>",
           "legendgroup": "Texas",
           "marker": {
            "color": "#00cc96",
            "size": [
             9683,
             781,
             6347,
             91,
             10608
            ],
            "sizemode": "area",
            "sizeref": 73.6175,
            "symbol": "circle"
           },
           "mode": "markers",
           "name": "Texas",
           "orientation": "v",
           "showlegend": true,
           "type": "scatter",
           "x": [
            "carrier_delay",
            "weather_delay",
            "nas_delay",
            "security_delay",
            "late_aircraft_delay"
           ],
           "xaxis": "x",
           "y": [
            9683,
            781,
            6347,
            91,
            10608
           ],
           "yaxis": "y"
          },
          {
           "hovertemplate": "state=Kentucky<br>day=23<br>variable=%{x}<br>value=%{marker.size}<extra></extra>",
           "legendgroup": "Kentucky",
           "marker": {
            "color": "#ab63fa",
            "size": [
             136,
             0,
             659,
             0,
             1353
            ],
            "sizemode": "area",
            "sizeref": 73.6175,
            "symbol": "circle"
           },
           "mode": "markers",
           "name": "Kentucky",
           "orientation": "v",
           "showlegend": true,
           "type": "scatter",
           "x": [
            "carrier_delay",
            "weather_delay",
            "nas_delay",
            "security_delay",
            "late_aircraft_delay"
           ],
           "xaxis": "x",
           "y": [
            136,
            0,
            659,
            0,
            1353
           ],
           "yaxis": "y"
          },
          {
           "hovertemplate": "state=South Carolina<br>day=23<br>variable=%{x}<br>value=%{marker.size}<extra></extra>",
           "legendgroup": "South Carolina",
           "marker": {
            "color": "#FFA15A",
            "size": [
             579,
             0,
             1069,
             10,
             81
            ],
            "sizemode": "area",
            "sizeref": 73.6175,
            "symbol": "circle"
           },
           "mode": "markers",
           "name": "South Carolina",
           "orientation": "v",
           "showlegend": true,
           "type": "scatter",
           "x": [
            "carrier_delay",
            "weather_delay",
            "nas_delay",
            "security_delay",
            "late_aircraft_delay"
           ],
           "xaxis": "x",
           "y": [
            579,
            0,
            1069,
            10,
            81
           ],
           "yaxis": "y"
          },
          {
           "hovertemplate": "state=Pennsylvania<br>day=23<br>variable=%{x}<br>value=%{marker.size}<extra></extra>",
           "legendgroup": "Pennsylvania",
           "marker": {
            "color": "#19d3f3",
            "size": [
             2310,
             396,
             1495,
             40,
             1829
            ],
            "sizemode": "area",
            "sizeref": 73.6175,
            "symbol": "circle"
           },
           "mode": "markers",
           "name": "Pennsylvania",
           "orientation": "v",
           "showlegend": true,
           "type": "scatter",
           "x": [
            "carrier_delay",
            "weather_delay",
            "nas_delay",
            "security_delay",
            "late_aircraft_delay"
           ],
           "xaxis": "x",
           "y": [
            2310,
            396,
            1495,
            40,
            1829
           ],
           "yaxis": "y"
          },
          {
           "hovertemplate": "state=Illinois<br>day=23<br>variable=%{x}<br>value=%{marker.size}<extra></extra>",
           "legendgroup": "Illinois",
           "marker": {
            "color": "#FF6692",
            "size": [
             9557,
             7574,
             11461,
             0,
             21349
            ],
            "sizemode": "area",
            "sizeref": 73.6175,
            "symbol": "circle"
           },
           "mode": "markers",
           "name": "Illinois",
           "orientation": "v",
           "showlegend": true,
           "type": "scatter",
           "x": [
            "carrier_delay",
            "weather_delay",
            "nas_delay",
            "security_delay",
            "late_aircraft_delay"
           ],
           "xaxis": "x",
           "y": [
            9557,
            7574,
            11461,
            0,
            21349
           ],
           "yaxis": "y"
          },
          {
           "hovertemplate": "state=Ohio<br>day=23<br>variable=%{x}<br>value=%{marker.size}<extra></extra>",
           "legendgroup": "Ohio",
           "marker": {
            "color": "#B6E880",
            "size": [
             1392,
             24,
             2762,
             0,
             2235
            ],
            "sizemode": "area",
            "sizeref": 73.6175,
            "symbol": "circle"
           },
           "mode": "markers",
           "name": "Ohio",
           "orientation": "v",
           "showlegend": true,
           "type": "scatter",
           "x": [
            "carrier_delay",
            "weather_delay",
            "nas_delay",
            "security_delay",
            "late_aircraft_delay"
           ],
           "xaxis": "x",
           "y": [
            1392,
            24,
            2762,
            0,
            2235
           ],
           "yaxis": "y"
          },
          {
           "hovertemplate": "state=Michigan<br>day=23<br>variable=%{x}<br>value=%{marker.size}<extra></extra>",
           "legendgroup": "Michigan",
           "marker": {
            "color": "#FF97FF",
            "size": [
             2775,
             419,
             2133,
             4,
             1919
            ],
            "sizemode": "area",
            "sizeref": 73.6175,
            "symbol": "circle"
           },
           "mode": "markers",
           "name": "Michigan",
           "orientation": "v",
           "showlegend": true,
           "type": "scatter",
           "x": [
            "carrier_delay",
            "weather_delay",
            "nas_delay",
            "security_delay",
            "late_aircraft_delay"
           ],
           "xaxis": "x",
           "y": [
            2775,
            419,
            2133,
            4,
            1919
           ],
           "yaxis": "y"
          },
          {
           "hovertemplate": "state=New Jersey<br>day=23<br>variable=%{x}<br>value=%{marker.size}<extra></extra>",
           "legendgroup": "New Jersey",
           "marker": {
            "color": "#FECB52",
            "size": [
             2184,
             134,
             1159,
             63,
             2180
            ],
            "sizemode": "area",
            "sizeref": 73.6175,
            "symbol": "circle"
           },
           "mode": "markers",
           "name": "New Jersey",
           "orientation": "v",
           "showlegend": true,
           "type": "scatter",
           "x": [
            "carrier_delay",
            "weather_delay",
            "nas_delay",
            "security_delay",
            "late_aircraft_delay"
           ],
           "xaxis": "x",
           "y": [
            2184,
            134,
            1159,
            63,
            2180
           ],
           "yaxis": "y"
          },
          {
           "hovertemplate": "state=Oklahoma<br>day=23<br>variable=%{x}<br>value=%{marker.size}<extra></extra>",
           "legendgroup": "Oklahoma",
           "marker": {
            "color": "#636efa",
            "size": [
             532,
             51,
             673,
             0,
             988
            ],
            "sizemode": "area",
            "sizeref": 73.6175,
            "symbol": "circle"
           },
           "mode": "markers",
           "name": "Oklahoma",
           "orientation": "v",
           "showlegend": true,
           "type": "scatter",
           "x": [
            "carrier_delay",
            "weather_delay",
            "nas_delay",
            "security_delay",
            "late_aircraft_delay"
           ],
           "xaxis": "x",
           "y": [
            532,
            51,
            673,
            0,
            988
           ],
           "yaxis": "y"
          },
          {
           "hovertemplate": "state=Maine<br>day=23<br>variable=%{x}<br>value=%{marker.size}<extra></extra>",
           "legendgroup": "Maine",
           "marker": {
            "color": "#EF553B",
            "size": [
             0,
             0,
             139,
             0,
             37
            ],
            "sizemode": "area",
            "sizeref": 73.6175,
            "symbol": "circle"
           },
           "mode": "markers",
           "name": "Maine",
           "orientation": "v",
           "showlegend": true,
           "type": "scatter",
           "x": [
            "carrier_delay",
            "weather_delay",
            "nas_delay",
            "security_delay",
            "late_aircraft_delay"
           ],
           "xaxis": "x",
           "y": [
            0,
            0,
            139,
            0,
            37
           ],
           "yaxis": "y"
          },
          {
           "hovertemplate": "state=Minnesota<br>day=23<br>variable=%{x}<br>value=%{marker.size}<extra></extra>",
           "legendgroup": "Minnesota",
           "marker": {
            "color": "#00cc96",
            "size": [
             2100,
             965,
             4246,
             0,
             1844
            ],
            "sizemode": "area",
            "sizeref": 73.6175,
            "symbol": "circle"
           },
           "mode": "markers",
           "name": "Minnesota",
           "orientation": "v",
           "showlegend": true,
           "type": "scatter",
           "x": [
            "carrier_delay",
            "weather_delay",
            "nas_delay",
            "security_delay",
            "late_aircraft_delay"
           ],
           "xaxis": "x",
           "y": [
            2100,
            965,
            4246,
            0,
            1844
           ],
           "yaxis": "y"
          },
          {
           "hovertemplate": "state=Iowa<br>day=23<br>variable=%{x}<br>value=%{marker.size}<extra></extra>",
           "legendgroup": "Iowa",
           "marker": {
            "color": "#ab63fa",
            "size": [
             43,
             196,
             2072,
             0,
             1654
            ],
            "sizemode": "area",
            "sizeref": 73.6175,
            "symbol": "circle"
           },
           "mode": "markers",
           "name": "Iowa",
           "orientation": "v",
           "showlegend": true,
           "type": "scatter",
           "x": [
            "carrier_delay",
            "weather_delay",
            "nas_delay",
            "security_delay",
            "late_aircraft_delay"
           ],
           "xaxis": "x",
           "y": [
            43,
            196,
            2072,
            0,
            1654
           ],
           "yaxis": "y"
          },
          {
           "hovertemplate": "state=Alabama<br>day=23<br>variable=%{x}<br>value=%{marker.size}<extra></extra>",
           "legendgroup": "Alabama",
           "marker": {
            "color": "#FFA15A",
            "size": [
             343,
             0,
             742,
             0,
             539
            ],
            "sizemode": "area",
            "sizeref": 73.6175,
            "symbol": "circle"
           },
           "mode": "markers",
           "name": "Alabama",
           "orientation": "v",
           "showlegend": true,
           "type": "scatter",
           "x": [
            "carrier_delay",
            "weather_delay",
            "nas_delay",
            "security_delay",
            "late_aircraft_delay"
           ],
           "xaxis": "x",
           "y": [
            343,
            0,
            742,
            0,
            539
           ],
           "yaxis": "y"
          },
          {
           "hovertemplate": "state=Indiana<br>day=23<br>variable=%{x}<br>value=%{marker.size}<extra></extra>",
           "legendgroup": "Indiana",
           "marker": {
            "color": "#19d3f3",
            "size": [
             896,
             4,
             687,
             0,
             1088
            ],
            "sizemode": "area",
            "sizeref": 73.6175,
            "symbol": "circle"
           },
           "mode": "markers",
           "name": "Indiana",
           "orientation": "v",
           "showlegend": true,
           "type": "scatter",
           "x": [
            "carrier_delay",
            "weather_delay",
            "nas_delay",
            "security_delay",
            "late_aircraft_delay"
           ],
           "xaxis": "x",
           "y": [
            896,
            4,
            687,
            0,
            1088
           ],
           "yaxis": "y"
          },
          {
           "hovertemplate": "state=Kansas<br>day=23<br>variable=%{x}<br>value=%{marker.size}<extra></extra>",
           "legendgroup": "Kansas",
           "marker": {
            "color": "#FF6692",
            "size": [
             44,
             270,
             401,
             0,
             378
            ],
            "sizemode": "area",
            "sizeref": 73.6175,
            "symbol": "circle"
           },
           "mode": "markers",
           "name": "Kansas",
           "orientation": "v",
           "showlegend": true,
           "type": "scatter",
           "x": [
            "carrier_delay",
            "weather_delay",
            "nas_delay",
            "security_delay",
            "late_aircraft_delay"
           ],
           "xaxis": "x",
           "y": [
            44,
            270,
            401,
            0,
            378
           ],
           "yaxis": "y"
          },
          {
           "hovertemplate": "state=South Dakota<br>day=23<br>variable=%{x}<br>value=%{marker.size}<extra></extra>",
           "legendgroup": "South Dakota",
           "marker": {
            "color": "#B6E880",
            "size": [
             421,
             495,
             644,
             0,
             455
            ],
            "sizemode": "area",
            "sizeref": 73.6175,
            "symbol": "circle"
           },
           "mode": "markers",
           "name": "South Dakota",
           "orientation": "v",
           "showlegend": true,
           "type": "scatter",
           "x": [
            "carrier_delay",
            "weather_delay",
            "nas_delay",
            "security_delay",
            "late_aircraft_delay"
           ],
           "xaxis": "x",
           "y": [
            421,
            495,
            644,
            0,
            455
           ],
           "yaxis": "y"
          },
          {
           "hovertemplate": "state=North Dakota<br>day=23<br>variable=%{x}<br>value=%{marker.size}<extra></extra>",
           "legendgroup": "North Dakota",
           "marker": {
            "color": "#FF97FF",
            "size": [
             21,
             22,
             398,
             0,
             430
            ],
            "sizemode": "area",
            "sizeref": 73.6175,
            "symbol": "circle"
           },
           "mode": "markers",
           "name": "North Dakota",
           "orientation": "v",
           "showlegend": true,
           "type": "scatter",
           "x": [
            "carrier_delay",
            "weather_delay",
            "nas_delay",
            "security_delay",
            "late_aircraft_delay"
           ],
           "xaxis": "x",
           "y": [
            21,
            22,
            398,
            0,
            430
           ],
           "yaxis": "y"
          },
          {
           "hovertemplate": "state=Nebraska<br>day=23<br>variable=%{x}<br>value=%{marker.size}<extra></extra>",
           "legendgroup": "Nebraska",
           "marker": {
            "color": "#FECB52",
            "size": [
             125,
             19,
             786,
             0,
             1511
            ],
            "sizemode": "area",
            "sizeref": 73.6175,
            "symbol": "circle"
           },
           "mode": "markers",
           "name": "Nebraska",
           "orientation": "v",
           "showlegend": true,
           "type": "scatter",
           "x": [
            "carrier_delay",
            "weather_delay",
            "nas_delay",
            "security_delay",
            "late_aircraft_delay"
           ],
           "xaxis": "x",
           "y": [
            125,
            19,
            786,
            0,
            1511
           ],
           "yaxis": "y"
          },
          {
           "hovertemplate": "state=Vermont<br>day=23<br>variable=%{x}<br>value=%{marker.size}<extra></extra>",
           "legendgroup": "Vermont",
           "marker": {
            "color": "#636efa",
            "size": [
             15,
             0,
             63,
             0,
             52
            ],
            "sizemode": "area",
            "sizeref": 73.6175,
            "symbol": "circle"
           },
           "mode": "markers",
           "name": "Vermont",
           "orientation": "v",
           "showlegend": true,
           "type": "scatter",
           "x": [
            "carrier_delay",
            "weather_delay",
            "nas_delay",
            "security_delay",
            "late_aircraft_delay"
           ],
           "xaxis": "x",
           "y": [
            15,
            0,
            63,
            0,
            52
           ],
           "yaxis": "y"
          },
          {
           "hovertemplate": "state=Arkansas<br>day=23<br>variable=%{x}<br>value=%{marker.size}<extra></extra>",
           "legendgroup": "Arkansas",
           "marker": {
            "color": "#EF553B",
            "size": [
             535,
             8,
             871,
             0,
             903
            ],
            "sizemode": "area",
            "sizeref": 73.6175,
            "symbol": "circle"
           },
           "mode": "markers",
           "name": "Arkansas",
           "orientation": "v",
           "showlegend": true,
           "type": "scatter",
           "x": [
            "carrier_delay",
            "weather_delay",
            "nas_delay",
            "security_delay",
            "late_aircraft_delay"
           ],
           "xaxis": "x",
           "y": [
            535,
            8,
            871,
            0,
            903
           ],
           "yaxis": "y"
          },
          {
           "hovertemplate": "state=Massachusetts<br>day=23<br>variable=%{x}<br>value=%{marker.size}<extra></extra>",
           "legendgroup": "Massachusetts",
           "marker": {
            "color": "#00cc96",
            "size": [
             903,
             0,
             607,
             20,
             720
            ],
            "sizemode": "area",
            "sizeref": 73.6175,
            "symbol": "circle"
           },
           "mode": "markers",
           "name": "Massachusetts",
           "orientation": "v",
           "showlegend": true,
           "type": "scatter",
           "x": [
            "carrier_delay",
            "weather_delay",
            "nas_delay",
            "security_delay",
            "late_aircraft_delay"
           ],
           "xaxis": "x",
           "y": [
            903,
            0,
            607,
            20,
            720
           ],
           "yaxis": "y"
          },
          {
           "hovertemplate": "state=Connecticut<br>day=23<br>variable=%{x}<br>value=%{marker.size}<extra></extra>",
           "legendgroup": "Connecticut",
           "marker": {
            "color": "#ab63fa",
            "size": [
             80,
             0,
             188,
             0,
             602
            ],
            "sizemode": "area",
            "sizeref": 73.6175,
            "symbol": "circle"
           },
           "mode": "markers",
           "name": "Connecticut",
           "orientation": "v",
           "showlegend": true,
           "type": "scatter",
           "x": [
            "carrier_delay",
            "weather_delay",
            "nas_delay",
            "security_delay",
            "late_aircraft_delay"
           ],
           "xaxis": "x",
           "y": [
            80,
            0,
            188,
            0,
            602
           ],
           "yaxis": "y"
          },
          {
           "hovertemplate": "state=New Hampshire<br>day=23<br>variable=%{x}<br>value=%{marker.size}<extra></extra>",
           "legendgroup": "New Hampshire",
           "marker": {
            "color": "#FFA15A",
            "size": [
             68,
             0,
             395,
             0,
             63
            ],
            "sizemode": "area",
            "sizeref": 73.6175,
            "symbol": "circle"
           },
           "mode": "markers",
           "name": "New Hampshire",
           "orientation": "v",
           "showlegend": true,
           "type": "scatter",
           "x": [
            "carrier_delay",
            "weather_delay",
            "nas_delay",
            "security_delay",
            "late_aircraft_delay"
           ],
           "xaxis": "x",
           "y": [
            68,
            0,
            395,
            0,
            63
           ],
           "yaxis": "y"
          },
          {
           "hovertemplate": "state=California<br>day=23<br>variable=%{x}<br>value=%{marker.size}<extra></extra>",
           "legendgroup": "California",
           "marker": {
            "color": "#19d3f3",
            "size": [
             6041,
             331,
             6436,
             286,
             12864
            ],
            "sizemode": "area",
            "sizeref": 73.6175,
            "symbol": "circle"
           },
           "mode": "markers",
           "name": "California",
           "orientation": "v",
           "showlegend": true,
           "type": "scatter",
           "x": [
            "carrier_delay",
            "weather_delay",
            "nas_delay",
            "security_delay",
            "late_aircraft_delay"
           ],
           "xaxis": "x",
           "y": [
            6041,
            331,
            6436,
            286,
            12864
           ],
           "yaxis": "y"
          },
          {
           "hovertemplate": "state=Hawaii<br>day=23<br>variable=%{x}<br>value=%{marker.size}<extra></extra>",
           "legendgroup": "Hawaii",
           "marker": {
            "color": "#FF6692",
            "size": [
             2369,
             0,
             102,
             0,
             407
            ],
            "sizemode": "area",
            "sizeref": 73.6175,
            "symbol": "circle"
           },
           "mode": "markers",
           "name": "Hawaii",
           "orientation": "v",
           "showlegend": true,
           "type": "scatter",
           "x": [
            "carrier_delay",
            "weather_delay",
            "nas_delay",
            "security_delay",
            "late_aircraft_delay"
           ],
           "xaxis": "x",
           "y": [
            2369,
            0,
            102,
            0,
            407
           ],
           "yaxis": "y"
          },
          {
           "hovertemplate": "state=Puerto Rico<br>day=23<br>variable=%{x}<br>value=%{marker.size}<extra></extra>",
           "legendgroup": "Puerto Rico",
           "marker": {
            "color": "#B6E880",
            "size": [
             218,
             0,
             58,
             0,
             590
            ],
            "sizemode": "area",
            "sizeref": 73.6175,
            "symbol": "circle"
           },
           "mode": "markers",
           "name": "Puerto Rico",
           "orientation": "v",
           "showlegend": true,
           "type": "scatter",
           "x": [
            "carrier_delay",
            "weather_delay",
            "nas_delay",
            "security_delay",
            "late_aircraft_delay"
           ],
           "xaxis": "x",
           "y": [
            218,
            0,
            58,
            0,
            590
           ],
           "yaxis": "y"
          },
          {
           "hovertemplate": "state=Nevada<br>day=23<br>variable=%{x}<br>value=%{marker.size}<extra></extra>",
           "legendgroup": "Nevada",
           "marker": {
            "color": "#FF97FF",
            "size": [
             1617,
             42,
             1461,
             13,
             3303
            ],
            "sizemode": "area",
            "sizeref": 73.6175,
            "symbol": "circle"
           },
           "mode": "markers",
           "name": "Nevada",
           "orientation": "v",
           "showlegend": true,
           "type": "scatter",
           "x": [
            "carrier_delay",
            "weather_delay",
            "nas_delay",
            "security_delay",
            "late_aircraft_delay"
           ],
           "xaxis": "x",
           "y": [
            1617,
            42,
            1461,
            13,
            3303
           ],
           "yaxis": "y"
          },
          {
           "hovertemplate": "state=Washington<br>day=23<br>variable=%{x}<br>value=%{marker.size}<extra></extra>",
           "legendgroup": "Washington",
           "marker": {
            "color": "#FECB52",
            "size": [
             505,
             0,
             1189,
             0,
             1316
            ],
            "sizemode": "area",
            "sizeref": 73.6175,
            "symbol": "circle"
           },
           "mode": "markers",
           "name": "Washington",
           "orientation": "v",
           "showlegend": true,
           "type": "scatter",
           "x": [
            "carrier_delay",
            "weather_delay",
            "nas_delay",
            "security_delay",
            "late_aircraft_delay"
           ],
           "xaxis": "x",
           "y": [
            505,
            0,
            1189,
            0,
            1316
           ],
           "yaxis": "y"
          },
          {
           "hovertemplate": "state=Colorado<br>day=23<br>variable=%{x}<br>value=%{marker.size}<extra></extra>",
           "legendgroup": "Colorado",
           "marker": {
            "color": "#636efa",
            "size": [
             9474,
             7440,
             20763,
             0,
             20871
            ],
            "sizemode": "area",
            "sizeref": 73.6175,
            "symbol": "circle"
           },
           "mode": "markers",
           "name": "Colorado",
           "orientation": "v",
           "showlegend": true,
           "type": "scatter",
           "x": [
            "carrier_delay",
            "weather_delay",
            "nas_delay",
            "security_delay",
            "late_aircraft_delay"
           ],
           "xaxis": "x",
           "y": [
            9474,
            7440,
            20763,
            0,
            20871
           ],
           "yaxis": "y"
          },
          {
           "hovertemplate": "state=New Mexico<br>day=23<br>variable=%{x}<br>value=%{marker.size}<extra></extra>",
           "legendgroup": "New Mexico",
           "marker": {
            "color": "#EF553B",
            "size": [
             267,
             92,
             530,
             0,
             722
            ],
            "sizemode": "area",
            "sizeref": 73.6175,
            "symbol": "circle"
           },
           "mode": "markers",
           "name": "New Mexico",
           "orientation": "v",
           "showlegend": true,
           "type": "scatter",
           "x": [
            "carrier_delay",
            "weather_delay",
            "nas_delay",
            "security_delay",
            "late_aircraft_delay"
           ],
           "xaxis": "x",
           "y": [
            267,
            92,
            530,
            0,
            722
           ],
           "yaxis": "y"
          },
          {
           "hovertemplate": "state=Arizona<br>day=23<br>variable=%{x}<br>value=%{marker.size}<extra></extra>",
           "legendgroup": "Arizona",
           "marker": {
            "color": "#00cc96",
            "size": [
             3206,
             426,
             1526,
             9,
             3022
            ],
            "sizemode": "area",
            "sizeref": 73.6175,
            "symbol": "circle"
           },
           "mode": "markers",
           "name": "Arizona",
           "orientation": "v",
           "showlegend": true,
           "type": "scatter",
           "x": [
            "carrier_delay",
            "weather_delay",
            "nas_delay",
            "security_delay",
            "late_aircraft_delay"
           ],
           "xaxis": "x",
           "y": [
            3206,
            426,
            1526,
            9,
            3022
           ],
           "yaxis": "y"
          },
          {
           "hovertemplate": "state=Utah<br>day=23<br>variable=%{x}<br>value=%{marker.size}<extra></extra>",
           "legendgroup": "Utah",
           "marker": {
            "color": "#ab63fa",
            "size": [
             1696,
             60,
             2959,
             12,
             3153
            ],
            "sizemode": "area",
            "sizeref": 73.6175,
            "symbol": "circle"
           },
           "mode": "markers",
           "name": "Utah",
           "orientation": "v",
           "showlegend": true,
           "type": "scatter",
           "x": [
            "carrier_delay",
            "weather_delay",
            "nas_delay",
            "security_delay",
            "late_aircraft_delay"
           ],
           "xaxis": "x",
           "y": [
            1696,
            60,
            2959,
            12,
            3153
           ],
           "yaxis": "y"
          },
          {
           "hovertemplate": "state=U.S. Virgin Islands<br>day=23<br>variable=%{x}<br>value=%{marker.size}<extra></extra>",
           "legendgroup": "U.S. Virgin Islands",
           "marker": {
            "color": "#FFA15A",
            "size": [
             142,
             0,
             7,
             0,
             91
            ],
            "sizemode": "area",
            "sizeref": 73.6175,
            "symbol": "circle"
           },
           "mode": "markers",
           "name": "U.S. Virgin Islands",
           "orientation": "v",
           "showlegend": true,
           "type": "scatter",
           "x": [
            "carrier_delay",
            "weather_delay",
            "nas_delay",
            "security_delay",
            "late_aircraft_delay"
           ],
           "xaxis": "x",
           "y": [
            142,
            0,
            7,
            0,
            91
           ],
           "yaxis": "y"
          },
          {
           "hovertemplate": "state=Oregon<br>day=23<br>variable=%{x}<br>value=%{marker.size}<extra></extra>",
           "legendgroup": "Oregon",
           "marker": {
            "color": "#19d3f3",
            "size": [
             494,
             21,
             686,
             0,
             1069
            ],
            "sizemode": "area",
            "sizeref": 73.6175,
            "symbol": "circle"
           },
           "mode": "markers",
           "name": "Oregon",
           "orientation": "v",
           "showlegend": true,
           "type": "scatter",
           "x": [
            "carrier_delay",
            "weather_delay",
            "nas_delay",
            "security_delay",
            "late_aircraft_delay"
           ],
           "xaxis": "x",
           "y": [
            494,
            21,
            686,
            0,
            1069
           ],
           "yaxis": "y"
          },
          {
           "hovertemplate": "state=Maryland<br>day=23<br>variable=%{x}<br>value=%{marker.size}<extra></extra>",
           "legendgroup": "Maryland",
           "marker": {
            "color": "#FF6692",
            "size": [
             2093,
             44,
             655,
             11,
             1532
            ],
            "sizemode": "area",
            "sizeref": 73.6175,
            "symbol": "circle"
           },
           "mode": "markers",
           "name": "Maryland",
           "orientation": "v",
           "showlegend": true,
           "type": "scatter",
           "x": [
            "carrier_delay",
            "weather_delay",
            "nas_delay",
            "security_delay",
            "late_aircraft_delay"
           ],
           "xaxis": "x",
           "y": [
            2093,
            44,
            655,
            11,
            1532
           ],
           "yaxis": "y"
          },
          {
           "hovertemplate": "state=Wyoming<br>day=23<br>variable=%{x}<br>value=%{marker.size}<extra></extra>",
           "legendgroup": "Wyoming",
           "marker": {
            "color": "#B6E880",
            "size": [
             211,
             312,
             276,
             0,
             631
            ],
            "sizemode": "area",
            "sizeref": 73.6175,
            "symbol": "circle"
           },
           "mode": "markers",
           "name": "Wyoming",
           "orientation": "v",
           "showlegend": true,
           "type": "scatter",
           "x": [
            "carrier_delay",
            "weather_delay",
            "nas_delay",
            "security_delay",
            "late_aircraft_delay"
           ],
           "xaxis": "x",
           "y": [
            211,
            312,
            276,
            0,
            631
           ],
           "yaxis": "y"
          },
          {
           "hovertemplate": "state=Alaska<br>day=23<br>variable=%{x}<br>value=%{marker.size}<extra></extra>",
           "legendgroup": "Alaska",
           "marker": {
            "color": "#FF97FF",
            "size": [
             131,
             112,
             229,
             0,
             789
            ],
            "sizemode": "area",
            "sizeref": 73.6175,
            "symbol": "circle"
           },
           "mode": "markers",
           "name": "Alaska",
           "orientation": "v",
           "showlegend": true,
           "type": "scatter",
           "x": [
            "carrier_delay",
            "weather_delay",
            "nas_delay",
            "security_delay",
            "late_aircraft_delay"
           ],
           "xaxis": "x",
           "y": [
            131,
            112,
            229,
            0,
            789
           ],
           "yaxis": "y"
          },
          {
           "hovertemplate": "state=Idaho<br>day=23<br>variable=%{x}<br>value=%{marker.size}<extra></extra>",
           "legendgroup": "Idaho",
           "marker": {
            "color": "#FECB52",
            "size": [
             39,
             863,
             241,
             0,
             996
            ],
            "sizemode": "area",
            "sizeref": 73.6175,
            "symbol": "circle"
           },
           "mode": "markers",
           "name": "Idaho",
           "orientation": "v",
           "showlegend": true,
           "type": "scatter",
           "x": [
            "carrier_delay",
            "weather_delay",
            "nas_delay",
            "security_delay",
            "late_aircraft_delay"
           ],
           "xaxis": "x",
           "y": [
            39,
            863,
            241,
            0,
            996
           ],
           "yaxis": "y"
          },
          {
           "hovertemplate": "state=Montana<br>day=23<br>variable=%{x}<br>value=%{marker.size}<extra></extra>",
           "legendgroup": "Montana",
           "marker": {
            "color": "#636efa",
            "size": [
             870,
             18,
             694,
             0,
             1128
            ],
            "sizemode": "area",
            "sizeref": 73.6175,
            "symbol": "circle"
           },
           "mode": "markers",
           "name": "Montana",
           "orientation": "v",
           "showlegend": true,
           "type": "scatter",
           "x": [
            "carrier_delay",
            "weather_delay",
            "nas_delay",
            "security_delay",
            "late_aircraft_delay"
           ],
           "xaxis": "x",
           "y": [
            870,
            18,
            694,
            0,
            1128
           ],
           "yaxis": "y"
          },
          {
           "hovertemplate": "state=West Virginia<br>day=23<br>variable=%{x}<br>value=%{marker.size}<extra></extra>",
           "legendgroup": "West Virginia",
           "marker": {
            "color": "#EF553B",
            "size": [
             0,
             0,
             11,
             0,
             222
            ],
            "sizemode": "area",
            "sizeref": 73.6175,
            "symbol": "circle"
           },
           "mode": "markers",
           "name": "West Virginia",
           "orientation": "v",
           "showlegend": true,
           "type": "scatter",
           "x": [
            "carrier_delay",
            "weather_delay",
            "nas_delay",
            "security_delay",
            "late_aircraft_delay"
           ],
           "xaxis": "x",
           "y": [
            0,
            0,
            11,
            0,
            222
           ],
           "yaxis": "y"
          }
         ],
         "name": "23"
        },
        {
         "data": [
          {
           "hovertemplate": "state=Georgia<br>day=24<br>variable=%{x}<br>value=%{marker.size}<extra></extra>",
           "legendgroup": "Georgia",
           "marker": {
            "color": "#636efa",
            "size": [
             1571,
             15,
             1529,
             8,
             1786
            ],
            "sizemode": "area",
            "sizeref": 73.6175,
            "symbol": "circle"
           },
           "mode": "markers",
           "name": "Georgia",
           "orientation": "v",
           "showlegend": true,
           "type": "scatter",
           "x": [
            "carrier_delay",
            "weather_delay",
            "nas_delay",
            "security_delay",
            "late_aircraft_delay"
           ],
           "xaxis": "x",
           "y": [
            1571,
            15,
            1529,
            8,
            1786
           ],
           "yaxis": "y"
          },
          {
           "hovertemplate": "state=Tennessee<br>day=24<br>variable=%{x}<br>value=%{marker.size}<extra></extra>",
           "legendgroup": "Tennessee",
           "marker": {
            "color": "#EF553B",
            "size": [
             1242,
             1847,
             1215,
             7,
             1340
            ],
            "sizemode": "area",
            "sizeref": 73.6175,
            "symbol": "circle"
           },
           "mode": "markers",
           "name": "Tennessee",
           "orientation": "v",
           "showlegend": true,
           "type": "scatter",
           "x": [
            "carrier_delay",
            "weather_delay",
            "nas_delay",
            "security_delay",
            "late_aircraft_delay"
           ],
           "xaxis": "x",
           "y": [
            1242,
            1847,
            1215,
            7,
            1340
           ],
           "yaxis": "y"
          },
          {
           "hovertemplate": "state=Virginia<br>day=24<br>variable=%{x}<br>value=%{marker.size}<extra></extra>",
           "legendgroup": "Virginia",
           "marker": {
            "color": "#00cc96",
            "size": [
             358,
             0,
             470,
             0,
             245
            ],
            "sizemode": "area",
            "sizeref": 73.6175,
            "symbol": "circle"
           },
           "mode": "markers",
           "name": "Virginia",
           "orientation": "v",
           "showlegend": true,
           "type": "scatter",
           "x": [
            "carrier_delay",
            "weather_delay",
            "nas_delay",
            "security_delay",
            "late_aircraft_delay"
           ],
           "xaxis": "x",
           "y": [
            358,
            0,
            470,
            0,
            245
           ],
           "yaxis": "y"
          },
          {
           "hovertemplate": "state=Mississippi<br>day=24<br>variable=%{x}<br>value=%{marker.size}<extra></extra>",
           "legendgroup": "Mississippi",
           "marker": {
            "color": "#ab63fa",
            "size": [
             261,
             67,
             286,
             0,
             616
            ],
            "sizemode": "area",
            "sizeref": 73.6175,
            "symbol": "circle"
           },
           "mode": "markers",
           "name": "Mississippi",
           "orientation": "v",
           "showlegend": true,
           "type": "scatter",
           "x": [
            "carrier_delay",
            "weather_delay",
            "nas_delay",
            "security_delay",
            "late_aircraft_delay"
           ],
           "xaxis": "x",
           "y": [
            261,
            67,
            286,
            0,
            616
           ],
           "yaxis": "y"
          },
          {
           "hovertemplate": "state=District of Columbia<br>day=24<br>variable=%{x}<br>value=%{marker.size}<extra></extra>",
           "legendgroup": "District of Columbia",
           "marker": {
            "color": "#FFA15A",
            "size": [
             1006,
             296,
             778,
             41,
             835
            ],
            "sizemode": "area",
            "sizeref": 73.6175,
            "symbol": "circle"
           },
           "mode": "markers",
           "name": "District of Columbia",
           "orientation": "v",
           "showlegend": true,
           "type": "scatter",
           "x": [
            "carrier_delay",
            "weather_delay",
            "nas_delay",
            "security_delay",
            "late_aircraft_delay"
           ],
           "xaxis": "x",
           "y": [
            1006,
            296,
            778,
            41,
            835
           ],
           "yaxis": "y"
          },
          {
           "hovertemplate": "state=Louisiana<br>day=24<br>variable=%{x}<br>value=%{marker.size}<extra></extra>",
           "legendgroup": "Louisiana",
           "marker": {
            "color": "#19d3f3",
            "size": [
             662,
             1566,
             689,
             0,
             1104
            ],
            "sizemode": "area",
            "sizeref": 73.6175,
            "symbol": "circle"
           },
           "mode": "markers",
           "name": "Louisiana",
           "orientation": "v",
           "showlegend": true,
           "type": "scatter",
           "x": [
            "carrier_delay",
            "weather_delay",
            "nas_delay",
            "security_delay",
            "late_aircraft_delay"
           ],
           "xaxis": "x",
           "y": [
            662,
            1566,
            689,
            0,
            1104
           ],
           "yaxis": "y"
          },
          {
           "hovertemplate": "state=North Carolina<br>day=24<br>variable=%{x}<br>value=%{marker.size}<extra></extra>",
           "legendgroup": "North Carolina",
           "marker": {
            "color": "#FF6692",
            "size": [
             1095,
             0,
             1754,
             8,
             1050
            ],
            "sizemode": "area",
            "sizeref": 73.6175,
            "symbol": "circle"
           },
           "mode": "markers",
           "name": "North Carolina",
           "orientation": "v",
           "showlegend": true,
           "type": "scatter",
           "x": [
            "carrier_delay",
            "weather_delay",
            "nas_delay",
            "security_delay",
            "late_aircraft_delay"
           ],
           "xaxis": "x",
           "y": [
            1095,
            0,
            1754,
            8,
            1050
           ],
           "yaxis": "y"
          },
          {
           "hovertemplate": "state=Florida<br>day=24<br>variable=%{x}<br>value=%{marker.size}<extra></extra>",
           "legendgroup": "Florida",
           "marker": {
            "color": "#B6E880",
            "size": [
             2640,
             187,
             2733,
             0,
             5105
            ],
            "sizemode": "area",
            "sizeref": 73.6175,
            "symbol": "circle"
           },
           "mode": "markers",
           "name": "Florida",
           "orientation": "v",
           "showlegend": true,
           "type": "scatter",
           "x": [
            "carrier_delay",
            "weather_delay",
            "nas_delay",
            "security_delay",
            "late_aircraft_delay"
           ],
           "xaxis": "x",
           "y": [
            2640,
            187,
            2733,
            0,
            5105
           ],
           "yaxis": "y"
          },
          {
           "hovertemplate": "state=Missouri<br>day=24<br>variable=%{x}<br>value=%{marker.size}<extra></extra>",
           "legendgroup": "Missouri",
           "marker": {
            "color": "#FF97FF",
            "size": [
             613,
             140,
             2423,
             0,
             1703
            ],
            "sizemode": "area",
            "sizeref": 73.6175,
            "symbol": "circle"
           },
           "mode": "markers",
           "name": "Missouri",
           "orientation": "v",
           "showlegend": true,
           "type": "scatter",
           "x": [
            "carrier_delay",
            "weather_delay",
            "nas_delay",
            "security_delay",
            "late_aircraft_delay"
           ],
           "xaxis": "x",
           "y": [
            613,
            140,
            2423,
            0,
            1703
           ],
           "yaxis": "y"
          },
          {
           "hovertemplate": "state=Wisconsin<br>day=24<br>variable=%{x}<br>value=%{marker.size}<extra></extra>",
           "legendgroup": "Wisconsin",
           "marker": {
            "color": "#FECB52",
            "size": [
             1322,
             167,
             1303,
             0,
             2663
            ],
            "sizemode": "area",
            "sizeref": 73.6175,
            "symbol": "circle"
           },
           "mode": "markers",
           "name": "Wisconsin",
           "orientation": "v",
           "showlegend": true,
           "type": "scatter",
           "x": [
            "carrier_delay",
            "weather_delay",
            "nas_delay",
            "security_delay",
            "late_aircraft_delay"
           ],
           "xaxis": "x",
           "y": [
            1322,
            167,
            1303,
            0,
            2663
           ],
           "yaxis": "y"
          },
          {
           "hovertemplate": "state=New York<br>day=24<br>variable=%{x}<br>value=%{marker.size}<extra></extra>",
           "legendgroup": "New York",
           "marker": {
            "color": "#636efa",
            "size": [
             2468,
             163,
             688,
             48,
             1060
            ],
            "sizemode": "area",
            "sizeref": 73.6175,
            "symbol": "circle"
           },
           "mode": "markers",
           "name": "New York",
           "orientation": "v",
           "showlegend": true,
           "type": "scatter",
           "x": [
            "carrier_delay",
            "weather_delay",
            "nas_delay",
            "security_delay",
            "late_aircraft_delay"
           ],
           "xaxis": "x",
           "y": [
            2468,
            163,
            688,
            48,
            1060
           ],
           "yaxis": "y"
          },
          {
           "hovertemplate": "state=Rhode Island<br>day=24<br>variable=%{x}<br>value=%{marker.size}<extra></extra>",
           "legendgroup": "Rhode Island",
           "marker": {
            "color": "#EF553B",
            "size": [
             1,
             0,
             0,
             0,
             16
            ],
            "sizemode": "area",
            "sizeref": 73.6175,
            "symbol": "circle"
           },
           "mode": "markers",
           "name": "Rhode Island",
           "orientation": "v",
           "showlegend": true,
           "type": "scatter",
           "x": [
            "carrier_delay",
            "weather_delay",
            "nas_delay",
            "security_delay",
            "late_aircraft_delay"
           ],
           "xaxis": "x",
           "y": [
            1,
            0,
            0,
            0,
            16
           ],
           "yaxis": "y"
          },
          {
           "hovertemplate": "state=Texas<br>day=24<br>variable=%{x}<br>value=%{marker.size}<extra></extra>",
           "legendgroup": "Texas",
           "marker": {
            "color": "#00cc96",
            "size": [
             9833,
             15341,
             19532,
             1554,
             22113
            ],
            "sizemode": "area",
            "sizeref": 73.6175,
            "symbol": "circle"
           },
           "mode": "markers",
           "name": "Texas",
           "orientation": "v",
           "showlegend": true,
           "type": "scatter",
           "x": [
            "carrier_delay",
            "weather_delay",
            "nas_delay",
            "security_delay",
            "late_aircraft_delay"
           ],
           "xaxis": "x",
           "y": [
            9833,
            15341,
            19532,
            1554,
            22113
           ],
           "yaxis": "y"
          },
          {
           "hovertemplate": "state=Kentucky<br>day=24<br>variable=%{x}<br>value=%{marker.size}<extra></extra>",
           "legendgroup": "Kentucky",
           "marker": {
            "color": "#ab63fa",
            "size": [
             610,
             0,
             49,
             0,
             568
            ],
            "sizemode": "area",
            "sizeref": 73.6175,
            "symbol": "circle"
           },
           "mode": "markers",
           "name": "Kentucky",
           "orientation": "v",
           "showlegend": true,
           "type": "scatter",
           "x": [
            "carrier_delay",
            "weather_delay",
            "nas_delay",
            "security_delay",
            "late_aircraft_delay"
           ],
           "xaxis": "x",
           "y": [
            610,
            0,
            49,
            0,
            568
           ],
           "yaxis": "y"
          },
          {
           "hovertemplate": "state=South Carolina<br>day=24<br>variable=%{x}<br>value=%{marker.size}<extra></extra>",
           "legendgroup": "South Carolina",
           "marker": {
            "color": "#FFA15A",
            "size": [
             63,
             0,
             246,
             0,
             102
            ],
            "sizemode": "area",
            "sizeref": 73.6175,
            "symbol": "circle"
           },
           "mode": "markers",
           "name": "South Carolina",
           "orientation": "v",
           "showlegend": true,
           "type": "scatter",
           "x": [
            "carrier_delay",
            "weather_delay",
            "nas_delay",
            "security_delay",
            "late_aircraft_delay"
           ],
           "xaxis": "x",
           "y": [
            63,
            0,
            246,
            0,
            102
           ],
           "yaxis": "y"
          },
          {
           "hovertemplate": "state=Pennsylvania<br>day=24<br>variable=%{x}<br>value=%{marker.size}<extra></extra>",
           "legendgroup": "Pennsylvania",
           "marker": {
            "color": "#19d3f3",
            "size": [
             1255,
             64,
             974,
             29,
             739
            ],
            "sizemode": "area",
            "sizeref": 73.6175,
            "symbol": "circle"
           },
           "mode": "markers",
           "name": "Pennsylvania",
           "orientation": "v",
           "showlegend": true,
           "type": "scatter",
           "x": [
            "carrier_delay",
            "weather_delay",
            "nas_delay",
            "security_delay",
            "late_aircraft_delay"
           ],
           "xaxis": "x",
           "y": [
            1255,
            64,
            974,
            29,
            739
           ],
           "yaxis": "y"
          },
          {
           "hovertemplate": "state=Illinois<br>day=24<br>variable=%{x}<br>value=%{marker.size}<extra></extra>",
           "legendgroup": "Illinois",
           "marker": {
            "color": "#FF6692",
            "size": [
             5279,
             695,
             3034,
             25,
             4383
            ],
            "sizemode": "area",
            "sizeref": 73.6175,
            "symbol": "circle"
           },
           "mode": "markers",
           "name": "Illinois",
           "orientation": "v",
           "showlegend": true,
           "type": "scatter",
           "x": [
            "carrier_delay",
            "weather_delay",
            "nas_delay",
            "security_delay",
            "late_aircraft_delay"
           ],
           "xaxis": "x",
           "y": [
            5279,
            695,
            3034,
            25,
            4383
           ],
           "yaxis": "y"
          },
          {
           "hovertemplate": "state=Ohio<br>day=24<br>variable=%{x}<br>value=%{marker.size}<extra></extra>",
           "legendgroup": "Ohio",
           "marker": {
            "color": "#B6E880",
            "size": [
             1609,
             0,
             852,
             0,
             907
            ],
            "sizemode": "area",
            "sizeref": 73.6175,
            "symbol": "circle"
           },
           "mode": "markers",
           "name": "Ohio",
           "orientation": "v",
           "showlegend": true,
           "type": "scatter",
           "x": [
            "carrier_delay",
            "weather_delay",
            "nas_delay",
            "security_delay",
            "late_aircraft_delay"
           ],
           "xaxis": "x",
           "y": [
            1609,
            0,
            852,
            0,
            907
           ],
           "yaxis": "y"
          },
          {
           "hovertemplate": "state=Michigan<br>day=24<br>variable=%{x}<br>value=%{marker.size}<extra></extra>",
           "legendgroup": "Michigan",
           "marker": {
            "color": "#FF97FF",
            "size": [
             2154,
             557,
             562,
             0,
             1350
            ],
            "sizemode": "area",
            "sizeref": 73.6175,
            "symbol": "circle"
           },
           "mode": "markers",
           "name": "Michigan",
           "orientation": "v",
           "showlegend": true,
           "type": "scatter",
           "x": [
            "carrier_delay",
            "weather_delay",
            "nas_delay",
            "security_delay",
            "late_aircraft_delay"
           ],
           "xaxis": "x",
           "y": [
            2154,
            557,
            562,
            0,
            1350
           ],
           "yaxis": "y"
          },
          {
           "hovertemplate": "state=New Jersey<br>day=24<br>variable=%{x}<br>value=%{marker.size}<extra></extra>",
           "legendgroup": "New Jersey",
           "marker": {
            "color": "#FECB52",
            "size": [
             630,
             0,
             637,
             0,
             592
            ],
            "sizemode": "area",
            "sizeref": 73.6175,
            "symbol": "circle"
           },
           "mode": "markers",
           "name": "New Jersey",
           "orientation": "v",
           "showlegend": true,
           "type": "scatter",
           "x": [
            "carrier_delay",
            "weather_delay",
            "nas_delay",
            "security_delay",
            "late_aircraft_delay"
           ],
           "xaxis": "x",
           "y": [
            630,
            0,
            637,
            0,
            592
           ],
           "yaxis": "y"
          },
          {
           "hovertemplate": "state=Oklahoma<br>day=24<br>variable=%{x}<br>value=%{marker.size}<extra></extra>",
           "legendgroup": "Oklahoma",
           "marker": {
            "color": "#636efa",
            "size": [
             112,
             1105,
             744,
             0,
             164
            ],
            "sizemode": "area",
            "sizeref": 73.6175,
            "symbol": "circle"
           },
           "mode": "markers",
           "name": "Oklahoma",
           "orientation": "v",
           "showlegend": true,
           "type": "scatter",
           "x": [
            "carrier_delay",
            "weather_delay",
            "nas_delay",
            "security_delay",
            "late_aircraft_delay"
           ],
           "xaxis": "x",
           "y": [
            112,
            1105,
            744,
            0,
            164
           ],
           "yaxis": "y"
          },
          {
           "hovertemplate": "state=Maine<br>day=24<br>variable=%{x}<br>value=%{marker.size}<extra></extra>",
           "legendgroup": "Maine",
           "marker": {
            "color": "#EF553B",
            "size": [
             138,
             0,
             0,
             0,
             121
            ],
            "sizemode": "area",
            "sizeref": 73.6175,
            "symbol": "circle"
           },
           "mode": "markers",
           "name": "Maine",
           "orientation": "v",
           "showlegend": true,
           "type": "scatter",
           "x": [
            "carrier_delay",
            "weather_delay",
            "nas_delay",
            "security_delay",
            "late_aircraft_delay"
           ],
           "xaxis": "x",
           "y": [
            138,
            0,
            0,
            0,
            121
           ],
           "yaxis": "y"
          },
          {
           "hovertemplate": "state=Minnesota<br>day=24<br>variable=%{x}<br>value=%{marker.size}<extra></extra>",
           "legendgroup": "Minnesota",
           "marker": {
            "color": "#00cc96",
            "size": [
             1334,
             709,
             4134,
             0,
             855
            ],
            "sizemode": "area",
            "sizeref": 73.6175,
            "symbol": "circle"
           },
           "mode": "markers",
           "name": "Minnesota",
           "orientation": "v",
           "showlegend": true,
           "type": "scatter",
           "x": [
            "carrier_delay",
            "weather_delay",
            "nas_delay",
            "security_delay",
            "late_aircraft_delay"
           ],
           "xaxis": "x",
           "y": [
            1334,
            709,
            4134,
            0,
            855
           ],
           "yaxis": "y"
          },
          {
           "hovertemplate": "state=Iowa<br>day=24<br>variable=%{x}<br>value=%{marker.size}<extra></extra>",
           "legendgroup": "Iowa",
           "marker": {
            "color": "#ab63fa",
            "size": [
             181,
             0,
             523,
             0,
             347
            ],
            "sizemode": "area",
            "sizeref": 73.6175,
            "symbol": "circle"
           },
           "mode": "markers",
           "name": "Iowa",
           "orientation": "v",
           "showlegend": true,
           "type": "scatter",
           "x": [
            "carrier_delay",
            "weather_delay",
            "nas_delay",
            "security_delay",
            "late_aircraft_delay"
           ],
           "xaxis": "x",
           "y": [
            181,
            0,
            523,
            0,
            347
           ],
           "yaxis": "y"
          },
          {
           "hovertemplate": "state=Alabama<br>day=24<br>variable=%{x}<br>value=%{marker.size}<extra></extra>",
           "legendgroup": "Alabama",
           "marker": {
            "color": "#FFA15A",
            "size": [
             279,
             0,
             156,
             0,
             857
            ],
            "sizemode": "area",
            "sizeref": 73.6175,
            "symbol": "circle"
           },
           "mode": "markers",
           "name": "Alabama",
           "orientation": "v",
           "showlegend": true,
           "type": "scatter",
           "x": [
            "carrier_delay",
            "weather_delay",
            "nas_delay",
            "security_delay",
            "late_aircraft_delay"
           ],
           "xaxis": "x",
           "y": [
            279,
            0,
            156,
            0,
            857
           ],
           "yaxis": "y"
          },
          {
           "hovertemplate": "state=Indiana<br>day=24<br>variable=%{x}<br>value=%{marker.size}<extra></extra>",
           "legendgroup": "Indiana",
           "marker": {
            "color": "#19d3f3",
            "size": [
             630,
             220,
             318,
             0,
             291
            ],
            "sizemode": "area",
            "sizeref": 73.6175,
            "symbol": "circle"
           },
           "mode": "markers",
           "name": "Indiana",
           "orientation": "v",
           "showlegend": true,
           "type": "scatter",
           "x": [
            "carrier_delay",
            "weather_delay",
            "nas_delay",
            "security_delay",
            "late_aircraft_delay"
           ],
           "xaxis": "x",
           "y": [
            630,
            220,
            318,
            0,
            291
           ],
           "yaxis": "y"
          },
          {
           "hovertemplate": "state=Kansas<br>day=24<br>variable=%{x}<br>value=%{marker.size}<extra></extra>",
           "legendgroup": "Kansas",
           "marker": {
            "color": "#FF6692",
            "size": [
             483,
             18,
             376,
             0,
             434
            ],
            "sizemode": "area",
            "sizeref": 73.6175,
            "symbol": "circle"
           },
           "mode": "markers",
           "name": "Kansas",
           "orientation": "v",
           "showlegend": true,
           "type": "scatter",
           "x": [
            "carrier_delay",
            "weather_delay",
            "nas_delay",
            "security_delay",
            "late_aircraft_delay"
           ],
           "xaxis": "x",
           "y": [
            483,
            18,
            376,
            0,
            434
           ],
           "yaxis": "y"
          },
          {
           "hovertemplate": "state=South Dakota<br>day=24<br>variable=%{x}<br>value=%{marker.size}<extra></extra>",
           "legendgroup": "South Dakota",
           "marker": {
            "color": "#B6E880",
            "size": [
             74,
             31,
             66,
             0,
             315
            ],
            "sizemode": "area",
            "sizeref": 73.6175,
            "symbol": "circle"
           },
           "mode": "markers",
           "name": "South Dakota",
           "orientation": "v",
           "showlegend": true,
           "type": "scatter",
           "x": [
            "carrier_delay",
            "weather_delay",
            "nas_delay",
            "security_delay",
            "late_aircraft_delay"
           ],
           "xaxis": "x",
           "y": [
            74,
            31,
            66,
            0,
            315
           ],
           "yaxis": "y"
          },
          {
           "hovertemplate": "state=North Dakota<br>day=24<br>variable=%{x}<br>value=%{marker.size}<extra></extra>",
           "legendgroup": "North Dakota",
           "marker": {
            "color": "#FF97FF",
            "size": [
             172,
             0,
             106,
             0,
             383
            ],
            "sizemode": "area",
            "sizeref": 73.6175,
            "symbol": "circle"
           },
           "mode": "markers",
           "name": "North Dakota",
           "orientation": "v",
           "showlegend": true,
           "type": "scatter",
           "x": [
            "carrier_delay",
            "weather_delay",
            "nas_delay",
            "security_delay",
            "late_aircraft_delay"
           ],
           "xaxis": "x",
           "y": [
            172,
            0,
            106,
            0,
            383
           ],
           "yaxis": "y"
          },
          {
           "hovertemplate": "state=Nebraska<br>day=24<br>variable=%{x}<br>value=%{marker.size}<extra></extra>",
           "legendgroup": "Nebraska",
           "marker": {
            "color": "#FECB52",
            "size": [
             277,
             28,
             1048,
             5,
             657
            ],
            "sizemode": "area",
            "sizeref": 73.6175,
            "symbol": "circle"
           },
           "mode": "markers",
           "name": "Nebraska",
           "orientation": "v",
           "showlegend": true,
           "type": "scatter",
           "x": [
            "carrier_delay",
            "weather_delay",
            "nas_delay",
            "security_delay",
            "late_aircraft_delay"
           ],
           "xaxis": "x",
           "y": [
            277,
            28,
            1048,
            5,
            657
           ],
           "yaxis": "y"
          },
          {
           "hovertemplate": "state=Vermont<br>day=24<br>variable=%{x}<br>value=%{marker.size}<extra></extra>",
           "legendgroup": "Vermont",
           "marker": {
            "color": "#636efa",
            "size": [
             20,
             0,
             82,
             0,
             0
            ],
            "sizemode": "area",
            "sizeref": 73.6175,
            "symbol": "circle"
           },
           "mode": "markers",
           "name": "Vermont",
           "orientation": "v",
           "showlegend": true,
           "type": "scatter",
           "x": [
            "carrier_delay",
            "weather_delay",
            "nas_delay",
            "security_delay",
            "late_aircraft_delay"
           ],
           "xaxis": "x",
           "y": [
            20,
            0,
            82,
            0,
            0
           ],
           "yaxis": "y"
          },
          {
           "hovertemplate": "state=Arkansas<br>day=24<br>variable=%{x}<br>value=%{marker.size}<extra></extra>",
           "legendgroup": "Arkansas",
           "marker": {
            "color": "#EF553B",
            "size": [
             158,
             91,
             276,
             0,
             1108
            ],
            "sizemode": "area",
            "sizeref": 73.6175,
            "symbol": "circle"
           },
           "mode": "markers",
           "name": "Arkansas",
           "orientation": "v",
           "showlegend": true,
           "type": "scatter",
           "x": [
            "carrier_delay",
            "weather_delay",
            "nas_delay",
            "security_delay",
            "late_aircraft_delay"
           ],
           "xaxis": "x",
           "y": [
            158,
            91,
            276,
            0,
            1108
           ],
           "yaxis": "y"
          },
          {
           "hovertemplate": "state=Massachusetts<br>day=24<br>variable=%{x}<br>value=%{marker.size}<extra></extra>",
           "legendgroup": "Massachusetts",
           "marker": {
            "color": "#00cc96",
            "size": [
             101,
             0,
             239,
             0,
             355
            ],
            "sizemode": "area",
            "sizeref": 73.6175,
            "symbol": "circle"
           },
           "mode": "markers",
           "name": "Massachusetts",
           "orientation": "v",
           "showlegend": true,
           "type": "scatter",
           "x": [
            "carrier_delay",
            "weather_delay",
            "nas_delay",
            "security_delay",
            "late_aircraft_delay"
           ],
           "xaxis": "x",
           "y": [
            101,
            0,
            239,
            0,
            355
           ],
           "yaxis": "y"
          },
          {
           "hovertemplate": "state=Connecticut<br>day=24<br>variable=%{x}<br>value=%{marker.size}<extra></extra>",
           "legendgroup": "Connecticut",
           "marker": {
            "color": "#ab63fa",
            "size": [
             9,
             87,
             18,
             0,
             130
            ],
            "sizemode": "area",
            "sizeref": 73.6175,
            "symbol": "circle"
           },
           "mode": "markers",
           "name": "Connecticut",
           "orientation": "v",
           "showlegend": true,
           "type": "scatter",
           "x": [
            "carrier_delay",
            "weather_delay",
            "nas_delay",
            "security_delay",
            "late_aircraft_delay"
           ],
           "xaxis": "x",
           "y": [
            9,
            87,
            18,
            0,
            130
           ],
           "yaxis": "y"
          },
          {
           "hovertemplate": "state=New Hampshire<br>day=24<br>variable=%{x}<br>value=%{marker.size}<extra></extra>",
           "legendgroup": "New Hampshire",
           "marker": {
            "color": "#FFA15A",
            "size": [
             0,
             0,
             0,
             0,
             0
            ],
            "sizemode": "area",
            "sizeref": 73.6175,
            "symbol": "circle"
           },
           "mode": "markers",
           "name": "New Hampshire",
           "orientation": "v",
           "showlegend": true,
           "type": "scatter",
           "x": [
            "carrier_delay",
            "weather_delay",
            "nas_delay",
            "security_delay",
            "late_aircraft_delay"
           ],
           "xaxis": "x",
           "y": [
            0,
            0,
            0,
            0,
            0
           ],
           "yaxis": "y"
          },
          {
           "hovertemplate": "state=California<br>day=24<br>variable=%{x}<br>value=%{marker.size}<extra></extra>",
           "legendgroup": "California",
           "marker": {
            "color": "#19d3f3",
            "size": [
             5851,
             971,
             4086,
             50,
             6130
            ],
            "sizemode": "area",
            "sizeref": 73.6175,
            "symbol": "circle"
           },
           "mode": "markers",
           "name": "California",
           "orientation": "v",
           "showlegend": true,
           "type": "scatter",
           "x": [
            "carrier_delay",
            "weather_delay",
            "nas_delay",
            "security_delay",
            "late_aircraft_delay"
           ],
           "xaxis": "x",
           "y": [
            5851,
            971,
            4086,
            50,
            6130
           ],
           "yaxis": "y"
          },
          {
           "hovertemplate": "state=Hawaii<br>day=24<br>variable=%{x}<br>value=%{marker.size}<extra></extra>",
           "legendgroup": "Hawaii",
           "marker": {
            "color": "#FF6692",
            "size": [
             235,
             0,
             271,
             0,
             640
            ],
            "sizemode": "area",
            "sizeref": 73.6175,
            "symbol": "circle"
           },
           "mode": "markers",
           "name": "Hawaii",
           "orientation": "v",
           "showlegend": true,
           "type": "scatter",
           "x": [
            "carrier_delay",
            "weather_delay",
            "nas_delay",
            "security_delay",
            "late_aircraft_delay"
           ],
           "xaxis": "x",
           "y": [
            235,
            0,
            271,
            0,
            640
           ],
           "yaxis": "y"
          },
          {
           "hovertemplate": "state=Puerto Rico<br>day=24<br>variable=%{x}<br>value=%{marker.size}<extra></extra>",
           "legendgroup": "Puerto Rico",
           "marker": {
            "color": "#B6E880",
            "size": [
             105,
             0,
             139,
             0,
             372
            ],
            "sizemode": "area",
            "sizeref": 73.6175,
            "symbol": "circle"
           },
           "mode": "markers",
           "name": "Puerto Rico",
           "orientation": "v",
           "showlegend": true,
           "type": "scatter",
           "x": [
            "carrier_delay",
            "weather_delay",
            "nas_delay",
            "security_delay",
            "late_aircraft_delay"
           ],
           "xaxis": "x",
           "y": [
            105,
            0,
            139,
            0,
            372
           ],
           "yaxis": "y"
          },
          {
           "hovertemplate": "state=Nevada<br>day=24<br>variable=%{x}<br>value=%{marker.size}<extra></extra>",
           "legendgroup": "Nevada",
           "marker": {
            "color": "#FF97FF",
            "size": [
             1128,
             11,
             1489,
             0,
             1543
            ],
            "sizemode": "area",
            "sizeref": 73.6175,
            "symbol": "circle"
           },
           "mode": "markers",
           "name": "Nevada",
           "orientation": "v",
           "showlegend": true,
           "type": "scatter",
           "x": [
            "carrier_delay",
            "weather_delay",
            "nas_delay",
            "security_delay",
            "late_aircraft_delay"
           ],
           "xaxis": "x",
           "y": [
            1128,
            11,
            1489,
            0,
            1543
           ],
           "yaxis": "y"
          },
          {
           "hovertemplate": "state=Washington<br>day=24<br>variable=%{x}<br>value=%{marker.size}<extra></extra>",
           "legendgroup": "Washington",
           "marker": {
            "color": "#FECB52",
            "size": [
             578,
             402,
             1231,
             10,
             480
            ],
            "sizemode": "area",
            "sizeref": 73.6175,
            "symbol": "circle"
           },
           "mode": "markers",
           "name": "Washington",
           "orientation": "v",
           "showlegend": true,
           "type": "scatter",
           "x": [
            "carrier_delay",
            "weather_delay",
            "nas_delay",
            "security_delay",
            "late_aircraft_delay"
           ],
           "xaxis": "x",
           "y": [
            578,
            402,
            1231,
            10,
            480
           ],
           "yaxis": "y"
          },
          {
           "hovertemplate": "state=Colorado<br>day=24<br>variable=%{x}<br>value=%{marker.size}<extra></extra>",
           "legendgroup": "Colorado",
           "marker": {
            "color": "#636efa",
            "size": [
             5949,
             393,
             4114,
             0,
             6473
            ],
            "sizemode": "area",
            "sizeref": 73.6175,
            "symbol": "circle"
           },
           "mode": "markers",
           "name": "Colorado",
           "orientation": "v",
           "showlegend": true,
           "type": "scatter",
           "x": [
            "carrier_delay",
            "weather_delay",
            "nas_delay",
            "security_delay",
            "late_aircraft_delay"
           ],
           "xaxis": "x",
           "y": [
            5949,
            393,
            4114,
            0,
            6473
           ],
           "yaxis": "y"
          },
          {
           "hovertemplate": "state=New Mexico<br>day=24<br>variable=%{x}<br>value=%{marker.size}<extra></extra>",
           "legendgroup": "New Mexico",
           "marker": {
            "color": "#EF553B",
            "size": [
             249,
             258,
             398,
             0,
             513
            ],
            "sizemode": "area",
            "sizeref": 73.6175,
            "symbol": "circle"
           },
           "mode": "markers",
           "name": "New Mexico",
           "orientation": "v",
           "showlegend": true,
           "type": "scatter",
           "x": [
            "carrier_delay",
            "weather_delay",
            "nas_delay",
            "security_delay",
            "late_aircraft_delay"
           ],
           "xaxis": "x",
           "y": [
            249,
            258,
            398,
            0,
            513
           ],
           "yaxis": "y"
          },
          {
           "hovertemplate": "state=Arizona<br>day=24<br>variable=%{x}<br>value=%{marker.size}<extra></extra>",
           "legendgroup": "Arizona",
           "marker": {
            "color": "#00cc96",
            "size": [
             1799,
             59,
             1760,
             0,
             2409
            ],
            "sizemode": "area",
            "sizeref": 73.6175,
            "symbol": "circle"
           },
           "mode": "markers",
           "name": "Arizona",
           "orientation": "v",
           "showlegend": true,
           "type": "scatter",
           "x": [
            "carrier_delay",
            "weather_delay",
            "nas_delay",
            "security_delay",
            "late_aircraft_delay"
           ],
           "xaxis": "x",
           "y": [
            1799,
            59,
            1760,
            0,
            2409
           ],
           "yaxis": "y"
          },
          {
           "hovertemplate": "state=Utah<br>day=24<br>variable=%{x}<br>value=%{marker.size}<extra></extra>",
           "legendgroup": "Utah",
           "marker": {
            "color": "#ab63fa",
            "size": [
             962,
             40,
             1000,
             0,
             927
            ],
            "sizemode": "area",
            "sizeref": 73.6175,
            "symbol": "circle"
           },
           "mode": "markers",
           "name": "Utah",
           "orientation": "v",
           "showlegend": true,
           "type": "scatter",
           "x": [
            "carrier_delay",
            "weather_delay",
            "nas_delay",
            "security_delay",
            "late_aircraft_delay"
           ],
           "xaxis": "x",
           "y": [
            962,
            40,
            1000,
            0,
            927
           ],
           "yaxis": "y"
          },
          {
           "hovertemplate": "state=U.S. Virgin Islands<br>day=24<br>variable=%{x}<br>value=%{marker.size}<extra></extra>",
           "legendgroup": "U.S. Virgin Islands",
           "marker": {
            "color": "#FFA15A",
            "size": [
             0,
             0,
             0,
             0,
             40
            ],
            "sizemode": "area",
            "sizeref": 73.6175,
            "symbol": "circle"
           },
           "mode": "markers",
           "name": "U.S. Virgin Islands",
           "orientation": "v",
           "showlegend": true,
           "type": "scatter",
           "x": [
            "carrier_delay",
            "weather_delay",
            "nas_delay",
            "security_delay",
            "late_aircraft_delay"
           ],
           "xaxis": "x",
           "y": [
            0,
            0,
            0,
            0,
            40
           ],
           "yaxis": "y"
          },
          {
           "hovertemplate": "state=Oregon<br>day=24<br>variable=%{x}<br>value=%{marker.size}<extra></extra>",
           "legendgroup": "Oregon",
           "marker": {
            "color": "#19d3f3",
            "size": [
             1118,
             304,
             517,
             0,
             1035
            ],
            "sizemode": "area",
            "sizeref": 73.6175,
            "symbol": "circle"
           },
           "mode": "markers",
           "name": "Oregon",
           "orientation": "v",
           "showlegend": true,
           "type": "scatter",
           "x": [
            "carrier_delay",
            "weather_delay",
            "nas_delay",
            "security_delay",
            "late_aircraft_delay"
           ],
           "xaxis": "x",
           "y": [
            1118,
            304,
            517,
            0,
            1035
           ],
           "yaxis": "y"
          },
          {
           "hovertemplate": "state=Maryland<br>day=24<br>variable=%{x}<br>value=%{marker.size}<extra></extra>",
           "legendgroup": "Maryland",
           "marker": {
            "color": "#FF6692",
            "size": [
             628,
             62,
             191,
             0,
             619
            ],
            "sizemode": "area",
            "sizeref": 73.6175,
            "symbol": "circle"
           },
           "mode": "markers",
           "name": "Maryland",
           "orientation": "v",
           "showlegend": true,
           "type": "scatter",
           "x": [
            "carrier_delay",
            "weather_delay",
            "nas_delay",
            "security_delay",
            "late_aircraft_delay"
           ],
           "xaxis": "x",
           "y": [
            628,
            62,
            191,
            0,
            619
           ],
           "yaxis": "y"
          },
          {
           "hovertemplate": "state=Wyoming<br>day=24<br>variable=%{x}<br>value=%{marker.size}<extra></extra>",
           "legendgroup": "Wyoming",
           "marker": {
            "color": "#B6E880",
            "size": [
             66,
             397,
             306,
             0,
             373
            ],
            "sizemode": "area",
            "sizeref": 73.6175,
            "symbol": "circle"
           },
           "mode": "markers",
           "name": "Wyoming",
           "orientation": "v",
           "showlegend": true,
           "type": "scatter",
           "x": [
            "carrier_delay",
            "weather_delay",
            "nas_delay",
            "security_delay",
            "late_aircraft_delay"
           ],
           "xaxis": "x",
           "y": [
            66,
            397,
            306,
            0,
            373
           ],
           "yaxis": "y"
          },
          {
           "hovertemplate": "state=Alaska<br>day=24<br>variable=%{x}<br>value=%{marker.size}<extra></extra>",
           "legendgroup": "Alaska",
           "marker": {
            "color": "#FF97FF",
            "size": [
             75,
             57,
             98,
             0,
             248
            ],
            "sizemode": "area",
            "sizeref": 73.6175,
            "symbol": "circle"
           },
           "mode": "markers",
           "name": "Alaska",
           "orientation": "v",
           "showlegend": true,
           "type": "scatter",
           "x": [
            "carrier_delay",
            "weather_delay",
            "nas_delay",
            "security_delay",
            "late_aircraft_delay"
           ],
           "xaxis": "x",
           "y": [
            75,
            57,
            98,
            0,
            248
           ],
           "yaxis": "y"
          },
          {
           "hovertemplate": "state=Idaho<br>day=24<br>variable=%{x}<br>value=%{marker.size}<extra></extra>",
           "legendgroup": "Idaho",
           "marker": {
            "color": "#FECB52",
            "size": [
             17,
             0,
             45,
             0,
             182
            ],
            "sizemode": "area",
            "sizeref": 73.6175,
            "symbol": "circle"
           },
           "mode": "markers",
           "name": "Idaho",
           "orientation": "v",
           "showlegend": true,
           "type": "scatter",
           "x": [
            "carrier_delay",
            "weather_delay",
            "nas_delay",
            "security_delay",
            "late_aircraft_delay"
           ],
           "xaxis": "x",
           "y": [
            17,
            0,
            45,
            0,
            182
           ],
           "yaxis": "y"
          },
          {
           "hovertemplate": "state=Montana<br>day=24<br>variable=%{x}<br>value=%{marker.size}<extra></extra>",
           "legendgroup": "Montana",
           "marker": {
            "color": "#636efa",
            "size": [
             352,
             0,
             64,
             0,
             356
            ],
            "sizemode": "area",
            "sizeref": 73.6175,
            "symbol": "circle"
           },
           "mode": "markers",
           "name": "Montana",
           "orientation": "v",
           "showlegend": true,
           "type": "scatter",
           "x": [
            "carrier_delay",
            "weather_delay",
            "nas_delay",
            "security_delay",
            "late_aircraft_delay"
           ],
           "xaxis": "x",
           "y": [
            352,
            0,
            64,
            0,
            356
           ],
           "yaxis": "y"
          },
          {
           "hovertemplate": "state=West Virginia<br>day=24<br>variable=%{x}<br>value=%{marker.size}<extra></extra>",
           "legendgroup": "West Virginia",
           "marker": {
            "color": "#EF553B",
            "size": [
             0,
             0,
             0,
             0,
             0
            ],
            "sizemode": "area",
            "sizeref": 73.6175,
            "symbol": "circle"
           },
           "mode": "markers",
           "name": "West Virginia",
           "orientation": "v",
           "showlegend": true,
           "type": "scatter",
           "x": [
            "carrier_delay",
            "weather_delay",
            "nas_delay",
            "security_delay",
            "late_aircraft_delay"
           ],
           "xaxis": "x",
           "y": [
            0,
            0,
            0,
            0,
            0
           ],
           "yaxis": "y"
          }
         ],
         "name": "24"
        },
        {
         "data": [
          {
           "hovertemplate": "state=Georgia<br>day=25<br>variable=%{x}<br>value=%{marker.size}<extra></extra>",
           "legendgroup": "Georgia",
           "marker": {
            "color": "#636efa",
            "size": [
             2835,
             69,
             1562,
             0,
             2053
            ],
            "sizemode": "area",
            "sizeref": 73.6175,
            "symbol": "circle"
           },
           "mode": "markers",
           "name": "Georgia",
           "orientation": "v",
           "showlegend": true,
           "type": "scatter",
           "x": [
            "carrier_delay",
            "weather_delay",
            "nas_delay",
            "security_delay",
            "late_aircraft_delay"
           ],
           "xaxis": "x",
           "y": [
            2835,
            69,
            1562,
            0,
            2053
           ],
           "yaxis": "y"
          },
          {
           "hovertemplate": "state=Tennessee<br>day=25<br>variable=%{x}<br>value=%{marker.size}<extra></extra>",
           "legendgroup": "Tennessee",
           "marker": {
            "color": "#EF553B",
            "size": [
             1412,
             266,
             1155,
             0,
             1630
            ],
            "sizemode": "area",
            "sizeref": 73.6175,
            "symbol": "circle"
           },
           "mode": "markers",
           "name": "Tennessee",
           "orientation": "v",
           "showlegend": true,
           "type": "scatter",
           "x": [
            "carrier_delay",
            "weather_delay",
            "nas_delay",
            "security_delay",
            "late_aircraft_delay"
           ],
           "xaxis": "x",
           "y": [
            1412,
            266,
            1155,
            0,
            1630
           ],
           "yaxis": "y"
          },
          {
           "hovertemplate": "state=Virginia<br>day=25<br>variable=%{x}<br>value=%{marker.size}<extra></extra>",
           "legendgroup": "Virginia",
           "marker": {
            "color": "#00cc96",
            "size": [
             200,
             0,
             107,
             0,
             333
            ],
            "sizemode": "area",
            "sizeref": 73.6175,
            "symbol": "circle"
           },
           "mode": "markers",
           "name": "Virginia",
           "orientation": "v",
           "showlegend": true,
           "type": "scatter",
           "x": [
            "carrier_delay",
            "weather_delay",
            "nas_delay",
            "security_delay",
            "late_aircraft_delay"
           ],
           "xaxis": "x",
           "y": [
            200,
            0,
            107,
            0,
            333
           ],
           "yaxis": "y"
          },
          {
           "hovertemplate": "state=Mississippi<br>day=25<br>variable=%{x}<br>value=%{marker.size}<extra></extra>",
           "legendgroup": "Mississippi",
           "marker": {
            "color": "#ab63fa",
            "size": [
             300,
             27,
             93,
             0,
             685
            ],
            "sizemode": "area",
            "sizeref": 73.6175,
            "symbol": "circle"
           },
           "mode": "markers",
           "name": "Mississippi",
           "orientation": "v",
           "showlegend": true,
           "type": "scatter",
           "x": [
            "carrier_delay",
            "weather_delay",
            "nas_delay",
            "security_delay",
            "late_aircraft_delay"
           ],
           "xaxis": "x",
           "y": [
            300,
            27,
            93,
            0,
            685
           ],
           "yaxis": "y"
          },
          {
           "hovertemplate": "state=District of Columbia<br>day=25<br>variable=%{x}<br>value=%{marker.size}<extra></extra>",
           "legendgroup": "District of Columbia",
           "marker": {
            "color": "#FFA15A",
            "size": [
             1318,
             155,
             385,
             0,
             1580
            ],
            "sizemode": "area",
            "sizeref": 73.6175,
            "symbol": "circle"
           },
           "mode": "markers",
           "name": "District of Columbia",
           "orientation": "v",
           "showlegend": true,
           "type": "scatter",
           "x": [
            "carrier_delay",
            "weather_delay",
            "nas_delay",
            "security_delay",
            "late_aircraft_delay"
           ],
           "xaxis": "x",
           "y": [
            1318,
            155,
            385,
            0,
            1580
           ],
           "yaxis": "y"
          },
          {
           "hovertemplate": "state=Louisiana<br>day=25<br>variable=%{x}<br>value=%{marker.size}<extra></extra>",
           "legendgroup": "Louisiana",
           "marker": {
            "color": "#19d3f3",
            "size": [
             279,
             15,
             468,
             0,
             1399
            ],
            "sizemode": "area",
            "sizeref": 73.6175,
            "symbol": "circle"
           },
           "mode": "markers",
           "name": "Louisiana",
           "orientation": "v",
           "showlegend": true,
           "type": "scatter",
           "x": [
            "carrier_delay",
            "weather_delay",
            "nas_delay",
            "security_delay",
            "late_aircraft_delay"
           ],
           "xaxis": "x",
           "y": [
            279,
            15,
            468,
            0,
            1399
           ],
           "yaxis": "y"
          },
          {
           "hovertemplate": "state=North Carolina<br>day=25<br>variable=%{x}<br>value=%{marker.size}<extra></extra>",
           "legendgroup": "North Carolina",
           "marker": {
            "color": "#FF6692",
            "size": [
             2741,
             18,
             1460,
             0,
             1597
            ],
            "sizemode": "area",
            "sizeref": 73.6175,
            "symbol": "circle"
           },
           "mode": "markers",
           "name": "North Carolina",
           "orientation": "v",
           "showlegend": true,
           "type": "scatter",
           "x": [
            "carrier_delay",
            "weather_delay",
            "nas_delay",
            "security_delay",
            "late_aircraft_delay"
           ],
           "xaxis": "x",
           "y": [
            2741,
            18,
            1460,
            0,
            1597
           ],
           "yaxis": "y"
          },
          {
           "hovertemplate": "state=Florida<br>day=25<br>variable=%{x}<br>value=%{marker.size}<extra></extra>",
           "legendgroup": "Florida",
           "marker": {
            "color": "#B6E880",
            "size": [
             3905,
             349,
             2832,
             32,
             6467
            ],
            "sizemode": "area",
            "sizeref": 73.6175,
            "symbol": "circle"
           },
           "mode": "markers",
           "name": "Florida",
           "orientation": "v",
           "showlegend": true,
           "type": "scatter",
           "x": [
            "carrier_delay",
            "weather_delay",
            "nas_delay",
            "security_delay",
            "late_aircraft_delay"
           ],
           "xaxis": "x",
           "y": [
            3905,
            349,
            2832,
            32,
            6467
           ],
           "yaxis": "y"
          },
          {
           "hovertemplate": "state=Missouri<br>day=25<br>variable=%{x}<br>value=%{marker.size}<extra></extra>",
           "legendgroup": "Missouri",
           "marker": {
            "color": "#FF97FF",
            "size": [
             1732,
             2185,
             3020,
             0,
             3174
            ],
            "sizemode": "area",
            "sizeref": 73.6175,
            "symbol": "circle"
           },
           "mode": "markers",
           "name": "Missouri",
           "orientation": "v",
           "showlegend": true,
           "type": "scatter",
           "x": [
            "carrier_delay",
            "weather_delay",
            "nas_delay",
            "security_delay",
            "late_aircraft_delay"
           ],
           "xaxis": "x",
           "y": [
            1732,
            2185,
            3020,
            0,
            3174
           ],
           "yaxis": "y"
          },
          {
           "hovertemplate": "state=Wisconsin<br>day=25<br>variable=%{x}<br>value=%{marker.size}<extra></extra>",
           "legendgroup": "Wisconsin",
           "marker": {
            "color": "#FECB52",
            "size": [
             683,
             8,
             1312,
             0,
             1865
            ],
            "sizemode": "area",
            "sizeref": 73.6175,
            "symbol": "circle"
           },
           "mode": "markers",
           "name": "Wisconsin",
           "orientation": "v",
           "showlegend": true,
           "type": "scatter",
           "x": [
            "carrier_delay",
            "weather_delay",
            "nas_delay",
            "security_delay",
            "late_aircraft_delay"
           ],
           "xaxis": "x",
           "y": [
            683,
            8,
            1312,
            0,
            1865
           ],
           "yaxis": "y"
          },
          {
           "hovertemplate": "state=New York<br>day=25<br>variable=%{x}<br>value=%{marker.size}<extra></extra>",
           "legendgroup": "New York",
           "marker": {
            "color": "#636efa",
            "size": [
             1302,
             211,
             769,
             0,
             1026
            ],
            "sizemode": "area",
            "sizeref": 73.6175,
            "symbol": "circle"
           },
           "mode": "markers",
           "name": "New York",
           "orientation": "v",
           "showlegend": true,
           "type": "scatter",
           "x": [
            "carrier_delay",
            "weather_delay",
            "nas_delay",
            "security_delay",
            "late_aircraft_delay"
           ],
           "xaxis": "x",
           "y": [
            1302,
            211,
            769,
            0,
            1026
           ],
           "yaxis": "y"
          },
          {
           "hovertemplate": "state=Rhode Island<br>day=25<br>variable=%{x}<br>value=%{marker.size}<extra></extra>",
           "legendgroup": "Rhode Island",
           "marker": {
            "color": "#EF553B",
            "size": [
             32,
             0,
             344,
             0,
             31
            ],
            "sizemode": "area",
            "sizeref": 73.6175,
            "symbol": "circle"
           },
           "mode": "markers",
           "name": "Rhode Island",
           "orientation": "v",
           "showlegend": true,
           "type": "scatter",
           "x": [
            "carrier_delay",
            "weather_delay",
            "nas_delay",
            "security_delay",
            "late_aircraft_delay"
           ],
           "xaxis": "x",
           "y": [
            32,
            0,
            344,
            0,
            31
           ],
           "yaxis": "y"
          },
          {
           "hovertemplate": "state=Texas<br>day=25<br>variable=%{x}<br>value=%{marker.size}<extra></extra>",
           "legendgroup": "Texas",
           "marker": {
            "color": "#00cc96",
            "size": [
             8515,
             16130,
             4153,
             93,
             19075
            ],
            "sizemode": "area",
            "sizeref": 73.6175,
            "symbol": "circle"
           },
           "mode": "markers",
           "name": "Texas",
           "orientation": "v",
           "showlegend": true,
           "type": "scatter",
           "x": [
            "carrier_delay",
            "weather_delay",
            "nas_delay",
            "security_delay",
            "late_aircraft_delay"
           ],
           "xaxis": "x",
           "y": [
            8515,
            16130,
            4153,
            93,
            19075
           ],
           "yaxis": "y"
          },
          {
           "hovertemplate": "state=Kentucky<br>day=25<br>variable=%{x}<br>value=%{marker.size}<extra></extra>",
           "legendgroup": "Kentucky",
           "marker": {
            "color": "#ab63fa",
            "size": [
             519,
             0,
             128,
             0,
             517
            ],
            "sizemode": "area",
            "sizeref": 73.6175,
            "symbol": "circle"
           },
           "mode": "markers",
           "name": "Kentucky",
           "orientation": "v",
           "showlegend": true,
           "type": "scatter",
           "x": [
            "carrier_delay",
            "weather_delay",
            "nas_delay",
            "security_delay",
            "late_aircraft_delay"
           ],
           "xaxis": "x",
           "y": [
            519,
            0,
            128,
            0,
            517
           ],
           "yaxis": "y"
          },
          {
           "hovertemplate": "state=South Carolina<br>day=25<br>variable=%{x}<br>value=%{marker.size}<extra></extra>",
           "legendgroup": "South Carolina",
           "marker": {
            "color": "#FFA15A",
            "size": [
             450,
             0,
             216,
             0,
             484
            ],
            "sizemode": "area",
            "sizeref": 73.6175,
            "symbol": "circle"
           },
           "mode": "markers",
           "name": "South Carolina",
           "orientation": "v",
           "showlegend": true,
           "type": "scatter",
           "x": [
            "carrier_delay",
            "weather_delay",
            "nas_delay",
            "security_delay",
            "late_aircraft_delay"
           ],
           "xaxis": "x",
           "y": [
            450,
            0,
            216,
            0,
            484
           ],
           "yaxis": "y"
          },
          {
           "hovertemplate": "state=Pennsylvania<br>day=25<br>variable=%{x}<br>value=%{marker.size}<extra></extra>",
           "legendgroup": "Pennsylvania",
           "marker": {
            "color": "#19d3f3",
            "size": [
             1559,
             0,
             556,
             83,
             2792
            ],
            "sizemode": "area",
            "sizeref": 73.6175,
            "symbol": "circle"
           },
           "mode": "markers",
           "name": "Pennsylvania",
           "orientation": "v",
           "showlegend": true,
           "type": "scatter",
           "x": [
            "carrier_delay",
            "weather_delay",
            "nas_delay",
            "security_delay",
            "late_aircraft_delay"
           ],
           "xaxis": "x",
           "y": [
            1559,
            0,
            556,
            83,
            2792
           ],
           "yaxis": "y"
          },
          {
           "hovertemplate": "state=Illinois<br>day=25<br>variable=%{x}<br>value=%{marker.size}<extra></extra>",
           "legendgroup": "Illinois",
           "marker": {
            "color": "#FF6692",
            "size": [
             6163,
             1886,
             5028,
             0,
             3758
            ],
            "sizemode": "area",
            "sizeref": 73.6175,
            "symbol": "circle"
           },
           "mode": "markers",
           "name": "Illinois",
           "orientation": "v",
           "showlegend": true,
           "type": "scatter",
           "x": [
            "carrier_delay",
            "weather_delay",
            "nas_delay",
            "security_delay",
            "late_aircraft_delay"
           ],
           "xaxis": "x",
           "y": [
            6163,
            1886,
            5028,
            0,
            3758
           ],
           "yaxis": "y"
          },
          {
           "hovertemplate": "state=Ohio<br>day=25<br>variable=%{x}<br>value=%{marker.size}<extra></extra>",
           "legendgroup": "Ohio",
           "marker": {
            "color": "#B6E880",
            "size": [
             1646,
             47,
             903,
             0,
             1463
            ],
            "sizemode": "area",
            "sizeref": 73.6175,
            "symbol": "circle"
           },
           "mode": "markers",
           "name": "Ohio",
           "orientation": "v",
           "showlegend": true,
           "type": "scatter",
           "x": [
            "carrier_delay",
            "weather_delay",
            "nas_delay",
            "security_delay",
            "late_aircraft_delay"
           ],
           "xaxis": "x",
           "y": [
            1646,
            47,
            903,
            0,
            1463
           ],
           "yaxis": "y"
          },
          {
           "hovertemplate": "state=Michigan<br>day=25<br>variable=%{x}<br>value=%{marker.size}<extra></extra>",
           "legendgroup": "Michigan",
           "marker": {
            "color": "#FF97FF",
            "size": [
             2185,
             453,
             1429,
             48,
             993
            ],
            "sizemode": "area",
            "sizeref": 73.6175,
            "symbol": "circle"
           },
           "mode": "markers",
           "name": "Michigan",
           "orientation": "v",
           "showlegend": true,
           "type": "scatter",
           "x": [
            "carrier_delay",
            "weather_delay",
            "nas_delay",
            "security_delay",
            "late_aircraft_delay"
           ],
           "xaxis": "x",
           "y": [
            2185,
            453,
            1429,
            48,
            993
           ],
           "yaxis": "y"
          },
          {
           "hovertemplate": "state=New Jersey<br>day=25<br>variable=%{x}<br>value=%{marker.size}<extra></extra>",
           "legendgroup": "New Jersey",
           "marker": {
            "color": "#FECB52",
            "size": [
             554,
             0,
             156,
             0,
             275
            ],
            "sizemode": "area",
            "sizeref": 73.6175,
            "symbol": "circle"
           },
           "mode": "markers",
           "name": "New Jersey",
           "orientation": "v",
           "showlegend": true,
           "type": "scatter",
           "x": [
            "carrier_delay",
            "weather_delay",
            "nas_delay",
            "security_delay",
            "late_aircraft_delay"
           ],
           "xaxis": "x",
           "y": [
            554,
            0,
            156,
            0,
            275
           ],
           "yaxis": "y"
          },
          {
           "hovertemplate": "state=Oklahoma<br>day=25<br>variable=%{x}<br>value=%{marker.size}<extra></extra>",
           "legendgroup": "Oklahoma",
           "marker": {
            "color": "#636efa",
            "size": [
             39,
             845,
             856,
             0,
             2809
            ],
            "sizemode": "area",
            "sizeref": 73.6175,
            "symbol": "circle"
           },
           "mode": "markers",
           "name": "Oklahoma",
           "orientation": "v",
           "showlegend": true,
           "type": "scatter",
           "x": [
            "carrier_delay",
            "weather_delay",
            "nas_delay",
            "security_delay",
            "late_aircraft_delay"
           ],
           "xaxis": "x",
           "y": [
            39,
            845,
            856,
            0,
            2809
           ],
           "yaxis": "y"
          },
          {
           "hovertemplate": "state=Maine<br>day=25<br>variable=%{x}<br>value=%{marker.size}<extra></extra>",
           "legendgroup": "Maine",
           "marker": {
            "color": "#EF553B",
            "size": [
             581,
             0,
             75,
             0,
             0
            ],
            "sizemode": "area",
            "sizeref": 73.6175,
            "symbol": "circle"
           },
           "mode": "markers",
           "name": "Maine",
           "orientation": "v",
           "showlegend": true,
           "type": "scatter",
           "x": [
            "carrier_delay",
            "weather_delay",
            "nas_delay",
            "security_delay",
            "late_aircraft_delay"
           ],
           "xaxis": "x",
           "y": [
            581,
            0,
            75,
            0,
            0
           ],
           "yaxis": "y"
          },
          {
           "hovertemplate": "state=Minnesota<br>day=25<br>variable=%{x}<br>value=%{marker.size}<extra></extra>",
           "legendgroup": "Minnesota",
           "marker": {
            "color": "#00cc96",
            "size": [
             1265,
             218,
             3152,
             0,
             883
            ],
            "sizemode": "area",
            "sizeref": 73.6175,
            "symbol": "circle"
           },
           "mode": "markers",
           "name": "Minnesota",
           "orientation": "v",
           "showlegend": true,
           "type": "scatter",
           "x": [
            "carrier_delay",
            "weather_delay",
            "nas_delay",
            "security_delay",
            "late_aircraft_delay"
           ],
           "xaxis": "x",
           "y": [
            1265,
            218,
            3152,
            0,
            883
           ],
           "yaxis": "y"
          },
          {
           "hovertemplate": "state=Iowa<br>day=25<br>variable=%{x}<br>value=%{marker.size}<extra></extra>",
           "legendgroup": "Iowa",
           "marker": {
            "color": "#ab63fa",
            "size": [
             369,
             141,
             1077,
             0,
             1553
            ],
            "sizemode": "area",
            "sizeref": 73.6175,
            "symbol": "circle"
           },
           "mode": "markers",
           "name": "Iowa",
           "orientation": "v",
           "showlegend": true,
           "type": "scatter",
           "x": [
            "carrier_delay",
            "weather_delay",
            "nas_delay",
            "security_delay",
            "late_aircraft_delay"
           ],
           "xaxis": "x",
           "y": [
            369,
            141,
            1077,
            0,
            1553
           ],
           "yaxis": "y"
          },
          {
           "hovertemplate": "state=Alabama<br>day=25<br>variable=%{x}<br>value=%{marker.size}<extra></extra>",
           "legendgroup": "Alabama",
           "marker": {
            "color": "#FFA15A",
            "size": [
             365,
             41,
             192,
             6,
             458
            ],
            "sizemode": "area",
            "sizeref": 73.6175,
            "symbol": "circle"
           },
           "mode": "markers",
           "name": "Alabama",
           "orientation": "v",
           "showlegend": true,
           "type": "scatter",
           "x": [
            "carrier_delay",
            "weather_delay",
            "nas_delay",
            "security_delay",
            "late_aircraft_delay"
           ],
           "xaxis": "x",
           "y": [
            365,
            41,
            192,
            6,
            458
           ],
           "yaxis": "y"
          },
          {
           "hovertemplate": "state=Indiana<br>day=25<br>variable=%{x}<br>value=%{marker.size}<extra></extra>",
           "legendgroup": "Indiana",
           "marker": {
            "color": "#19d3f3",
            "size": [
             723,
             126,
             218,
             0,
             622
            ],
            "sizemode": "area",
            "sizeref": 73.6175,
            "symbol": "circle"
           },
           "mode": "markers",
           "name": "Indiana",
           "orientation": "v",
           "showlegend": true,
           "type": "scatter",
           "x": [
            "carrier_delay",
            "weather_delay",
            "nas_delay",
            "security_delay",
            "late_aircraft_delay"
           ],
           "xaxis": "x",
           "y": [
            723,
            126,
            218,
            0,
            622
           ],
           "yaxis": "y"
          },
          {
           "hovertemplate": "state=Kansas<br>day=25<br>variable=%{x}<br>value=%{marker.size}<extra></extra>",
           "legendgroup": "Kansas",
           "marker": {
            "color": "#FF6692",
            "size": [
             22,
             0,
             163,
             0,
             538
            ],
            "sizemode": "area",
            "sizeref": 73.6175,
            "symbol": "circle"
           },
           "mode": "markers",
           "name": "Kansas",
           "orientation": "v",
           "showlegend": true,
           "type": "scatter",
           "x": [
            "carrier_delay",
            "weather_delay",
            "nas_delay",
            "security_delay",
            "late_aircraft_delay"
           ],
           "xaxis": "x",
           "y": [
            22,
            0,
            163,
            0,
            538
           ],
           "yaxis": "y"
          },
          {
           "hovertemplate": "state=South Dakota<br>day=25<br>variable=%{x}<br>value=%{marker.size}<extra></extra>",
           "legendgroup": "South Dakota",
           "marker": {
            "color": "#B6E880",
            "size": [
             0,
             19,
             36,
             0,
             0
            ],
            "sizemode": "area",
            "sizeref": 73.6175,
            "symbol": "circle"
           },
           "mode": "markers",
           "name": "South Dakota",
           "orientation": "v",
           "showlegend": true,
           "type": "scatter",
           "x": [
            "carrier_delay",
            "weather_delay",
            "nas_delay",
            "security_delay",
            "late_aircraft_delay"
           ],
           "xaxis": "x",
           "y": [
            0,
            19,
            36,
            0,
            0
           ],
           "yaxis": "y"
          },
          {
           "hovertemplate": "state=North Dakota<br>day=25<br>variable=%{x}<br>value=%{marker.size}<extra></extra>",
           "legendgroup": "North Dakota",
           "marker": {
            "color": "#FF97FF",
            "size": [
             19,
             0,
             148,
             0,
             59
            ],
            "sizemode": "area",
            "sizeref": 73.6175,
            "symbol": "circle"
           },
           "mode": "markers",
           "name": "North Dakota",
           "orientation": "v",
           "showlegend": true,
           "type": "scatter",
           "x": [
            "carrier_delay",
            "weather_delay",
            "nas_delay",
            "security_delay",
            "late_aircraft_delay"
           ],
           "xaxis": "x",
           "y": [
            19,
            0,
            148,
            0,
            59
           ],
           "yaxis": "y"
          },
          {
           "hovertemplate": "state=Nebraska<br>day=25<br>variable=%{x}<br>value=%{marker.size}<extra></extra>",
           "legendgroup": "Nebraska",
           "marker": {
            "color": "#FECB52",
            "size": [
             27,
             1129,
             794,
             0,
             90
            ],
            "sizemode": "area",
            "sizeref": 73.6175,
            "symbol": "circle"
           },
           "mode": "markers",
           "name": "Nebraska",
           "orientation": "v",
           "showlegend": true,
           "type": "scatter",
           "x": [
            "carrier_delay",
            "weather_delay",
            "nas_delay",
            "security_delay",
            "late_aircraft_delay"
           ],
           "xaxis": "x",
           "y": [
            27,
            1129,
            794,
            0,
            90
           ],
           "yaxis": "y"
          },
          {
           "hovertemplate": "state=Vermont<br>day=25<br>variable=%{x}<br>value=%{marker.size}<extra></extra>",
           "legendgroup": "Vermont",
           "marker": {
            "color": "#636efa",
            "size": [
             0,
             0,
             0,
             0,
             0
            ],
            "sizemode": "area",
            "sizeref": 73.6175,
            "symbol": "circle"
           },
           "mode": "markers",
           "name": "Vermont",
           "orientation": "v",
           "showlegend": true,
           "type": "scatter",
           "x": [
            "carrier_delay",
            "weather_delay",
            "nas_delay",
            "security_delay",
            "late_aircraft_delay"
           ],
           "xaxis": "x",
           "y": [
            0,
            0,
            0,
            0,
            0
           ],
           "yaxis": "y"
          },
          {
           "hovertemplate": "state=Arkansas<br>day=25<br>variable=%{x}<br>value=%{marker.size}<extra></extra>",
           "legendgroup": "Arkansas",
           "marker": {
            "color": "#EF553B",
            "size": [
             209,
             216,
             403,
             0,
             1665
            ],
            "sizemode": "area",
            "sizeref": 73.6175,
            "symbol": "circle"
           },
           "mode": "markers",
           "name": "Arkansas",
           "orientation": "v",
           "showlegend": true,
           "type": "scatter",
           "x": [
            "carrier_delay",
            "weather_delay",
            "nas_delay",
            "security_delay",
            "late_aircraft_delay"
           ],
           "xaxis": "x",
           "y": [
            209,
            216,
            403,
            0,
            1665
           ],
           "yaxis": "y"
          },
          {
           "hovertemplate": "state=Massachusetts<br>day=25<br>variable=%{x}<br>value=%{marker.size}<extra></extra>",
           "legendgroup": "Massachusetts",
           "marker": {
            "color": "#00cc96",
            "size": [
             807,
             201,
             475,
             0,
             267
            ],
            "sizemode": "area",
            "sizeref": 73.6175,
            "symbol": "circle"
           },
           "mode": "markers",
           "name": "Massachusetts",
           "orientation": "v",
           "showlegend": true,
           "type": "scatter",
           "x": [
            "carrier_delay",
            "weather_delay",
            "nas_delay",
            "security_delay",
            "late_aircraft_delay"
           ],
           "xaxis": "x",
           "y": [
            807,
            201,
            475,
            0,
            267
           ],
           "yaxis": "y"
          },
          {
           "hovertemplate": "state=Connecticut<br>day=25<br>variable=%{x}<br>value=%{marker.size}<extra></extra>",
           "legendgroup": "Connecticut",
           "marker": {
            "color": "#ab63fa",
            "size": [
             29,
             0,
             40,
             0,
             181
            ],
            "sizemode": "area",
            "sizeref": 73.6175,
            "symbol": "circle"
           },
           "mode": "markers",
           "name": "Connecticut",
           "orientation": "v",
           "showlegend": true,
           "type": "scatter",
           "x": [
            "carrier_delay",
            "weather_delay",
            "nas_delay",
            "security_delay",
            "late_aircraft_delay"
           ],
           "xaxis": "x",
           "y": [
            29,
            0,
            40,
            0,
            181
           ],
           "yaxis": "y"
          },
          {
           "hovertemplate": "state=New Hampshire<br>day=25<br>variable=%{x}<br>value=%{marker.size}<extra></extra>",
           "legendgroup": "New Hampshire",
           "marker": {
            "color": "#FFA15A",
            "size": [
             0,
             0,
             55,
             0,
             82
            ],
            "sizemode": "area",
            "sizeref": 73.6175,
            "symbol": "circle"
           },
           "mode": "markers",
           "name": "New Hampshire",
           "orientation": "v",
           "showlegend": true,
           "type": "scatter",
           "x": [
            "carrier_delay",
            "weather_delay",
            "nas_delay",
            "security_delay",
            "late_aircraft_delay"
           ],
           "xaxis": "x",
           "y": [
            0,
            0,
            55,
            0,
            82
           ],
           "yaxis": "y"
          },
          {
           "hovertemplate": "state=California<br>day=25<br>variable=%{x}<br>value=%{marker.size}<extra></extra>",
           "legendgroup": "California",
           "marker": {
            "color": "#19d3f3",
            "size": [
             4945,
             371,
             2381,
             0,
             4599
            ],
            "sizemode": "area",
            "sizeref": 73.6175,
            "symbol": "circle"
           },
           "mode": "markers",
           "name": "California",
           "orientation": "v",
           "showlegend": true,
           "type": "scatter",
           "x": [
            "carrier_delay",
            "weather_delay",
            "nas_delay",
            "security_delay",
            "late_aircraft_delay"
           ],
           "xaxis": "x",
           "y": [
            4945,
            371,
            2381,
            0,
            4599
           ],
           "yaxis": "y"
          },
          {
           "hovertemplate": "state=Hawaii<br>day=25<br>variable=%{x}<br>value=%{marker.size}<extra></extra>",
           "legendgroup": "Hawaii",
           "marker": {
            "color": "#FF6692",
            "size": [
             414,
             0,
             0,
             0,
             228
            ],
            "sizemode": "area",
            "sizeref": 73.6175,
            "symbol": "circle"
           },
           "mode": "markers",
           "name": "Hawaii",
           "orientation": "v",
           "showlegend": true,
           "type": "scatter",
           "x": [
            "carrier_delay",
            "weather_delay",
            "nas_delay",
            "security_delay",
            "late_aircraft_delay"
           ],
           "xaxis": "x",
           "y": [
            414,
            0,
            0,
            0,
            228
           ],
           "yaxis": "y"
          },
          {
           "hovertemplate": "state=Puerto Rico<br>day=25<br>variable=%{x}<br>value=%{marker.size}<extra></extra>",
           "legendgroup": "Puerto Rico",
           "marker": {
            "color": "#B6E880",
            "size": [
             53,
             0,
             135,
             0,
             218
            ],
            "sizemode": "area",
            "sizeref": 73.6175,
            "symbol": "circle"
           },
           "mode": "markers",
           "name": "Puerto Rico",
           "orientation": "v",
           "showlegend": true,
           "type": "scatter",
           "x": [
            "carrier_delay",
            "weather_delay",
            "nas_delay",
            "security_delay",
            "late_aircraft_delay"
           ],
           "xaxis": "x",
           "y": [
            53,
            0,
            135,
            0,
            218
           ],
           "yaxis": "y"
          },
          {
           "hovertemplate": "state=Nevada<br>day=25<br>variable=%{x}<br>value=%{marker.size}<extra></extra>",
           "legendgroup": "Nevada",
           "marker": {
            "color": "#FF97FF",
            "size": [
             1251,
             30,
             342,
             14,
             1567
            ],
            "sizemode": "area",
            "sizeref": 73.6175,
            "symbol": "circle"
           },
           "mode": "markers",
           "name": "Nevada",
           "orientation": "v",
           "showlegend": true,
           "type": "scatter",
           "x": [
            "carrier_delay",
            "weather_delay",
            "nas_delay",
            "security_delay",
            "late_aircraft_delay"
           ],
           "xaxis": "x",
           "y": [
            1251,
            30,
            342,
            14,
            1567
           ],
           "yaxis": "y"
          },
          {
           "hovertemplate": "state=Washington<br>day=25<br>variable=%{x}<br>value=%{marker.size}<extra></extra>",
           "legendgroup": "Washington",
           "marker": {
            "color": "#FECB52",
            "size": [
             497,
             30,
             1230,
             0,
             136
            ],
            "sizemode": "area",
            "sizeref": 73.6175,
            "symbol": "circle"
           },
           "mode": "markers",
           "name": "Washington",
           "orientation": "v",
           "showlegend": true,
           "type": "scatter",
           "x": [
            "carrier_delay",
            "weather_delay",
            "nas_delay",
            "security_delay",
            "late_aircraft_delay"
           ],
           "xaxis": "x",
           "y": [
            497,
            30,
            1230,
            0,
            136
           ],
           "yaxis": "y"
          },
          {
           "hovertemplate": "state=Colorado<br>day=25<br>variable=%{x}<br>value=%{marker.size}<extra></extra>",
           "legendgroup": "Colorado",
           "marker": {
            "color": "#636efa",
            "size": [
             3009,
             235,
             971,
             0,
             3803
            ],
            "sizemode": "area",
            "sizeref": 73.6175,
            "symbol": "circle"
           },
           "mode": "markers",
           "name": "Colorado",
           "orientation": "v",
           "showlegend": true,
           "type": "scatter",
           "x": [
            "carrier_delay",
            "weather_delay",
            "nas_delay",
            "security_delay",
            "late_aircraft_delay"
           ],
           "xaxis": "x",
           "y": [
            3009,
            235,
            971,
            0,
            3803
           ],
           "yaxis": "y"
          },
          {
           "hovertemplate": "state=New Mexico<br>day=25<br>variable=%{x}<br>value=%{marker.size}<extra></extra>",
           "legendgroup": "New Mexico",
           "marker": {
            "color": "#EF553B",
            "size": [
             227,
             0,
             240,
             0,
             767
            ],
            "sizemode": "area",
            "sizeref": 73.6175,
            "symbol": "circle"
           },
           "mode": "markers",
           "name": "New Mexico",
           "orientation": "v",
           "showlegend": true,
           "type": "scatter",
           "x": [
            "carrier_delay",
            "weather_delay",
            "nas_delay",
            "security_delay",
            "late_aircraft_delay"
           ],
           "xaxis": "x",
           "y": [
            227,
            0,
            240,
            0,
            767
           ],
           "yaxis": "y"
          },
          {
           "hovertemplate": "state=Arizona<br>day=25<br>variable=%{x}<br>value=%{marker.size}<extra></extra>",
           "legendgroup": "Arizona",
           "marker": {
            "color": "#00cc96",
            "size": [
             1745,
             69,
             709,
             0,
             1029
            ],
            "sizemode": "area",
            "sizeref": 73.6175,
            "symbol": "circle"
           },
           "mode": "markers",
           "name": "Arizona",
           "orientation": "v",
           "showlegend": true,
           "type": "scatter",
           "x": [
            "carrier_delay",
            "weather_delay",
            "nas_delay",
            "security_delay",
            "late_aircraft_delay"
           ],
           "xaxis": "x",
           "y": [
            1745,
            69,
            709,
            0,
            1029
           ],
           "yaxis": "y"
          },
          {
           "hovertemplate": "state=Utah<br>day=25<br>variable=%{x}<br>value=%{marker.size}<extra></extra>",
           "legendgroup": "Utah",
           "marker": {
            "color": "#ab63fa",
            "size": [
             435,
             50,
             772,
             0,
             715
            ],
            "sizemode": "area",
            "sizeref": 73.6175,
            "symbol": "circle"
           },
           "mode": "markers",
           "name": "Utah",
           "orientation": "v",
           "showlegend": true,
           "type": "scatter",
           "x": [
            "carrier_delay",
            "weather_delay",
            "nas_delay",
            "security_delay",
            "late_aircraft_delay"
           ],
           "xaxis": "x",
           "y": [
            435,
            50,
            772,
            0,
            715
           ],
           "yaxis": "y"
          },
          {
           "hovertemplate": "state=U.S. Virgin Islands<br>day=25<br>variable=%{x}<br>value=%{marker.size}<extra></extra>",
           "legendgroup": "U.S. Virgin Islands",
           "marker": {
            "color": "#FFA15A",
            "size": [
             0,
             0,
             20,
             0,
             0
            ],
            "sizemode": "area",
            "sizeref": 73.6175,
            "symbol": "circle"
           },
           "mode": "markers",
           "name": "U.S. Virgin Islands",
           "orientation": "v",
           "showlegend": true,
           "type": "scatter",
           "x": [
            "carrier_delay",
            "weather_delay",
            "nas_delay",
            "security_delay",
            "late_aircraft_delay"
           ],
           "xaxis": "x",
           "y": [
            0,
            0,
            20,
            0,
            0
           ],
           "yaxis": "y"
          },
          {
           "hovertemplate": "state=Oregon<br>day=25<br>variable=%{x}<br>value=%{marker.size}<extra></extra>",
           "legendgroup": "Oregon",
           "marker": {
            "color": "#19d3f3",
            "size": [
             475,
             271,
             480,
             0,
             584
            ],
            "sizemode": "area",
            "sizeref": 73.6175,
            "symbol": "circle"
           },
           "mode": "markers",
           "name": "Oregon",
           "orientation": "v",
           "showlegend": true,
           "type": "scatter",
           "x": [
            "carrier_delay",
            "weather_delay",
            "nas_delay",
            "security_delay",
            "late_aircraft_delay"
           ],
           "xaxis": "x",
           "y": [
            475,
            271,
            480,
            0,
            584
           ],
           "yaxis": "y"
          },
          {
           "hovertemplate": "state=Maryland<br>day=25<br>variable=%{x}<br>value=%{marker.size}<extra></extra>",
           "legendgroup": "Maryland",
           "marker": {
            "color": "#FF6692",
            "size": [
             367,
             839,
             264,
             0,
             648
            ],
            "sizemode": "area",
            "sizeref": 73.6175,
            "symbol": "circle"
           },
           "mode": "markers",
           "name": "Maryland",
           "orientation": "v",
           "showlegend": true,
           "type": "scatter",
           "x": [
            "carrier_delay",
            "weather_delay",
            "nas_delay",
            "security_delay",
            "late_aircraft_delay"
           ],
           "xaxis": "x",
           "y": [
            367,
            839,
            264,
            0,
            648
           ],
           "yaxis": "y"
          },
          {
           "hovertemplate": "state=Wyoming<br>day=25<br>variable=%{x}<br>value=%{marker.size}<extra></extra>",
           "legendgroup": "Wyoming",
           "marker": {
            "color": "#B6E880",
            "size": [
             170,
             53,
             26,
             0,
             21
            ],
            "sizemode": "area",
            "sizeref": 73.6175,
            "symbol": "circle"
           },
           "mode": "markers",
           "name": "Wyoming",
           "orientation": "v",
           "showlegend": true,
           "type": "scatter",
           "x": [
            "carrier_delay",
            "weather_delay",
            "nas_delay",
            "security_delay",
            "late_aircraft_delay"
           ],
           "xaxis": "x",
           "y": [
            170,
            53,
            26,
            0,
            21
           ],
           "yaxis": "y"
          },
          {
           "hovertemplate": "state=Alaska<br>day=25<br>variable=%{x}<br>value=%{marker.size}<extra></extra>",
           "legendgroup": "Alaska",
           "marker": {
            "color": "#FF97FF",
            "size": [
             7,
             0,
             162,
             0,
             0
            ],
            "sizemode": "area",
            "sizeref": 73.6175,
            "symbol": "circle"
           },
           "mode": "markers",
           "name": "Alaska",
           "orientation": "v",
           "showlegend": true,
           "type": "scatter",
           "x": [
            "carrier_delay",
            "weather_delay",
            "nas_delay",
            "security_delay",
            "late_aircraft_delay"
           ],
           "xaxis": "x",
           "y": [
            7,
            0,
            162,
            0,
            0
           ],
           "yaxis": "y"
          },
          {
           "hovertemplate": "state=Idaho<br>day=25<br>variable=%{x}<br>value=%{marker.size}<extra></extra>",
           "legendgroup": "Idaho",
           "marker": {
            "color": "#FECB52",
            "size": [
             3,
             0,
             418,
             0,
             73
            ],
            "sizemode": "area",
            "sizeref": 73.6175,
            "symbol": "circle"
           },
           "mode": "markers",
           "name": "Idaho",
           "orientation": "v",
           "showlegend": true,
           "type": "scatter",
           "x": [
            "carrier_delay",
            "weather_delay",
            "nas_delay",
            "security_delay",
            "late_aircraft_delay"
           ],
           "xaxis": "x",
           "y": [
            3,
            0,
            418,
            0,
            73
           ],
           "yaxis": "y"
          },
          {
           "hovertemplate": "state=Montana<br>day=25<br>variable=%{x}<br>value=%{marker.size}<extra></extra>",
           "legendgroup": "Montana",
           "marker": {
            "color": "#636efa",
            "size": [
             0,
             0,
             31,
             0,
             193
            ],
            "sizemode": "area",
            "sizeref": 73.6175,
            "symbol": "circle"
           },
           "mode": "markers",
           "name": "Montana",
           "orientation": "v",
           "showlegend": true,
           "type": "scatter",
           "x": [
            "carrier_delay",
            "weather_delay",
            "nas_delay",
            "security_delay",
            "late_aircraft_delay"
           ],
           "xaxis": "x",
           "y": [
            0,
            0,
            31,
            0,
            193
           ],
           "yaxis": "y"
          },
          {
           "hovertemplate": "state=West Virginia<br>day=25<br>variable=%{x}<br>value=%{marker.size}<extra></extra>",
           "legendgroup": "West Virginia",
           "marker": {
            "color": "#EF553B",
            "size": [
             0,
             0,
             0,
             0,
             0
            ],
            "sizemode": "area",
            "sizeref": 73.6175,
            "symbol": "circle"
           },
           "mode": "markers",
           "name": "West Virginia",
           "orientation": "v",
           "showlegend": true,
           "type": "scatter",
           "x": [
            "carrier_delay",
            "weather_delay",
            "nas_delay",
            "security_delay",
            "late_aircraft_delay"
           ],
           "xaxis": "x",
           "y": [
            0,
            0,
            0,
            0,
            0
           ],
           "yaxis": "y"
          }
         ],
         "name": "25"
        },
        {
         "data": [
          {
           "hovertemplate": "state=Georgia<br>day=26<br>variable=%{x}<br>value=%{marker.size}<extra></extra>",
           "legendgroup": "Georgia",
           "marker": {
            "color": "#636efa",
            "size": [
             3905,
             373,
             3828,
             44,
             3758
            ],
            "sizemode": "area",
            "sizeref": 73.6175,
            "symbol": "circle"
           },
           "mode": "markers",
           "name": "Georgia",
           "orientation": "v",
           "showlegend": true,
           "type": "scatter",
           "x": [
            "carrier_delay",
            "weather_delay",
            "nas_delay",
            "security_delay",
            "late_aircraft_delay"
           ],
           "xaxis": "x",
           "y": [
            3905,
            373,
            3828,
            44,
            3758
           ],
           "yaxis": "y"
          },
          {
           "hovertemplate": "state=Tennessee<br>day=26<br>variable=%{x}<br>value=%{marker.size}<extra></extra>",
           "legendgroup": "Tennessee",
           "marker": {
            "color": "#EF553B",
            "size": [
             601,
             88,
             3382,
             0,
             2620
            ],
            "sizemode": "area",
            "sizeref": 73.6175,
            "symbol": "circle"
           },
           "mode": "markers",
           "name": "Tennessee",
           "orientation": "v",
           "showlegend": true,
           "type": "scatter",
           "x": [
            "carrier_delay",
            "weather_delay",
            "nas_delay",
            "security_delay",
            "late_aircraft_delay"
           ],
           "xaxis": "x",
           "y": [
            601,
            88,
            3382,
            0,
            2620
           ],
           "yaxis": "y"
          },
          {
           "hovertemplate": "state=Virginia<br>day=26<br>variable=%{x}<br>value=%{marker.size}<extra></extra>",
           "legendgroup": "Virginia",
           "marker": {
            "color": "#00cc96",
            "size": [
             168,
             51,
             1256,
             92,
             1084
            ],
            "sizemode": "area",
            "sizeref": 73.6175,
            "symbol": "circle"
           },
           "mode": "markers",
           "name": "Virginia",
           "orientation": "v",
           "showlegend": true,
           "type": "scatter",
           "x": [
            "carrier_delay",
            "weather_delay",
            "nas_delay",
            "security_delay",
            "late_aircraft_delay"
           ],
           "xaxis": "x",
           "y": [
            168,
            51,
            1256,
            92,
            1084
           ],
           "yaxis": "y"
          },
          {
           "hovertemplate": "state=Mississippi<br>day=26<br>variable=%{x}<br>value=%{marker.size}<extra></extra>",
           "legendgroup": "Mississippi",
           "marker": {
            "color": "#ab63fa",
            "size": [
             29,
             0,
             42,
             0,
             449
            ],
            "sizemode": "area",
            "sizeref": 73.6175,
            "symbol": "circle"
           },
           "mode": "markers",
           "name": "Mississippi",
           "orientation": "v",
           "showlegend": true,
           "type": "scatter",
           "x": [
            "carrier_delay",
            "weather_delay",
            "nas_delay",
            "security_delay",
            "late_aircraft_delay"
           ],
           "xaxis": "x",
           "y": [
            29,
            0,
            42,
            0,
            449
           ],
           "yaxis": "y"
          },
          {
           "hovertemplate": "state=District of Columbia<br>day=26<br>variable=%{x}<br>value=%{marker.size}<extra></extra>",
           "legendgroup": "District of Columbia",
           "marker": {
            "color": "#FFA15A",
            "size": [
             2262,
             394,
             3118,
             0,
             1981
            ],
            "sizemode": "area",
            "sizeref": 73.6175,
            "symbol": "circle"
           },
           "mode": "markers",
           "name": "District of Columbia",
           "orientation": "v",
           "showlegend": true,
           "type": "scatter",
           "x": [
            "carrier_delay",
            "weather_delay",
            "nas_delay",
            "security_delay",
            "late_aircraft_delay"
           ],
           "xaxis": "x",
           "y": [
            2262,
            394,
            3118,
            0,
            1981
           ],
           "yaxis": "y"
          },
          {
           "hovertemplate": "state=Louisiana<br>day=26<br>variable=%{x}<br>value=%{marker.size}<extra></extra>",
           "legendgroup": "Louisiana",
           "marker": {
            "color": "#19d3f3",
            "size": [
             1185,
             24,
             851,
             0,
             1950
            ],
            "sizemode": "area",
            "sizeref": 73.6175,
            "symbol": "circle"
           },
           "mode": "markers",
           "name": "Louisiana",
           "orientation": "v",
           "showlegend": true,
           "type": "scatter",
           "x": [
            "carrier_delay",
            "weather_delay",
            "nas_delay",
            "security_delay",
            "late_aircraft_delay"
           ],
           "xaxis": "x",
           "y": [
            1185,
            24,
            851,
            0,
            1950
           ],
           "yaxis": "y"
          },
          {
           "hovertemplate": "state=North Carolina<br>day=26<br>variable=%{x}<br>value=%{marker.size}<extra></extra>",
           "legendgroup": "North Carolina",
           "marker": {
            "color": "#FF6692",
            "size": [
             1956,
             186,
             3230,
             13,
             2927
            ],
            "sizemode": "area",
            "sizeref": 73.6175,
            "symbol": "circle"
           },
           "mode": "markers",
           "name": "North Carolina",
           "orientation": "v",
           "showlegend": true,
           "type": "scatter",
           "x": [
            "carrier_delay",
            "weather_delay",
            "nas_delay",
            "security_delay",
            "late_aircraft_delay"
           ],
           "xaxis": "x",
           "y": [
            1956,
            186,
            3230,
            13,
            2927
           ],
           "yaxis": "y"
          },
          {
           "hovertemplate": "state=Florida<br>day=26<br>variable=%{x}<br>value=%{marker.size}<extra></extra>",
           "legendgroup": "Florida",
           "marker": {
            "color": "#B6E880",
            "size": [
             6276,
             183,
             9497,
             45,
             14817
            ],
            "sizemode": "area",
            "sizeref": 73.6175,
            "symbol": "circle"
           },
           "mode": "markers",
           "name": "Florida",
           "orientation": "v",
           "showlegend": true,
           "type": "scatter",
           "x": [
            "carrier_delay",
            "weather_delay",
            "nas_delay",
            "security_delay",
            "late_aircraft_delay"
           ],
           "xaxis": "x",
           "y": [
            6276,
            183,
            9497,
            45,
            14817
           ],
           "yaxis": "y"
          },
          {
           "hovertemplate": "state=Missouri<br>day=26<br>variable=%{x}<br>value=%{marker.size}<extra></extra>",
           "legendgroup": "Missouri",
           "marker": {
            "color": "#FF97FF",
            "size": [
             1378,
             645,
             4320,
             0,
             4238
            ],
            "sizemode": "area",
            "sizeref": 73.6175,
            "symbol": "circle"
           },
           "mode": "markers",
           "name": "Missouri",
           "orientation": "v",
           "showlegend": true,
           "type": "scatter",
           "x": [
            "carrier_delay",
            "weather_delay",
            "nas_delay",
            "security_delay",
            "late_aircraft_delay"
           ],
           "xaxis": "x",
           "y": [
            1378,
            645,
            4320,
            0,
            4238
           ],
           "yaxis": "y"
          },
          {
           "hovertemplate": "state=Wisconsin<br>day=26<br>variable=%{x}<br>value=%{marker.size}<extra></extra>",
           "legendgroup": "Wisconsin",
           "marker": {
            "color": "#FECB52",
            "size": [
             1507,
             149,
             3574,
             15,
             3236
            ],
            "sizemode": "area",
            "sizeref": 73.6175,
            "symbol": "circle"
           },
           "mode": "markers",
           "name": "Wisconsin",
           "orientation": "v",
           "showlegend": true,
           "type": "scatter",
           "x": [
            "carrier_delay",
            "weather_delay",
            "nas_delay",
            "security_delay",
            "late_aircraft_delay"
           ],
           "xaxis": "x",
           "y": [
            1507,
            149,
            3574,
            15,
            3236
           ],
           "yaxis": "y"
          },
          {
           "hovertemplate": "state=New York<br>day=26<br>variable=%{x}<br>value=%{marker.size}<extra></extra>",
           "legendgroup": "New York",
           "marker": {
            "color": "#636efa",
            "size": [
             5925,
             1869,
             9412,
             0,
             9253
            ],
            "sizemode": "area",
            "sizeref": 73.6175,
            "symbol": "circle"
           },
           "mode": "markers",
           "name": "New York",
           "orientation": "v",
           "showlegend": true,
           "type": "scatter",
           "x": [
            "carrier_delay",
            "weather_delay",
            "nas_delay",
            "security_delay",
            "late_aircraft_delay"
           ],
           "xaxis": "x",
           "y": [
            5925,
            1869,
            9412,
            0,
            9253
           ],
           "yaxis": "y"
          },
          {
           "hovertemplate": "state=Rhode Island<br>day=26<br>variable=%{x}<br>value=%{marker.size}<extra></extra>",
           "legendgroup": "Rhode Island",
           "marker": {
            "color": "#EF553B",
            "size": [
             42,
             0,
             299,
             0,
             240
            ],
            "sizemode": "area",
            "sizeref": 73.6175,
            "symbol": "circle"
           },
           "mode": "markers",
           "name": "Rhode Island",
           "orientation": "v",
           "showlegend": true,
           "type": "scatter",
           "x": [
            "carrier_delay",
            "weather_delay",
            "nas_delay",
            "security_delay",
            "late_aircraft_delay"
           ],
           "xaxis": "x",
           "y": [
            42,
            0,
            299,
            0,
            240
           ],
           "yaxis": "y"
          },
          {
           "hovertemplate": "state=Texas<br>day=26<br>variable=%{x}<br>value=%{marker.size}<extra></extra>",
           "legendgroup": "Texas",
           "marker": {
            "color": "#00cc96",
            "size": [
             12995,
             354,
             7768,
             344,
             13902
            ],
            "sizemode": "area",
            "sizeref": 73.6175,
            "symbol": "circle"
           },
           "mode": "markers",
           "name": "Texas",
           "orientation": "v",
           "showlegend": true,
           "type": "scatter",
           "x": [
            "carrier_delay",
            "weather_delay",
            "nas_delay",
            "security_delay",
            "late_aircraft_delay"
           ],
           "xaxis": "x",
           "y": [
            12995,
            354,
            7768,
            344,
            13902
           ],
           "yaxis": "y"
          },
          {
           "hovertemplate": "state=Kentucky<br>day=26<br>variable=%{x}<br>value=%{marker.size}<extra></extra>",
           "legendgroup": "Kentucky",
           "marker": {
            "color": "#ab63fa",
            "size": [
             386,
             257,
             562,
             4,
             919
            ],
            "sizemode": "area",
            "sizeref": 73.6175,
            "symbol": "circle"
           },
           "mode": "markers",
           "name": "Kentucky",
           "orientation": "v",
           "showlegend": true,
           "type": "scatter",
           "x": [
            "carrier_delay",
            "weather_delay",
            "nas_delay",
            "security_delay",
            "late_aircraft_delay"
           ],
           "xaxis": "x",
           "y": [
            386,
            257,
            562,
            4,
            919
           ],
           "yaxis": "y"
          },
          {
           "hovertemplate": "state=South Carolina<br>day=26<br>variable=%{x}<br>value=%{marker.size}<extra></extra>",
           "legendgroup": "South Carolina",
           "marker": {
            "color": "#FFA15A",
            "size": [
             226,
             41,
             963,
             0,
             351
            ],
            "sizemode": "area",
            "sizeref": 73.6175,
            "symbol": "circle"
           },
           "mode": "markers",
           "name": "South Carolina",
           "orientation": "v",
           "showlegend": true,
           "type": "scatter",
           "x": [
            "carrier_delay",
            "weather_delay",
            "nas_delay",
            "security_delay",
            "late_aircraft_delay"
           ],
           "xaxis": "x",
           "y": [
            226,
            41,
            963,
            0,
            351
           ],
           "yaxis": "y"
          },
          {
           "hovertemplate": "state=Pennsylvania<br>day=26<br>variable=%{x}<br>value=%{marker.size}<extra></extra>",
           "legendgroup": "Pennsylvania",
           "marker": {
            "color": "#19d3f3",
            "size": [
             2895,
             13,
             3596,
             50,
             4250
            ],
            "sizemode": "area",
            "sizeref": 73.6175,
            "symbol": "circle"
           },
           "mode": "markers",
           "name": "Pennsylvania",
           "orientation": "v",
           "showlegend": true,
           "type": "scatter",
           "x": [
            "carrier_delay",
            "weather_delay",
            "nas_delay",
            "security_delay",
            "late_aircraft_delay"
           ],
           "xaxis": "x",
           "y": [
            2895,
            13,
            3596,
            50,
            4250
           ],
           "yaxis": "y"
          },
          {
           "hovertemplate": "state=Illinois<br>day=26<br>variable=%{x}<br>value=%{marker.size}<extra></extra>",
           "legendgroup": "Illinois",
           "marker": {
            "color": "#FF6692",
            "size": [
             11519,
             8978,
             16114,
             147,
             29040
            ],
            "sizemode": "area",
            "sizeref": 73.6175,
            "symbol": "circle"
           },
           "mode": "markers",
           "name": "Illinois",
           "orientation": "v",
           "showlegend": true,
           "type": "scatter",
           "x": [
            "carrier_delay",
            "weather_delay",
            "nas_delay",
            "security_delay",
            "late_aircraft_delay"
           ],
           "xaxis": "x",
           "y": [
            11519,
            8978,
            16114,
            147,
            29040
           ],
           "yaxis": "y"
          },
          {
           "hovertemplate": "state=Ohio<br>day=26<br>variable=%{x}<br>value=%{marker.size}<extra></extra>",
           "legendgroup": "Ohio",
           "marker": {
            "color": "#B6E880",
            "size": [
             1779,
             140,
             2319,
             2,
             2555
            ],
            "sizemode": "area",
            "sizeref": 73.6175,
            "symbol": "circle"
           },
           "mode": "markers",
           "name": "Ohio",
           "orientation": "v",
           "showlegend": true,
           "type": "scatter",
           "x": [
            "carrier_delay",
            "weather_delay",
            "nas_delay",
            "security_delay",
            "late_aircraft_delay"
           ],
           "xaxis": "x",
           "y": [
            1779,
            140,
            2319,
            2,
            2555
           ],
           "yaxis": "y"
          },
          {
           "hovertemplate": "state=Michigan<br>day=26<br>variable=%{x}<br>value=%{marker.size}<extra></extra>",
           "legendgroup": "Michigan",
           "marker": {
            "color": "#FF97FF",
            "size": [
             4508,
             856,
             4292,
             26,
             1846
            ],
            "sizemode": "area",
            "sizeref": 73.6175,
            "symbol": "circle"
           },
           "mode": "markers",
           "name": "Michigan",
           "orientation": "v",
           "showlegend": true,
           "type": "scatter",
           "x": [
            "carrier_delay",
            "weather_delay",
            "nas_delay",
            "security_delay",
            "late_aircraft_delay"
           ],
           "xaxis": "x",
           "y": [
            4508,
            856,
            4292,
            26,
            1846
           ],
           "yaxis": "y"
          },
          {
           "hovertemplate": "state=New Jersey<br>day=26<br>variable=%{x}<br>value=%{marker.size}<extra></extra>",
           "legendgroup": "New Jersey",
           "marker": {
            "color": "#FECB52",
            "size": [
             2095,
             900,
             3067,
             0,
             7485
            ],
            "sizemode": "area",
            "sizeref": 73.6175,
            "symbol": "circle"
           },
           "mode": "markers",
           "name": "New Jersey",
           "orientation": "v",
           "showlegend": true,
           "type": "scatter",
           "x": [
            "carrier_delay",
            "weather_delay",
            "nas_delay",
            "security_delay",
            "late_aircraft_delay"
           ],
           "xaxis": "x",
           "y": [
            2095,
            900,
            3067,
            0,
            7485
           ],
           "yaxis": "y"
          },
          {
           "hovertemplate": "state=Oklahoma<br>day=26<br>variable=%{x}<br>value=%{marker.size}<extra></extra>",
           "legendgroup": "Oklahoma",
           "marker": {
            "color": "#636efa",
            "size": [
             1435,
             175,
             1084,
             0,
             1882
            ],
            "sizemode": "area",
            "sizeref": 73.6175,
            "symbol": "circle"
           },
           "mode": "markers",
           "name": "Oklahoma",
           "orientation": "v",
           "showlegend": true,
           "type": "scatter",
           "x": [
            "carrier_delay",
            "weather_delay",
            "nas_delay",
            "security_delay",
            "late_aircraft_delay"
           ],
           "xaxis": "x",
           "y": [
            1435,
            175,
            1084,
            0,
            1882
           ],
           "yaxis": "y"
          },
          {
           "hovertemplate": "state=Maine<br>day=26<br>variable=%{x}<br>value=%{marker.size}<extra></extra>",
           "legendgroup": "Maine",
           "marker": {
            "color": "#EF553B",
            "size": [
             208,
             422,
             123,
             0,
             27
            ],
            "sizemode": "area",
            "sizeref": 73.6175,
            "symbol": "circle"
           },
           "mode": "markers",
           "name": "Maine",
           "orientation": "v",
           "showlegend": true,
           "type": "scatter",
           "x": [
            "carrier_delay",
            "weather_delay",
            "nas_delay",
            "security_delay",
            "late_aircraft_delay"
           ],
           "xaxis": "x",
           "y": [
            208,
            422,
            123,
            0,
            27
           ],
           "yaxis": "y"
          },
          {
           "hovertemplate": "state=Minnesota<br>day=26<br>variable=%{x}<br>value=%{marker.size}<extra></extra>",
           "legendgroup": "Minnesota",
           "marker": {
            "color": "#00cc96",
            "size": [
             2445,
             1793,
             4593,
             0,
             1822
            ],
            "sizemode": "area",
            "sizeref": 73.6175,
            "symbol": "circle"
           },
           "mode": "markers",
           "name": "Minnesota",
           "orientation": "v",
           "showlegend": true,
           "type": "scatter",
           "x": [
            "carrier_delay",
            "weather_delay",
            "nas_delay",
            "security_delay",
            "late_aircraft_delay"
           ],
           "xaxis": "x",
           "y": [
            2445,
            1793,
            4593,
            0,
            1822
           ],
           "yaxis": "y"
          },
          {
           "hovertemplate": "state=Iowa<br>day=26<br>variable=%{x}<br>value=%{marker.size}<extra></extra>",
           "legendgroup": "Iowa",
           "marker": {
            "color": "#ab63fa",
            "size": [
             181,
             61,
             1076,
             0,
             780
            ],
            "sizemode": "area",
            "sizeref": 73.6175,
            "symbol": "circle"
           },
           "mode": "markers",
           "name": "Iowa",
           "orientation": "v",
           "showlegend": true,
           "type": "scatter",
           "x": [
            "carrier_delay",
            "weather_delay",
            "nas_delay",
            "security_delay",
            "late_aircraft_delay"
           ],
           "xaxis": "x",
           "y": [
            181,
            61,
            1076,
            0,
            780
           ],
           "yaxis": "y"
          },
          {
           "hovertemplate": "state=Alabama<br>day=26<br>variable=%{x}<br>value=%{marker.size}<extra></extra>",
           "legendgroup": "Alabama",
           "marker": {
            "color": "#FFA15A",
            "size": [
             130,
             15,
             585,
             31,
             767
            ],
            "sizemode": "area",
            "sizeref": 73.6175,
            "symbol": "circle"
           },
           "mode": "markers",
           "name": "Alabama",
           "orientation": "v",
           "showlegend": true,
           "type": "scatter",
           "x": [
            "carrier_delay",
            "weather_delay",
            "nas_delay",
            "security_delay",
            "late_aircraft_delay"
           ],
           "xaxis": "x",
           "y": [
            130,
            15,
            585,
            31,
            767
           ],
           "yaxis": "y"
          },
          {
           "hovertemplate": "state=Indiana<br>day=26<br>variable=%{x}<br>value=%{marker.size}<extra></extra>",
           "legendgroup": "Indiana",
           "marker": {
            "color": "#19d3f3",
            "size": [
             481,
             143,
             2291,
             49,
             942
            ],
            "sizemode": "area",
            "sizeref": 73.6175,
            "symbol": "circle"
           },
           "mode": "markers",
           "name": "Indiana",
           "orientation": "v",
           "showlegend": true,
           "type": "scatter",
           "x": [
            "carrier_delay",
            "weather_delay",
            "nas_delay",
            "security_delay",
            "late_aircraft_delay"
           ],
           "xaxis": "x",
           "y": [
            481,
            143,
            2291,
            49,
            942
           ],
           "yaxis": "y"
          },
          {
           "hovertemplate": "state=Kansas<br>day=26<br>variable=%{x}<br>value=%{marker.size}<extra></extra>",
           "legendgroup": "Kansas",
           "marker": {
            "color": "#FF6692",
            "size": [
             50,
             0,
             333,
             0,
             505
            ],
            "sizemode": "area",
            "sizeref": 73.6175,
            "symbol": "circle"
           },
           "mode": "markers",
           "name": "Kansas",
           "orientation": "v",
           "showlegend": true,
           "type": "scatter",
           "x": [
            "carrier_delay",
            "weather_delay",
            "nas_delay",
            "security_delay",
            "late_aircraft_delay"
           ],
           "xaxis": "x",
           "y": [
            50,
            0,
            333,
            0,
            505
           ],
           "yaxis": "y"
          },
          {
           "hovertemplate": "state=South Dakota<br>day=26<br>variable=%{x}<br>value=%{marker.size}<extra></extra>",
           "legendgroup": "South Dakota",
           "marker": {
            "color": "#B6E880",
            "size": [
             218,
             82,
             107,
             0,
             405
            ],
            "sizemode": "area",
            "sizeref": 73.6175,
            "symbol": "circle"
           },
           "mode": "markers",
           "name": "South Dakota",
           "orientation": "v",
           "showlegend": true,
           "type": "scatter",
           "x": [
            "carrier_delay",
            "weather_delay",
            "nas_delay",
            "security_delay",
            "late_aircraft_delay"
           ],
           "xaxis": "x",
           "y": [
            218,
            82,
            107,
            0,
            405
           ],
           "yaxis": "y"
          },
          {
           "hovertemplate": "state=North Dakota<br>day=26<br>variable=%{x}<br>value=%{marker.size}<extra></extra>",
           "legendgroup": "North Dakota",
           "marker": {
            "color": "#FF97FF",
            "size": [
             79,
             19,
             226,
             0,
             611
            ],
            "sizemode": "area",
            "sizeref": 73.6175,
            "symbol": "circle"
           },
           "mode": "markers",
           "name": "North Dakota",
           "orientation": "v",
           "showlegend": true,
           "type": "scatter",
           "x": [
            "carrier_delay",
            "weather_delay",
            "nas_delay",
            "security_delay",
            "late_aircraft_delay"
           ],
           "xaxis": "x",
           "y": [
            79,
            19,
            226,
            0,
            611
           ],
           "yaxis": "y"
          },
          {
           "hovertemplate": "state=Nebraska<br>day=26<br>variable=%{x}<br>value=%{marker.size}<extra></extra>",
           "legendgroup": "Nebraska",
           "marker": {
            "color": "#FECB52",
            "size": [
             600,
             496,
             1356,
             0,
             1007
            ],
            "sizemode": "area",
            "sizeref": 73.6175,
            "symbol": "circle"
           },
           "mode": "markers",
           "name": "Nebraska",
           "orientation": "v",
           "showlegend": true,
           "type": "scatter",
           "x": [
            "carrier_delay",
            "weather_delay",
            "nas_delay",
            "security_delay",
            "late_aircraft_delay"
           ],
           "xaxis": "x",
           "y": [
            600,
            496,
            1356,
            0,
            1007
           ],
           "yaxis": "y"
          },
          {
           "hovertemplate": "state=Vermont<br>day=26<br>variable=%{x}<br>value=%{marker.size}<extra></extra>",
           "legendgroup": "Vermont",
           "marker": {
            "color": "#636efa",
            "size": [
             9,
             0,
             161,
             0,
             233
            ],
            "sizemode": "area",
            "sizeref": 73.6175,
            "symbol": "circle"
           },
           "mode": "markers",
           "name": "Vermont",
           "orientation": "v",
           "showlegend": true,
           "type": "scatter",
           "x": [
            "carrier_delay",
            "weather_delay",
            "nas_delay",
            "security_delay",
            "late_aircraft_delay"
           ],
           "xaxis": "x",
           "y": [
            9,
            0,
            161,
            0,
            233
           ],
           "yaxis": "y"
          },
          {
           "hovertemplate": "state=Arkansas<br>day=26<br>variable=%{x}<br>value=%{marker.size}<extra></extra>",
           "legendgroup": "Arkansas",
           "marker": {
            "color": "#EF553B",
            "size": [
             584,
             503,
             749,
             0,
             1413
            ],
            "sizemode": "area",
            "sizeref": 73.6175,
            "symbol": "circle"
           },
           "mode": "markers",
           "name": "Arkansas",
           "orientation": "v",
           "showlegend": true,
           "type": "scatter",
           "x": [
            "carrier_delay",
            "weather_delay",
            "nas_delay",
            "security_delay",
            "late_aircraft_delay"
           ],
           "xaxis": "x",
           "y": [
            584,
            503,
            749,
            0,
            1413
           ],
           "yaxis": "y"
          },
          {
           "hovertemplate": "state=Massachusetts<br>day=26<br>variable=%{x}<br>value=%{marker.size}<extra></extra>",
           "legendgroup": "Massachusetts",
           "marker": {
            "color": "#00cc96",
            "size": [
             340,
             179,
             1521,
             0,
             2110
            ],
            "sizemode": "area",
            "sizeref": 73.6175,
            "symbol": "circle"
           },
           "mode": "markers",
           "name": "Massachusetts",
           "orientation": "v",
           "showlegend": true,
           "type": "scatter",
           "x": [
            "carrier_delay",
            "weather_delay",
            "nas_delay",
            "security_delay",
            "late_aircraft_delay"
           ],
           "xaxis": "x",
           "y": [
            340,
            179,
            1521,
            0,
            2110
           ],
           "yaxis": "y"
          },
          {
           "hovertemplate": "state=Connecticut<br>day=26<br>variable=%{x}<br>value=%{marker.size}<extra></extra>",
           "legendgroup": "Connecticut",
           "marker": {
            "color": "#ab63fa",
            "size": [
             76,
             18,
             478,
             0,
             194
            ],
            "sizemode": "area",
            "sizeref": 73.6175,
            "symbol": "circle"
           },
           "mode": "markers",
           "name": "Connecticut",
           "orientation": "v",
           "showlegend": true,
           "type": "scatter",
           "x": [
            "carrier_delay",
            "weather_delay",
            "nas_delay",
            "security_delay",
            "late_aircraft_delay"
           ],
           "xaxis": "x",
           "y": [
            76,
            18,
            478,
            0,
            194
           ],
           "yaxis": "y"
          },
          {
           "hovertemplate": "state=New Hampshire<br>day=26<br>variable=%{x}<br>value=%{marker.size}<extra></extra>",
           "legendgroup": "New Hampshire",
           "marker": {
            "color": "#FFA15A",
            "size": [
             546,
             0,
             641,
             0,
             284
            ],
            "sizemode": "area",
            "sizeref": 73.6175,
            "symbol": "circle"
           },
           "mode": "markers",
           "name": "New Hampshire",
           "orientation": "v",
           "showlegend": true,
           "type": "scatter",
           "x": [
            "carrier_delay",
            "weather_delay",
            "nas_delay",
            "security_delay",
            "late_aircraft_delay"
           ],
           "xaxis": "x",
           "y": [
            546,
            0,
            641,
            0,
            284
           ],
           "yaxis": "y"
          },
          {
           "hovertemplate": "state=California<br>day=26<br>variable=%{x}<br>value=%{marker.size}<extra></extra>",
           "legendgroup": "California",
           "marker": {
            "color": "#19d3f3",
            "size": [
             6006,
             359,
             8221,
             4,
             10171
            ],
            "sizemode": "area",
            "sizeref": 73.6175,
            "symbol": "circle"
           },
           "mode": "markers",
           "name": "California",
           "orientation": "v",
           "showlegend": true,
           "type": "scatter",
           "x": [
            "carrier_delay",
            "weather_delay",
            "nas_delay",
            "security_delay",
            "late_aircraft_delay"
           ],
           "xaxis": "x",
           "y": [
            6006,
            359,
            8221,
            4,
            10171
           ],
           "yaxis": "y"
          },
          {
           "hovertemplate": "state=Hawaii<br>day=26<br>variable=%{x}<br>value=%{marker.size}<extra></extra>",
           "legendgroup": "Hawaii",
           "marker": {
            "color": "#FF6692",
            "size": [
             1027,
             0,
             285,
             0,
             775
            ],
            "sizemode": "area",
            "sizeref": 73.6175,
            "symbol": "circle"
           },
           "mode": "markers",
           "name": "Hawaii",
           "orientation": "v",
           "showlegend": true,
           "type": "scatter",
           "x": [
            "carrier_delay",
            "weather_delay",
            "nas_delay",
            "security_delay",
            "late_aircraft_delay"
           ],
           "xaxis": "x",
           "y": [
            1027,
            0,
            285,
            0,
            775
           ],
           "yaxis": "y"
          },
          {
           "hovertemplate": "state=Puerto Rico<br>day=26<br>variable=%{x}<br>value=%{marker.size}<extra></extra>",
           "legendgroup": "Puerto Rico",
           "marker": {
            "color": "#B6E880",
            "size": [
             125,
             0,
             376,
             0,
             954
            ],
            "sizemode": "area",
            "sizeref": 73.6175,
            "symbol": "circle"
           },
           "mode": "markers",
           "name": "Puerto Rico",
           "orientation": "v",
           "showlegend": true,
           "type": "scatter",
           "x": [
            "carrier_delay",
            "weather_delay",
            "nas_delay",
            "security_delay",
            "late_aircraft_delay"
           ],
           "xaxis": "x",
           "y": [
            125,
            0,
            376,
            0,
            954
           ],
           "yaxis": "y"
          },
          {
           "hovertemplate": "state=Nevada<br>day=26<br>variable=%{x}<br>value=%{marker.size}<extra></extra>",
           "legendgroup": "Nevada",
           "marker": {
            "color": "#FF97FF",
            "size": [
             1041,
             22,
             1764,
             4,
             3625
            ],
            "sizemode": "area",
            "sizeref": 73.6175,
            "symbol": "circle"
           },
           "mode": "markers",
           "name": "Nevada",
           "orientation": "v",
           "showlegend": true,
           "type": "scatter",
           "x": [
            "carrier_delay",
            "weather_delay",
            "nas_delay",
            "security_delay",
            "late_aircraft_delay"
           ],
           "xaxis": "x",
           "y": [
            1041,
            22,
            1764,
            4,
            3625
           ],
           "yaxis": "y"
          },
          {
           "hovertemplate": "state=Washington<br>day=26<br>variable=%{x}<br>value=%{marker.size}<extra></extra>",
           "legendgroup": "Washington",
           "marker": {
            "color": "#FECB52",
            "size": [
             601,
             482,
             2009,
             53,
             949
            ],
            "sizemode": "area",
            "sizeref": 73.6175,
            "symbol": "circle"
           },
           "mode": "markers",
           "name": "Washington",
           "orientation": "v",
           "showlegend": true,
           "type": "scatter",
           "x": [
            "carrier_delay",
            "weather_delay",
            "nas_delay",
            "security_delay",
            "late_aircraft_delay"
           ],
           "xaxis": "x",
           "y": [
            601,
            482,
            2009,
            53,
            949
           ],
           "yaxis": "y"
          },
          {
           "hovertemplate": "state=Colorado<br>day=26<br>variable=%{x}<br>value=%{marker.size}<extra></extra>",
           "legendgroup": "Colorado",
           "marker": {
            "color": "#636efa",
            "size": [
             9068,
             1448,
             12685,
             24,
             18020
            ],
            "sizemode": "area",
            "sizeref": 73.6175,
            "symbol": "circle"
           },
           "mode": "markers",
           "name": "Colorado",
           "orientation": "v",
           "showlegend": true,
           "type": "scatter",
           "x": [
            "carrier_delay",
            "weather_delay",
            "nas_delay",
            "security_delay",
            "late_aircraft_delay"
           ],
           "xaxis": "x",
           "y": [
            9068,
            1448,
            12685,
            24,
            18020
           ],
           "yaxis": "y"
          },
          {
           "hovertemplate": "state=New Mexico<br>day=26<br>variable=%{x}<br>value=%{marker.size}<extra></extra>",
           "legendgroup": "New Mexico",
           "marker": {
            "color": "#EF553B",
            "size": [
             114,
             0,
             253,
             0,
             765
            ],
            "sizemode": "area",
            "sizeref": 73.6175,
            "symbol": "circle"
           },
           "mode": "markers",
           "name": "New Mexico",
           "orientation": "v",
           "showlegend": true,
           "type": "scatter",
           "x": [
            "carrier_delay",
            "weather_delay",
            "nas_delay",
            "security_delay",
            "late_aircraft_delay"
           ],
           "xaxis": "x",
           "y": [
            114,
            0,
            253,
            0,
            765
           ],
           "yaxis": "y"
          },
          {
           "hovertemplate": "state=Arizona<br>day=26<br>variable=%{x}<br>value=%{marker.size}<extra></extra>",
           "legendgroup": "Arizona",
           "marker": {
            "color": "#00cc96",
            "size": [
             1743,
             94,
             2169,
             47,
             2918
            ],
            "sizemode": "area",
            "sizeref": 73.6175,
            "symbol": "circle"
           },
           "mode": "markers",
           "name": "Arizona",
           "orientation": "v",
           "showlegend": true,
           "type": "scatter",
           "x": [
            "carrier_delay",
            "weather_delay",
            "nas_delay",
            "security_delay",
            "late_aircraft_delay"
           ],
           "xaxis": "x",
           "y": [
            1743,
            94,
            2169,
            47,
            2918
           ],
           "yaxis": "y"
          },
          {
           "hovertemplate": "state=Utah<br>day=26<br>variable=%{x}<br>value=%{marker.size}<extra></extra>",
           "legendgroup": "Utah",
           "marker": {
            "color": "#ab63fa",
            "size": [
             1279,
             15,
             3189,
             81,
             2237
            ],
            "sizemode": "area",
            "sizeref": 73.6175,
            "symbol": "circle"
           },
           "mode": "markers",
           "name": "Utah",
           "orientation": "v",
           "showlegend": true,
           "type": "scatter",
           "x": [
            "carrier_delay",
            "weather_delay",
            "nas_delay",
            "security_delay",
            "late_aircraft_delay"
           ],
           "xaxis": "x",
           "y": [
            1279,
            15,
            3189,
            81,
            2237
           ],
           "yaxis": "y"
          },
          {
           "hovertemplate": "state=U.S. Virgin Islands<br>day=26<br>variable=%{x}<br>value=%{marker.size}<extra></extra>",
           "legendgroup": "U.S. Virgin Islands",
           "marker": {
            "color": "#FFA15A",
            "size": [
             30,
             0,
             107,
             0,
             522
            ],
            "sizemode": "area",
            "sizeref": 73.6175,
            "symbol": "circle"
           },
           "mode": "markers",
           "name": "U.S. Virgin Islands",
           "orientation": "v",
           "showlegend": true,
           "type": "scatter",
           "x": [
            "carrier_delay",
            "weather_delay",
            "nas_delay",
            "security_delay",
            "late_aircraft_delay"
           ],
           "xaxis": "x",
           "y": [
            30,
            0,
            107,
            0,
            522
           ],
           "yaxis": "y"
          },
          {
           "hovertemplate": "state=Oregon<br>day=26<br>variable=%{x}<br>value=%{marker.size}<extra></extra>",
           "legendgroup": "Oregon",
           "marker": {
            "color": "#19d3f3",
            "size": [
             491,
             0,
             1319,
             0,
             371
            ],
            "sizemode": "area",
            "sizeref": 73.6175,
            "symbol": "circle"
           },
           "mode": "markers",
           "name": "Oregon",
           "orientation": "v",
           "showlegend": true,
           "type": "scatter",
           "x": [
            "carrier_delay",
            "weather_delay",
            "nas_delay",
            "security_delay",
            "late_aircraft_delay"
           ],
           "xaxis": "x",
           "y": [
            491,
            0,
            1319,
            0,
            371
           ],
           "yaxis": "y"
          },
          {
           "hovertemplate": "state=Maryland<br>day=26<br>variable=%{x}<br>value=%{marker.size}<extra></extra>",
           "legendgroup": "Maryland",
           "marker": {
            "color": "#FF6692",
            "size": [
             1363,
             52,
             1390,
             21,
             3470
            ],
            "sizemode": "area",
            "sizeref": 73.6175,
            "symbol": "circle"
           },
           "mode": "markers",
           "name": "Maryland",
           "orientation": "v",
           "showlegend": true,
           "type": "scatter",
           "x": [
            "carrier_delay",
            "weather_delay",
            "nas_delay",
            "security_delay",
            "late_aircraft_delay"
           ],
           "xaxis": "x",
           "y": [
            1363,
            52,
            1390,
            21,
            3470
           ],
           "yaxis": "y"
          },
          {
           "hovertemplate": "state=Wyoming<br>day=26<br>variable=%{x}<br>value=%{marker.size}<extra></extra>",
           "legendgroup": "Wyoming",
           "marker": {
            "color": "#B6E880",
            "size": [
             635,
             0,
             216,
             0,
             197
            ],
            "sizemode": "area",
            "sizeref": 73.6175,
            "symbol": "circle"
           },
           "mode": "markers",
           "name": "Wyoming",
           "orientation": "v",
           "showlegend": true,
           "type": "scatter",
           "x": [
            "carrier_delay",
            "weather_delay",
            "nas_delay",
            "security_delay",
            "late_aircraft_delay"
           ],
           "xaxis": "x",
           "y": [
            635,
            0,
            216,
            0,
            197
           ],
           "yaxis": "y"
          },
          {
           "hovertemplate": "state=Alaska<br>day=26<br>variable=%{x}<br>value=%{marker.size}<extra></extra>",
           "legendgroup": "Alaska",
           "marker": {
            "color": "#FF97FF",
            "size": [
             83,
             8,
             543,
             0,
             54
            ],
            "sizemode": "area",
            "sizeref": 73.6175,
            "symbol": "circle"
           },
           "mode": "markers",
           "name": "Alaska",
           "orientation": "v",
           "showlegend": true,
           "type": "scatter",
           "x": [
            "carrier_delay",
            "weather_delay",
            "nas_delay",
            "security_delay",
            "late_aircraft_delay"
           ],
           "xaxis": "x",
           "y": [
            83,
            8,
            543,
            0,
            54
           ],
           "yaxis": "y"
          },
          {
           "hovertemplate": "state=Idaho<br>day=26<br>variable=%{x}<br>value=%{marker.size}<extra></extra>",
           "legendgroup": "Idaho",
           "marker": {
            "color": "#FECB52",
            "size": [
             742,
             5,
             676,
             5,
             324
            ],
            "sizemode": "area",
            "sizeref": 73.6175,
            "symbol": "circle"
           },
           "mode": "markers",
           "name": "Idaho",
           "orientation": "v",
           "showlegend": true,
           "type": "scatter",
           "x": [
            "carrier_delay",
            "weather_delay",
            "nas_delay",
            "security_delay",
            "late_aircraft_delay"
           ],
           "xaxis": "x",
           "y": [
            742,
            5,
            676,
            5,
            324
           ],
           "yaxis": "y"
          },
          {
           "hovertemplate": "state=Montana<br>day=26<br>variable=%{x}<br>value=%{marker.size}<extra></extra>",
           "legendgroup": "Montana",
           "marker": {
            "color": "#636efa",
            "size": [
             112,
             0,
             210,
             0,
             821
            ],
            "sizemode": "area",
            "sizeref": 73.6175,
            "symbol": "circle"
           },
           "mode": "markers",
           "name": "Montana",
           "orientation": "v",
           "showlegend": true,
           "type": "scatter",
           "x": [
            "carrier_delay",
            "weather_delay",
            "nas_delay",
            "security_delay",
            "late_aircraft_delay"
           ],
           "xaxis": "x",
           "y": [
            112,
            0,
            210,
            0,
            821
           ],
           "yaxis": "y"
          },
          {
           "hovertemplate": "state=West Virginia<br>day=26<br>variable=%{x}<br>value=%{marker.size}<extra></extra>",
           "legendgroup": "West Virginia",
           "marker": {
            "color": "#EF553B",
            "size": [
             29,
             200,
             32,
             0,
             78
            ],
            "sizemode": "area",
            "sizeref": 73.6175,
            "symbol": "circle"
           },
           "mode": "markers",
           "name": "West Virginia",
           "orientation": "v",
           "showlegend": true,
           "type": "scatter",
           "x": [
            "carrier_delay",
            "weather_delay",
            "nas_delay",
            "security_delay",
            "late_aircraft_delay"
           ],
           "xaxis": "x",
           "y": [
            29,
            200,
            32,
            0,
            78
           ],
           "yaxis": "y"
          }
         ],
         "name": "26"
        },
        {
         "data": [
          {
           "hovertemplate": "state=Georgia<br>day=27<br>variable=%{x}<br>value=%{marker.size}<extra></extra>",
           "legendgroup": "Georgia",
           "marker": {
            "color": "#636efa",
            "size": [
             5267,
             228,
             1788,
             201,
             3222
            ],
            "sizemode": "area",
            "sizeref": 73.6175,
            "symbol": "circle"
           },
           "mode": "markers",
           "name": "Georgia",
           "orientation": "v",
           "showlegend": true,
           "type": "scatter",
           "x": [
            "carrier_delay",
            "weather_delay",
            "nas_delay",
            "security_delay",
            "late_aircraft_delay"
           ],
           "xaxis": "x",
           "y": [
            5267,
            228,
            1788,
            201,
            3222
           ],
           "yaxis": "y"
          },
          {
           "hovertemplate": "state=Tennessee<br>day=27<br>variable=%{x}<br>value=%{marker.size}<extra></extra>",
           "legendgroup": "Tennessee",
           "marker": {
            "color": "#EF553B",
            "size": [
             2012,
             15,
             639,
             0,
             2379
            ],
            "sizemode": "area",
            "sizeref": 73.6175,
            "symbol": "circle"
           },
           "mode": "markers",
           "name": "Tennessee",
           "orientation": "v",
           "showlegend": true,
           "type": "scatter",
           "x": [
            "carrier_delay",
            "weather_delay",
            "nas_delay",
            "security_delay",
            "late_aircraft_delay"
           ],
           "xaxis": "x",
           "y": [
            2012,
            15,
            639,
            0,
            2379
           ],
           "yaxis": "y"
          },
          {
           "hovertemplate": "state=Virginia<br>day=27<br>variable=%{x}<br>value=%{marker.size}<extra></extra>",
           "legendgroup": "Virginia",
           "marker": {
            "color": "#00cc96",
            "size": [
             411,
             0,
             320,
             0,
             339
            ],
            "sizemode": "area",
            "sizeref": 73.6175,
            "symbol": "circle"
           },
           "mode": "markers",
           "name": "Virginia",
           "orientation": "v",
           "showlegend": true,
           "type": "scatter",
           "x": [
            "carrier_delay",
            "weather_delay",
            "nas_delay",
            "security_delay",
            "late_aircraft_delay"
           ],
           "xaxis": "x",
           "y": [
            411,
            0,
            320,
            0,
            339
           ],
           "yaxis": "y"
          },
          {
           "hovertemplate": "state=Mississippi<br>day=27<br>variable=%{x}<br>value=%{marker.size}<extra></extra>",
           "legendgroup": "Mississippi",
           "marker": {
            "color": "#ab63fa",
            "size": [
             123,
             0,
             85,
             0,
             184
            ],
            "sizemode": "area",
            "sizeref": 73.6175,
            "symbol": "circle"
           },
           "mode": "markers",
           "name": "Mississippi",
           "orientation": "v",
           "showlegend": true,
           "type": "scatter",
           "x": [
            "carrier_delay",
            "weather_delay",
            "nas_delay",
            "security_delay",
            "late_aircraft_delay"
           ],
           "xaxis": "x",
           "y": [
            123,
            0,
            85,
            0,
            184
           ],
           "yaxis": "y"
          },
          {
           "hovertemplate": "state=District of Columbia<br>day=27<br>variable=%{x}<br>value=%{marker.size}<extra></extra>",
           "legendgroup": "District of Columbia",
           "marker": {
            "color": "#FFA15A",
            "size": [
             2027,
             254,
             1021,
             0,
             1803
            ],
            "sizemode": "area",
            "sizeref": 73.6175,
            "symbol": "circle"
           },
           "mode": "markers",
           "name": "District of Columbia",
           "orientation": "v",
           "showlegend": true,
           "type": "scatter",
           "x": [
            "carrier_delay",
            "weather_delay",
            "nas_delay",
            "security_delay",
            "late_aircraft_delay"
           ],
           "xaxis": "x",
           "y": [
            2027,
            254,
            1021,
            0,
            1803
           ],
           "yaxis": "y"
          },
          {
           "hovertemplate": "state=Louisiana<br>day=27<br>variable=%{x}<br>value=%{marker.size}<extra></extra>",
           "legendgroup": "Louisiana",
           "marker": {
            "color": "#19d3f3",
            "size": [
             183,
             0,
             146,
             3,
             783
            ],
            "sizemode": "area",
            "sizeref": 73.6175,
            "symbol": "circle"
           },
           "mode": "markers",
           "name": "Louisiana",
           "orientation": "v",
           "showlegend": true,
           "type": "scatter",
           "x": [
            "carrier_delay",
            "weather_delay",
            "nas_delay",
            "security_delay",
            "late_aircraft_delay"
           ],
           "xaxis": "x",
           "y": [
            183,
            0,
            146,
            3,
            783
           ],
           "yaxis": "y"
          },
          {
           "hovertemplate": "state=North Carolina<br>day=27<br>variable=%{x}<br>value=%{marker.size}<extra></extra>",
           "legendgroup": "North Carolina",
           "marker": {
            "color": "#FF6692",
            "size": [
             2158,
             153,
             1235,
             0,
             2386
            ],
            "sizemode": "area",
            "sizeref": 73.6175,
            "symbol": "circle"
           },
           "mode": "markers",
           "name": "North Carolina",
           "orientation": "v",
           "showlegend": true,
           "type": "scatter",
           "x": [
            "carrier_delay",
            "weather_delay",
            "nas_delay",
            "security_delay",
            "late_aircraft_delay"
           ],
           "xaxis": "x",
           "y": [
            2158,
            153,
            1235,
            0,
            2386
           ],
           "yaxis": "y"
          },
          {
           "hovertemplate": "state=Florida<br>day=27<br>variable=%{x}<br>value=%{marker.size}<extra></extra>",
           "legendgroup": "Florida",
           "marker": {
            "color": "#B6E880",
            "size": [
             7110,
             33,
             1967,
             31,
             8468
            ],
            "sizemode": "area",
            "sizeref": 73.6175,
            "symbol": "circle"
           },
           "mode": "markers",
           "name": "Florida",
           "orientation": "v",
           "showlegend": true,
           "type": "scatter",
           "x": [
            "carrier_delay",
            "weather_delay",
            "nas_delay",
            "security_delay",
            "late_aircraft_delay"
           ],
           "xaxis": "x",
           "y": [
            7110,
            33,
            1967,
            31,
            8468
           ],
           "yaxis": "y"
          },
          {
           "hovertemplate": "state=Missouri<br>day=27<br>variable=%{x}<br>value=%{marker.size}<extra></extra>",
           "legendgroup": "Missouri",
           "marker": {
            "color": "#FF97FF",
            "size": [
             2473,
             502,
             2846,
             61,
             3409
            ],
            "sizemode": "area",
            "sizeref": 73.6175,
            "symbol": "circle"
           },
           "mode": "markers",
           "name": "Missouri",
           "orientation": "v",
           "showlegend": true,
           "type": "scatter",
           "x": [
            "carrier_delay",
            "weather_delay",
            "nas_delay",
            "security_delay",
            "late_aircraft_delay"
           ],
           "xaxis": "x",
           "y": [
            2473,
            502,
            2846,
            61,
            3409
           ],
           "yaxis": "y"
          },
          {
           "hovertemplate": "state=Wisconsin<br>day=27<br>variable=%{x}<br>value=%{marker.size}<extra></extra>",
           "legendgroup": "Wisconsin",
           "marker": {
            "color": "#FECB52",
            "size": [
             2139,
             32,
             855,
             0,
             2274
            ],
            "sizemode": "area",
            "sizeref": 73.6175,
            "symbol": "circle"
           },
           "mode": "markers",
           "name": "Wisconsin",
           "orientation": "v",
           "showlegend": true,
           "type": "scatter",
           "x": [
            "carrier_delay",
            "weather_delay",
            "nas_delay",
            "security_delay",
            "late_aircraft_delay"
           ],
           "xaxis": "x",
           "y": [
            2139,
            32,
            855,
            0,
            2274
           ],
           "yaxis": "y"
          },
          {
           "hovertemplate": "state=New York<br>day=27<br>variable=%{x}<br>value=%{marker.size}<extra></extra>",
           "legendgroup": "New York",
           "marker": {
            "color": "#636efa",
            "size": [
             4849,
             691,
             1903,
             17,
             3515
            ],
            "sizemode": "area",
            "sizeref": 73.6175,
            "symbol": "circle"
           },
           "mode": "markers",
           "name": "New York",
           "orientation": "v",
           "showlegend": true,
           "type": "scatter",
           "x": [
            "carrier_delay",
            "weather_delay",
            "nas_delay",
            "security_delay",
            "late_aircraft_delay"
           ],
           "xaxis": "x",
           "y": [
            4849,
            691,
            1903,
            17,
            3515
           ],
           "yaxis": "y"
          },
          {
           "hovertemplate": "state=Rhode Island<br>day=27<br>variable=%{x}<br>value=%{marker.size}<extra></extra>",
           "legendgroup": "Rhode Island",
           "marker": {
            "color": "#EF553B",
            "size": [
             26,
             0,
             45,
             0,
             204
            ],
            "sizemode": "area",
            "sizeref": 73.6175,
            "symbol": "circle"
           },
           "mode": "markers",
           "name": "Rhode Island",
           "orientation": "v",
           "showlegend": true,
           "type": "scatter",
           "x": [
            "carrier_delay",
            "weather_delay",
            "nas_delay",
            "security_delay",
            "late_aircraft_delay"
           ],
           "xaxis": "x",
           "y": [
            26,
            0,
            45,
            0,
            204
           ],
           "yaxis": "y"
          },
          {
           "hovertemplate": "state=Texas<br>day=27<br>variable=%{x}<br>value=%{marker.size}<extra></extra>",
           "legendgroup": "Texas",
           "marker": {
            "color": "#00cc96",
            "size": [
             11063,
             175,
             2536,
             118,
             9312
            ],
            "sizemode": "area",
            "sizeref": 73.6175,
            "symbol": "circle"
           },
           "mode": "markers",
           "name": "Texas",
           "orientation": "v",
           "showlegend": true,
           "type": "scatter",
           "x": [
            "carrier_delay",
            "weather_delay",
            "nas_delay",
            "security_delay",
            "late_aircraft_delay"
           ],
           "xaxis": "x",
           "y": [
            11063,
            175,
            2536,
            118,
            9312
           ],
           "yaxis": "y"
          },
          {
           "hovertemplate": "state=Kentucky<br>day=27<br>variable=%{x}<br>value=%{marker.size}<extra></extra>",
           "legendgroup": "Kentucky",
           "marker": {
            "color": "#ab63fa",
            "size": [
             216,
             8,
             398,
             0,
             1081
            ],
            "sizemode": "area",
            "sizeref": 73.6175,
            "symbol": "circle"
           },
           "mode": "markers",
           "name": "Kentucky",
           "orientation": "v",
           "showlegend": true,
           "type": "scatter",
           "x": [
            "carrier_delay",
            "weather_delay",
            "nas_delay",
            "security_delay",
            "late_aircraft_delay"
           ],
           "xaxis": "x",
           "y": [
            216,
            8,
            398,
            0,
            1081
           ],
           "yaxis": "y"
          },
          {
           "hovertemplate": "state=South Carolina<br>day=27<br>variable=%{x}<br>value=%{marker.size}<extra></extra>",
           "legendgroup": "South Carolina",
           "marker": {
            "color": "#FFA15A",
            "size": [
             938,
             0,
             237,
             0,
             455
            ],
            "sizemode": "area",
            "sizeref": 73.6175,
            "symbol": "circle"
           },
           "mode": "markers",
           "name": "South Carolina",
           "orientation": "v",
           "showlegend": true,
           "type": "scatter",
           "x": [
            "carrier_delay",
            "weather_delay",
            "nas_delay",
            "security_delay",
            "late_aircraft_delay"
           ],
           "xaxis": "x",
           "y": [
            938,
            0,
            237,
            0,
            455
           ],
           "yaxis": "y"
          },
          {
           "hovertemplate": "state=Pennsylvania<br>day=27<br>variable=%{x}<br>value=%{marker.size}<extra></extra>",
           "legendgroup": "Pennsylvania",
           "marker": {
            "color": "#19d3f3",
            "size": [
             1742,
             0,
             970,
             24,
             2136
            ],
            "sizemode": "area",
            "sizeref": 73.6175,
            "symbol": "circle"
           },
           "mode": "markers",
           "name": "Pennsylvania",
           "orientation": "v",
           "showlegend": true,
           "type": "scatter",
           "x": [
            "carrier_delay",
            "weather_delay",
            "nas_delay",
            "security_delay",
            "late_aircraft_delay"
           ],
           "xaxis": "x",
           "y": [
            1742,
            0,
            970,
            24,
            2136
           ],
           "yaxis": "y"
          },
          {
           "hovertemplate": "state=Illinois<br>day=27<br>variable=%{x}<br>value=%{marker.size}<extra></extra>",
           "legendgroup": "Illinois",
           "marker": {
            "color": "#FF6692",
            "size": [
             18875,
             4852,
             6978,
             0,
             14474
            ],
            "sizemode": "area",
            "sizeref": 73.6175,
            "symbol": "circle"
           },
           "mode": "markers",
           "name": "Illinois",
           "orientation": "v",
           "showlegend": true,
           "type": "scatter",
           "x": [
            "carrier_delay",
            "weather_delay",
            "nas_delay",
            "security_delay",
            "late_aircraft_delay"
           ],
           "xaxis": "x",
           "y": [
            18875,
            4852,
            6978,
            0,
            14474
           ],
           "yaxis": "y"
          },
          {
           "hovertemplate": "state=Ohio<br>day=27<br>variable=%{x}<br>value=%{marker.size}<extra></extra>",
           "legendgroup": "Ohio",
           "marker": {
            "color": "#B6E880",
            "size": [
             3668,
             658,
             3096,
             0,
             2728
            ],
            "sizemode": "area",
            "sizeref": 73.6175,
            "symbol": "circle"
           },
           "mode": "markers",
           "name": "Ohio",
           "orientation": "v",
           "showlegend": true,
           "type": "scatter",
           "x": [
            "carrier_delay",
            "weather_delay",
            "nas_delay",
            "security_delay",
            "late_aircraft_delay"
           ],
           "xaxis": "x",
           "y": [
            3668,
            658,
            3096,
            0,
            2728
           ],
           "yaxis": "y"
          },
          {
           "hovertemplate": "state=Michigan<br>day=27<br>variable=%{x}<br>value=%{marker.size}<extra></extra>",
           "legendgroup": "Michigan",
           "marker": {
            "color": "#FF97FF",
            "size": [
             5462,
             302,
             4004,
             0,
             3472
            ],
            "sizemode": "area",
            "sizeref": 73.6175,
            "symbol": "circle"
           },
           "mode": "markers",
           "name": "Michigan",
           "orientation": "v",
           "showlegend": true,
           "type": "scatter",
           "x": [
            "carrier_delay",
            "weather_delay",
            "nas_delay",
            "security_delay",
            "late_aircraft_delay"
           ],
           "xaxis": "x",
           "y": [
            5462,
            302,
            4004,
            0,
            3472
           ],
           "yaxis": "y"
          },
          {
           "hovertemplate": "state=New Jersey<br>day=27<br>variable=%{x}<br>value=%{marker.size}<extra></extra>",
           "legendgroup": "New Jersey",
           "marker": {
            "color": "#FECB52",
            "size": [
             1659,
             121,
             362,
             30,
             3315
            ],
            "sizemode": "area",
            "sizeref": 73.6175,
            "symbol": "circle"
           },
           "mode": "markers",
           "name": "New Jersey",
           "orientation": "v",
           "showlegend": true,
           "type": "scatter",
           "x": [
            "carrier_delay",
            "weather_delay",
            "nas_delay",
            "security_delay",
            "late_aircraft_delay"
           ],
           "xaxis": "x",
           "y": [
            1659,
            121,
            362,
            30,
            3315
           ],
           "yaxis": "y"
          },
          {
           "hovertemplate": "state=Oklahoma<br>day=27<br>variable=%{x}<br>value=%{marker.size}<extra></extra>",
           "legendgroup": "Oklahoma",
           "marker": {
            "color": "#636efa",
            "size": [
             1686,
             35,
             176,
             0,
             1334
            ],
            "sizemode": "area",
            "sizeref": 73.6175,
            "symbol": "circle"
           },
           "mode": "markers",
           "name": "Oklahoma",
           "orientation": "v",
           "showlegend": true,
           "type": "scatter",
           "x": [
            "carrier_delay",
            "weather_delay",
            "nas_delay",
            "security_delay",
            "late_aircraft_delay"
           ],
           "xaxis": "x",
           "y": [
            1686,
            35,
            176,
            0,
            1334
           ],
           "yaxis": "y"
          },
          {
           "hovertemplate": "state=Maine<br>day=27<br>variable=%{x}<br>value=%{marker.size}<extra></extra>",
           "legendgroup": "Maine",
           "marker": {
            "color": "#EF553B",
            "size": [
             15,
             0,
             8,
             0,
             0
            ],
            "sizemode": "area",
            "sizeref": 73.6175,
            "symbol": "circle"
           },
           "mode": "markers",
           "name": "Maine",
           "orientation": "v",
           "showlegend": true,
           "type": "scatter",
           "x": [
            "carrier_delay",
            "weather_delay",
            "nas_delay",
            "security_delay",
            "late_aircraft_delay"
           ],
           "xaxis": "x",
           "y": [
            15,
            0,
            8,
            0,
            0
           ],
           "yaxis": "y"
          },
          {
           "hovertemplate": "state=Minnesota<br>day=27<br>variable=%{x}<br>value=%{marker.size}<extra></extra>",
           "legendgroup": "Minnesota",
           "marker": {
            "color": "#00cc96",
            "size": [
             2071,
             26,
             1337,
             6,
             2028
            ],
            "sizemode": "area",
            "sizeref": 73.6175,
            "symbol": "circle"
           },
           "mode": "markers",
           "name": "Minnesota",
           "orientation": "v",
           "showlegend": true,
           "type": "scatter",
           "x": [
            "carrier_delay",
            "weather_delay",
            "nas_delay",
            "security_delay",
            "late_aircraft_delay"
           ],
           "xaxis": "x",
           "y": [
            2071,
            26,
            1337,
            6,
            2028
           ],
           "yaxis": "y"
          },
          {
           "hovertemplate": "state=Iowa<br>day=27<br>variable=%{x}<br>value=%{marker.size}<extra></extra>",
           "legendgroup": "Iowa",
           "marker": {
            "color": "#ab63fa",
            "size": [
             797,
             103,
             400,
             0,
             1085
            ],
            "sizemode": "area",
            "sizeref": 73.6175,
            "symbol": "circle"
           },
           "mode": "markers",
           "name": "Iowa",
           "orientation": "v",
           "showlegend": true,
           "type": "scatter",
           "x": [
            "carrier_delay",
            "weather_delay",
            "nas_delay",
            "security_delay",
            "late_aircraft_delay"
           ],
           "xaxis": "x",
           "y": [
            797,
            103,
            400,
            0,
            1085
           ],
           "yaxis": "y"
          },
          {
           "hovertemplate": "state=Alabama<br>day=27<br>variable=%{x}<br>value=%{marker.size}<extra></extra>",
           "legendgroup": "Alabama",
           "marker": {
            "color": "#FFA15A",
            "size": [
             929,
             27,
             119,
             2,
             633
            ],
            "sizemode": "area",
            "sizeref": 73.6175,
            "symbol": "circle"
           },
           "mode": "markers",
           "name": "Alabama",
           "orientation": "v",
           "showlegend": true,
           "type": "scatter",
           "x": [
            "carrier_delay",
            "weather_delay",
            "nas_delay",
            "security_delay",
            "late_aircraft_delay"
           ],
           "xaxis": "x",
           "y": [
            929,
            27,
            119,
            2,
            633
           ],
           "yaxis": "y"
          },
          {
           "hovertemplate": "state=Indiana<br>day=27<br>variable=%{x}<br>value=%{marker.size}<extra></extra>",
           "legendgroup": "Indiana",
           "marker": {
            "color": "#19d3f3",
            "size": [
             597,
             221,
             1407,
             0,
             2335
            ],
            "sizemode": "area",
            "sizeref": 73.6175,
            "symbol": "circle"
           },
           "mode": "markers",
           "name": "Indiana",
           "orientation": "v",
           "showlegend": true,
           "type": "scatter",
           "x": [
            "carrier_delay",
            "weather_delay",
            "nas_delay",
            "security_delay",
            "late_aircraft_delay"
           ],
           "xaxis": "x",
           "y": [
            597,
            221,
            1407,
            0,
            2335
           ],
           "yaxis": "y"
          },
          {
           "hovertemplate": "state=Kansas<br>day=27<br>variable=%{x}<br>value=%{marker.size}<extra></extra>",
           "legendgroup": "Kansas",
           "marker": {
            "color": "#FF6692",
            "size": [
             157,
             15,
             116,
             28,
             301
            ],
            "sizemode": "area",
            "sizeref": 73.6175,
            "symbol": "circle"
           },
           "mode": "markers",
           "name": "Kansas",
           "orientation": "v",
           "showlegend": true,
           "type": "scatter",
           "x": [
            "carrier_delay",
            "weather_delay",
            "nas_delay",
            "security_delay",
            "late_aircraft_delay"
           ],
           "xaxis": "x",
           "y": [
            157,
            15,
            116,
            28,
            301
           ],
           "yaxis": "y"
          },
          {
           "hovertemplate": "state=South Dakota<br>day=27<br>variable=%{x}<br>value=%{marker.size}<extra></extra>",
           "legendgroup": "South Dakota",
           "marker": {
            "color": "#B6E880",
            "size": [
             170,
             157,
             259,
             0,
             292
            ],
            "sizemode": "area",
            "sizeref": 73.6175,
            "symbol": "circle"
           },
           "mode": "markers",
           "name": "South Dakota",
           "orientation": "v",
           "showlegend": true,
           "type": "scatter",
           "x": [
            "carrier_delay",
            "weather_delay",
            "nas_delay",
            "security_delay",
            "late_aircraft_delay"
           ],
           "xaxis": "x",
           "y": [
            170,
            157,
            259,
            0,
            292
           ],
           "yaxis": "y"
          },
          {
           "hovertemplate": "state=North Dakota<br>day=27<br>variable=%{x}<br>value=%{marker.size}<extra></extra>",
           "legendgroup": "North Dakota",
           "marker": {
            "color": "#FF97FF",
            "size": [
             190,
             16,
             65,
             0,
             499
            ],
            "sizemode": "area",
            "sizeref": 73.6175,
            "symbol": "circle"
           },
           "mode": "markers",
           "name": "North Dakota",
           "orientation": "v",
           "showlegend": true,
           "type": "scatter",
           "x": [
            "carrier_delay",
            "weather_delay",
            "nas_delay",
            "security_delay",
            "late_aircraft_delay"
           ],
           "xaxis": "x",
           "y": [
            190,
            16,
            65,
            0,
            499
           ],
           "yaxis": "y"
          },
          {
           "hovertemplate": "state=Nebraska<br>day=27<br>variable=%{x}<br>value=%{marker.size}<extra></extra>",
           "legendgroup": "Nebraska",
           "marker": {
            "color": "#FECB52",
            "size": [
             264,
             212,
             500,
             0,
             868
            ],
            "sizemode": "area",
            "sizeref": 73.6175,
            "symbol": "circle"
           },
           "mode": "markers",
           "name": "Nebraska",
           "orientation": "v",
           "showlegend": true,
           "type": "scatter",
           "x": [
            "carrier_delay",
            "weather_delay",
            "nas_delay",
            "security_delay",
            "late_aircraft_delay"
           ],
           "xaxis": "x",
           "y": [
            264,
            212,
            500,
            0,
            868
           ],
           "yaxis": "y"
          },
          {
           "hovertemplate": "state=Vermont<br>day=27<br>variable=%{x}<br>value=%{marker.size}<extra></extra>",
           "legendgroup": "Vermont",
           "marker": {
            "color": "#636efa",
            "size": [
             202,
             0,
             24,
             0,
             0
            ],
            "sizemode": "area",
            "sizeref": 73.6175,
            "symbol": "circle"
           },
           "mode": "markers",
           "name": "Vermont",
           "orientation": "v",
           "showlegend": true,
           "type": "scatter",
           "x": [
            "carrier_delay",
            "weather_delay",
            "nas_delay",
            "security_delay",
            "late_aircraft_delay"
           ],
           "xaxis": "x",
           "y": [
            202,
            0,
            24,
            0,
            0
           ],
           "yaxis": "y"
          },
          {
           "hovertemplate": "state=Arkansas<br>day=27<br>variable=%{x}<br>value=%{marker.size}<extra></extra>",
           "legendgroup": "Arkansas",
           "marker": {
            "color": "#EF553B",
            "size": [
             745,
             28,
             229,
             0,
             929
            ],
            "sizemode": "area",
            "sizeref": 73.6175,
            "symbol": "circle"
           },
           "mode": "markers",
           "name": "Arkansas",
           "orientation": "v",
           "showlegend": true,
           "type": "scatter",
           "x": [
            "carrier_delay",
            "weather_delay",
            "nas_delay",
            "security_delay",
            "late_aircraft_delay"
           ],
           "xaxis": "x",
           "y": [
            745,
            28,
            229,
            0,
            929
           ],
           "yaxis": "y"
          },
          {
           "hovertemplate": "state=Massachusetts<br>day=27<br>variable=%{x}<br>value=%{marker.size}<extra></extra>",
           "legendgroup": "Massachusetts",
           "marker": {
            "color": "#00cc96",
            "size": [
             1205,
             9,
             304,
             41,
             521
            ],
            "sizemode": "area",
            "sizeref": 73.6175,
            "symbol": "circle"
           },
           "mode": "markers",
           "name": "Massachusetts",
           "orientation": "v",
           "showlegend": true,
           "type": "scatter",
           "x": [
            "carrier_delay",
            "weather_delay",
            "nas_delay",
            "security_delay",
            "late_aircraft_delay"
           ],
           "xaxis": "x",
           "y": [
            1205,
            9,
            304,
            41,
            521
           ],
           "yaxis": "y"
          },
          {
           "hovertemplate": "state=Connecticut<br>day=27<br>variable=%{x}<br>value=%{marker.size}<extra></extra>",
           "legendgroup": "Connecticut",
           "marker": {
            "color": "#ab63fa",
            "size": [
             247,
             0,
             81,
             0,
             106
            ],
            "sizemode": "area",
            "sizeref": 73.6175,
            "symbol": "circle"
           },
           "mode": "markers",
           "name": "Connecticut",
           "orientation": "v",
           "showlegend": true,
           "type": "scatter",
           "x": [
            "carrier_delay",
            "weather_delay",
            "nas_delay",
            "security_delay",
            "late_aircraft_delay"
           ],
           "xaxis": "x",
           "y": [
            247,
            0,
            81,
            0,
            106
           ],
           "yaxis": "y"
          },
          {
           "hovertemplate": "state=New Hampshire<br>day=27<br>variable=%{x}<br>value=%{marker.size}<extra></extra>",
           "legendgroup": "New Hampshire",
           "marker": {
            "color": "#FFA15A",
            "size": [
             262,
             0,
             99,
             0,
             359
            ],
            "sizemode": "area",
            "sizeref": 73.6175,
            "symbol": "circle"
           },
           "mode": "markers",
           "name": "New Hampshire",
           "orientation": "v",
           "showlegend": true,
           "type": "scatter",
           "x": [
            "carrier_delay",
            "weather_delay",
            "nas_delay",
            "security_delay",
            "late_aircraft_delay"
           ],
           "xaxis": "x",
           "y": [
            262,
            0,
            99,
            0,
            359
           ],
           "yaxis": "y"
          },
          {
           "hovertemplate": "state=California<br>day=27<br>variable=%{x}<br>value=%{marker.size}<extra></extra>",
           "legendgroup": "California",
           "marker": {
            "color": "#19d3f3",
            "size": [
             7788,
             65,
             1459,
             39,
             8699
            ],
            "sizemode": "area",
            "sizeref": 73.6175,
            "symbol": "circle"
           },
           "mode": "markers",
           "name": "California",
           "orientation": "v",
           "showlegend": true,
           "type": "scatter",
           "x": [
            "carrier_delay",
            "weather_delay",
            "nas_delay",
            "security_delay",
            "late_aircraft_delay"
           ],
           "xaxis": "x",
           "y": [
            7788,
            65,
            1459,
            39,
            8699
           ],
           "yaxis": "y"
          },
          {
           "hovertemplate": "state=Hawaii<br>day=27<br>variable=%{x}<br>value=%{marker.size}<extra></extra>",
           "legendgroup": "Hawaii",
           "marker": {
            "color": "#FF6692",
            "size": [
             293,
             0,
             97,
             0,
             350
            ],
            "sizemode": "area",
            "sizeref": 73.6175,
            "symbol": "circle"
           },
           "mode": "markers",
           "name": "Hawaii",
           "orientation": "v",
           "showlegend": true,
           "type": "scatter",
           "x": [
            "carrier_delay",
            "weather_delay",
            "nas_delay",
            "security_delay",
            "late_aircraft_delay"
           ],
           "xaxis": "x",
           "y": [
            293,
            0,
            97,
            0,
            350
           ],
           "yaxis": "y"
          },
          {
           "hovertemplate": "state=Puerto Rico<br>day=27<br>variable=%{x}<br>value=%{marker.size}<extra></extra>",
           "legendgroup": "Puerto Rico",
           "marker": {
            "color": "#B6E880",
            "size": [
             464,
             0,
             119,
             65,
             994
            ],
            "sizemode": "area",
            "sizeref": 73.6175,
            "symbol": "circle"
           },
           "mode": "markers",
           "name": "Puerto Rico",
           "orientation": "v",
           "showlegend": true,
           "type": "scatter",
           "x": [
            "carrier_delay",
            "weather_delay",
            "nas_delay",
            "security_delay",
            "late_aircraft_delay"
           ],
           "xaxis": "x",
           "y": [
            464,
            0,
            119,
            65,
            994
           ],
           "yaxis": "y"
          },
          {
           "hovertemplate": "state=Nevada<br>day=27<br>variable=%{x}<br>value=%{marker.size}<extra></extra>",
           "legendgroup": "Nevada",
           "marker": {
            "color": "#FF97FF",
            "size": [
             1079,
             0,
             259,
             0,
             1920
            ],
            "sizemode": "area",
            "sizeref": 73.6175,
            "symbol": "circle"
           },
           "mode": "markers",
           "name": "Nevada",
           "orientation": "v",
           "showlegend": true,
           "type": "scatter",
           "x": [
            "carrier_delay",
            "weather_delay",
            "nas_delay",
            "security_delay",
            "late_aircraft_delay"
           ],
           "xaxis": "x",
           "y": [
            1079,
            0,
            259,
            0,
            1920
           ],
           "yaxis": "y"
          },
          {
           "hovertemplate": "state=Washington<br>day=27<br>variable=%{x}<br>value=%{marker.size}<extra></extra>",
           "legendgroup": "Washington",
           "marker": {
            "color": "#FECB52",
            "size": [
             626,
             3,
             1138,
             157,
             658
            ],
            "sizemode": "area",
            "sizeref": 73.6175,
            "symbol": "circle"
           },
           "mode": "markers",
           "name": "Washington",
           "orientation": "v",
           "showlegend": true,
           "type": "scatter",
           "x": [
            "carrier_delay",
            "weather_delay",
            "nas_delay",
            "security_delay",
            "late_aircraft_delay"
           ],
           "xaxis": "x",
           "y": [
            626,
            3,
            1138,
            157,
            658
           ],
           "yaxis": "y"
          },
          {
           "hovertemplate": "state=Colorado<br>day=27<br>variable=%{x}<br>value=%{marker.size}<extra></extra>",
           "legendgroup": "Colorado",
           "marker": {
            "color": "#636efa",
            "size": [
             4538,
             81,
             1032,
             66,
             4587
            ],
            "sizemode": "area",
            "sizeref": 73.6175,
            "symbol": "circle"
           },
           "mode": "markers",
           "name": "Colorado",
           "orientation": "v",
           "showlegend": true,
           "type": "scatter",
           "x": [
            "carrier_delay",
            "weather_delay",
            "nas_delay",
            "security_delay",
            "late_aircraft_delay"
           ],
           "xaxis": "x",
           "y": [
            4538,
            81,
            1032,
            66,
            4587
           ],
           "yaxis": "y"
          },
          {
           "hovertemplate": "state=New Mexico<br>day=27<br>variable=%{x}<br>value=%{marker.size}<extra></extra>",
           "legendgroup": "New Mexico",
           "marker": {
            "color": "#EF553B",
            "size": [
             244,
             0,
             74,
             0,
             844
            ],
            "sizemode": "area",
            "sizeref": 73.6175,
            "symbol": "circle"
           },
           "mode": "markers",
           "name": "New Mexico",
           "orientation": "v",
           "showlegend": true,
           "type": "scatter",
           "x": [
            "carrier_delay",
            "weather_delay",
            "nas_delay",
            "security_delay",
            "late_aircraft_delay"
           ],
           "xaxis": "x",
           "y": [
            244,
            0,
            74,
            0,
            844
           ],
           "yaxis": "y"
          },
          {
           "hovertemplate": "state=Arizona<br>day=27<br>variable=%{x}<br>value=%{marker.size}<extra></extra>",
           "legendgroup": "Arizona",
           "marker": {
            "color": "#00cc96",
            "size": [
             1781,
             0,
             447,
             0,
             1885
            ],
            "sizemode": "area",
            "sizeref": 73.6175,
            "symbol": "circle"
           },
           "mode": "markers",
           "name": "Arizona",
           "orientation": "v",
           "showlegend": true,
           "type": "scatter",
           "x": [
            "carrier_delay",
            "weather_delay",
            "nas_delay",
            "security_delay",
            "late_aircraft_delay"
           ],
           "xaxis": "x",
           "y": [
            1781,
            0,
            447,
            0,
            1885
           ],
           "yaxis": "y"
          },
          {
           "hovertemplate": "state=Utah<br>day=27<br>variable=%{x}<br>value=%{marker.size}<extra></extra>",
           "legendgroup": "Utah",
           "marker": {
            "color": "#ab63fa",
            "size": [
             2136,
             10,
             991,
             0,
             2138
            ],
            "sizemode": "area",
            "sizeref": 73.6175,
            "symbol": "circle"
           },
           "mode": "markers",
           "name": "Utah",
           "orientation": "v",
           "showlegend": true,
           "type": "scatter",
           "x": [
            "carrier_delay",
            "weather_delay",
            "nas_delay",
            "security_delay",
            "late_aircraft_delay"
           ],
           "xaxis": "x",
           "y": [
            2136,
            10,
            991,
            0,
            2138
           ],
           "yaxis": "y"
          },
          {
           "hovertemplate": "state=U.S. Virgin Islands<br>day=27<br>variable=%{x}<br>value=%{marker.size}<extra></extra>",
           "legendgroup": "U.S. Virgin Islands",
           "marker": {
            "color": "#FFA15A",
            "size": [
             13,
             0,
             11,
             0,
             58
            ],
            "sizemode": "area",
            "sizeref": 73.6175,
            "symbol": "circle"
           },
           "mode": "markers",
           "name": "U.S. Virgin Islands",
           "orientation": "v",
           "showlegend": true,
           "type": "scatter",
           "x": [
            "carrier_delay",
            "weather_delay",
            "nas_delay",
            "security_delay",
            "late_aircraft_delay"
           ],
           "xaxis": "x",
           "y": [
            13,
            0,
            11,
            0,
            58
           ],
           "yaxis": "y"
          },
          {
           "hovertemplate": "state=Oregon<br>day=27<br>variable=%{x}<br>value=%{marker.size}<extra></extra>",
           "legendgroup": "Oregon",
           "marker": {
            "color": "#19d3f3",
            "size": [
             608,
             0,
             399,
             8,
             219
            ],
            "sizemode": "area",
            "sizeref": 73.6175,
            "symbol": "circle"
           },
           "mode": "markers",
           "name": "Oregon",
           "orientation": "v",
           "showlegend": true,
           "type": "scatter",
           "x": [
            "carrier_delay",
            "weather_delay",
            "nas_delay",
            "security_delay",
            "late_aircraft_delay"
           ],
           "xaxis": "x",
           "y": [
            608,
            0,
            399,
            8,
            219
           ],
           "yaxis": "y"
          },
          {
           "hovertemplate": "state=Maryland<br>day=27<br>variable=%{x}<br>value=%{marker.size}<extra></extra>",
           "legendgroup": "Maryland",
           "marker": {
            "color": "#FF6692",
            "size": [
             705,
             36,
             434,
             1,
             1708
            ],
            "sizemode": "area",
            "sizeref": 73.6175,
            "symbol": "circle"
           },
           "mode": "markers",
           "name": "Maryland",
           "orientation": "v",
           "showlegend": true,
           "type": "scatter",
           "x": [
            "carrier_delay",
            "weather_delay",
            "nas_delay",
            "security_delay",
            "late_aircraft_delay"
           ],
           "xaxis": "x",
           "y": [
            705,
            36,
            434,
            1,
            1708
           ],
           "yaxis": "y"
          },
          {
           "hovertemplate": "state=Wyoming<br>day=27<br>variable=%{x}<br>value=%{marker.size}<extra></extra>",
           "legendgroup": "Wyoming",
           "marker": {
            "color": "#B6E880",
            "size": [
             200,
             0,
             14,
             0,
             134
            ],
            "sizemode": "area",
            "sizeref": 73.6175,
            "symbol": "circle"
           },
           "mode": "markers",
           "name": "Wyoming",
           "orientation": "v",
           "showlegend": true,
           "type": "scatter",
           "x": [
            "carrier_delay",
            "weather_delay",
            "nas_delay",
            "security_delay",
            "late_aircraft_delay"
           ],
           "xaxis": "x",
           "y": [
            200,
            0,
            14,
            0,
            134
           ],
           "yaxis": "y"
          },
          {
           "hovertemplate": "state=Alaska<br>day=27<br>variable=%{x}<br>value=%{marker.size}<extra></extra>",
           "legendgroup": "Alaska",
           "marker": {
            "color": "#FF97FF",
            "size": [
             21,
             159,
             300,
             0,
             409
            ],
            "sizemode": "area",
            "sizeref": 73.6175,
            "symbol": "circle"
           },
           "mode": "markers",
           "name": "Alaska",
           "orientation": "v",
           "showlegend": true,
           "type": "scatter",
           "x": [
            "carrier_delay",
            "weather_delay",
            "nas_delay",
            "security_delay",
            "late_aircraft_delay"
           ],
           "xaxis": "x",
           "y": [
            21,
            159,
            300,
            0,
            409
           ],
           "yaxis": "y"
          },
          {
           "hovertemplate": "state=Idaho<br>day=27<br>variable=%{x}<br>value=%{marker.size}<extra></extra>",
           "legendgroup": "Idaho",
           "marker": {
            "color": "#FECB52",
            "size": [
             10,
             2,
             44,
             9,
             186
            ],
            "sizemode": "area",
            "sizeref": 73.6175,
            "symbol": "circle"
           },
           "mode": "markers",
           "name": "Idaho",
           "orientation": "v",
           "showlegend": true,
           "type": "scatter",
           "x": [
            "carrier_delay",
            "weather_delay",
            "nas_delay",
            "security_delay",
            "late_aircraft_delay"
           ],
           "xaxis": "x",
           "y": [
            10,
            2,
            44,
            9,
            186
           ],
           "yaxis": "y"
          },
          {
           "hovertemplate": "state=Montana<br>day=27<br>variable=%{x}<br>value=%{marker.size}<extra></extra>",
           "legendgroup": "Montana",
           "marker": {
            "color": "#636efa",
            "size": [
             78,
             0,
             237,
             0,
             212
            ],
            "sizemode": "area",
            "sizeref": 73.6175,
            "symbol": "circle"
           },
           "mode": "markers",
           "name": "Montana",
           "orientation": "v",
           "showlegend": true,
           "type": "scatter",
           "x": [
            "carrier_delay",
            "weather_delay",
            "nas_delay",
            "security_delay",
            "late_aircraft_delay"
           ],
           "xaxis": "x",
           "y": [
            78,
            0,
            237,
            0,
            212
           ],
           "yaxis": "y"
          },
          {
           "hovertemplate": "state=West Virginia<br>day=27<br>variable=%{x}<br>value=%{marker.size}<extra></extra>",
           "legendgroup": "West Virginia",
           "marker": {
            "color": "#EF553B",
            "size": [
             7,
             0,
             0,
             0,
             23
            ],
            "sizemode": "area",
            "sizeref": 73.6175,
            "symbol": "circle"
           },
           "mode": "markers",
           "name": "West Virginia",
           "orientation": "v",
           "showlegend": true,
           "type": "scatter",
           "x": [
            "carrier_delay",
            "weather_delay",
            "nas_delay",
            "security_delay",
            "late_aircraft_delay"
           ],
           "xaxis": "x",
           "y": [
            7,
            0,
            0,
            0,
            23
           ],
           "yaxis": "y"
          }
         ],
         "name": "27"
        },
        {
         "data": [
          {
           "hovertemplate": "state=Georgia<br>day=28<br>variable=%{x}<br>value=%{marker.size}<extra></extra>",
           "legendgroup": "Georgia",
           "marker": {
            "color": "#636efa",
            "size": [
             3899,
             156,
             1502,
             0,
             3015
            ],
            "sizemode": "area",
            "sizeref": 73.6175,
            "symbol": "circle"
           },
           "mode": "markers",
           "name": "Georgia",
           "orientation": "v",
           "showlegend": true,
           "type": "scatter",
           "x": [
            "carrier_delay",
            "weather_delay",
            "nas_delay",
            "security_delay",
            "late_aircraft_delay"
           ],
           "xaxis": "x",
           "y": [
            3899,
            156,
            1502,
            0,
            3015
           ],
           "yaxis": "y"
          },
          {
           "hovertemplate": "state=Tennessee<br>day=28<br>variable=%{x}<br>value=%{marker.size}<extra></extra>",
           "legendgroup": "Tennessee",
           "marker": {
            "color": "#EF553B",
            "size": [
             964,
             24,
             620,
             6,
             1406
            ],
            "sizemode": "area",
            "sizeref": 73.6175,
            "symbol": "circle"
           },
           "mode": "markers",
           "name": "Tennessee",
           "orientation": "v",
           "showlegend": true,
           "type": "scatter",
           "x": [
            "carrier_delay",
            "weather_delay",
            "nas_delay",
            "security_delay",
            "late_aircraft_delay"
           ],
           "xaxis": "x",
           "y": [
            964,
            24,
            620,
            6,
            1406
           ],
           "yaxis": "y"
          },
          {
           "hovertemplate": "state=Virginia<br>day=28<br>variable=%{x}<br>value=%{marker.size}<extra></extra>",
           "legendgroup": "Virginia",
           "marker": {
            "color": "#00cc96",
            "size": [
             258,
             0,
             286,
             0,
             548
            ],
            "sizemode": "area",
            "sizeref": 73.6175,
            "symbol": "circle"
           },
           "mode": "markers",
           "name": "Virginia",
           "orientation": "v",
           "showlegend": true,
           "type": "scatter",
           "x": [
            "carrier_delay",
            "weather_delay",
            "nas_delay",
            "security_delay",
            "late_aircraft_delay"
           ],
           "xaxis": "x",
           "y": [
            258,
            0,
            286,
            0,
            548
           ],
           "yaxis": "y"
          },
          {
           "hovertemplate": "state=Mississippi<br>day=28<br>variable=%{x}<br>value=%{marker.size}<extra></extra>",
           "legendgroup": "Mississippi",
           "marker": {
            "color": "#ab63fa",
            "size": [
             173,
             0,
             47,
             0,
             395
            ],
            "sizemode": "area",
            "sizeref": 73.6175,
            "symbol": "circle"
           },
           "mode": "markers",
           "name": "Mississippi",
           "orientation": "v",
           "showlegend": true,
           "type": "scatter",
           "x": [
            "carrier_delay",
            "weather_delay",
            "nas_delay",
            "security_delay",
            "late_aircraft_delay"
           ],
           "xaxis": "x",
           "y": [
            173,
            0,
            47,
            0,
            395
           ],
           "yaxis": "y"
          },
          {
           "hovertemplate": "state=District of Columbia<br>day=28<br>variable=%{x}<br>value=%{marker.size}<extra></extra>",
           "legendgroup": "District of Columbia",
           "marker": {
            "color": "#FFA15A",
            "size": [
             1952,
             193,
             599,
             0,
             1404
            ],
            "sizemode": "area",
            "sizeref": 73.6175,
            "symbol": "circle"
           },
           "mode": "markers",
           "name": "District of Columbia",
           "orientation": "v",
           "showlegend": true,
           "type": "scatter",
           "x": [
            "carrier_delay",
            "weather_delay",
            "nas_delay",
            "security_delay",
            "late_aircraft_delay"
           ],
           "xaxis": "x",
           "y": [
            1952,
            193,
            599,
            0,
            1404
           ],
           "yaxis": "y"
          },
          {
           "hovertemplate": "state=Louisiana<br>day=28<br>variable=%{x}<br>value=%{marker.size}<extra></extra>",
           "legendgroup": "Louisiana",
           "marker": {
            "color": "#19d3f3",
            "size": [
             421,
             4,
             165,
             0,
             616
            ],
            "sizemode": "area",
            "sizeref": 73.6175,
            "symbol": "circle"
           },
           "mode": "markers",
           "name": "Louisiana",
           "orientation": "v",
           "showlegend": true,
           "type": "scatter",
           "x": [
            "carrier_delay",
            "weather_delay",
            "nas_delay",
            "security_delay",
            "late_aircraft_delay"
           ],
           "xaxis": "x",
           "y": [
            421,
            4,
            165,
            0,
            616
           ],
           "yaxis": "y"
          },
          {
           "hovertemplate": "state=North Carolina<br>day=28<br>variable=%{x}<br>value=%{marker.size}<extra></extra>",
           "legendgroup": "North Carolina",
           "marker": {
            "color": "#FF6692",
            "size": [
             1963,
             130,
             1462,
             0,
             1953
            ],
            "sizemode": "area",
            "sizeref": 73.6175,
            "symbol": "circle"
           },
           "mode": "markers",
           "name": "North Carolina",
           "orientation": "v",
           "showlegend": true,
           "type": "scatter",
           "x": [
            "carrier_delay",
            "weather_delay",
            "nas_delay",
            "security_delay",
            "late_aircraft_delay"
           ],
           "xaxis": "x",
           "y": [
            1963,
            130,
            1462,
            0,
            1953
           ],
           "yaxis": "y"
          },
          {
           "hovertemplate": "state=Florida<br>day=28<br>variable=%{x}<br>value=%{marker.size}<extra></extra>",
           "legendgroup": "Florida",
           "marker": {
            "color": "#B6E880",
            "size": [
             2924,
             218,
             1773,
             13,
             7414
            ],
            "sizemode": "area",
            "sizeref": 73.6175,
            "symbol": "circle"
           },
           "mode": "markers",
           "name": "Florida",
           "orientation": "v",
           "showlegend": true,
           "type": "scatter",
           "x": [
            "carrier_delay",
            "weather_delay",
            "nas_delay",
            "security_delay",
            "late_aircraft_delay"
           ],
           "xaxis": "x",
           "y": [
            2924,
            218,
            1773,
            13,
            7414
           ],
           "yaxis": "y"
          },
          {
           "hovertemplate": "state=Missouri<br>day=28<br>variable=%{x}<br>value=%{marker.size}<extra></extra>",
           "legendgroup": "Missouri",
           "marker": {
            "color": "#FF97FF",
            "size": [
             657,
             14,
             308,
             0,
             1384
            ],
            "sizemode": "area",
            "sizeref": 73.6175,
            "symbol": "circle"
           },
           "mode": "markers",
           "name": "Missouri",
           "orientation": "v",
           "showlegend": true,
           "type": "scatter",
           "x": [
            "carrier_delay",
            "weather_delay",
            "nas_delay",
            "security_delay",
            "late_aircraft_delay"
           ],
           "xaxis": "x",
           "y": [
            657,
            14,
            308,
            0,
            1384
           ],
           "yaxis": "y"
          },
          {
           "hovertemplate": "state=Wisconsin<br>day=28<br>variable=%{x}<br>value=%{marker.size}<extra></extra>",
           "legendgroup": "Wisconsin",
           "marker": {
            "color": "#FECB52",
            "size": [
             1380,
             0,
             493,
             0,
             1091
            ],
            "sizemode": "area",
            "sizeref": 73.6175,
            "symbol": "circle"
           },
           "mode": "markers",
           "name": "Wisconsin",
           "orientation": "v",
           "showlegend": true,
           "type": "scatter",
           "x": [
            "carrier_delay",
            "weather_delay",
            "nas_delay",
            "security_delay",
            "late_aircraft_delay"
           ],
           "xaxis": "x",
           "y": [
            1380,
            0,
            493,
            0,
            1091
           ],
           "yaxis": "y"
          },
          {
           "hovertemplate": "state=New York<br>day=28<br>variable=%{x}<br>value=%{marker.size}<extra></extra>",
           "legendgroup": "New York",
           "marker": {
            "color": "#636efa",
            "size": [
             4282,
             1381,
             2459,
             10,
             4747
            ],
            "sizemode": "area",
            "sizeref": 73.6175,
            "symbol": "circle"
           },
           "mode": "markers",
           "name": "New York",
           "orientation": "v",
           "showlegend": true,
           "type": "scatter",
           "x": [
            "carrier_delay",
            "weather_delay",
            "nas_delay",
            "security_delay",
            "late_aircraft_delay"
           ],
           "xaxis": "x",
           "y": [
            4282,
            1381,
            2459,
            10,
            4747
           ],
           "yaxis": "y"
          },
          {
           "hovertemplate": "state=Rhode Island<br>day=28<br>variable=%{x}<br>value=%{marker.size}<extra></extra>",
           "legendgroup": "Rhode Island",
           "marker": {
            "color": "#EF553B",
            "size": [
             205,
             0,
             45,
             0,
             367
            ],
            "sizemode": "area",
            "sizeref": 73.6175,
            "symbol": "circle"
           },
           "mode": "markers",
           "name": "Rhode Island",
           "orientation": "v",
           "showlegend": true,
           "type": "scatter",
           "x": [
            "carrier_delay",
            "weather_delay",
            "nas_delay",
            "security_delay",
            "late_aircraft_delay"
           ],
           "xaxis": "x",
           "y": [
            205,
            0,
            45,
            0,
            367
           ],
           "yaxis": "y"
          },
          {
           "hovertemplate": "state=Texas<br>day=28<br>variable=%{x}<br>value=%{marker.size}<extra></extra>",
           "legendgroup": "Texas",
           "marker": {
            "color": "#00cc96",
            "size": [
             10380,
             1100,
             2225,
             236,
             6834
            ],
            "sizemode": "area",
            "sizeref": 73.6175,
            "symbol": "circle"
           },
           "mode": "markers",
           "name": "Texas",
           "orientation": "v",
           "showlegend": true,
           "type": "scatter",
           "x": [
            "carrier_delay",
            "weather_delay",
            "nas_delay",
            "security_delay",
            "late_aircraft_delay"
           ],
           "xaxis": "x",
           "y": [
            10380,
            1100,
            2225,
            236,
            6834
           ],
           "yaxis": "y"
          },
          {
           "hovertemplate": "state=Kentucky<br>day=28<br>variable=%{x}<br>value=%{marker.size}<extra></extra>",
           "legendgroup": "Kentucky",
           "marker": {
            "color": "#ab63fa",
            "size": [
             493,
             0,
             198,
             0,
             498
            ],
            "sizemode": "area",
            "sizeref": 73.6175,
            "symbol": "circle"
           },
           "mode": "markers",
           "name": "Kentucky",
           "orientation": "v",
           "showlegend": true,
           "type": "scatter",
           "x": [
            "carrier_delay",
            "weather_delay",
            "nas_delay",
            "security_delay",
            "late_aircraft_delay"
           ],
           "xaxis": "x",
           "y": [
            493,
            0,
            198,
            0,
            498
           ],
           "yaxis": "y"
          },
          {
           "hovertemplate": "state=South Carolina<br>day=28<br>variable=%{x}<br>value=%{marker.size}<extra></extra>",
           "legendgroup": "South Carolina",
           "marker": {
            "color": "#FFA15A",
            "size": [
             855,
             0,
             218,
             0,
             667
            ],
            "sizemode": "area",
            "sizeref": 73.6175,
            "symbol": "circle"
           },
           "mode": "markers",
           "name": "South Carolina",
           "orientation": "v",
           "showlegend": true,
           "type": "scatter",
           "x": [
            "carrier_delay",
            "weather_delay",
            "nas_delay",
            "security_delay",
            "late_aircraft_delay"
           ],
           "xaxis": "x",
           "y": [
            855,
            0,
            218,
            0,
            667
           ],
           "yaxis": "y"
          },
          {
           "hovertemplate": "state=Pennsylvania<br>day=28<br>variable=%{x}<br>value=%{marker.size}<extra></extra>",
           "legendgroup": "Pennsylvania",
           "marker": {
            "color": "#19d3f3",
            "size": [
             1882,
             38,
             1749,
             0,
             1661
            ],
            "sizemode": "area",
            "sizeref": 73.6175,
            "symbol": "circle"
           },
           "mode": "markers",
           "name": "Pennsylvania",
           "orientation": "v",
           "showlegend": true,
           "type": "scatter",
           "x": [
            "carrier_delay",
            "weather_delay",
            "nas_delay",
            "security_delay",
            "late_aircraft_delay"
           ],
           "xaxis": "x",
           "y": [
            1882,
            38,
            1749,
            0,
            1661
           ],
           "yaxis": "y"
          },
          {
           "hovertemplate": "state=Illinois<br>day=28<br>variable=%{x}<br>value=%{marker.size}<extra></extra>",
           "legendgroup": "Illinois",
           "marker": {
            "color": "#FF6692",
            "size": [
             10491,
             1185,
             1193,
             0,
             5402
            ],
            "sizemode": "area",
            "sizeref": 73.6175,
            "symbol": "circle"
           },
           "mode": "markers",
           "name": "Illinois",
           "orientation": "v",
           "showlegend": true,
           "type": "scatter",
           "x": [
            "carrier_delay",
            "weather_delay",
            "nas_delay",
            "security_delay",
            "late_aircraft_delay"
           ],
           "xaxis": "x",
           "y": [
            10491,
            1185,
            1193,
            0,
            5402
           ],
           "yaxis": "y"
          },
          {
           "hovertemplate": "state=Ohio<br>day=28<br>variable=%{x}<br>value=%{marker.size}<extra></extra>",
           "legendgroup": "Ohio",
           "marker": {
            "color": "#B6E880",
            "size": [
             2897,
             799,
             3475,
             66,
             2392
            ],
            "sizemode": "area",
            "sizeref": 73.6175,
            "symbol": "circle"
           },
           "mode": "markers",
           "name": "Ohio",
           "orientation": "v",
           "showlegend": true,
           "type": "scatter",
           "x": [
            "carrier_delay",
            "weather_delay",
            "nas_delay",
            "security_delay",
            "late_aircraft_delay"
           ],
           "xaxis": "x",
           "y": [
            2897,
            799,
            3475,
            66,
            2392
           ],
           "yaxis": "y"
          },
          {
           "hovertemplate": "state=Michigan<br>day=28<br>variable=%{x}<br>value=%{marker.size}<extra></extra>",
           "legendgroup": "Michigan",
           "marker": {
            "color": "#FF97FF",
            "size": [
             7052,
             696,
             6698,
             86,
             4534
            ],
            "sizemode": "area",
            "sizeref": 73.6175,
            "symbol": "circle"
           },
           "mode": "markers",
           "name": "Michigan",
           "orientation": "v",
           "showlegend": true,
           "type": "scatter",
           "x": [
            "carrier_delay",
            "weather_delay",
            "nas_delay",
            "security_delay",
            "late_aircraft_delay"
           ],
           "xaxis": "x",
           "y": [
            7052,
            696,
            6698,
            86,
            4534
           ],
           "yaxis": "y"
          },
          {
           "hovertemplate": "state=New Jersey<br>day=28<br>variable=%{x}<br>value=%{marker.size}<extra></extra>",
           "legendgroup": "New Jersey",
           "marker": {
            "color": "#FECB52",
            "size": [
             1519,
             46,
             213,
             38,
             1774
            ],
            "sizemode": "area",
            "sizeref": 73.6175,
            "symbol": "circle"
           },
           "mode": "markers",
           "name": "New Jersey",
           "orientation": "v",
           "showlegend": true,
           "type": "scatter",
           "x": [
            "carrier_delay",
            "weather_delay",
            "nas_delay",
            "security_delay",
            "late_aircraft_delay"
           ],
           "xaxis": "x",
           "y": [
            1519,
            46,
            213,
            38,
            1774
           ],
           "yaxis": "y"
          },
          {
           "hovertemplate": "state=Oklahoma<br>day=28<br>variable=%{x}<br>value=%{marker.size}<extra></extra>",
           "legendgroup": "Oklahoma",
           "marker": {
            "color": "#636efa",
            "size": [
             757,
             0,
             174,
             0,
             799
            ],
            "sizemode": "area",
            "sizeref": 73.6175,
            "symbol": "circle"
           },
           "mode": "markers",
           "name": "Oklahoma",
           "orientation": "v",
           "showlegend": true,
           "type": "scatter",
           "x": [
            "carrier_delay",
            "weather_delay",
            "nas_delay",
            "security_delay",
            "late_aircraft_delay"
           ],
           "xaxis": "x",
           "y": [
            757,
            0,
            174,
            0,
            799
           ],
           "yaxis": "y"
          },
          {
           "hovertemplate": "state=Maine<br>day=28<br>variable=%{x}<br>value=%{marker.size}<extra></extra>",
           "legendgroup": "Maine",
           "marker": {
            "color": "#EF553B",
            "size": [
             22,
             98,
             65,
             0,
             9
            ],
            "sizemode": "area",
            "sizeref": 73.6175,
            "symbol": "circle"
           },
           "mode": "markers",
           "name": "Maine",
           "orientation": "v",
           "showlegend": true,
           "type": "scatter",
           "x": [
            "carrier_delay",
            "weather_delay",
            "nas_delay",
            "security_delay",
            "late_aircraft_delay"
           ],
           "xaxis": "x",
           "y": [
            22,
            98,
            65,
            0,
            9
           ],
           "yaxis": "y"
          },
          {
           "hovertemplate": "state=Minnesota<br>day=28<br>variable=%{x}<br>value=%{marker.size}<extra></extra>",
           "legendgroup": "Minnesota",
           "marker": {
            "color": "#00cc96",
            "size": [
             1913,
             50,
             244,
             10,
             871
            ],
            "sizemode": "area",
            "sizeref": 73.6175,
            "symbol": "circle"
           },
           "mode": "markers",
           "name": "Minnesota",
           "orientation": "v",
           "showlegend": true,
           "type": "scatter",
           "x": [
            "carrier_delay",
            "weather_delay",
            "nas_delay",
            "security_delay",
            "late_aircraft_delay"
           ],
           "xaxis": "x",
           "y": [
            1913,
            50,
            244,
            10,
            871
           ],
           "yaxis": "y"
          },
          {
           "hovertemplate": "state=Iowa<br>day=28<br>variable=%{x}<br>value=%{marker.size}<extra></extra>",
           "legendgroup": "Iowa",
           "marker": {
            "color": "#ab63fa",
            "size": [
             513,
             1,
             104,
             0,
             575
            ],
            "sizemode": "area",
            "sizeref": 73.6175,
            "symbol": "circle"
           },
           "mode": "markers",
           "name": "Iowa",
           "orientation": "v",
           "showlegend": true,
           "type": "scatter",
           "x": [
            "carrier_delay",
            "weather_delay",
            "nas_delay",
            "security_delay",
            "late_aircraft_delay"
           ],
           "xaxis": "x",
           "y": [
            513,
            1,
            104,
            0,
            575
           ],
           "yaxis": "y"
          },
          {
           "hovertemplate": "state=Alabama<br>day=28<br>variable=%{x}<br>value=%{marker.size}<extra></extra>",
           "legendgroup": "Alabama",
           "marker": {
            "color": "#FFA15A",
            "size": [
             408,
             0,
             301,
             0,
             468
            ],
            "sizemode": "area",
            "sizeref": 73.6175,
            "symbol": "circle"
           },
           "mode": "markers",
           "name": "Alabama",
           "orientation": "v",
           "showlegend": true,
           "type": "scatter",
           "x": [
            "carrier_delay",
            "weather_delay",
            "nas_delay",
            "security_delay",
            "late_aircraft_delay"
           ],
           "xaxis": "x",
           "y": [
            408,
            0,
            301,
            0,
            468
           ],
           "yaxis": "y"
          },
          {
           "hovertemplate": "state=Indiana<br>day=28<br>variable=%{x}<br>value=%{marker.size}<extra></extra>",
           "legendgroup": "Indiana",
           "marker": {
            "color": "#19d3f3",
            "size": [
             478,
             206,
             499,
             0,
             836
            ],
            "sizemode": "area",
            "sizeref": 73.6175,
            "symbol": "circle"
           },
           "mode": "markers",
           "name": "Indiana",
           "orientation": "v",
           "showlegend": true,
           "type": "scatter",
           "x": [
            "carrier_delay",
            "weather_delay",
            "nas_delay",
            "security_delay",
            "late_aircraft_delay"
           ],
           "xaxis": "x",
           "y": [
            478,
            206,
            499,
            0,
            836
           ],
           "yaxis": "y"
          },
          {
           "hovertemplate": "state=Kansas<br>day=28<br>variable=%{x}<br>value=%{marker.size}<extra></extra>",
           "legendgroup": "Kansas",
           "marker": {
            "color": "#FF6692",
            "size": [
             56,
             0,
             43,
             0,
             242
            ],
            "sizemode": "area",
            "sizeref": 73.6175,
            "symbol": "circle"
           },
           "mode": "markers",
           "name": "Kansas",
           "orientation": "v",
           "showlegend": true,
           "type": "scatter",
           "x": [
            "carrier_delay",
            "weather_delay",
            "nas_delay",
            "security_delay",
            "late_aircraft_delay"
           ],
           "xaxis": "x",
           "y": [
            56,
            0,
            43,
            0,
            242
           ],
           "yaxis": "y"
          },
          {
           "hovertemplate": "state=South Dakota<br>day=28<br>variable=%{x}<br>value=%{marker.size}<extra></extra>",
           "legendgroup": "South Dakota",
           "marker": {
            "color": "#B6E880",
            "size": [
             94,
             0,
             13,
             0,
             271
            ],
            "sizemode": "area",
            "sizeref": 73.6175,
            "symbol": "circle"
           },
           "mode": "markers",
           "name": "South Dakota",
           "orientation": "v",
           "showlegend": true,
           "type": "scatter",
           "x": [
            "carrier_delay",
            "weather_delay",
            "nas_delay",
            "security_delay",
            "late_aircraft_delay"
           ],
           "xaxis": "x",
           "y": [
            94,
            0,
            13,
            0,
            271
           ],
           "yaxis": "y"
          },
          {
           "hovertemplate": "state=North Dakota<br>day=28<br>variable=%{x}<br>value=%{marker.size}<extra></extra>",
           "legendgroup": "North Dakota",
           "marker": {
            "color": "#FF97FF",
            "size": [
             96,
             39,
             21,
             0,
             401
            ],
            "sizemode": "area",
            "sizeref": 73.6175,
            "symbol": "circle"
           },
           "mode": "markers",
           "name": "North Dakota",
           "orientation": "v",
           "showlegend": true,
           "type": "scatter",
           "x": [
            "carrier_delay",
            "weather_delay",
            "nas_delay",
            "security_delay",
            "late_aircraft_delay"
           ],
           "xaxis": "x",
           "y": [
            96,
            39,
            21,
            0,
            401
           ],
           "yaxis": "y"
          },
          {
           "hovertemplate": "state=Nebraska<br>day=28<br>variable=%{x}<br>value=%{marker.size}<extra></extra>",
           "legendgroup": "Nebraska",
           "marker": {
            "color": "#FECB52",
            "size": [
             483,
             3,
             238,
             0,
             657
            ],
            "sizemode": "area",
            "sizeref": 73.6175,
            "symbol": "circle"
           },
           "mode": "markers",
           "name": "Nebraska",
           "orientation": "v",
           "showlegend": true,
           "type": "scatter",
           "x": [
            "carrier_delay",
            "weather_delay",
            "nas_delay",
            "security_delay",
            "late_aircraft_delay"
           ],
           "xaxis": "x",
           "y": [
            483,
            3,
            238,
            0,
            657
           ],
           "yaxis": "y"
          },
          {
           "hovertemplate": "state=Vermont<br>day=28<br>variable=%{x}<br>value=%{marker.size}<extra></extra>",
           "legendgroup": "Vermont",
           "marker": {
            "color": "#636efa",
            "size": [
             0,
             3,
             70,
             0,
             121
            ],
            "sizemode": "area",
            "sizeref": 73.6175,
            "symbol": "circle"
           },
           "mode": "markers",
           "name": "Vermont",
           "orientation": "v",
           "showlegend": true,
           "type": "scatter",
           "x": [
            "carrier_delay",
            "weather_delay",
            "nas_delay",
            "security_delay",
            "late_aircraft_delay"
           ],
           "xaxis": "x",
           "y": [
            0,
            3,
            70,
            0,
            121
           ],
           "yaxis": "y"
          },
          {
           "hovertemplate": "state=Arkansas<br>day=28<br>variable=%{x}<br>value=%{marker.size}<extra></extra>",
           "legendgroup": "Arkansas",
           "marker": {
            "color": "#EF553B",
            "size": [
             244,
             294,
             219,
             0,
             613
            ],
            "sizemode": "area",
            "sizeref": 73.6175,
            "symbol": "circle"
           },
           "mode": "markers",
           "name": "Arkansas",
           "orientation": "v",
           "showlegend": true,
           "type": "scatter",
           "x": [
            "carrier_delay",
            "weather_delay",
            "nas_delay",
            "security_delay",
            "late_aircraft_delay"
           ],
           "xaxis": "x",
           "y": [
            244,
            294,
            219,
            0,
            613
           ],
           "yaxis": "y"
          },
          {
           "hovertemplate": "state=Massachusetts<br>day=28<br>variable=%{x}<br>value=%{marker.size}<extra></extra>",
           "legendgroup": "Massachusetts",
           "marker": {
            "color": "#00cc96",
            "size": [
             677,
             0,
             148,
             0,
             453
            ],
            "sizemode": "area",
            "sizeref": 73.6175,
            "symbol": "circle"
           },
           "mode": "markers",
           "name": "Massachusetts",
           "orientation": "v",
           "showlegend": true,
           "type": "scatter",
           "x": [
            "carrier_delay",
            "weather_delay",
            "nas_delay",
            "security_delay",
            "late_aircraft_delay"
           ],
           "xaxis": "x",
           "y": [
            677,
            0,
            148,
            0,
            453
           ],
           "yaxis": "y"
          },
          {
           "hovertemplate": "state=Connecticut<br>day=28<br>variable=%{x}<br>value=%{marker.size}<extra></extra>",
           "legendgroup": "Connecticut",
           "marker": {
            "color": "#ab63fa",
            "size": [
             432,
             0,
             105,
             0,
             117
            ],
            "sizemode": "area",
            "sizeref": 73.6175,
            "symbol": "circle"
           },
           "mode": "markers",
           "name": "Connecticut",
           "orientation": "v",
           "showlegend": true,
           "type": "scatter",
           "x": [
            "carrier_delay",
            "weather_delay",
            "nas_delay",
            "security_delay",
            "late_aircraft_delay"
           ],
           "xaxis": "x",
           "y": [
            432,
            0,
            105,
            0,
            117
           ],
           "yaxis": "y"
          },
          {
           "hovertemplate": "state=New Hampshire<br>day=28<br>variable=%{x}<br>value=%{marker.size}<extra></extra>",
           "legendgroup": "New Hampshire",
           "marker": {
            "color": "#FFA15A",
            "size": [
             253,
             5,
             66,
             0,
             121
            ],
            "sizemode": "area",
            "sizeref": 73.6175,
            "symbol": "circle"
           },
           "mode": "markers",
           "name": "New Hampshire",
           "orientation": "v",
           "showlegend": true,
           "type": "scatter",
           "x": [
            "carrier_delay",
            "weather_delay",
            "nas_delay",
            "security_delay",
            "late_aircraft_delay"
           ],
           "xaxis": "x",
           "y": [
            253,
            5,
            66,
            0,
            121
           ],
           "yaxis": "y"
          },
          {
           "hovertemplate": "state=California<br>day=28<br>variable=%{x}<br>value=%{marker.size}<extra></extra>",
           "legendgroup": "California",
           "marker": {
            "color": "#19d3f3",
            "size": [
             6464,
             170,
             1482,
             17,
             7091
            ],
            "sizemode": "area",
            "sizeref": 73.6175,
            "symbol": "circle"
           },
           "mode": "markers",
           "name": "California",
           "orientation": "v",
           "showlegend": true,
           "type": "scatter",
           "x": [
            "carrier_delay",
            "weather_delay",
            "nas_delay",
            "security_delay",
            "late_aircraft_delay"
           ],
           "xaxis": "x",
           "y": [
            6464,
            170,
            1482,
            17,
            7091
           ],
           "yaxis": "y"
          },
          {
           "hovertemplate": "state=Hawaii<br>day=28<br>variable=%{x}<br>value=%{marker.size}<extra></extra>",
           "legendgroup": "Hawaii",
           "marker": {
            "color": "#FF6692",
            "size": [
             1439,
             0,
             24,
             0,
             229
            ],
            "sizemode": "area",
            "sizeref": 73.6175,
            "symbol": "circle"
           },
           "mode": "markers",
           "name": "Hawaii",
           "orientation": "v",
           "showlegend": true,
           "type": "scatter",
           "x": [
            "carrier_delay",
            "weather_delay",
            "nas_delay",
            "security_delay",
            "late_aircraft_delay"
           ],
           "xaxis": "x",
           "y": [
            1439,
            0,
            24,
            0,
            229
           ],
           "yaxis": "y"
          },
          {
           "hovertemplate": "state=Puerto Rico<br>day=28<br>variable=%{x}<br>value=%{marker.size}<extra></extra>",
           "legendgroup": "Puerto Rico",
           "marker": {
            "color": "#B6E880",
            "size": [
             522,
             0,
             226,
             3,
             399
            ],
            "sizemode": "area",
            "sizeref": 73.6175,
            "symbol": "circle"
           },
           "mode": "markers",
           "name": "Puerto Rico",
           "orientation": "v",
           "showlegend": true,
           "type": "scatter",
           "x": [
            "carrier_delay",
            "weather_delay",
            "nas_delay",
            "security_delay",
            "late_aircraft_delay"
           ],
           "xaxis": "x",
           "y": [
            522,
            0,
            226,
            3,
            399
           ],
           "yaxis": "y"
          },
          {
           "hovertemplate": "state=Nevada<br>day=28<br>variable=%{x}<br>value=%{marker.size}<extra></extra>",
           "legendgroup": "Nevada",
           "marker": {
            "color": "#FF97FF",
            "size": [
             1005,
             0,
             155,
             31,
             1158
            ],
            "sizemode": "area",
            "sizeref": 73.6175,
            "symbol": "circle"
           },
           "mode": "markers",
           "name": "Nevada",
           "orientation": "v",
           "showlegend": true,
           "type": "scatter",
           "x": [
            "carrier_delay",
            "weather_delay",
            "nas_delay",
            "security_delay",
            "late_aircraft_delay"
           ],
           "xaxis": "x",
           "y": [
            1005,
            0,
            155,
            31,
            1158
           ],
           "yaxis": "y"
          },
          {
           "hovertemplate": "state=Washington<br>day=28<br>variable=%{x}<br>value=%{marker.size}<extra></extra>",
           "legendgroup": "Washington",
           "marker": {
            "color": "#FECB52",
            "size": [
             358,
             20,
             271,
             16,
             227
            ],
            "sizemode": "area",
            "sizeref": 73.6175,
            "symbol": "circle"
           },
           "mode": "markers",
           "name": "Washington",
           "orientation": "v",
           "showlegend": true,
           "type": "scatter",
           "x": [
            "carrier_delay",
            "weather_delay",
            "nas_delay",
            "security_delay",
            "late_aircraft_delay"
           ],
           "xaxis": "x",
           "y": [
            358,
            20,
            271,
            16,
            227
           ],
           "yaxis": "y"
          },
          {
           "hovertemplate": "state=Colorado<br>day=28<br>variable=%{x}<br>value=%{marker.size}<extra></extra>",
           "legendgroup": "Colorado",
           "marker": {
            "color": "#636efa",
            "size": [
             3332,
             94,
             841,
             7,
             3150
            ],
            "sizemode": "area",
            "sizeref": 73.6175,
            "symbol": "circle"
           },
           "mode": "markers",
           "name": "Colorado",
           "orientation": "v",
           "showlegend": true,
           "type": "scatter",
           "x": [
            "carrier_delay",
            "weather_delay",
            "nas_delay",
            "security_delay",
            "late_aircraft_delay"
           ],
           "xaxis": "x",
           "y": [
            3332,
            94,
            841,
            7,
            3150
           ],
           "yaxis": "y"
          },
          {
           "hovertemplate": "state=New Mexico<br>day=28<br>variable=%{x}<br>value=%{marker.size}<extra></extra>",
           "legendgroup": "New Mexico",
           "marker": {
            "color": "#EF553B",
            "size": [
             60,
             24,
             53,
             0,
             257
            ],
            "sizemode": "area",
            "sizeref": 73.6175,
            "symbol": "circle"
           },
           "mode": "markers",
           "name": "New Mexico",
           "orientation": "v",
           "showlegend": true,
           "type": "scatter",
           "x": [
            "carrier_delay",
            "weather_delay",
            "nas_delay",
            "security_delay",
            "late_aircraft_delay"
           ],
           "xaxis": "x",
           "y": [
            60,
            24,
            53,
            0,
            257
           ],
           "yaxis": "y"
          },
          {
           "hovertemplate": "state=Arizona<br>day=28<br>variable=%{x}<br>value=%{marker.size}<extra></extra>",
           "legendgroup": "Arizona",
           "marker": {
            "color": "#00cc96",
            "size": [
             3011,
             0,
             296,
             0,
             1668
            ],
            "sizemode": "area",
            "sizeref": 73.6175,
            "symbol": "circle"
           },
           "mode": "markers",
           "name": "Arizona",
           "orientation": "v",
           "showlegend": true,
           "type": "scatter",
           "x": [
            "carrier_delay",
            "weather_delay",
            "nas_delay",
            "security_delay",
            "late_aircraft_delay"
           ],
           "xaxis": "x",
           "y": [
            3011,
            0,
            296,
            0,
            1668
           ],
           "yaxis": "y"
          },
          {
           "hovertemplate": "state=Utah<br>day=28<br>variable=%{x}<br>value=%{marker.size}<extra></extra>",
           "legendgroup": "Utah",
           "marker": {
            "color": "#ab63fa",
            "size": [
             1086,
             2,
             873,
             0,
             969
            ],
            "sizemode": "area",
            "sizeref": 73.6175,
            "symbol": "circle"
           },
           "mode": "markers",
           "name": "Utah",
           "orientation": "v",
           "showlegend": true,
           "type": "scatter",
           "x": [
            "carrier_delay",
            "weather_delay",
            "nas_delay",
            "security_delay",
            "late_aircraft_delay"
           ],
           "xaxis": "x",
           "y": [
            1086,
            2,
            873,
            0,
            969
           ],
           "yaxis": "y"
          },
          {
           "hovertemplate": "state=U.S. Virgin Islands<br>day=28<br>variable=%{x}<br>value=%{marker.size}<extra></extra>",
           "legendgroup": "U.S. Virgin Islands",
           "marker": {
            "color": "#FFA15A",
            "size": [
             0,
             0,
             37,
             40,
             27
            ],
            "sizemode": "area",
            "sizeref": 73.6175,
            "symbol": "circle"
           },
           "mode": "markers",
           "name": "U.S. Virgin Islands",
           "orientation": "v",
           "showlegend": true,
           "type": "scatter",
           "x": [
            "carrier_delay",
            "weather_delay",
            "nas_delay",
            "security_delay",
            "late_aircraft_delay"
           ],
           "xaxis": "x",
           "y": [
            0,
            0,
            37,
            40,
            27
           ],
           "yaxis": "y"
          },
          {
           "hovertemplate": "state=Oregon<br>day=28<br>variable=%{x}<br>value=%{marker.size}<extra></extra>",
           "legendgroup": "Oregon",
           "marker": {
            "color": "#19d3f3",
            "size": [
             983,
             22,
             295,
             0,
             439
            ],
            "sizemode": "area",
            "sizeref": 73.6175,
            "symbol": "circle"
           },
           "mode": "markers",
           "name": "Oregon",
           "orientation": "v",
           "showlegend": true,
           "type": "scatter",
           "x": [
            "carrier_delay",
            "weather_delay",
            "nas_delay",
            "security_delay",
            "late_aircraft_delay"
           ],
           "xaxis": "x",
           "y": [
            983,
            22,
            295,
            0,
            439
           ],
           "yaxis": "y"
          },
          {
           "hovertemplate": "state=Maryland<br>day=28<br>variable=%{x}<br>value=%{marker.size}<extra></extra>",
           "legendgroup": "Maryland",
           "marker": {
            "color": "#FF6692",
            "size": [
             1278,
             0,
             430,
             11,
             1892
            ],
            "sizemode": "area",
            "sizeref": 73.6175,
            "symbol": "circle"
           },
           "mode": "markers",
           "name": "Maryland",
           "orientation": "v",
           "showlegend": true,
           "type": "scatter",
           "x": [
            "carrier_delay",
            "weather_delay",
            "nas_delay",
            "security_delay",
            "late_aircraft_delay"
           ],
           "xaxis": "x",
           "y": [
            1278,
            0,
            430,
            11,
            1892
           ],
           "yaxis": "y"
          },
          {
           "hovertemplate": "state=Wyoming<br>day=28<br>variable=%{x}<br>value=%{marker.size}<extra></extra>",
           "legendgroup": "Wyoming",
           "marker": {
            "color": "#B6E880",
            "size": [
             591,
             0,
             9,
             0,
             30
            ],
            "sizemode": "area",
            "sizeref": 73.6175,
            "symbol": "circle"
           },
           "mode": "markers",
           "name": "Wyoming",
           "orientation": "v",
           "showlegend": true,
           "type": "scatter",
           "x": [
            "carrier_delay",
            "weather_delay",
            "nas_delay",
            "security_delay",
            "late_aircraft_delay"
           ],
           "xaxis": "x",
           "y": [
            591,
            0,
            9,
            0,
            30
           ],
           "yaxis": "y"
          },
          {
           "hovertemplate": "state=Alaska<br>day=28<br>variable=%{x}<br>value=%{marker.size}<extra></extra>",
           "legendgroup": "Alaska",
           "marker": {
            "color": "#FF97FF",
            "size": [
             339,
             29,
             76,
             0,
             392
            ],
            "sizemode": "area",
            "sizeref": 73.6175,
            "symbol": "circle"
           },
           "mode": "markers",
           "name": "Alaska",
           "orientation": "v",
           "showlegend": true,
           "type": "scatter",
           "x": [
            "carrier_delay",
            "weather_delay",
            "nas_delay",
            "security_delay",
            "late_aircraft_delay"
           ],
           "xaxis": "x",
           "y": [
            339,
            29,
            76,
            0,
            392
           ],
           "yaxis": "y"
          },
          {
           "hovertemplate": "state=Idaho<br>day=28<br>variable=%{x}<br>value=%{marker.size}<extra></extra>",
           "legendgroup": "Idaho",
           "marker": {
            "color": "#FECB52",
            "size": [
             0,
             0,
             70,
             0,
             202
            ],
            "sizemode": "area",
            "sizeref": 73.6175,
            "symbol": "circle"
           },
           "mode": "markers",
           "name": "Idaho",
           "orientation": "v",
           "showlegend": true,
           "type": "scatter",
           "x": [
            "carrier_delay",
            "weather_delay",
            "nas_delay",
            "security_delay",
            "late_aircraft_delay"
           ],
           "xaxis": "x",
           "y": [
            0,
            0,
            70,
            0,
            202
           ],
           "yaxis": "y"
          },
          {
           "hovertemplate": "state=Montana<br>day=28<br>variable=%{x}<br>value=%{marker.size}<extra></extra>",
           "legendgroup": "Montana",
           "marker": {
            "color": "#636efa",
            "size": [
             152,
             20,
             118,
             0,
             233
            ],
            "sizemode": "area",
            "sizeref": 73.6175,
            "symbol": "circle"
           },
           "mode": "markers",
           "name": "Montana",
           "orientation": "v",
           "showlegend": true,
           "type": "scatter",
           "x": [
            "carrier_delay",
            "weather_delay",
            "nas_delay",
            "security_delay",
            "late_aircraft_delay"
           ],
           "xaxis": "x",
           "y": [
            152,
            20,
            118,
            0,
            233
           ],
           "yaxis": "y"
          },
          {
           "hovertemplate": "state=West Virginia<br>day=28<br>variable=%{x}<br>value=%{marker.size}<extra></extra>",
           "legendgroup": "West Virginia",
           "marker": {
            "color": "#EF553B",
            "size": [
             0,
             0,
             78,
             0,
             40
            ],
            "sizemode": "area",
            "sizeref": 73.6175,
            "symbol": "circle"
           },
           "mode": "markers",
           "name": "West Virginia",
           "orientation": "v",
           "showlegend": true,
           "type": "scatter",
           "x": [
            "carrier_delay",
            "weather_delay",
            "nas_delay",
            "security_delay",
            "late_aircraft_delay"
           ],
           "xaxis": "x",
           "y": [
            0,
            0,
            78,
            0,
            40
           ],
           "yaxis": "y"
          }
         ],
         "name": "28"
        },
        {
         "data": [
          {
           "hovertemplate": "state=Georgia<br>day=29<br>variable=%{x}<br>value=%{marker.size}<extra></extra>",
           "legendgroup": "Georgia",
           "marker": {
            "color": "#636efa",
            "size": [
             3460,
             0,
             2032,
             0,
             1508
            ],
            "sizemode": "area",
            "sizeref": 73.6175,
            "symbol": "circle"
           },
           "mode": "markers",
           "name": "Georgia",
           "orientation": "v",
           "showlegend": true,
           "type": "scatter",
           "x": [
            "carrier_delay",
            "weather_delay",
            "nas_delay",
            "security_delay",
            "late_aircraft_delay"
           ],
           "xaxis": "x",
           "y": [
            3460,
            0,
            2032,
            0,
            1508
           ],
           "yaxis": "y"
          },
          {
           "hovertemplate": "state=Tennessee<br>day=29<br>variable=%{x}<br>value=%{marker.size}<extra></extra>",
           "legendgroup": "Tennessee",
           "marker": {
            "color": "#EF553B",
            "size": [
             1497,
             231,
             1195,
             0,
             784
            ],
            "sizemode": "area",
            "sizeref": 73.6175,
            "symbol": "circle"
           },
           "mode": "markers",
           "name": "Tennessee",
           "orientation": "v",
           "showlegend": true,
           "type": "scatter",
           "x": [
            "carrier_delay",
            "weather_delay",
            "nas_delay",
            "security_delay",
            "late_aircraft_delay"
           ],
           "xaxis": "x",
           "y": [
            1497,
            231,
            1195,
            0,
            784
           ],
           "yaxis": "y"
          },
          {
           "hovertemplate": "state=Virginia<br>day=29<br>variable=%{x}<br>value=%{marker.size}<extra></extra>",
           "legendgroup": "Virginia",
           "marker": {
            "color": "#00cc96",
            "size": [
             659,
             5,
             1037,
             0,
             788
            ],
            "sizemode": "area",
            "sizeref": 73.6175,
            "symbol": "circle"
           },
           "mode": "markers",
           "name": "Virginia",
           "orientation": "v",
           "showlegend": true,
           "type": "scatter",
           "x": [
            "carrier_delay",
            "weather_delay",
            "nas_delay",
            "security_delay",
            "late_aircraft_delay"
           ],
           "xaxis": "x",
           "y": [
            659,
            5,
            1037,
            0,
            788
           ],
           "yaxis": "y"
          },
          {
           "hovertemplate": "state=Mississippi<br>day=29<br>variable=%{x}<br>value=%{marker.size}<extra></extra>",
           "legendgroup": "Mississippi",
           "marker": {
            "color": "#ab63fa",
            "size": [
             18,
             23,
             110,
             0,
             241
            ],
            "sizemode": "area",
            "sizeref": 73.6175,
            "symbol": "circle"
           },
           "mode": "markers",
           "name": "Mississippi",
           "orientation": "v",
           "showlegend": true,
           "type": "scatter",
           "x": [
            "carrier_delay",
            "weather_delay",
            "nas_delay",
            "security_delay",
            "late_aircraft_delay"
           ],
           "xaxis": "x",
           "y": [
            18,
            23,
            110,
            0,
            241
           ],
           "yaxis": "y"
          },
          {
           "hovertemplate": "state=District of Columbia<br>day=29<br>variable=%{x}<br>value=%{marker.size}<extra></extra>",
           "legendgroup": "District of Columbia",
           "marker": {
            "color": "#FFA15A",
            "size": [
             1568,
             98,
             1344,
             0,
             1693
            ],
            "sizemode": "area",
            "sizeref": 73.6175,
            "symbol": "circle"
           },
           "mode": "markers",
           "name": "District of Columbia",
           "orientation": "v",
           "showlegend": true,
           "type": "scatter",
           "x": [
            "carrier_delay",
            "weather_delay",
            "nas_delay",
            "security_delay",
            "late_aircraft_delay"
           ],
           "xaxis": "x",
           "y": [
            1568,
            98,
            1344,
            0,
            1693
           ],
           "yaxis": "y"
          },
          {
           "hovertemplate": "state=Louisiana<br>day=29<br>variable=%{x}<br>value=%{marker.size}<extra></extra>",
           "legendgroup": "Louisiana",
           "marker": {
            "color": "#19d3f3",
            "size": [
             616,
             271,
             596,
             0,
             497
            ],
            "sizemode": "area",
            "sizeref": 73.6175,
            "symbol": "circle"
           },
           "mode": "markers",
           "name": "Louisiana",
           "orientation": "v",
           "showlegend": true,
           "type": "scatter",
           "x": [
            "carrier_delay",
            "weather_delay",
            "nas_delay",
            "security_delay",
            "late_aircraft_delay"
           ],
           "xaxis": "x",
           "y": [
            616,
            271,
            596,
            0,
            497
           ],
           "yaxis": "y"
          },
          {
           "hovertemplate": "state=North Carolina<br>day=29<br>variable=%{x}<br>value=%{marker.size}<extra></extra>",
           "legendgroup": "North Carolina",
           "marker": {
            "color": "#FF6692",
            "size": [
             868,
             69,
             2445,
             12,
             2267
            ],
            "sizemode": "area",
            "sizeref": 73.6175,
            "symbol": "circle"
           },
           "mode": "markers",
           "name": "North Carolina",
           "orientation": "v",
           "showlegend": true,
           "type": "scatter",
           "x": [
            "carrier_delay",
            "weather_delay",
            "nas_delay",
            "security_delay",
            "late_aircraft_delay"
           ],
           "xaxis": "x",
           "y": [
            868,
            69,
            2445,
            12,
            2267
           ],
           "yaxis": "y"
          },
          {
           "hovertemplate": "state=Florida<br>day=29<br>variable=%{x}<br>value=%{marker.size}<extra></extra>",
           "legendgroup": "Florida",
           "marker": {
            "color": "#B6E880",
            "size": [
             3306,
             77,
             6064,
             9,
             6453
            ],
            "sizemode": "area",
            "sizeref": 73.6175,
            "symbol": "circle"
           },
           "mode": "markers",
           "name": "Florida",
           "orientation": "v",
           "showlegend": true,
           "type": "scatter",
           "x": [
            "carrier_delay",
            "weather_delay",
            "nas_delay",
            "security_delay",
            "late_aircraft_delay"
           ],
           "xaxis": "x",
           "y": [
            3306,
            77,
            6064,
            9,
            6453
           ],
           "yaxis": "y"
          },
          {
           "hovertemplate": "state=Missouri<br>day=29<br>variable=%{x}<br>value=%{marker.size}<extra></extra>",
           "legendgroup": "Missouri",
           "marker": {
            "color": "#FF97FF",
            "size": [
             731,
             6,
             1156,
             6,
             1755
            ],
            "sizemode": "area",
            "sizeref": 73.6175,
            "symbol": "circle"
           },
           "mode": "markers",
           "name": "Missouri",
           "orientation": "v",
           "showlegend": true,
           "type": "scatter",
           "x": [
            "carrier_delay",
            "weather_delay",
            "nas_delay",
            "security_delay",
            "late_aircraft_delay"
           ],
           "xaxis": "x",
           "y": [
            731,
            6,
            1156,
            6,
            1755
           ],
           "yaxis": "y"
          },
          {
           "hovertemplate": "state=Wisconsin<br>day=29<br>variable=%{x}<br>value=%{marker.size}<extra></extra>",
           "legendgroup": "Wisconsin",
           "marker": {
            "color": "#FECB52",
            "size": [
             1603,
             1,
             661,
             0,
             850
            ],
            "sizemode": "area",
            "sizeref": 73.6175,
            "symbol": "circle"
           },
           "mode": "markers",
           "name": "Wisconsin",
           "orientation": "v",
           "showlegend": true,
           "type": "scatter",
           "x": [
            "carrier_delay",
            "weather_delay",
            "nas_delay",
            "security_delay",
            "late_aircraft_delay"
           ],
           "xaxis": "x",
           "y": [
            1603,
            1,
            661,
            0,
            850
           ],
           "yaxis": "y"
          },
          {
           "hovertemplate": "state=New York<br>day=29<br>variable=%{x}<br>value=%{marker.size}<extra></extra>",
           "legendgroup": "New York",
           "marker": {
            "color": "#636efa",
            "size": [
             5635,
             1520,
             3688,
             0,
             6956
            ],
            "sizemode": "area",
            "sizeref": 73.6175,
            "symbol": "circle"
           },
           "mode": "markers",
           "name": "New York",
           "orientation": "v",
           "showlegend": true,
           "type": "scatter",
           "x": [
            "carrier_delay",
            "weather_delay",
            "nas_delay",
            "security_delay",
            "late_aircraft_delay"
           ],
           "xaxis": "x",
           "y": [
            5635,
            1520,
            3688,
            0,
            6956
           ],
           "yaxis": "y"
          },
          {
           "hovertemplate": "state=Rhode Island<br>day=29<br>variable=%{x}<br>value=%{marker.size}<extra></extra>",
           "legendgroup": "Rhode Island",
           "marker": {
            "color": "#EF553B",
            "size": [
             14,
             0,
             215,
             0,
             103
            ],
            "sizemode": "area",
            "sizeref": 73.6175,
            "symbol": "circle"
           },
           "mode": "markers",
           "name": "Rhode Island",
           "orientation": "v",
           "showlegend": true,
           "type": "scatter",
           "x": [
            "carrier_delay",
            "weather_delay",
            "nas_delay",
            "security_delay",
            "late_aircraft_delay"
           ],
           "xaxis": "x",
           "y": [
            14,
            0,
            215,
            0,
            103
           ],
           "yaxis": "y"
          },
          {
           "hovertemplate": "state=Texas<br>day=29<br>variable=%{x}<br>value=%{marker.size}<extra></extra>",
           "legendgroup": "Texas",
           "marker": {
            "color": "#00cc96",
            "size": [
             7908,
             5029,
             7870,
             58,
             15666
            ],
            "sizemode": "area",
            "sizeref": 73.6175,
            "symbol": "circle"
           },
           "mode": "markers",
           "name": "Texas",
           "orientation": "v",
           "showlegend": true,
           "type": "scatter",
           "x": [
            "carrier_delay",
            "weather_delay",
            "nas_delay",
            "security_delay",
            "late_aircraft_delay"
           ],
           "xaxis": "x",
           "y": [
            7908,
            5029,
            7870,
            58,
            15666
           ],
           "yaxis": "y"
          },
          {
           "hovertemplate": "state=Kentucky<br>day=29<br>variable=%{x}<br>value=%{marker.size}<extra></extra>",
           "legendgroup": "Kentucky",
           "marker": {
            "color": "#ab63fa",
            "size": [
             434,
             0,
             538,
             0,
             169
            ],
            "sizemode": "area",
            "sizeref": 73.6175,
            "symbol": "circle"
           },
           "mode": "markers",
           "name": "Kentucky",
           "orientation": "v",
           "showlegend": true,
           "type": "scatter",
           "x": [
            "carrier_delay",
            "weather_delay",
            "nas_delay",
            "security_delay",
            "late_aircraft_delay"
           ],
           "xaxis": "x",
           "y": [
            434,
            0,
            538,
            0,
            169
           ],
           "yaxis": "y"
          },
          {
           "hovertemplate": "state=South Carolina<br>day=29<br>variable=%{x}<br>value=%{marker.size}<extra></extra>",
           "legendgroup": "South Carolina",
           "marker": {
            "color": "#FFA15A",
            "size": [
             257,
             0,
             189,
             0,
             170
            ],
            "sizemode": "area",
            "sizeref": 73.6175,
            "symbol": "circle"
           },
           "mode": "markers",
           "name": "South Carolina",
           "orientation": "v",
           "showlegend": true,
           "type": "scatter",
           "x": [
            "carrier_delay",
            "weather_delay",
            "nas_delay",
            "security_delay",
            "late_aircraft_delay"
           ],
           "xaxis": "x",
           "y": [
            257,
            0,
            189,
            0,
            170
           ],
           "yaxis": "y"
          },
          {
           "hovertemplate": "state=Pennsylvania<br>day=29<br>variable=%{x}<br>value=%{marker.size}<extra></extra>",
           "legendgroup": "Pennsylvania",
           "marker": {
            "color": "#19d3f3",
            "size": [
             1656,
             131,
             933,
             15,
             843
            ],
            "sizemode": "area",
            "sizeref": 73.6175,
            "symbol": "circle"
           },
           "mode": "markers",
           "name": "Pennsylvania",
           "orientation": "v",
           "showlegend": true,
           "type": "scatter",
           "x": [
            "carrier_delay",
            "weather_delay",
            "nas_delay",
            "security_delay",
            "late_aircraft_delay"
           ],
           "xaxis": "x",
           "y": [
            1656,
            131,
            933,
            15,
            843
           ],
           "yaxis": "y"
          },
          {
           "hovertemplate": "state=Illinois<br>day=29<br>variable=%{x}<br>value=%{marker.size}<extra></extra>",
           "legendgroup": "Illinois",
           "marker": {
            "color": "#FF6692",
            "size": [
             4858,
             68,
             1821,
             0,
             2121
            ],
            "sizemode": "area",
            "sizeref": 73.6175,
            "symbol": "circle"
           },
           "mode": "markers",
           "name": "Illinois",
           "orientation": "v",
           "showlegend": true,
           "type": "scatter",
           "x": [
            "carrier_delay",
            "weather_delay",
            "nas_delay",
            "security_delay",
            "late_aircraft_delay"
           ],
           "xaxis": "x",
           "y": [
            4858,
            68,
            1821,
            0,
            2121
           ],
           "yaxis": "y"
          },
          {
           "hovertemplate": "state=Ohio<br>day=29<br>variable=%{x}<br>value=%{marker.size}<extra></extra>",
           "legendgroup": "Ohio",
           "marker": {
            "color": "#B6E880",
            "size": [
             1242,
             105,
             2181,
             15,
             1311
            ],
            "sizemode": "area",
            "sizeref": 73.6175,
            "symbol": "circle"
           },
           "mode": "markers",
           "name": "Ohio",
           "orientation": "v",
           "showlegend": true,
           "type": "scatter",
           "x": [
            "carrier_delay",
            "weather_delay",
            "nas_delay",
            "security_delay",
            "late_aircraft_delay"
           ],
           "xaxis": "x",
           "y": [
            1242,
            105,
            2181,
            15,
            1311
           ],
           "yaxis": "y"
          },
          {
           "hovertemplate": "state=Michigan<br>day=29<br>variable=%{x}<br>value=%{marker.size}<extra></extra>",
           "legendgroup": "Michigan",
           "marker": {
            "color": "#FF97FF",
            "size": [
             2026,
             348,
             1219,
             0,
             1141
            ],
            "sizemode": "area",
            "sizeref": 73.6175,
            "symbol": "circle"
           },
           "mode": "markers",
           "name": "Michigan",
           "orientation": "v",
           "showlegend": true,
           "type": "scatter",
           "x": [
            "carrier_delay",
            "weather_delay",
            "nas_delay",
            "security_delay",
            "late_aircraft_delay"
           ],
           "xaxis": "x",
           "y": [
            2026,
            348,
            1219,
            0,
            1141
           ],
           "yaxis": "y"
          },
          {
           "hovertemplate": "state=New Jersey<br>day=29<br>variable=%{x}<br>value=%{marker.size}<extra></extra>",
           "legendgroup": "New Jersey",
           "marker": {
            "color": "#FECB52",
            "size": [
             2813,
             959,
             6078,
             40,
             8136
            ],
            "sizemode": "area",
            "sizeref": 73.6175,
            "symbol": "circle"
           },
           "mode": "markers",
           "name": "New Jersey",
           "orientation": "v",
           "showlegend": true,
           "type": "scatter",
           "x": [
            "carrier_delay",
            "weather_delay",
            "nas_delay",
            "security_delay",
            "late_aircraft_delay"
           ],
           "xaxis": "x",
           "y": [
            2813,
            959,
            6078,
            40,
            8136
           ],
           "yaxis": "y"
          },
          {
           "hovertemplate": "state=Oklahoma<br>day=29<br>variable=%{x}<br>value=%{marker.size}<extra></extra>",
           "legendgroup": "Oklahoma",
           "marker": {
            "color": "#636efa",
            "size": [
             248,
             1,
             412,
             0,
             898
            ],
            "sizemode": "area",
            "sizeref": 73.6175,
            "symbol": "circle"
           },
           "mode": "markers",
           "name": "Oklahoma",
           "orientation": "v",
           "showlegend": true,
           "type": "scatter",
           "x": [
            "carrier_delay",
            "weather_delay",
            "nas_delay",
            "security_delay",
            "late_aircraft_delay"
           ],
           "xaxis": "x",
           "y": [
            248,
            1,
            412,
            0,
            898
           ],
           "yaxis": "y"
          },
          {
           "hovertemplate": "state=Maine<br>day=29<br>variable=%{x}<br>value=%{marker.size}<extra></extra>",
           "legendgroup": "Maine",
           "marker": {
            "color": "#EF553B",
            "size": [
             173,
             0,
             282,
             0,
             69
            ],
            "sizemode": "area",
            "sizeref": 73.6175,
            "symbol": "circle"
           },
           "mode": "markers",
           "name": "Maine",
           "orientation": "v",
           "showlegend": true,
           "type": "scatter",
           "x": [
            "carrier_delay",
            "weather_delay",
            "nas_delay",
            "security_delay",
            "late_aircraft_delay"
           ],
           "xaxis": "x",
           "y": [
            173,
            0,
            282,
            0,
            69
           ],
           "yaxis": "y"
          },
          {
           "hovertemplate": "state=Minnesota<br>day=29<br>variable=%{x}<br>value=%{marker.size}<extra></extra>",
           "legendgroup": "Minnesota",
           "marker": {
            "color": "#00cc96",
            "size": [
             1782,
             112,
             924,
             3,
             1174
            ],
            "sizemode": "area",
            "sizeref": 73.6175,
            "symbol": "circle"
           },
           "mode": "markers",
           "name": "Minnesota",
           "orientation": "v",
           "showlegend": true,
           "type": "scatter",
           "x": [
            "carrier_delay",
            "weather_delay",
            "nas_delay",
            "security_delay",
            "late_aircraft_delay"
           ],
           "xaxis": "x",
           "y": [
            1782,
            112,
            924,
            3,
            1174
           ],
           "yaxis": "y"
          },
          {
           "hovertemplate": "state=Iowa<br>day=29<br>variable=%{x}<br>value=%{marker.size}<extra></extra>",
           "legendgroup": "Iowa",
           "marker": {
            "color": "#ab63fa",
            "size": [
             249,
             0,
             145,
             0,
             205
            ],
            "sizemode": "area",
            "sizeref": 73.6175,
            "symbol": "circle"
           },
           "mode": "markers",
           "name": "Iowa",
           "orientation": "v",
           "showlegend": true,
           "type": "scatter",
           "x": [
            "carrier_delay",
            "weather_delay",
            "nas_delay",
            "security_delay",
            "late_aircraft_delay"
           ],
           "xaxis": "x",
           "y": [
            249,
            0,
            145,
            0,
            205
           ],
           "yaxis": "y"
          },
          {
           "hovertemplate": "state=Alabama<br>day=29<br>variable=%{x}<br>value=%{marker.size}<extra></extra>",
           "legendgroup": "Alabama",
           "marker": {
            "color": "#FFA15A",
            "size": [
             474,
             0,
             393,
             0,
             278
            ],
            "sizemode": "area",
            "sizeref": 73.6175,
            "symbol": "circle"
           },
           "mode": "markers",
           "name": "Alabama",
           "orientation": "v",
           "showlegend": true,
           "type": "scatter",
           "x": [
            "carrier_delay",
            "weather_delay",
            "nas_delay",
            "security_delay",
            "late_aircraft_delay"
           ],
           "xaxis": "x",
           "y": [
            474,
            0,
            393,
            0,
            278
           ],
           "yaxis": "y"
          },
          {
           "hovertemplate": "state=Indiana<br>day=29<br>variable=%{x}<br>value=%{marker.size}<extra></extra>",
           "legendgroup": "Indiana",
           "marker": {
            "color": "#19d3f3",
            "size": [
             442,
             87,
             794,
             0,
             518
            ],
            "sizemode": "area",
            "sizeref": 73.6175,
            "symbol": "circle"
           },
           "mode": "markers",
           "name": "Indiana",
           "orientation": "v",
           "showlegend": true,
           "type": "scatter",
           "x": [
            "carrier_delay",
            "weather_delay",
            "nas_delay",
            "security_delay",
            "late_aircraft_delay"
           ],
           "xaxis": "x",
           "y": [
            442,
            87,
            794,
            0,
            518
           ],
           "yaxis": "y"
          },
          {
           "hovertemplate": "state=Kansas<br>day=29<br>variable=%{x}<br>value=%{marker.size}<extra></extra>",
           "legendgroup": "Kansas",
           "marker": {
            "color": "#FF6692",
            "size": [
             225,
             0,
             49,
             0,
             97
            ],
            "sizemode": "area",
            "sizeref": 73.6175,
            "symbol": "circle"
           },
           "mode": "markers",
           "name": "Kansas",
           "orientation": "v",
           "showlegend": true,
           "type": "scatter",
           "x": [
            "carrier_delay",
            "weather_delay",
            "nas_delay",
            "security_delay",
            "late_aircraft_delay"
           ],
           "xaxis": "x",
           "y": [
            225,
            0,
            49,
            0,
            97
           ],
           "yaxis": "y"
          },
          {
           "hovertemplate": "state=South Dakota<br>day=29<br>variable=%{x}<br>value=%{marker.size}<extra></extra>",
           "legendgroup": "South Dakota",
           "marker": {
            "color": "#B6E880",
            "size": [
             128,
             0,
             60,
             0,
             81
            ],
            "sizemode": "area",
            "sizeref": 73.6175,
            "symbol": "circle"
           },
           "mode": "markers",
           "name": "South Dakota",
           "orientation": "v",
           "showlegend": true,
           "type": "scatter",
           "x": [
            "carrier_delay",
            "weather_delay",
            "nas_delay",
            "security_delay",
            "late_aircraft_delay"
           ],
           "xaxis": "x",
           "y": [
            128,
            0,
            60,
            0,
            81
           ],
           "yaxis": "y"
          },
          {
           "hovertemplate": "state=North Dakota<br>day=29<br>variable=%{x}<br>value=%{marker.size}<extra></extra>",
           "legendgroup": "North Dakota",
           "marker": {
            "color": "#FF97FF",
            "size": [
             17,
             0,
             50,
             0,
             31
            ],
            "sizemode": "area",
            "sizeref": 73.6175,
            "symbol": "circle"
           },
           "mode": "markers",
           "name": "North Dakota",
           "orientation": "v",
           "showlegend": true,
           "type": "scatter",
           "x": [
            "carrier_delay",
            "weather_delay",
            "nas_delay",
            "security_delay",
            "late_aircraft_delay"
           ],
           "xaxis": "x",
           "y": [
            17,
            0,
            50,
            0,
            31
           ],
           "yaxis": "y"
          },
          {
           "hovertemplate": "state=Nebraska<br>day=29<br>variable=%{x}<br>value=%{marker.size}<extra></extra>",
           "legendgroup": "Nebraska",
           "marker": {
            "color": "#FECB52",
            "size": [
             308,
             81,
             106,
             0,
             516
            ],
            "sizemode": "area",
            "sizeref": 73.6175,
            "symbol": "circle"
           },
           "mode": "markers",
           "name": "Nebraska",
           "orientation": "v",
           "showlegend": true,
           "type": "scatter",
           "x": [
            "carrier_delay",
            "weather_delay",
            "nas_delay",
            "security_delay",
            "late_aircraft_delay"
           ],
           "xaxis": "x",
           "y": [
            308,
            81,
            106,
            0,
            516
           ],
           "yaxis": "y"
          },
          {
           "hovertemplate": "state=Vermont<br>day=29<br>variable=%{x}<br>value=%{marker.size}<extra></extra>",
           "legendgroup": "Vermont",
           "marker": {
            "color": "#636efa",
            "size": [
             60,
             16,
             190,
             0,
             162
            ],
            "sizemode": "area",
            "sizeref": 73.6175,
            "symbol": "circle"
           },
           "mode": "markers",
           "name": "Vermont",
           "orientation": "v",
           "showlegend": true,
           "type": "scatter",
           "x": [
            "carrier_delay",
            "weather_delay",
            "nas_delay",
            "security_delay",
            "late_aircraft_delay"
           ],
           "xaxis": "x",
           "y": [
            60,
            16,
            190,
            0,
            162
           ],
           "yaxis": "y"
          },
          {
           "hovertemplate": "state=Arkansas<br>day=29<br>variable=%{x}<br>value=%{marker.size}<extra></extra>",
           "legendgroup": "Arkansas",
           "marker": {
            "color": "#EF553B",
            "size": [
             277,
             45,
             216,
             0,
             390
            ],
            "sizemode": "area",
            "sizeref": 73.6175,
            "symbol": "circle"
           },
           "mode": "markers",
           "name": "Arkansas",
           "orientation": "v",
           "showlegend": true,
           "type": "scatter",
           "x": [
            "carrier_delay",
            "weather_delay",
            "nas_delay",
            "security_delay",
            "late_aircraft_delay"
           ],
           "xaxis": "x",
           "y": [
            277,
            45,
            216,
            0,
            390
           ],
           "yaxis": "y"
          },
          {
           "hovertemplate": "state=Massachusetts<br>day=29<br>variable=%{x}<br>value=%{marker.size}<extra></extra>",
           "legendgroup": "Massachusetts",
           "marker": {
            "color": "#00cc96",
            "size": [
             1544,
             332,
             1093,
             0,
             1237
            ],
            "sizemode": "area",
            "sizeref": 73.6175,
            "symbol": "circle"
           },
           "mode": "markers",
           "name": "Massachusetts",
           "orientation": "v",
           "showlegend": true,
           "type": "scatter",
           "x": [
            "carrier_delay",
            "weather_delay",
            "nas_delay",
            "security_delay",
            "late_aircraft_delay"
           ],
           "xaxis": "x",
           "y": [
            1544,
            332,
            1093,
            0,
            1237
           ],
           "yaxis": "y"
          },
          {
           "hovertemplate": "state=Connecticut<br>day=29<br>variable=%{x}<br>value=%{marker.size}<extra></extra>",
           "legendgroup": "Connecticut",
           "marker": {
            "color": "#ab63fa",
            "size": [
             32,
             10,
             120,
             0,
             50
            ],
            "sizemode": "area",
            "sizeref": 73.6175,
            "symbol": "circle"
           },
           "mode": "markers",
           "name": "Connecticut",
           "orientation": "v",
           "showlegend": true,
           "type": "scatter",
           "x": [
            "carrier_delay",
            "weather_delay",
            "nas_delay",
            "security_delay",
            "late_aircraft_delay"
           ],
           "xaxis": "x",
           "y": [
            32,
            10,
            120,
            0,
            50
           ],
           "yaxis": "y"
          },
          {
           "hovertemplate": "state=New Hampshire<br>day=29<br>variable=%{x}<br>value=%{marker.size}<extra></extra>",
           "legendgroup": "New Hampshire",
           "marker": {
            "color": "#FFA15A",
            "size": [
             88,
             0,
             5,
             0,
             91
            ],
            "sizemode": "area",
            "sizeref": 73.6175,
            "symbol": "circle"
           },
           "mode": "markers",
           "name": "New Hampshire",
           "orientation": "v",
           "showlegend": true,
           "type": "scatter",
           "x": [
            "carrier_delay",
            "weather_delay",
            "nas_delay",
            "security_delay",
            "late_aircraft_delay"
           ],
           "xaxis": "x",
           "y": [
            88,
            0,
            5,
            0,
            91
           ],
           "yaxis": "y"
          },
          {
           "hovertemplate": "state=California<br>day=29<br>variable=%{x}<br>value=%{marker.size}<extra></extra>",
           "legendgroup": "California",
           "marker": {
            "color": "#19d3f3",
            "size": [
             5376,
             570,
             5745,
             125,
             10084
            ],
            "sizemode": "area",
            "sizeref": 73.6175,
            "symbol": "circle"
           },
           "mode": "markers",
           "name": "California",
           "orientation": "v",
           "showlegend": true,
           "type": "scatter",
           "x": [
            "carrier_delay",
            "weather_delay",
            "nas_delay",
            "security_delay",
            "late_aircraft_delay"
           ],
           "xaxis": "x",
           "y": [
            5376,
            570,
            5745,
            125,
            10084
           ],
           "yaxis": "y"
          },
          {
           "hovertemplate": "state=Hawaii<br>day=29<br>variable=%{x}<br>value=%{marker.size}<extra></extra>",
           "legendgroup": "Hawaii",
           "marker": {
            "color": "#FF6692",
            "size": [
             768,
             0,
             30,
             0,
             378
            ],
            "sizemode": "area",
            "sizeref": 73.6175,
            "symbol": "circle"
           },
           "mode": "markers",
           "name": "Hawaii",
           "orientation": "v",
           "showlegend": true,
           "type": "scatter",
           "x": [
            "carrier_delay",
            "weather_delay",
            "nas_delay",
            "security_delay",
            "late_aircraft_delay"
           ],
           "xaxis": "x",
           "y": [
            768,
            0,
            30,
            0,
            378
           ],
           "yaxis": "y"
          },
          {
           "hovertemplate": "state=Puerto Rico<br>day=29<br>variable=%{x}<br>value=%{marker.size}<extra></extra>",
           "legendgroup": "Puerto Rico",
           "marker": {
            "color": "#B6E880",
            "size": [
             270,
             0,
             355,
             0,
             621
            ],
            "sizemode": "area",
            "sizeref": 73.6175,
            "symbol": "circle"
           },
           "mode": "markers",
           "name": "Puerto Rico",
           "orientation": "v",
           "showlegend": true,
           "type": "scatter",
           "x": [
            "carrier_delay",
            "weather_delay",
            "nas_delay",
            "security_delay",
            "late_aircraft_delay"
           ],
           "xaxis": "x",
           "y": [
            270,
            0,
            355,
            0,
            621
           ],
           "yaxis": "y"
          },
          {
           "hovertemplate": "state=Nevada<br>day=29<br>variable=%{x}<br>value=%{marker.size}<extra></extra>",
           "legendgroup": "Nevada",
           "marker": {
            "color": "#FF97FF",
            "size": [
             1009,
             37,
             805,
             4,
             2066
            ],
            "sizemode": "area",
            "sizeref": 73.6175,
            "symbol": "circle"
           },
           "mode": "markers",
           "name": "Nevada",
           "orientation": "v",
           "showlegend": true,
           "type": "scatter",
           "x": [
            "carrier_delay",
            "weather_delay",
            "nas_delay",
            "security_delay",
            "late_aircraft_delay"
           ],
           "xaxis": "x",
           "y": [
            1009,
            37,
            805,
            4,
            2066
           ],
           "yaxis": "y"
          },
          {
           "hovertemplate": "state=Washington<br>day=29<br>variable=%{x}<br>value=%{marker.size}<extra></extra>",
           "legendgroup": "Washington",
           "marker": {
            "color": "#FECB52",
            "size": [
             749,
             121,
             1051,
             0,
             1136
            ],
            "sizemode": "area",
            "sizeref": 73.6175,
            "symbol": "circle"
           },
           "mode": "markers",
           "name": "Washington",
           "orientation": "v",
           "showlegend": true,
           "type": "scatter",
           "x": [
            "carrier_delay",
            "weather_delay",
            "nas_delay",
            "security_delay",
            "late_aircraft_delay"
           ],
           "xaxis": "x",
           "y": [
            749,
            121,
            1051,
            0,
            1136
           ],
           "yaxis": "y"
          },
          {
           "hovertemplate": "state=Colorado<br>day=29<br>variable=%{x}<br>value=%{marker.size}<extra></extra>",
           "legendgroup": "Colorado",
           "marker": {
            "color": "#636efa",
            "size": [
             2028,
             28,
             1628,
             0,
             3208
            ],
            "sizemode": "area",
            "sizeref": 73.6175,
            "symbol": "circle"
           },
           "mode": "markers",
           "name": "Colorado",
           "orientation": "v",
           "showlegend": true,
           "type": "scatter",
           "x": [
            "carrier_delay",
            "weather_delay",
            "nas_delay",
            "security_delay",
            "late_aircraft_delay"
           ],
           "xaxis": "x",
           "y": [
            2028,
            28,
            1628,
            0,
            3208
           ],
           "yaxis": "y"
          },
          {
           "hovertemplate": "state=New Mexico<br>day=29<br>variable=%{x}<br>value=%{marker.size}<extra></extra>",
           "legendgroup": "New Mexico",
           "marker": {
            "color": "#EF553B",
            "size": [
             148,
             0,
             108,
             0,
             541
            ],
            "sizemode": "area",
            "sizeref": 73.6175,
            "symbol": "circle"
           },
           "mode": "markers",
           "name": "New Mexico",
           "orientation": "v",
           "showlegend": true,
           "type": "scatter",
           "x": [
            "carrier_delay",
            "weather_delay",
            "nas_delay",
            "security_delay",
            "late_aircraft_delay"
           ],
           "xaxis": "x",
           "y": [
            148,
            0,
            108,
            0,
            541
           ],
           "yaxis": "y"
          },
          {
           "hovertemplate": "state=Arizona<br>day=29<br>variable=%{x}<br>value=%{marker.size}<extra></extra>",
           "legendgroup": "Arizona",
           "marker": {
            "color": "#00cc96",
            "size": [
             3164,
             32,
             1118,
             25,
             2154
            ],
            "sizemode": "area",
            "sizeref": 73.6175,
            "symbol": "circle"
           },
           "mode": "markers",
           "name": "Arizona",
           "orientation": "v",
           "showlegend": true,
           "type": "scatter",
           "x": [
            "carrier_delay",
            "weather_delay",
            "nas_delay",
            "security_delay",
            "late_aircraft_delay"
           ],
           "xaxis": "x",
           "y": [
            3164,
            32,
            1118,
            25,
            2154
           ],
           "yaxis": "y"
          },
          {
           "hovertemplate": "state=Utah<br>day=29<br>variable=%{x}<br>value=%{marker.size}<extra></extra>",
           "legendgroup": "Utah",
           "marker": {
            "color": "#ab63fa",
            "size": [
             2930,
             303,
             6494,
             0,
             5534
            ],
            "sizemode": "area",
            "sizeref": 73.6175,
            "symbol": "circle"
           },
           "mode": "markers",
           "name": "Utah",
           "orientation": "v",
           "showlegend": true,
           "type": "scatter",
           "x": [
            "carrier_delay",
            "weather_delay",
            "nas_delay",
            "security_delay",
            "late_aircraft_delay"
           ],
           "xaxis": "x",
           "y": [
            2930,
            303,
            6494,
            0,
            5534
           ],
           "yaxis": "y"
          },
          {
           "hovertemplate": "state=U.S. Virgin Islands<br>day=29<br>variable=%{x}<br>value=%{marker.size}<extra></extra>",
           "legendgroup": "U.S. Virgin Islands",
           "marker": {
            "color": "#FFA15A",
            "size": [
             7,
             0,
             11,
             0,
             0
            ],
            "sizemode": "area",
            "sizeref": 73.6175,
            "symbol": "circle"
           },
           "mode": "markers",
           "name": "U.S. Virgin Islands",
           "orientation": "v",
           "showlegend": true,
           "type": "scatter",
           "x": [
            "carrier_delay",
            "weather_delay",
            "nas_delay",
            "security_delay",
            "late_aircraft_delay"
           ],
           "xaxis": "x",
           "y": [
            7,
            0,
            11,
            0,
            0
           ],
           "yaxis": "y"
          },
          {
           "hovertemplate": "state=Oregon<br>day=29<br>variable=%{x}<br>value=%{marker.size}<extra></extra>",
           "legendgroup": "Oregon",
           "marker": {
            "color": "#19d3f3",
            "size": [
             1386,
             571,
             1287,
             0,
             1454
            ],
            "sizemode": "area",
            "sizeref": 73.6175,
            "symbol": "circle"
           },
           "mode": "markers",
           "name": "Oregon",
           "orientation": "v",
           "showlegend": true,
           "type": "scatter",
           "x": [
            "carrier_delay",
            "weather_delay",
            "nas_delay",
            "security_delay",
            "late_aircraft_delay"
           ],
           "xaxis": "x",
           "y": [
            1386,
            571,
            1287,
            0,
            1454
           ],
           "yaxis": "y"
          },
          {
           "hovertemplate": "state=Maryland<br>day=29<br>variable=%{x}<br>value=%{marker.size}<extra></extra>",
           "legendgroup": "Maryland",
           "marker": {
            "color": "#FF6692",
            "size": [
             739,
             10,
             667,
             0,
             894
            ],
            "sizemode": "area",
            "sizeref": 73.6175,
            "symbol": "circle"
           },
           "mode": "markers",
           "name": "Maryland",
           "orientation": "v",
           "showlegend": true,
           "type": "scatter",
           "x": [
            "carrier_delay",
            "weather_delay",
            "nas_delay",
            "security_delay",
            "late_aircraft_delay"
           ],
           "xaxis": "x",
           "y": [
            739,
            10,
            667,
            0,
            894
           ],
           "yaxis": "y"
          },
          {
           "hovertemplate": "state=Wyoming<br>day=29<br>variable=%{x}<br>value=%{marker.size}<extra></extra>",
           "legendgroup": "Wyoming",
           "marker": {
            "color": "#B6E880",
            "size": [
             51,
             43,
             145,
             0,
             477
            ],
            "sizemode": "area",
            "sizeref": 73.6175,
            "symbol": "circle"
           },
           "mode": "markers",
           "name": "Wyoming",
           "orientation": "v",
           "showlegend": true,
           "type": "scatter",
           "x": [
            "carrier_delay",
            "weather_delay",
            "nas_delay",
            "security_delay",
            "late_aircraft_delay"
           ],
           "xaxis": "x",
           "y": [
            51,
            43,
            145,
            0,
            477
           ],
           "yaxis": "y"
          },
          {
           "hovertemplate": "state=Alaska<br>day=29<br>variable=%{x}<br>value=%{marker.size}<extra></extra>",
           "legendgroup": "Alaska",
           "marker": {
            "color": "#FF97FF",
            "size": [
             144,
             326,
             69,
             0,
             572
            ],
            "sizemode": "area",
            "sizeref": 73.6175,
            "symbol": "circle"
           },
           "mode": "markers",
           "name": "Alaska",
           "orientation": "v",
           "showlegend": true,
           "type": "scatter",
           "x": [
            "carrier_delay",
            "weather_delay",
            "nas_delay",
            "security_delay",
            "late_aircraft_delay"
           ],
           "xaxis": "x",
           "y": [
            144,
            326,
            69,
            0,
            572
           ],
           "yaxis": "y"
          },
          {
           "hovertemplate": "state=Idaho<br>day=29<br>variable=%{x}<br>value=%{marker.size}<extra></extra>",
           "legendgroup": "Idaho",
           "marker": {
            "color": "#FECB52",
            "size": [
             96,
             0,
             401,
             0,
             1056
            ],
            "sizemode": "area",
            "sizeref": 73.6175,
            "symbol": "circle"
           },
           "mode": "markers",
           "name": "Idaho",
           "orientation": "v",
           "showlegend": true,
           "type": "scatter",
           "x": [
            "carrier_delay",
            "weather_delay",
            "nas_delay",
            "security_delay",
            "late_aircraft_delay"
           ],
           "xaxis": "x",
           "y": [
            96,
            0,
            401,
            0,
            1056
           ],
           "yaxis": "y"
          },
          {
           "hovertemplate": "state=Montana<br>day=29<br>variable=%{x}<br>value=%{marker.size}<extra></extra>",
           "legendgroup": "Montana",
           "marker": {
            "color": "#636efa",
            "size": [
             126,
             1,
             267,
             0,
             811
            ],
            "sizemode": "area",
            "sizeref": 73.6175,
            "symbol": "circle"
           },
           "mode": "markers",
           "name": "Montana",
           "orientation": "v",
           "showlegend": true,
           "type": "scatter",
           "x": [
            "carrier_delay",
            "weather_delay",
            "nas_delay",
            "security_delay",
            "late_aircraft_delay"
           ],
           "xaxis": "x",
           "y": [
            126,
            1,
            267,
            0,
            811
           ],
           "yaxis": "y"
          },
          {
           "hovertemplate": "state=West Virginia<br>day=29<br>variable=%{x}<br>value=%{marker.size}<extra></extra>",
           "legendgroup": "West Virginia",
           "marker": {
            "color": "#EF553B",
            "size": [
             0,
             0,
             21,
             0,
             0
            ],
            "sizemode": "area",
            "sizeref": 73.6175,
            "symbol": "circle"
           },
           "mode": "markers",
           "name": "West Virginia",
           "orientation": "v",
           "showlegend": true,
           "type": "scatter",
           "x": [
            "carrier_delay",
            "weather_delay",
            "nas_delay",
            "security_delay",
            "late_aircraft_delay"
           ],
           "xaxis": "x",
           "y": [
            0,
            0,
            21,
            0,
            0
           ],
           "yaxis": "y"
          }
         ],
         "name": "29"
        },
        {
         "data": [
          {
           "hovertemplate": "state=Georgia<br>day=30<br>variable=%{x}<br>value=%{marker.size}<extra></extra>",
           "legendgroup": "Georgia",
           "marker": {
            "color": "#636efa",
            "size": [
             3127,
             23,
             1742,
             16,
             2096
            ],
            "sizemode": "area",
            "sizeref": 73.6175,
            "symbol": "circle"
           },
           "mode": "markers",
           "name": "Georgia",
           "orientation": "v",
           "showlegend": true,
           "type": "scatter",
           "x": [
            "carrier_delay",
            "weather_delay",
            "nas_delay",
            "security_delay",
            "late_aircraft_delay"
           ],
           "xaxis": "x",
           "y": [
            3127,
            23,
            1742,
            16,
            2096
           ],
           "yaxis": "y"
          },
          {
           "hovertemplate": "state=Tennessee<br>day=30<br>variable=%{x}<br>value=%{marker.size}<extra></extra>",
           "legendgroup": "Tennessee",
           "marker": {
            "color": "#EF553B",
            "size": [
             1056,
             0,
             1640,
             13,
             2085
            ],
            "sizemode": "area",
            "sizeref": 73.6175,
            "symbol": "circle"
           },
           "mode": "markers",
           "name": "Tennessee",
           "orientation": "v",
           "showlegend": true,
           "type": "scatter",
           "x": [
            "carrier_delay",
            "weather_delay",
            "nas_delay",
            "security_delay",
            "late_aircraft_delay"
           ],
           "xaxis": "x",
           "y": [
            1056,
            0,
            1640,
            13,
            2085
           ],
           "yaxis": "y"
          },
          {
           "hovertemplate": "state=Virginia<br>day=30<br>variable=%{x}<br>value=%{marker.size}<extra></extra>",
           "legendgroup": "Virginia",
           "marker": {
            "color": "#00cc96",
            "size": [
             337,
             0,
             300,
             0,
             505
            ],
            "sizemode": "area",
            "sizeref": 73.6175,
            "symbol": "circle"
           },
           "mode": "markers",
           "name": "Virginia",
           "orientation": "v",
           "showlegend": true,
           "type": "scatter",
           "x": [
            "carrier_delay",
            "weather_delay",
            "nas_delay",
            "security_delay",
            "late_aircraft_delay"
           ],
           "xaxis": "x",
           "y": [
            337,
            0,
            300,
            0,
            505
           ],
           "yaxis": "y"
          },
          {
           "hovertemplate": "state=Mississippi<br>day=30<br>variable=%{x}<br>value=%{marker.size}<extra></extra>",
           "legendgroup": "Mississippi",
           "marker": {
            "color": "#ab63fa",
            "size": [
             61,
             6,
             163,
             0,
             487
            ],
            "sizemode": "area",
            "sizeref": 73.6175,
            "symbol": "circle"
           },
           "mode": "markers",
           "name": "Mississippi",
           "orientation": "v",
           "showlegend": true,
           "type": "scatter",
           "x": [
            "carrier_delay",
            "weather_delay",
            "nas_delay",
            "security_delay",
            "late_aircraft_delay"
           ],
           "xaxis": "x",
           "y": [
            61,
            6,
            163,
            0,
            487
           ],
           "yaxis": "y"
          },
          {
           "hovertemplate": "state=District of Columbia<br>day=30<br>variable=%{x}<br>value=%{marker.size}<extra></extra>",
           "legendgroup": "District of Columbia",
           "marker": {
            "color": "#FFA15A",
            "size": [
             1882,
             0,
             1070,
             10,
             790
            ],
            "sizemode": "area",
            "sizeref": 73.6175,
            "symbol": "circle"
           },
           "mode": "markers",
           "name": "District of Columbia",
           "orientation": "v",
           "showlegend": true,
           "type": "scatter",
           "x": [
            "carrier_delay",
            "weather_delay",
            "nas_delay",
            "security_delay",
            "late_aircraft_delay"
           ],
           "xaxis": "x",
           "y": [
            1882,
            0,
            1070,
            10,
            790
           ],
           "yaxis": "y"
          },
          {
           "hovertemplate": "state=Louisiana<br>day=30<br>variable=%{x}<br>value=%{marker.size}<extra></extra>",
           "legendgroup": "Louisiana",
           "marker": {
            "color": "#19d3f3",
            "size": [
             190,
             19,
             470,
             0,
             1103
            ],
            "sizemode": "area",
            "sizeref": 73.6175,
            "symbol": "circle"
           },
           "mode": "markers",
           "name": "Louisiana",
           "orientation": "v",
           "showlegend": true,
           "type": "scatter",
           "x": [
            "carrier_delay",
            "weather_delay",
            "nas_delay",
            "security_delay",
            "late_aircraft_delay"
           ],
           "xaxis": "x",
           "y": [
            190,
            19,
            470,
            0,
            1103
           ],
           "yaxis": "y"
          },
          {
           "hovertemplate": "state=North Carolina<br>day=30<br>variable=%{x}<br>value=%{marker.size}<extra></extra>",
           "legendgroup": "North Carolina",
           "marker": {
            "color": "#FF6692",
            "size": [
             1553,
             0,
             1713,
             0,
             803
            ],
            "sizemode": "area",
            "sizeref": 73.6175,
            "symbol": "circle"
           },
           "mode": "markers",
           "name": "North Carolina",
           "orientation": "v",
           "showlegend": true,
           "type": "scatter",
           "x": [
            "carrier_delay",
            "weather_delay",
            "nas_delay",
            "security_delay",
            "late_aircraft_delay"
           ],
           "xaxis": "x",
           "y": [
            1553,
            0,
            1713,
            0,
            803
           ],
           "yaxis": "y"
          },
          {
           "hovertemplate": "state=Florida<br>day=30<br>variable=%{x}<br>value=%{marker.size}<extra></extra>",
           "legendgroup": "Florida",
           "marker": {
            "color": "#B6E880",
            "size": [
             7469,
             229,
             1927,
             0,
             4609
            ],
            "sizemode": "area",
            "sizeref": 73.6175,
            "symbol": "circle"
           },
           "mode": "markers",
           "name": "Florida",
           "orientation": "v",
           "showlegend": true,
           "type": "scatter",
           "x": [
            "carrier_delay",
            "weather_delay",
            "nas_delay",
            "security_delay",
            "late_aircraft_delay"
           ],
           "xaxis": "x",
           "y": [
            7469,
            229,
            1927,
            0,
            4609
           ],
           "yaxis": "y"
          },
          {
           "hovertemplate": "state=Missouri<br>day=30<br>variable=%{x}<br>value=%{marker.size}<extra></extra>",
           "legendgroup": "Missouri",
           "marker": {
            "color": "#FF97FF",
            "size": [
             1264,
             62,
             2848,
             0,
             2338
            ],
            "sizemode": "area",
            "sizeref": 73.6175,
            "symbol": "circle"
           },
           "mode": "markers",
           "name": "Missouri",
           "orientation": "v",
           "showlegend": true,
           "type": "scatter",
           "x": [
            "carrier_delay",
            "weather_delay",
            "nas_delay",
            "security_delay",
            "late_aircraft_delay"
           ],
           "xaxis": "x",
           "y": [
            1264,
            62,
            2848,
            0,
            2338
           ],
           "yaxis": "y"
          },
          {
           "hovertemplate": "state=Wisconsin<br>day=30<br>variable=%{x}<br>value=%{marker.size}<extra></extra>",
           "legendgroup": "Wisconsin",
           "marker": {
            "color": "#FECB52",
            "size": [
             980,
             11,
             1627,
             0,
             2529
            ],
            "sizemode": "area",
            "sizeref": 73.6175,
            "symbol": "circle"
           },
           "mode": "markers",
           "name": "Wisconsin",
           "orientation": "v",
           "showlegend": true,
           "type": "scatter",
           "x": [
            "carrier_delay",
            "weather_delay",
            "nas_delay",
            "security_delay",
            "late_aircraft_delay"
           ],
           "xaxis": "x",
           "y": [
            980,
            11,
            1627,
            0,
            2529
           ],
           "yaxis": "y"
          },
          {
           "hovertemplate": "state=New York<br>day=30<br>variable=%{x}<br>value=%{marker.size}<extra></extra>",
           "legendgroup": "New York",
           "marker": {
            "color": "#636efa",
            "size": [
             2668,
             121,
             1823,
             90,
             2289
            ],
            "sizemode": "area",
            "sizeref": 73.6175,
            "symbol": "circle"
           },
           "mode": "markers",
           "name": "New York",
           "orientation": "v",
           "showlegend": true,
           "type": "scatter",
           "x": [
            "carrier_delay",
            "weather_delay",
            "nas_delay",
            "security_delay",
            "late_aircraft_delay"
           ],
           "xaxis": "x",
           "y": [
            2668,
            121,
            1823,
            90,
            2289
           ],
           "yaxis": "y"
          },
          {
           "hovertemplate": "state=Rhode Island<br>day=30<br>variable=%{x}<br>value=%{marker.size}<extra></extra>",
           "legendgroup": "Rhode Island",
           "marker": {
            "color": "#EF553B",
            "size": [
             58,
             0,
             77,
             0,
             91
            ],
            "sizemode": "area",
            "sizeref": 73.6175,
            "symbol": "circle"
           },
           "mode": "markers",
           "name": "Rhode Island",
           "orientation": "v",
           "showlegend": true,
           "type": "scatter",
           "x": [
            "carrier_delay",
            "weather_delay",
            "nas_delay",
            "security_delay",
            "late_aircraft_delay"
           ],
           "xaxis": "x",
           "y": [
            58,
            0,
            77,
            0,
            91
           ],
           "yaxis": "y"
          },
          {
           "hovertemplate": "state=Texas<br>day=30<br>variable=%{x}<br>value=%{marker.size}<extra></extra>",
           "legendgroup": "Texas",
           "marker": {
            "color": "#00cc96",
            "size": [
             11193,
             800,
             4645,
             131,
             13780
            ],
            "sizemode": "area",
            "sizeref": 73.6175,
            "symbol": "circle"
           },
           "mode": "markers",
           "name": "Texas",
           "orientation": "v",
           "showlegend": true,
           "type": "scatter",
           "x": [
            "carrier_delay",
            "weather_delay",
            "nas_delay",
            "security_delay",
            "late_aircraft_delay"
           ],
           "xaxis": "x",
           "y": [
            11193,
            800,
            4645,
            131,
            13780
           ],
           "yaxis": "y"
          },
          {
           "hovertemplate": "state=Kentucky<br>day=30<br>variable=%{x}<br>value=%{marker.size}<extra></extra>",
           "legendgroup": "Kentucky",
           "marker": {
            "color": "#ab63fa",
            "size": [
             104,
             0,
             263,
             0,
             320
            ],
            "sizemode": "area",
            "sizeref": 73.6175,
            "symbol": "circle"
           },
           "mode": "markers",
           "name": "Kentucky",
           "orientation": "v",
           "showlegend": true,
           "type": "scatter",
           "x": [
            "carrier_delay",
            "weather_delay",
            "nas_delay",
            "security_delay",
            "late_aircraft_delay"
           ],
           "xaxis": "x",
           "y": [
            104,
            0,
            263,
            0,
            320
           ],
           "yaxis": "y"
          },
          {
           "hovertemplate": "state=South Carolina<br>day=30<br>variable=%{x}<br>value=%{marker.size}<extra></extra>",
           "legendgroup": "South Carolina",
           "marker": {
            "color": "#FFA15A",
            "size": [
             72,
             0,
             435,
             0,
             222
            ],
            "sizemode": "area",
            "sizeref": 73.6175,
            "symbol": "circle"
           },
           "mode": "markers",
           "name": "South Carolina",
           "orientation": "v",
           "showlegend": true,
           "type": "scatter",
           "x": [
            "carrier_delay",
            "weather_delay",
            "nas_delay",
            "security_delay",
            "late_aircraft_delay"
           ],
           "xaxis": "x",
           "y": [
            72,
            0,
            435,
            0,
            222
           ],
           "yaxis": "y"
          },
          {
           "hovertemplate": "state=Pennsylvania<br>day=30<br>variable=%{x}<br>value=%{marker.size}<extra></extra>",
           "legendgroup": "Pennsylvania",
           "marker": {
            "color": "#19d3f3",
            "size": [
             1299,
             0,
             902,
             0,
             1256
            ],
            "sizemode": "area",
            "sizeref": 73.6175,
            "symbol": "circle"
           },
           "mode": "markers",
           "name": "Pennsylvania",
           "orientation": "v",
           "showlegend": true,
           "type": "scatter",
           "x": [
            "carrier_delay",
            "weather_delay",
            "nas_delay",
            "security_delay",
            "late_aircraft_delay"
           ],
           "xaxis": "x",
           "y": [
            1299,
            0,
            902,
            0,
            1256
           ],
           "yaxis": "y"
          },
          {
           "hovertemplate": "state=Illinois<br>day=30<br>variable=%{x}<br>value=%{marker.size}<extra></extra>",
           "legendgroup": "Illinois",
           "marker": {
            "color": "#FF6692",
            "size": [
             7716,
             3690,
             8813,
             18,
             12885
            ],
            "sizemode": "area",
            "sizeref": 73.6175,
            "symbol": "circle"
           },
           "mode": "markers",
           "name": "Illinois",
           "orientation": "v",
           "showlegend": true,
           "type": "scatter",
           "x": [
            "carrier_delay",
            "weather_delay",
            "nas_delay",
            "security_delay",
            "late_aircraft_delay"
           ],
           "xaxis": "x",
           "y": [
            7716,
            3690,
            8813,
            18,
            12885
           ],
           "yaxis": "y"
          },
          {
           "hovertemplate": "state=Ohio<br>day=30<br>variable=%{x}<br>value=%{marker.size}<extra></extra>",
           "legendgroup": "Ohio",
           "marker": {
            "color": "#B6E880",
            "size": [
             1749,
             258,
             1013,
             0,
             1460
            ],
            "sizemode": "area",
            "sizeref": 73.6175,
            "symbol": "circle"
           },
           "mode": "markers",
           "name": "Ohio",
           "orientation": "v",
           "showlegend": true,
           "type": "scatter",
           "x": [
            "carrier_delay",
            "weather_delay",
            "nas_delay",
            "security_delay",
            "late_aircraft_delay"
           ],
           "xaxis": "x",
           "y": [
            1749,
            258,
            1013,
            0,
            1460
           ],
           "yaxis": "y"
          },
          {
           "hovertemplate": "state=Michigan<br>day=30<br>variable=%{x}<br>value=%{marker.size}<extra></extra>",
           "legendgroup": "Michigan",
           "marker": {
            "color": "#FF97FF",
            "size": [
             2035,
             137,
             2243,
             6,
             1962
            ],
            "sizemode": "area",
            "sizeref": 73.6175,
            "symbol": "circle"
           },
           "mode": "markers",
           "name": "Michigan",
           "orientation": "v",
           "showlegend": true,
           "type": "scatter",
           "x": [
            "carrier_delay",
            "weather_delay",
            "nas_delay",
            "security_delay",
            "late_aircraft_delay"
           ],
           "xaxis": "x",
           "y": [
            2035,
            137,
            2243,
            6,
            1962
           ],
           "yaxis": "y"
          },
          {
           "hovertemplate": "state=New Jersey<br>day=30<br>variable=%{x}<br>value=%{marker.size}<extra></extra>",
           "legendgroup": "New Jersey",
           "marker": {
            "color": "#FECB52",
            "size": [
             908,
             37,
             466,
             0,
             489
            ],
            "sizemode": "area",
            "sizeref": 73.6175,
            "symbol": "circle"
           },
           "mode": "markers",
           "name": "New Jersey",
           "orientation": "v",
           "showlegend": true,
           "type": "scatter",
           "x": [
            "carrier_delay",
            "weather_delay",
            "nas_delay",
            "security_delay",
            "late_aircraft_delay"
           ],
           "xaxis": "x",
           "y": [
            908,
            37,
            466,
            0,
            489
           ],
           "yaxis": "y"
          },
          {
           "hovertemplate": "state=Oklahoma<br>day=30<br>variable=%{x}<br>value=%{marker.size}<extra></extra>",
           "legendgroup": "Oklahoma",
           "marker": {
            "color": "#636efa",
            "size": [
             1072,
             0,
             551,
             0,
             958
            ],
            "sizemode": "area",
            "sizeref": 73.6175,
            "symbol": "circle"
           },
           "mode": "markers",
           "name": "Oklahoma",
           "orientation": "v",
           "showlegend": true,
           "type": "scatter",
           "x": [
            "carrier_delay",
            "weather_delay",
            "nas_delay",
            "security_delay",
            "late_aircraft_delay"
           ],
           "xaxis": "x",
           "y": [
            1072,
            0,
            551,
            0,
            958
           ],
           "yaxis": "y"
          },
          {
           "hovertemplate": "state=Maine<br>day=30<br>variable=%{x}<br>value=%{marker.size}<extra></extra>",
           "legendgroup": "Maine",
           "marker": {
            "color": "#EF553B",
            "size": [
             191,
             0,
             50,
             0,
             21
            ],
            "sizemode": "area",
            "sizeref": 73.6175,
            "symbol": "circle"
           },
           "mode": "markers",
           "name": "Maine",
           "orientation": "v",
           "showlegend": true,
           "type": "scatter",
           "x": [
            "carrier_delay",
            "weather_delay",
            "nas_delay",
            "security_delay",
            "late_aircraft_delay"
           ],
           "xaxis": "x",
           "y": [
            191,
            0,
            50,
            0,
            21
           ],
           "yaxis": "y"
          },
          {
           "hovertemplate": "state=Minnesota<br>day=30<br>variable=%{x}<br>value=%{marker.size}<extra></extra>",
           "legendgroup": "Minnesota",
           "marker": {
            "color": "#00cc96",
            "size": [
             2094,
             96,
             3081,
             0,
             1089
            ],
            "sizemode": "area",
            "sizeref": 73.6175,
            "symbol": "circle"
           },
           "mode": "markers",
           "name": "Minnesota",
           "orientation": "v",
           "showlegend": true,
           "type": "scatter",
           "x": [
            "carrier_delay",
            "weather_delay",
            "nas_delay",
            "security_delay",
            "late_aircraft_delay"
           ],
           "xaxis": "x",
           "y": [
            2094,
            96,
            3081,
            0,
            1089
           ],
           "yaxis": "y"
          },
          {
           "hovertemplate": "state=Iowa<br>day=30<br>variable=%{x}<br>value=%{marker.size}<extra></extra>",
           "legendgroup": "Iowa",
           "marker": {
            "color": "#ab63fa",
            "size": [
             309,
             97,
             1024,
             0,
             1003
            ],
            "sizemode": "area",
            "sizeref": 73.6175,
            "symbol": "circle"
           },
           "mode": "markers",
           "name": "Iowa",
           "orientation": "v",
           "showlegend": true,
           "type": "scatter",
           "x": [
            "carrier_delay",
            "weather_delay",
            "nas_delay",
            "security_delay",
            "late_aircraft_delay"
           ],
           "xaxis": "x",
           "y": [
            309,
            97,
            1024,
            0,
            1003
           ],
           "yaxis": "y"
          },
          {
           "hovertemplate": "state=Alabama<br>day=30<br>variable=%{x}<br>value=%{marker.size}<extra></extra>",
           "legendgroup": "Alabama",
           "marker": {
            "color": "#FFA15A",
            "size": [
             610,
             0,
             627,
             0,
             463
            ],
            "sizemode": "area",
            "sizeref": 73.6175,
            "symbol": "circle"
           },
           "mode": "markers",
           "name": "Alabama",
           "orientation": "v",
           "showlegend": true,
           "type": "scatter",
           "x": [
            "carrier_delay",
            "weather_delay",
            "nas_delay",
            "security_delay",
            "late_aircraft_delay"
           ],
           "xaxis": "x",
           "y": [
            610,
            0,
            627,
            0,
            463
           ],
           "yaxis": "y"
          },
          {
           "hovertemplate": "state=Indiana<br>day=30<br>variable=%{x}<br>value=%{marker.size}<extra></extra>",
           "legendgroup": "Indiana",
           "marker": {
            "color": "#19d3f3",
            "size": [
             292,
             15,
             721,
             0,
             1095
            ],
            "sizemode": "area",
            "sizeref": 73.6175,
            "symbol": "circle"
           },
           "mode": "markers",
           "name": "Indiana",
           "orientation": "v",
           "showlegend": true,
           "type": "scatter",
           "x": [
            "carrier_delay",
            "weather_delay",
            "nas_delay",
            "security_delay",
            "late_aircraft_delay"
           ],
           "xaxis": "x",
           "y": [
            292,
            15,
            721,
            0,
            1095
           ],
           "yaxis": "y"
          },
          {
           "hovertemplate": "state=Kansas<br>day=30<br>variable=%{x}<br>value=%{marker.size}<extra></extra>",
           "legendgroup": "Kansas",
           "marker": {
            "color": "#FF6692",
            "size": [
             53,
             11,
             322,
             0,
             404
            ],
            "sizemode": "area",
            "sizeref": 73.6175,
            "symbol": "circle"
           },
           "mode": "markers",
           "name": "Kansas",
           "orientation": "v",
           "showlegend": true,
           "type": "scatter",
           "x": [
            "carrier_delay",
            "weather_delay",
            "nas_delay",
            "security_delay",
            "late_aircraft_delay"
           ],
           "xaxis": "x",
           "y": [
            53,
            11,
            322,
            0,
            404
           ],
           "yaxis": "y"
          },
          {
           "hovertemplate": "state=South Dakota<br>day=30<br>variable=%{x}<br>value=%{marker.size}<extra></extra>",
           "legendgroup": "South Dakota",
           "marker": {
            "color": "#B6E880",
            "size": [
             283,
             0,
             216,
             0,
             96
            ],
            "sizemode": "area",
            "sizeref": 73.6175,
            "symbol": "circle"
           },
           "mode": "markers",
           "name": "South Dakota",
           "orientation": "v",
           "showlegend": true,
           "type": "scatter",
           "x": [
            "carrier_delay",
            "weather_delay",
            "nas_delay",
            "security_delay",
            "late_aircraft_delay"
           ],
           "xaxis": "x",
           "y": [
            283,
            0,
            216,
            0,
            96
           ],
           "yaxis": "y"
          },
          {
           "hovertemplate": "state=North Dakota<br>day=30<br>variable=%{x}<br>value=%{marker.size}<extra></extra>",
           "legendgroup": "North Dakota",
           "marker": {
            "color": "#FF97FF",
            "size": [
             32,
             0,
             228,
             0,
             311
            ],
            "sizemode": "area",
            "sizeref": 73.6175,
            "symbol": "circle"
           },
           "mode": "markers",
           "name": "North Dakota",
           "orientation": "v",
           "showlegend": true,
           "type": "scatter",
           "x": [
            "carrier_delay",
            "weather_delay",
            "nas_delay",
            "security_delay",
            "late_aircraft_delay"
           ],
           "xaxis": "x",
           "y": [
            32,
            0,
            228,
            0,
            311
           ],
           "yaxis": "y"
          },
          {
           "hovertemplate": "state=Nebraska<br>day=30<br>variable=%{x}<br>value=%{marker.size}<extra></extra>",
           "legendgroup": "Nebraska",
           "marker": {
            "color": "#FECB52",
            "size": [
             266,
             7,
             664,
             9,
             634
            ],
            "sizemode": "area",
            "sizeref": 73.6175,
            "symbol": "circle"
           },
           "mode": "markers",
           "name": "Nebraska",
           "orientation": "v",
           "showlegend": true,
           "type": "scatter",
           "x": [
            "carrier_delay",
            "weather_delay",
            "nas_delay",
            "security_delay",
            "late_aircraft_delay"
           ],
           "xaxis": "x",
           "y": [
            266,
            7,
            664,
            9,
            634
           ],
           "yaxis": "y"
          },
          {
           "hovertemplate": "state=Vermont<br>day=30<br>variable=%{x}<br>value=%{marker.size}<extra></extra>",
           "legendgroup": "Vermont",
           "marker": {
            "color": "#636efa",
            "size": [
             56,
             56,
             10,
             0,
             33
            ],
            "sizemode": "area",
            "sizeref": 73.6175,
            "symbol": "circle"
           },
           "mode": "markers",
           "name": "Vermont",
           "orientation": "v",
           "showlegend": true,
           "type": "scatter",
           "x": [
            "carrier_delay",
            "weather_delay",
            "nas_delay",
            "security_delay",
            "late_aircraft_delay"
           ],
           "xaxis": "x",
           "y": [
            56,
            56,
            10,
            0,
            33
           ],
           "yaxis": "y"
          },
          {
           "hovertemplate": "state=Arkansas<br>day=30<br>variable=%{x}<br>value=%{marker.size}<extra></extra>",
           "legendgroup": "Arkansas",
           "marker": {
            "color": "#EF553B",
            "size": [
             490,
             0,
             432,
             0,
             1103
            ],
            "sizemode": "area",
            "sizeref": 73.6175,
            "symbol": "circle"
           },
           "mode": "markers",
           "name": "Arkansas",
           "orientation": "v",
           "showlegend": true,
           "type": "scatter",
           "x": [
            "carrier_delay",
            "weather_delay",
            "nas_delay",
            "security_delay",
            "late_aircraft_delay"
           ],
           "xaxis": "x",
           "y": [
            490,
            0,
            432,
            0,
            1103
           ],
           "yaxis": "y"
          },
          {
           "hovertemplate": "state=Massachusetts<br>day=30<br>variable=%{x}<br>value=%{marker.size}<extra></extra>",
           "legendgroup": "Massachusetts",
           "marker": {
            "color": "#00cc96",
            "size": [
             997,
             40,
             502,
             0,
             973
            ],
            "sizemode": "area",
            "sizeref": 73.6175,
            "symbol": "circle"
           },
           "mode": "markers",
           "name": "Massachusetts",
           "orientation": "v",
           "showlegend": true,
           "type": "scatter",
           "x": [
            "carrier_delay",
            "weather_delay",
            "nas_delay",
            "security_delay",
            "late_aircraft_delay"
           ],
           "xaxis": "x",
           "y": [
            997,
            40,
            502,
            0,
            973
           ],
           "yaxis": "y"
          },
          {
           "hovertemplate": "state=Connecticut<br>day=30<br>variable=%{x}<br>value=%{marker.size}<extra></extra>",
           "legendgroup": "Connecticut",
           "marker": {
            "color": "#ab63fa",
            "size": [
             6,
             0,
             75,
             0,
             74
            ],
            "sizemode": "area",
            "sizeref": 73.6175,
            "symbol": "circle"
           },
           "mode": "markers",
           "name": "Connecticut",
           "orientation": "v",
           "showlegend": true,
           "type": "scatter",
           "x": [
            "carrier_delay",
            "weather_delay",
            "nas_delay",
            "security_delay",
            "late_aircraft_delay"
           ],
           "xaxis": "x",
           "y": [
            6,
            0,
            75,
            0,
            74
           ],
           "yaxis": "y"
          },
          {
           "hovertemplate": "state=New Hampshire<br>day=30<br>variable=%{x}<br>value=%{marker.size}<extra></extra>",
           "legendgroup": "New Hampshire",
           "marker": {
            "color": "#FFA15A",
            "size": [
             106,
             0,
             117,
             0,
             69
            ],
            "sizemode": "area",
            "sizeref": 73.6175,
            "symbol": "circle"
           },
           "mode": "markers",
           "name": "New Hampshire",
           "orientation": "v",
           "showlegend": true,
           "type": "scatter",
           "x": [
            "carrier_delay",
            "weather_delay",
            "nas_delay",
            "security_delay",
            "late_aircraft_delay"
           ],
           "xaxis": "x",
           "y": [
            106,
            0,
            117,
            0,
            69
           ],
           "yaxis": "y"
          },
          {
           "hovertemplate": "state=California<br>day=30<br>variable=%{x}<br>value=%{marker.size}<extra></extra>",
           "legendgroup": "California",
           "marker": {
            "color": "#19d3f3",
            "size": [
             5694,
             539,
             4866,
             262,
             14091
            ],
            "sizemode": "area",
            "sizeref": 73.6175,
            "symbol": "circle"
           },
           "mode": "markers",
           "name": "California",
           "orientation": "v",
           "showlegend": true,
           "type": "scatter",
           "x": [
            "carrier_delay",
            "weather_delay",
            "nas_delay",
            "security_delay",
            "late_aircraft_delay"
           ],
           "xaxis": "x",
           "y": [
            5694,
            539,
            4866,
            262,
            14091
           ],
           "yaxis": "y"
          },
          {
           "hovertemplate": "state=Hawaii<br>day=30<br>variable=%{x}<br>value=%{marker.size}<extra></extra>",
           "legendgroup": "Hawaii",
           "marker": {
            "color": "#FF6692",
            "size": [
             729,
             0,
             160,
             0,
             868
            ],
            "sizemode": "area",
            "sizeref": 73.6175,
            "symbol": "circle"
           },
           "mode": "markers",
           "name": "Hawaii",
           "orientation": "v",
           "showlegend": true,
           "type": "scatter",
           "x": [
            "carrier_delay",
            "weather_delay",
            "nas_delay",
            "security_delay",
            "late_aircraft_delay"
           ],
           "xaxis": "x",
           "y": [
            729,
            0,
            160,
            0,
            868
           ],
           "yaxis": "y"
          },
          {
           "hovertemplate": "state=Puerto Rico<br>day=30<br>variable=%{x}<br>value=%{marker.size}<extra></extra>",
           "legendgroup": "Puerto Rico",
           "marker": {
            "color": "#B6E880",
            "size": [
             345,
             0,
             188,
             0,
             1657
            ],
            "sizemode": "area",
            "sizeref": 73.6175,
            "symbol": "circle"
           },
           "mode": "markers",
           "name": "Puerto Rico",
           "orientation": "v",
           "showlegend": true,
           "type": "scatter",
           "x": [
            "carrier_delay",
            "weather_delay",
            "nas_delay",
            "security_delay",
            "late_aircraft_delay"
           ],
           "xaxis": "x",
           "y": [
            345,
            0,
            188,
            0,
            1657
           ],
           "yaxis": "y"
          },
          {
           "hovertemplate": "state=Nevada<br>day=30<br>variable=%{x}<br>value=%{marker.size}<extra></extra>",
           "legendgroup": "Nevada",
           "marker": {
            "color": "#FF97FF",
            "size": [
             1630,
             122,
             901,
             7,
             3752
            ],
            "sizemode": "area",
            "sizeref": 73.6175,
            "symbol": "circle"
           },
           "mode": "markers",
           "name": "Nevada",
           "orientation": "v",
           "showlegend": true,
           "type": "scatter",
           "x": [
            "carrier_delay",
            "weather_delay",
            "nas_delay",
            "security_delay",
            "late_aircraft_delay"
           ],
           "xaxis": "x",
           "y": [
            1630,
            122,
            901,
            7,
            3752
           ],
           "yaxis": "y"
          },
          {
           "hovertemplate": "state=Washington<br>day=30<br>variable=%{x}<br>value=%{marker.size}<extra></extra>",
           "legendgroup": "Washington",
           "marker": {
            "color": "#FECB52",
            "size": [
             832,
             139,
             948,
             3,
             1782
            ],
            "sizemode": "area",
            "sizeref": 73.6175,
            "symbol": "circle"
           },
           "mode": "markers",
           "name": "Washington",
           "orientation": "v",
           "showlegend": true,
           "type": "scatter",
           "x": [
            "carrier_delay",
            "weather_delay",
            "nas_delay",
            "security_delay",
            "late_aircraft_delay"
           ],
           "xaxis": "x",
           "y": [
            832,
            139,
            948,
            3,
            1782
           ],
           "yaxis": "y"
          },
          {
           "hovertemplate": "state=Colorado<br>day=30<br>variable=%{x}<br>value=%{marker.size}<extra></extra>",
           "legendgroup": "Colorado",
           "marker": {
            "color": "#636efa",
            "size": [
             4245,
             942,
             1677,
             0,
             5140
            ],
            "sizemode": "area",
            "sizeref": 73.6175,
            "symbol": "circle"
           },
           "mode": "markers",
           "name": "Colorado",
           "orientation": "v",
           "showlegend": true,
           "type": "scatter",
           "x": [
            "carrier_delay",
            "weather_delay",
            "nas_delay",
            "security_delay",
            "late_aircraft_delay"
           ],
           "xaxis": "x",
           "y": [
            4245,
            942,
            1677,
            0,
            5140
           ],
           "yaxis": "y"
          },
          {
           "hovertemplate": "state=New Mexico<br>day=30<br>variable=%{x}<br>value=%{marker.size}<extra></extra>",
           "legendgroup": "New Mexico",
           "marker": {
            "color": "#EF553B",
            "size": [
             561,
             0,
             370,
             0,
             1250
            ],
            "sizemode": "area",
            "sizeref": 73.6175,
            "symbol": "circle"
           },
           "mode": "markers",
           "name": "New Mexico",
           "orientation": "v",
           "showlegend": true,
           "type": "scatter",
           "x": [
            "carrier_delay",
            "weather_delay",
            "nas_delay",
            "security_delay",
            "late_aircraft_delay"
           ],
           "xaxis": "x",
           "y": [
            561,
            0,
            370,
            0,
            1250
           ],
           "yaxis": "y"
          },
          {
           "hovertemplate": "state=Arizona<br>day=30<br>variable=%{x}<br>value=%{marker.size}<extra></extra>",
           "legendgroup": "Arizona",
           "marker": {
            "color": "#00cc96",
            "size": [
             2343,
             239,
             1722,
             28,
             2803
            ],
            "sizemode": "area",
            "sizeref": 73.6175,
            "symbol": "circle"
           },
           "mode": "markers",
           "name": "Arizona",
           "orientation": "v",
           "showlegend": true,
           "type": "scatter",
           "x": [
            "carrier_delay",
            "weather_delay",
            "nas_delay",
            "security_delay",
            "late_aircraft_delay"
           ],
           "xaxis": "x",
           "y": [
            2343,
            239,
            1722,
            28,
            2803
           ],
           "yaxis": "y"
          },
          {
           "hovertemplate": "state=Utah<br>day=30<br>variable=%{x}<br>value=%{marker.size}<extra></extra>",
           "legendgroup": "Utah",
           "marker": {
            "color": "#ab63fa",
            "size": [
             2170,
             1083,
             6806,
             21,
             9357
            ],
            "sizemode": "area",
            "sizeref": 73.6175,
            "symbol": "circle"
           },
           "mode": "markers",
           "name": "Utah",
           "orientation": "v",
           "showlegend": true,
           "type": "scatter",
           "x": [
            "carrier_delay",
            "weather_delay",
            "nas_delay",
            "security_delay",
            "late_aircraft_delay"
           ],
           "xaxis": "x",
           "y": [
            2170,
            1083,
            6806,
            21,
            9357
           ],
           "yaxis": "y"
          },
          {
           "hovertemplate": "state=U.S. Virgin Islands<br>day=30<br>variable=%{x}<br>value=%{marker.size}<extra></extra>",
           "legendgroup": "U.S. Virgin Islands",
           "marker": {
            "color": "#FFA15A",
            "size": [
             4,
             145,
             0,
             0,
             891
            ],
            "sizemode": "area",
            "sizeref": 73.6175,
            "symbol": "circle"
           },
           "mode": "markers",
           "name": "U.S. Virgin Islands",
           "orientation": "v",
           "showlegend": true,
           "type": "scatter",
           "x": [
            "carrier_delay",
            "weather_delay",
            "nas_delay",
            "security_delay",
            "late_aircraft_delay"
           ],
           "xaxis": "x",
           "y": [
            4,
            145,
            0,
            0,
            891
           ],
           "yaxis": "y"
          },
          {
           "hovertemplate": "state=Oregon<br>day=30<br>variable=%{x}<br>value=%{marker.size}<extra></extra>",
           "legendgroup": "Oregon",
           "marker": {
            "color": "#19d3f3",
            "size": [
             917,
             188,
             451,
             0,
             1467
            ],
            "sizemode": "area",
            "sizeref": 73.6175,
            "symbol": "circle"
           },
           "mode": "markers",
           "name": "Oregon",
           "orientation": "v",
           "showlegend": true,
           "type": "scatter",
           "x": [
            "carrier_delay",
            "weather_delay",
            "nas_delay",
            "security_delay",
            "late_aircraft_delay"
           ],
           "xaxis": "x",
           "y": [
            917,
            188,
            451,
            0,
            1467
           ],
           "yaxis": "y"
          },
          {
           "hovertemplate": "state=Maryland<br>day=30<br>variable=%{x}<br>value=%{marker.size}<extra></extra>",
           "legendgroup": "Maryland",
           "marker": {
            "color": "#FF6692",
            "size": [
             1024,
             28,
             692,
             0,
             882
            ],
            "sizemode": "area",
            "sizeref": 73.6175,
            "symbol": "circle"
           },
           "mode": "markers",
           "name": "Maryland",
           "orientation": "v",
           "showlegend": true,
           "type": "scatter",
           "x": [
            "carrier_delay",
            "weather_delay",
            "nas_delay",
            "security_delay",
            "late_aircraft_delay"
           ],
           "xaxis": "x",
           "y": [
            1024,
            28,
            692,
            0,
            882
           ],
           "yaxis": "y"
          },
          {
           "hovertemplate": "state=Wyoming<br>day=30<br>variable=%{x}<br>value=%{marker.size}<extra></extra>",
           "legendgroup": "Wyoming",
           "marker": {
            "color": "#B6E880",
            "size": [
             415,
             8,
             163,
             0,
             674
            ],
            "sizemode": "area",
            "sizeref": 73.6175,
            "symbol": "circle"
           },
           "mode": "markers",
           "name": "Wyoming",
           "orientation": "v",
           "showlegend": true,
           "type": "scatter",
           "x": [
            "carrier_delay",
            "weather_delay",
            "nas_delay",
            "security_delay",
            "late_aircraft_delay"
           ],
           "xaxis": "x",
           "y": [
            415,
            8,
            163,
            0,
            674
           ],
           "yaxis": "y"
          },
          {
           "hovertemplate": "state=Alaska<br>day=30<br>variable=%{x}<br>value=%{marker.size}<extra></extra>",
           "legendgroup": "Alaska",
           "marker": {
            "color": "#FF97FF",
            "size": [
             248,
             0,
             11,
             0,
             421
            ],
            "sizemode": "area",
            "sizeref": 73.6175,
            "symbol": "circle"
           },
           "mode": "markers",
           "name": "Alaska",
           "orientation": "v",
           "showlegend": true,
           "type": "scatter",
           "x": [
            "carrier_delay",
            "weather_delay",
            "nas_delay",
            "security_delay",
            "late_aircraft_delay"
           ],
           "xaxis": "x",
           "y": [
            248,
            0,
            11,
            0,
            421
           ],
           "yaxis": "y"
          },
          {
           "hovertemplate": "state=Idaho<br>day=30<br>variable=%{x}<br>value=%{marker.size}<extra></extra>",
           "legendgroup": "Idaho",
           "marker": {
            "color": "#FECB52",
            "size": [
             61,
             224,
             688,
             0,
             1059
            ],
            "sizemode": "area",
            "sizeref": 73.6175,
            "symbol": "circle"
           },
           "mode": "markers",
           "name": "Idaho",
           "orientation": "v",
           "showlegend": true,
           "type": "scatter",
           "x": [
            "carrier_delay",
            "weather_delay",
            "nas_delay",
            "security_delay",
            "late_aircraft_delay"
           ],
           "xaxis": "x",
           "y": [
            61,
            224,
            688,
            0,
            1059
           ],
           "yaxis": "y"
          },
          {
           "hovertemplate": "state=Montana<br>day=30<br>variable=%{x}<br>value=%{marker.size}<extra></extra>",
           "legendgroup": "Montana",
           "marker": {
            "color": "#636efa",
            "size": [
             80,
             184,
             414,
             0,
             823
            ],
            "sizemode": "area",
            "sizeref": 73.6175,
            "symbol": "circle"
           },
           "mode": "markers",
           "name": "Montana",
           "orientation": "v",
           "showlegend": true,
           "type": "scatter",
           "x": [
            "carrier_delay",
            "weather_delay",
            "nas_delay",
            "security_delay",
            "late_aircraft_delay"
           ],
           "xaxis": "x",
           "y": [
            80,
            184,
            414,
            0,
            823
           ],
           "yaxis": "y"
          },
          {
           "hovertemplate": "state=West Virginia<br>day=30<br>variable=%{x}<br>value=%{marker.size}<extra></extra>",
           "legendgroup": "West Virginia",
           "marker": {
            "color": "#EF553B",
            "size": [
             0,
             0,
             68,
             0,
             38
            ],
            "sizemode": "area",
            "sizeref": 73.6175,
            "symbol": "circle"
           },
           "mode": "markers",
           "name": "West Virginia",
           "orientation": "v",
           "showlegend": true,
           "type": "scatter",
           "x": [
            "carrier_delay",
            "weather_delay",
            "nas_delay",
            "security_delay",
            "late_aircraft_delay"
           ],
           "xaxis": "x",
           "y": [
            0,
            0,
            68,
            0,
            38
           ],
           "yaxis": "y"
          }
         ],
         "name": "30"
        },
        {
         "data": [
          {
           "hovertemplate": "state=Georgia<br>day=31<br>variable=%{x}<br>value=%{marker.size}<extra></extra>",
           "legendgroup": "Georgia",
           "marker": {
            "color": "#636efa",
            "size": [
             3446,
             358,
             3501,
             11,
             3753
            ],
            "sizemode": "area",
            "sizeref": 73.6175,
            "symbol": "circle"
           },
           "mode": "markers",
           "name": "Georgia",
           "orientation": "v",
           "showlegend": true,
           "type": "scatter",
           "x": [
            "carrier_delay",
            "weather_delay",
            "nas_delay",
            "security_delay",
            "late_aircraft_delay"
           ],
           "xaxis": "x",
           "y": [
            3446,
            358,
            3501,
            11,
            3753
           ],
           "yaxis": "y"
          },
          {
           "hovertemplate": "state=Tennessee<br>day=31<br>variable=%{x}<br>value=%{marker.size}<extra></extra>",
           "legendgroup": "Tennessee",
           "marker": {
            "color": "#EF553B",
            "size": [
             1283,
             194,
             1131,
             0,
             1823
            ],
            "sizemode": "area",
            "sizeref": 73.6175,
            "symbol": "circle"
           },
           "mode": "markers",
           "name": "Tennessee",
           "orientation": "v",
           "showlegend": true,
           "type": "scatter",
           "x": [
            "carrier_delay",
            "weather_delay",
            "nas_delay",
            "security_delay",
            "late_aircraft_delay"
           ],
           "xaxis": "x",
           "y": [
            1283,
            194,
            1131,
            0,
            1823
           ],
           "yaxis": "y"
          },
          {
           "hovertemplate": "state=Virginia<br>day=31<br>variable=%{x}<br>value=%{marker.size}<extra></extra>",
           "legendgroup": "Virginia",
           "marker": {
            "color": "#00cc96",
            "size": [
             297,
             375,
             754,
             0,
             1055
            ],
            "sizemode": "area",
            "sizeref": 73.6175,
            "symbol": "circle"
           },
           "mode": "markers",
           "name": "Virginia",
           "orientation": "v",
           "showlegend": true,
           "type": "scatter",
           "x": [
            "carrier_delay",
            "weather_delay",
            "nas_delay",
            "security_delay",
            "late_aircraft_delay"
           ],
           "xaxis": "x",
           "y": [
            297,
            375,
            754,
            0,
            1055
           ],
           "yaxis": "y"
          },
          {
           "hovertemplate": "state=Mississippi<br>day=31<br>variable=%{x}<br>value=%{marker.size}<extra></extra>",
           "legendgroup": "Mississippi",
           "marker": {
            "color": "#ab63fa",
            "size": [
             9,
             0,
             77,
             0,
             310
            ],
            "sizemode": "area",
            "sizeref": 73.6175,
            "symbol": "circle"
           },
           "mode": "markers",
           "name": "Mississippi",
           "orientation": "v",
           "showlegend": true,
           "type": "scatter",
           "x": [
            "carrier_delay",
            "weather_delay",
            "nas_delay",
            "security_delay",
            "late_aircraft_delay"
           ],
           "xaxis": "x",
           "y": [
            9,
            0,
            77,
            0,
            310
           ],
           "yaxis": "y"
          },
          {
           "hovertemplate": "state=District of Columbia<br>day=31<br>variable=%{x}<br>value=%{marker.size}<extra></extra>",
           "legendgroup": "District of Columbia",
           "marker": {
            "color": "#FFA15A",
            "size": [
             2581,
             1215,
             3816,
             0,
             1664
            ],
            "sizemode": "area",
            "sizeref": 73.6175,
            "symbol": "circle"
           },
           "mode": "markers",
           "name": "District of Columbia",
           "orientation": "v",
           "showlegend": true,
           "type": "scatter",
           "x": [
            "carrier_delay",
            "weather_delay",
            "nas_delay",
            "security_delay",
            "late_aircraft_delay"
           ],
           "xaxis": "x",
           "y": [
            2581,
            1215,
            3816,
            0,
            1664
           ],
           "yaxis": "y"
          },
          {
           "hovertemplate": "state=Louisiana<br>day=31<br>variable=%{x}<br>value=%{marker.size}<extra></extra>",
           "legendgroup": "Louisiana",
           "marker": {
            "color": "#19d3f3",
            "size": [
             272,
             258,
             442,
             0,
             1831
            ],
            "sizemode": "area",
            "sizeref": 73.6175,
            "symbol": "circle"
           },
           "mode": "markers",
           "name": "Louisiana",
           "orientation": "v",
           "showlegend": true,
           "type": "scatter",
           "x": [
            "carrier_delay",
            "weather_delay",
            "nas_delay",
            "security_delay",
            "late_aircraft_delay"
           ],
           "xaxis": "x",
           "y": [
            272,
            258,
            442,
            0,
            1831
           ],
           "yaxis": "y"
          },
          {
           "hovertemplate": "state=North Carolina<br>day=31<br>variable=%{x}<br>value=%{marker.size}<extra></extra>",
           "legendgroup": "North Carolina",
           "marker": {
            "color": "#FF6692",
            "size": [
             1857,
             445,
             3114,
             0,
             2756
            ],
            "sizemode": "area",
            "sizeref": 73.6175,
            "symbol": "circle"
           },
           "mode": "markers",
           "name": "North Carolina",
           "orientation": "v",
           "showlegend": true,
           "type": "scatter",
           "x": [
            "carrier_delay",
            "weather_delay",
            "nas_delay",
            "security_delay",
            "late_aircraft_delay"
           ],
           "xaxis": "x",
           "y": [
            1857,
            445,
            3114,
            0,
            2756
           ],
           "yaxis": "y"
          },
          {
           "hovertemplate": "state=Florida<br>day=31<br>variable=%{x}<br>value=%{marker.size}<extra></extra>",
           "legendgroup": "Florida",
           "marker": {
            "color": "#B6E880",
            "size": [
             5615,
             423,
             5503,
             18,
             14994
            ],
            "sizemode": "area",
            "sizeref": 73.6175,
            "symbol": "circle"
           },
           "mode": "markers",
           "name": "Florida",
           "orientation": "v",
           "showlegend": true,
           "type": "scatter",
           "x": [
            "carrier_delay",
            "weather_delay",
            "nas_delay",
            "security_delay",
            "late_aircraft_delay"
           ],
           "xaxis": "x",
           "y": [
            5615,
            423,
            5503,
            18,
            14994
           ],
           "yaxis": "y"
          },
          {
           "hovertemplate": "state=Missouri<br>day=31<br>variable=%{x}<br>value=%{marker.size}<extra></extra>",
           "legendgroup": "Missouri",
           "marker": {
            "color": "#FF97FF",
            "size": [
             653,
             14,
             920,
             0,
             1192
            ],
            "sizemode": "area",
            "sizeref": 73.6175,
            "symbol": "circle"
           },
           "mode": "markers",
           "name": "Missouri",
           "orientation": "v",
           "showlegend": true,
           "type": "scatter",
           "x": [
            "carrier_delay",
            "weather_delay",
            "nas_delay",
            "security_delay",
            "late_aircraft_delay"
           ],
           "xaxis": "x",
           "y": [
            653,
            14,
            920,
            0,
            1192
           ],
           "yaxis": "y"
          },
          {
           "hovertemplate": "state=Wisconsin<br>day=31<br>variable=%{x}<br>value=%{marker.size}<extra></extra>",
           "legendgroup": "Wisconsin",
           "marker": {
            "color": "#FECB52",
            "size": [
             590,
             47,
             782,
             0,
             1207
            ],
            "sizemode": "area",
            "sizeref": 73.6175,
            "symbol": "circle"
           },
           "mode": "markers",
           "name": "Wisconsin",
           "orientation": "v",
           "showlegend": true,
           "type": "scatter",
           "x": [
            "carrier_delay",
            "weather_delay",
            "nas_delay",
            "security_delay",
            "late_aircraft_delay"
           ],
           "xaxis": "x",
           "y": [
            590,
            47,
            782,
            0,
            1207
           ],
           "yaxis": "y"
          },
          {
           "hovertemplate": "state=New York<br>day=31<br>variable=%{x}<br>value=%{marker.size}<extra></extra>",
           "legendgroup": "New York",
           "marker": {
            "color": "#636efa",
            "size": [
             4393,
             6567,
             8576,
             16,
             9701
            ],
            "sizemode": "area",
            "sizeref": 73.6175,
            "symbol": "circle"
           },
           "mode": "markers",
           "name": "New York",
           "orientation": "v",
           "showlegend": true,
           "type": "scatter",
           "x": [
            "carrier_delay",
            "weather_delay",
            "nas_delay",
            "security_delay",
            "late_aircraft_delay"
           ],
           "xaxis": "x",
           "y": [
            4393,
            6567,
            8576,
            16,
            9701
           ],
           "yaxis": "y"
          },
          {
           "hovertemplate": "state=Rhode Island<br>day=31<br>variable=%{x}<br>value=%{marker.size}<extra></extra>",
           "legendgroup": "Rhode Island",
           "marker": {
            "color": "#EF553B",
            "size": [
             378,
             259,
             912,
             0,
             466
            ],
            "sizemode": "area",
            "sizeref": 73.6175,
            "symbol": "circle"
           },
           "mode": "markers",
           "name": "Rhode Island",
           "orientation": "v",
           "showlegend": true,
           "type": "scatter",
           "x": [
            "carrier_delay",
            "weather_delay",
            "nas_delay",
            "security_delay",
            "late_aircraft_delay"
           ],
           "xaxis": "x",
           "y": [
            378,
            259,
            912,
            0,
            466
           ],
           "yaxis": "y"
          },
          {
           "hovertemplate": "state=Texas<br>day=31<br>variable=%{x}<br>value=%{marker.size}<extra></extra>",
           "legendgroup": "Texas",
           "marker": {
            "color": "#00cc96",
            "size": [
             12510,
             898,
             3647,
             78,
             12715
            ],
            "sizemode": "area",
            "sizeref": 73.6175,
            "symbol": "circle"
           },
           "mode": "markers",
           "name": "Texas",
           "orientation": "v",
           "showlegend": true,
           "type": "scatter",
           "x": [
            "carrier_delay",
            "weather_delay",
            "nas_delay",
            "security_delay",
            "late_aircraft_delay"
           ],
           "xaxis": "x",
           "y": [
            12510,
            898,
            3647,
            78,
            12715
           ],
           "yaxis": "y"
          },
          {
           "hovertemplate": "state=Kentucky<br>day=31<br>variable=%{x}<br>value=%{marker.size}<extra></extra>",
           "legendgroup": "Kentucky",
           "marker": {
            "color": "#ab63fa",
            "size": [
             62,
             26,
             130,
             0,
             263
            ],
            "sizemode": "area",
            "sizeref": 73.6175,
            "symbol": "circle"
           },
           "mode": "markers",
           "name": "Kentucky",
           "orientation": "v",
           "showlegend": true,
           "type": "scatter",
           "x": [
            "carrier_delay",
            "weather_delay",
            "nas_delay",
            "security_delay",
            "late_aircraft_delay"
           ],
           "xaxis": "x",
           "y": [
            62,
            26,
            130,
            0,
            263
           ],
           "yaxis": "y"
          },
          {
           "hovertemplate": "state=South Carolina<br>day=31<br>variable=%{x}<br>value=%{marker.size}<extra></extra>",
           "legendgroup": "South Carolina",
           "marker": {
            "color": "#FFA15A",
            "size": [
             149,
             48,
             406,
             18,
             390
            ],
            "sizemode": "area",
            "sizeref": 73.6175,
            "symbol": "circle"
           },
           "mode": "markers",
           "name": "South Carolina",
           "orientation": "v",
           "showlegend": true,
           "type": "scatter",
           "x": [
            "carrier_delay",
            "weather_delay",
            "nas_delay",
            "security_delay",
            "late_aircraft_delay"
           ],
           "xaxis": "x",
           "y": [
            149,
            48,
            406,
            18,
            390
           ],
           "yaxis": "y"
          },
          {
           "hovertemplate": "state=Pennsylvania<br>day=31<br>variable=%{x}<br>value=%{marker.size}<extra></extra>",
           "legendgroup": "Pennsylvania",
           "marker": {
            "color": "#19d3f3",
            "size": [
             2114,
             615,
             8467,
             7,
             6723
            ],
            "sizemode": "area",
            "sizeref": 73.6175,
            "symbol": "circle"
           },
           "mode": "markers",
           "name": "Pennsylvania",
           "orientation": "v",
           "showlegend": true,
           "type": "scatter",
           "x": [
            "carrier_delay",
            "weather_delay",
            "nas_delay",
            "security_delay",
            "late_aircraft_delay"
           ],
           "xaxis": "x",
           "y": [
            2114,
            615,
            8467,
            7,
            6723
           ],
           "yaxis": "y"
          },
          {
           "hovertemplate": "state=Illinois<br>day=31<br>variable=%{x}<br>value=%{marker.size}<extra></extra>",
           "legendgroup": "Illinois",
           "marker": {
            "color": "#FF6692",
            "size": [
             6443,
             1058,
             4004,
             0,
             5491
            ],
            "sizemode": "area",
            "sizeref": 73.6175,
            "symbol": "circle"
           },
           "mode": "markers",
           "name": "Illinois",
           "orientation": "v",
           "showlegend": true,
           "type": "scatter",
           "x": [
            "carrier_delay",
            "weather_delay",
            "nas_delay",
            "security_delay",
            "late_aircraft_delay"
           ],
           "xaxis": "x",
           "y": [
            6443,
            1058,
            4004,
            0,
            5491
           ],
           "yaxis": "y"
          },
          {
           "hovertemplate": "state=Ohio<br>day=31<br>variable=%{x}<br>value=%{marker.size}<extra></extra>",
           "legendgroup": "Ohio",
           "marker": {
            "color": "#B6E880",
            "size": [
             2014,
             122,
             2063,
             562,
             3123
            ],
            "sizemode": "area",
            "sizeref": 73.6175,
            "symbol": "circle"
           },
           "mode": "markers",
           "name": "Ohio",
           "orientation": "v",
           "showlegend": true,
           "type": "scatter",
           "x": [
            "carrier_delay",
            "weather_delay",
            "nas_delay",
            "security_delay",
            "late_aircraft_delay"
           ],
           "xaxis": "x",
           "y": [
            2014,
            122,
            2063,
            562,
            3123
           ],
           "yaxis": "y"
          },
          {
           "hovertemplate": "state=Michigan<br>day=31<br>variable=%{x}<br>value=%{marker.size}<extra></extra>",
           "legendgroup": "Michigan",
           "marker": {
            "color": "#FF97FF",
            "size": [
             1715,
             965,
             1944,
             0,
             1338
            ],
            "sizemode": "area",
            "sizeref": 73.6175,
            "symbol": "circle"
           },
           "mode": "markers",
           "name": "Michigan",
           "orientation": "v",
           "showlegend": true,
           "type": "scatter",
           "x": [
            "carrier_delay",
            "weather_delay",
            "nas_delay",
            "security_delay",
            "late_aircraft_delay"
           ],
           "xaxis": "x",
           "y": [
            1715,
            965,
            1944,
            0,
            1338
           ],
           "yaxis": "y"
          },
          {
           "hovertemplate": "state=New Jersey<br>day=31<br>variable=%{x}<br>value=%{marker.size}<extra></extra>",
           "legendgroup": "New Jersey",
           "marker": {
            "color": "#FECB52",
            "size": [
             1702,
             6489,
             2742,
             10,
             3741
            ],
            "sizemode": "area",
            "sizeref": 73.6175,
            "symbol": "circle"
           },
           "mode": "markers",
           "name": "New Jersey",
           "orientation": "v",
           "showlegend": true,
           "type": "scatter",
           "x": [
            "carrier_delay",
            "weather_delay",
            "nas_delay",
            "security_delay",
            "late_aircraft_delay"
           ],
           "xaxis": "x",
           "y": [
            1702,
            6489,
            2742,
            10,
            3741
           ],
           "yaxis": "y"
          },
          {
           "hovertemplate": "state=Oklahoma<br>day=31<br>variable=%{x}<br>value=%{marker.size}<extra></extra>",
           "legendgroup": "Oklahoma",
           "marker": {
            "color": "#636efa",
            "size": [
             720,
             0,
             123,
             0,
             830
            ],
            "sizemode": "area",
            "sizeref": 73.6175,
            "symbol": "circle"
           },
           "mode": "markers",
           "name": "Oklahoma",
           "orientation": "v",
           "showlegend": true,
           "type": "scatter",
           "x": [
            "carrier_delay",
            "weather_delay",
            "nas_delay",
            "security_delay",
            "late_aircraft_delay"
           ],
           "xaxis": "x",
           "y": [
            720,
            0,
            123,
            0,
            830
           ],
           "yaxis": "y"
          },
          {
           "hovertemplate": "state=Maine<br>day=31<br>variable=%{x}<br>value=%{marker.size}<extra></extra>",
           "legendgroup": "Maine",
           "marker": {
            "color": "#EF553B",
            "size": [
             142,
             490,
             396,
             0,
             76
            ],
            "sizemode": "area",
            "sizeref": 73.6175,
            "symbol": "circle"
           },
           "mode": "markers",
           "name": "Maine",
           "orientation": "v",
           "showlegend": true,
           "type": "scatter",
           "x": [
            "carrier_delay",
            "weather_delay",
            "nas_delay",
            "security_delay",
            "late_aircraft_delay"
           ],
           "xaxis": "x",
           "y": [
            142,
            490,
            396,
            0,
            76
           ],
           "yaxis": "y"
          },
          {
           "hovertemplate": "state=Minnesota<br>day=31<br>variable=%{x}<br>value=%{marker.size}<extra></extra>",
           "legendgroup": "Minnesota",
           "marker": {
            "color": "#00cc96",
            "size": [
             1427,
             236,
             789,
             21,
             796
            ],
            "sizemode": "area",
            "sizeref": 73.6175,
            "symbol": "circle"
           },
           "mode": "markers",
           "name": "Minnesota",
           "orientation": "v",
           "showlegend": true,
           "type": "scatter",
           "x": [
            "carrier_delay",
            "weather_delay",
            "nas_delay",
            "security_delay",
            "late_aircraft_delay"
           ],
           "xaxis": "x",
           "y": [
            1427,
            236,
            789,
            21,
            796
           ],
           "yaxis": "y"
          },
          {
           "hovertemplate": "state=Iowa<br>day=31<br>variable=%{x}<br>value=%{marker.size}<extra></extra>",
           "legendgroup": "Iowa",
           "marker": {
            "color": "#ab63fa",
            "size": [
             318,
             29,
             328,
             0,
             386
            ],
            "sizemode": "area",
            "sizeref": 73.6175,
            "symbol": "circle"
           },
           "mode": "markers",
           "name": "Iowa",
           "orientation": "v",
           "showlegend": true,
           "type": "scatter",
           "x": [
            "carrier_delay",
            "weather_delay",
            "nas_delay",
            "security_delay",
            "late_aircraft_delay"
           ],
           "xaxis": "x",
           "y": [
            318,
            29,
            328,
            0,
            386
           ],
           "yaxis": "y"
          },
          {
           "hovertemplate": "state=Alabama<br>day=31<br>variable=%{x}<br>value=%{marker.size}<extra></extra>",
           "legendgroup": "Alabama",
           "marker": {
            "color": "#FFA15A",
            "size": [
             108,
             28,
             211,
             0,
             261
            ],
            "sizemode": "area",
            "sizeref": 73.6175,
            "symbol": "circle"
           },
           "mode": "markers",
           "name": "Alabama",
           "orientation": "v",
           "showlegend": true,
           "type": "scatter",
           "x": [
            "carrier_delay",
            "weather_delay",
            "nas_delay",
            "security_delay",
            "late_aircraft_delay"
           ],
           "xaxis": "x",
           "y": [
            108,
            28,
            211,
            0,
            261
           ],
           "yaxis": "y"
          },
          {
           "hovertemplate": "state=Indiana<br>day=31<br>variable=%{x}<br>value=%{marker.size}<extra></extra>",
           "legendgroup": "Indiana",
           "marker": {
            "color": "#19d3f3",
            "size": [
             206,
             377,
             572,
             0,
             1059
            ],
            "sizemode": "area",
            "sizeref": 73.6175,
            "symbol": "circle"
           },
           "mode": "markers",
           "name": "Indiana",
           "orientation": "v",
           "showlegend": true,
           "type": "scatter",
           "x": [
            "carrier_delay",
            "weather_delay",
            "nas_delay",
            "security_delay",
            "late_aircraft_delay"
           ],
           "xaxis": "x",
           "y": [
            206,
            377,
            572,
            0,
            1059
           ],
           "yaxis": "y"
          },
          {
           "hovertemplate": "state=Kansas<br>day=31<br>variable=%{x}<br>value=%{marker.size}<extra></extra>",
           "legendgroup": "Kansas",
           "marker": {
            "color": "#FF6692",
            "size": [
             35,
             0,
             86,
             0,
             239
            ],
            "sizemode": "area",
            "sizeref": 73.6175,
            "symbol": "circle"
           },
           "mode": "markers",
           "name": "Kansas",
           "orientation": "v",
           "showlegend": true,
           "type": "scatter",
           "x": [
            "carrier_delay",
            "weather_delay",
            "nas_delay",
            "security_delay",
            "late_aircraft_delay"
           ],
           "xaxis": "x",
           "y": [
            35,
            0,
            86,
            0,
            239
           ],
           "yaxis": "y"
          },
          {
           "hovertemplate": "state=South Dakota<br>day=31<br>variable=%{x}<br>value=%{marker.size}<extra></extra>",
           "legendgroup": "South Dakota",
           "marker": {
            "color": "#B6E880",
            "size": [
             65,
             0,
             16,
             0,
             0
            ],
            "sizemode": "area",
            "sizeref": 73.6175,
            "symbol": "circle"
           },
           "mode": "markers",
           "name": "South Dakota",
           "orientation": "v",
           "showlegend": true,
           "type": "scatter",
           "x": [
            "carrier_delay",
            "weather_delay",
            "nas_delay",
            "security_delay",
            "late_aircraft_delay"
           ],
           "xaxis": "x",
           "y": [
            65,
            0,
            16,
            0,
            0
           ],
           "yaxis": "y"
          },
          {
           "hovertemplate": "state=North Dakota<br>day=31<br>variable=%{x}<br>value=%{marker.size}<extra></extra>",
           "legendgroup": "North Dakota",
           "marker": {
            "color": "#FF97FF",
            "size": [
             95,
             0,
             23,
             0,
             223
            ],
            "sizemode": "area",
            "sizeref": 73.6175,
            "symbol": "circle"
           },
           "mode": "markers",
           "name": "North Dakota",
           "orientation": "v",
           "showlegend": true,
           "type": "scatter",
           "x": [
            "carrier_delay",
            "weather_delay",
            "nas_delay",
            "security_delay",
            "late_aircraft_delay"
           ],
           "xaxis": "x",
           "y": [
            95,
            0,
            23,
            0,
            223
           ],
           "yaxis": "y"
          },
          {
           "hovertemplate": "state=Nebraska<br>day=31<br>variable=%{x}<br>value=%{marker.size}<extra></extra>",
           "legendgroup": "Nebraska",
           "marker": {
            "color": "#FECB52",
            "size": [
             668,
             0,
             336,
             0,
             307
            ],
            "sizemode": "area",
            "sizeref": 73.6175,
            "symbol": "circle"
           },
           "mode": "markers",
           "name": "Nebraska",
           "orientation": "v",
           "showlegend": true,
           "type": "scatter",
           "x": [
            "carrier_delay",
            "weather_delay",
            "nas_delay",
            "security_delay",
            "late_aircraft_delay"
           ],
           "xaxis": "x",
           "y": [
            668,
            0,
            336,
            0,
            307
           ],
           "yaxis": "y"
          },
          {
           "hovertemplate": "state=Vermont<br>day=31<br>variable=%{x}<br>value=%{marker.size}<extra></extra>",
           "legendgroup": "Vermont",
           "marker": {
            "color": "#636efa",
            "size": [
             2,
             205,
             124,
             0,
             101
            ],
            "sizemode": "area",
            "sizeref": 73.6175,
            "symbol": "circle"
           },
           "mode": "markers",
           "name": "Vermont",
           "orientation": "v",
           "showlegend": true,
           "type": "scatter",
           "x": [
            "carrier_delay",
            "weather_delay",
            "nas_delay",
            "security_delay",
            "late_aircraft_delay"
           ],
           "xaxis": "x",
           "y": [
            2,
            205,
            124,
            0,
            101
           ],
           "yaxis": "y"
          },
          {
           "hovertemplate": "state=Arkansas<br>day=31<br>variable=%{x}<br>value=%{marker.size}<extra></extra>",
           "legendgroup": "Arkansas",
           "marker": {
            "color": "#EF553B",
            "size": [
             342,
             19,
             414,
             0,
             1089
            ],
            "sizemode": "area",
            "sizeref": 73.6175,
            "symbol": "circle"
           },
           "mode": "markers",
           "name": "Arkansas",
           "orientation": "v",
           "showlegend": true,
           "type": "scatter",
           "x": [
            "carrier_delay",
            "weather_delay",
            "nas_delay",
            "security_delay",
            "late_aircraft_delay"
           ],
           "xaxis": "x",
           "y": [
            342,
            19,
            414,
            0,
            1089
           ],
           "yaxis": "y"
          },
          {
           "hovertemplate": "state=Massachusetts<br>day=31<br>variable=%{x}<br>value=%{marker.size}<extra></extra>",
           "legendgroup": "Massachusetts",
           "marker": {
            "color": "#00cc96",
            "size": [
             1672,
             777,
             1736,
             11,
             4200
            ],
            "sizemode": "area",
            "sizeref": 73.6175,
            "symbol": "circle"
           },
           "mode": "markers",
           "name": "Massachusetts",
           "orientation": "v",
           "showlegend": true,
           "type": "scatter",
           "x": [
            "carrier_delay",
            "weather_delay",
            "nas_delay",
            "security_delay",
            "late_aircraft_delay"
           ],
           "xaxis": "x",
           "y": [
            1672,
            777,
            1736,
            11,
            4200
           ],
           "yaxis": "y"
          },
          {
           "hovertemplate": "state=Connecticut<br>day=31<br>variable=%{x}<br>value=%{marker.size}<extra></extra>",
           "legendgroup": "Connecticut",
           "marker": {
            "color": "#ab63fa",
            "size": [
             26,
             10,
             479,
             6,
             221
            ],
            "sizemode": "area",
            "sizeref": 73.6175,
            "symbol": "circle"
           },
           "mode": "markers",
           "name": "Connecticut",
           "orientation": "v",
           "showlegend": true,
           "type": "scatter",
           "x": [
            "carrier_delay",
            "weather_delay",
            "nas_delay",
            "security_delay",
            "late_aircraft_delay"
           ],
           "xaxis": "x",
           "y": [
            26,
            10,
            479,
            6,
            221
           ],
           "yaxis": "y"
          },
          {
           "hovertemplate": "state=New Hampshire<br>day=31<br>variable=%{x}<br>value=%{marker.size}<extra></extra>",
           "legendgroup": "New Hampshire",
           "marker": {
            "color": "#FFA15A",
            "size": [
             121,
             278,
             219,
             0,
             223
            ],
            "sizemode": "area",
            "sizeref": 73.6175,
            "symbol": "circle"
           },
           "mode": "markers",
           "name": "New Hampshire",
           "orientation": "v",
           "showlegend": true,
           "type": "scatter",
           "x": [
            "carrier_delay",
            "weather_delay",
            "nas_delay",
            "security_delay",
            "late_aircraft_delay"
           ],
           "xaxis": "x",
           "y": [
            121,
            278,
            219,
            0,
            223
           ],
           "yaxis": "y"
          },
          {
           "hovertemplate": "state=California<br>day=31<br>variable=%{x}<br>value=%{marker.size}<extra></extra>",
           "legendgroup": "California",
           "marker": {
            "color": "#19d3f3",
            "size": [
             3874,
             588,
             2726,
             0,
             6608
            ],
            "sizemode": "area",
            "sizeref": 73.6175,
            "symbol": "circle"
           },
           "mode": "markers",
           "name": "California",
           "orientation": "v",
           "showlegend": true,
           "type": "scatter",
           "x": [
            "carrier_delay",
            "weather_delay",
            "nas_delay",
            "security_delay",
            "late_aircraft_delay"
           ],
           "xaxis": "x",
           "y": [
            3874,
            588,
            2726,
            0,
            6608
           ],
           "yaxis": "y"
          },
          {
           "hovertemplate": "state=Hawaii<br>day=31<br>variable=%{x}<br>value=%{marker.size}<extra></extra>",
           "legendgroup": "Hawaii",
           "marker": {
            "color": "#FF6692",
            "size": [
             942,
             0,
             20,
             0,
             639
            ],
            "sizemode": "area",
            "sizeref": 73.6175,
            "symbol": "circle"
           },
           "mode": "markers",
           "name": "Hawaii",
           "orientation": "v",
           "showlegend": true,
           "type": "scatter",
           "x": [
            "carrier_delay",
            "weather_delay",
            "nas_delay",
            "security_delay",
            "late_aircraft_delay"
           ],
           "xaxis": "x",
           "y": [
            942,
            0,
            20,
            0,
            639
           ],
           "yaxis": "y"
          },
          {
           "hovertemplate": "state=Puerto Rico<br>day=31<br>variable=%{x}<br>value=%{marker.size}<extra></extra>",
           "legendgroup": "Puerto Rico",
           "marker": {
            "color": "#B6E880",
            "size": [
             337,
             21,
             245,
             11,
             1512
            ],
            "sizemode": "area",
            "sizeref": 73.6175,
            "symbol": "circle"
           },
           "mode": "markers",
           "name": "Puerto Rico",
           "orientation": "v",
           "showlegend": true,
           "type": "scatter",
           "x": [
            "carrier_delay",
            "weather_delay",
            "nas_delay",
            "security_delay",
            "late_aircraft_delay"
           ],
           "xaxis": "x",
           "y": [
            337,
            21,
            245,
            11,
            1512
           ],
           "yaxis": "y"
          },
          {
           "hovertemplate": "state=Nevada<br>day=31<br>variable=%{x}<br>value=%{marker.size}<extra></extra>",
           "legendgroup": "Nevada",
           "marker": {
            "color": "#FF97FF",
            "size": [
             574,
             89,
             289,
             20,
             1557
            ],
            "sizemode": "area",
            "sizeref": 73.6175,
            "symbol": "circle"
           },
           "mode": "markers",
           "name": "Nevada",
           "orientation": "v",
           "showlegend": true,
           "type": "scatter",
           "x": [
            "carrier_delay",
            "weather_delay",
            "nas_delay",
            "security_delay",
            "late_aircraft_delay"
           ],
           "xaxis": "x",
           "y": [
            574,
            89,
            289,
            20,
            1557
           ],
           "yaxis": "y"
          },
          {
           "hovertemplate": "state=Washington<br>day=31<br>variable=%{x}<br>value=%{marker.size}<extra></extra>",
           "legendgroup": "Washington",
           "marker": {
            "color": "#FECB52",
            "size": [
             726,
             184,
             461,
             0,
             1384
            ],
            "sizemode": "area",
            "sizeref": 73.6175,
            "symbol": "circle"
           },
           "mode": "markers",
           "name": "Washington",
           "orientation": "v",
           "showlegend": true,
           "type": "scatter",
           "x": [
            "carrier_delay",
            "weather_delay",
            "nas_delay",
            "security_delay",
            "late_aircraft_delay"
           ],
           "xaxis": "x",
           "y": [
            726,
            184,
            461,
            0,
            1384
           ],
           "yaxis": "y"
          },
          {
           "hovertemplate": "state=Colorado<br>day=31<br>variable=%{x}<br>value=%{marker.size}<extra></extra>",
           "legendgroup": "Colorado",
           "marker": {
            "color": "#636efa",
            "size": [
             2674,
             416,
             920,
             27,
             3350
            ],
            "sizemode": "area",
            "sizeref": 73.6175,
            "symbol": "circle"
           },
           "mode": "markers",
           "name": "Colorado",
           "orientation": "v",
           "showlegend": true,
           "type": "scatter",
           "x": [
            "carrier_delay",
            "weather_delay",
            "nas_delay",
            "security_delay",
            "late_aircraft_delay"
           ],
           "xaxis": "x",
           "y": [
            2674,
            416,
            920,
            27,
            3350
           ],
           "yaxis": "y"
          },
          {
           "hovertemplate": "state=New Mexico<br>day=31<br>variable=%{x}<br>value=%{marker.size}<extra></extra>",
           "legendgroup": "New Mexico",
           "marker": {
            "color": "#EF553B",
            "size": [
             71,
             0,
             61,
             0,
             436
            ],
            "sizemode": "area",
            "sizeref": 73.6175,
            "symbol": "circle"
           },
           "mode": "markers",
           "name": "New Mexico",
           "orientation": "v",
           "showlegend": true,
           "type": "scatter",
           "x": [
            "carrier_delay",
            "weather_delay",
            "nas_delay",
            "security_delay",
            "late_aircraft_delay"
           ],
           "xaxis": "x",
           "y": [
            71,
            0,
            61,
            0,
            436
           ],
           "yaxis": "y"
          },
          {
           "hovertemplate": "state=Arizona<br>day=31<br>variable=%{x}<br>value=%{marker.size}<extra></extra>",
           "legendgroup": "Arizona",
           "marker": {
            "color": "#00cc96",
            "size": [
             1849,
             71,
             744,
             91,
             1586
            ],
            "sizemode": "area",
            "sizeref": 73.6175,
            "symbol": "circle"
           },
           "mode": "markers",
           "name": "Arizona",
           "orientation": "v",
           "showlegend": true,
           "type": "scatter",
           "x": [
            "carrier_delay",
            "weather_delay",
            "nas_delay",
            "security_delay",
            "late_aircraft_delay"
           ],
           "xaxis": "x",
           "y": [
            1849,
            71,
            744,
            91,
            1586
           ],
           "yaxis": "y"
          },
          {
           "hovertemplate": "state=Utah<br>day=31<br>variable=%{x}<br>value=%{marker.size}<extra></extra>",
           "legendgroup": "Utah",
           "marker": {
            "color": "#ab63fa",
            "size": [
             1400,
             18,
             566,
             15,
             1049
            ],
            "sizemode": "area",
            "sizeref": 73.6175,
            "symbol": "circle"
           },
           "mode": "markers",
           "name": "Utah",
           "orientation": "v",
           "showlegend": true,
           "type": "scatter",
           "x": [
            "carrier_delay",
            "weather_delay",
            "nas_delay",
            "security_delay",
            "late_aircraft_delay"
           ],
           "xaxis": "x",
           "y": [
            1400,
            18,
            566,
            15,
            1049
           ],
           "yaxis": "y"
          },
          {
           "hovertemplate": "state=U.S. Virgin Islands<br>day=31<br>variable=%{x}<br>value=%{marker.size}<extra></extra>",
           "legendgroup": "U.S. Virgin Islands",
           "marker": {
            "color": "#FFA15A",
            "size": [
             53,
             8,
             35,
             0,
             199
            ],
            "sizemode": "area",
            "sizeref": 73.6175,
            "symbol": "circle"
           },
           "mode": "markers",
           "name": "U.S. Virgin Islands",
           "orientation": "v",
           "showlegend": true,
           "type": "scatter",
           "x": [
            "carrier_delay",
            "weather_delay",
            "nas_delay",
            "security_delay",
            "late_aircraft_delay"
           ],
           "xaxis": "x",
           "y": [
            53,
            8,
            35,
            0,
            199
           ],
           "yaxis": "y"
          },
          {
           "hovertemplate": "state=Oregon<br>day=31<br>variable=%{x}<br>value=%{marker.size}<extra></extra>",
           "legendgroup": "Oregon",
           "marker": {
            "color": "#19d3f3",
            "size": [
             757,
             11,
             98,
             0,
             464
            ],
            "sizemode": "area",
            "sizeref": 73.6175,
            "symbol": "circle"
           },
           "mode": "markers",
           "name": "Oregon",
           "orientation": "v",
           "showlegend": true,
           "type": "scatter",
           "x": [
            "carrier_delay",
            "weather_delay",
            "nas_delay",
            "security_delay",
            "late_aircraft_delay"
           ],
           "xaxis": "x",
           "y": [
            757,
            11,
            98,
            0,
            464
           ],
           "yaxis": "y"
          },
          {
           "hovertemplate": "state=Maryland<br>day=31<br>variable=%{x}<br>value=%{marker.size}<extra></extra>",
           "legendgroup": "Maryland",
           "marker": {
            "color": "#FF6692",
            "size": [
             1557,
             744,
             3096,
             0,
             2667
            ],
            "sizemode": "area",
            "sizeref": 73.6175,
            "symbol": "circle"
           },
           "mode": "markers",
           "name": "Maryland",
           "orientation": "v",
           "showlegend": true,
           "type": "scatter",
           "x": [
            "carrier_delay",
            "weather_delay",
            "nas_delay",
            "security_delay",
            "late_aircraft_delay"
           ],
           "xaxis": "x",
           "y": [
            1557,
            744,
            3096,
            0,
            2667
           ],
           "yaxis": "y"
          },
          {
           "hovertemplate": "state=Wyoming<br>day=31<br>variable=%{x}<br>value=%{marker.size}<extra></extra>",
           "legendgroup": "Wyoming",
           "marker": {
            "color": "#B6E880",
            "size": [
             227,
             0,
             4,
             0,
             75
            ],
            "sizemode": "area",
            "sizeref": 73.6175,
            "symbol": "circle"
           },
           "mode": "markers",
           "name": "Wyoming",
           "orientation": "v",
           "showlegend": true,
           "type": "scatter",
           "x": [
            "carrier_delay",
            "weather_delay",
            "nas_delay",
            "security_delay",
            "late_aircraft_delay"
           ],
           "xaxis": "x",
           "y": [
            227,
            0,
            4,
            0,
            75
           ],
           "yaxis": "y"
          },
          {
           "hovertemplate": "state=Alaska<br>day=31<br>variable=%{x}<br>value=%{marker.size}<extra></extra>",
           "legendgroup": "Alaska",
           "marker": {
            "color": "#FF97FF",
            "size": [
             30,
             0,
             15,
             0,
             126
            ],
            "sizemode": "area",
            "sizeref": 73.6175,
            "symbol": "circle"
           },
           "mode": "markers",
           "name": "Alaska",
           "orientation": "v",
           "showlegend": true,
           "type": "scatter",
           "x": [
            "carrier_delay",
            "weather_delay",
            "nas_delay",
            "security_delay",
            "late_aircraft_delay"
           ],
           "xaxis": "x",
           "y": [
            30,
            0,
            15,
            0,
            126
           ],
           "yaxis": "y"
          },
          {
           "hovertemplate": "state=Idaho<br>day=31<br>variable=%{x}<br>value=%{marker.size}<extra></extra>",
           "legendgroup": "Idaho",
           "marker": {
            "color": "#FECB52",
            "size": [
             110,
             0,
             84,
             0,
             168
            ],
            "sizemode": "area",
            "sizeref": 73.6175,
            "symbol": "circle"
           },
           "mode": "markers",
           "name": "Idaho",
           "orientation": "v",
           "showlegend": true,
           "type": "scatter",
           "x": [
            "carrier_delay",
            "weather_delay",
            "nas_delay",
            "security_delay",
            "late_aircraft_delay"
           ],
           "xaxis": "x",
           "y": [
            110,
            0,
            84,
            0,
            168
           ],
           "yaxis": "y"
          },
          {
           "hovertemplate": "state=Montana<br>day=31<br>variable=%{x}<br>value=%{marker.size}<extra></extra>",
           "legendgroup": "Montana",
           "marker": {
            "color": "#636efa",
            "size": [
             499,
             4,
             29,
             0,
             409
            ],
            "sizemode": "area",
            "sizeref": 73.6175,
            "symbol": "circle"
           },
           "mode": "markers",
           "name": "Montana",
           "orientation": "v",
           "showlegend": true,
           "type": "scatter",
           "x": [
            "carrier_delay",
            "weather_delay",
            "nas_delay",
            "security_delay",
            "late_aircraft_delay"
           ],
           "xaxis": "x",
           "y": [
            499,
            4,
            29,
            0,
            409
           ],
           "yaxis": "y"
          },
          {
           "hovertemplate": "state=West Virginia<br>day=31<br>variable=%{x}<br>value=%{marker.size}<extra></extra>",
           "legendgroup": "West Virginia",
           "marker": {
            "color": "#EF553B",
            "size": [
             30,
             0,
             0,
             0,
             0
            ],
            "sizemode": "area",
            "sizeref": 73.6175,
            "symbol": "circle"
           },
           "mode": "markers",
           "name": "West Virginia",
           "orientation": "v",
           "showlegend": true,
           "type": "scatter",
           "x": [
            "carrier_delay",
            "weather_delay",
            "nas_delay",
            "security_delay",
            "late_aircraft_delay"
           ],
           "xaxis": "x",
           "y": [
            30,
            0,
            0,
            0,
            0
           ],
           "yaxis": "y"
          }
         ],
         "name": "31"
        }
       ],
       "layout": {
        "legend": {
         "itemsizing": "constant",
         "title": {
          "text": "state"
         },
         "tracegroupgap": 0
        },
        "sliders": [
         {
          "active": 0,
          "currentvalue": {
           "prefix": "day="
          },
          "len": 0.9,
          "pad": {
           "b": 10,
           "t": 60
          },
          "steps": [
           {
            "args": [
             [
              "22"
             ],
             {
              "frame": {
               "duration": 0,
               "redraw": false
              },
              "fromcurrent": true,
              "mode": "immediate",
              "transition": {
               "duration": 0,
               "easing": "linear"
              }
             }
            ],
            "label": "22",
            "method": "animate"
           },
           {
            "args": [
             [
              "23"
             ],
             {
              "frame": {
               "duration": 0,
               "redraw": false
              },
              "fromcurrent": true,
              "mode": "immediate",
              "transition": {
               "duration": 0,
               "easing": "linear"
              }
             }
            ],
            "label": "23",
            "method": "animate"
           },
           {
            "args": [
             [
              "24"
             ],
             {
              "frame": {
               "duration": 0,
               "redraw": false
              },
              "fromcurrent": true,
              "mode": "immediate",
              "transition": {
               "duration": 0,
               "easing": "linear"
              }
             }
            ],
            "label": "24",
            "method": "animate"
           },
           {
            "args": [
             [
              "25"
             ],
             {
              "frame": {
               "duration": 0,
               "redraw": false
              },
              "fromcurrent": true,
              "mode": "immediate",
              "transition": {
               "duration": 0,
               "easing": "linear"
              }
             }
            ],
            "label": "25",
            "method": "animate"
           },
           {
            "args": [
             [
              "26"
             ],
             {
              "frame": {
               "duration": 0,
               "redraw": false
              },
              "fromcurrent": true,
              "mode": "immediate",
              "transition": {
               "duration": 0,
               "easing": "linear"
              }
             }
            ],
            "label": "26",
            "method": "animate"
           },
           {
            "args": [
             [
              "27"
             ],
             {
              "frame": {
               "duration": 0,
               "redraw": false
              },
              "fromcurrent": true,
              "mode": "immediate",
              "transition": {
               "duration": 0,
               "easing": "linear"
              }
             }
            ],
            "label": "27",
            "method": "animate"
           },
           {
            "args": [
             [
              "28"
             ],
             {
              "frame": {
               "duration": 0,
               "redraw": false
              },
              "fromcurrent": true,
              "mode": "immediate",
              "transition": {
               "duration": 0,
               "easing": "linear"
              }
             }
            ],
            "label": "28",
            "method": "animate"
           },
           {
            "args": [
             [
              "29"
             ],
             {
              "frame": {
               "duration": 0,
               "redraw": false
              },
              "fromcurrent": true,
              "mode": "immediate",
              "transition": {
               "duration": 0,
               "easing": "linear"
              }
             }
            ],
            "label": "29",
            "method": "animate"
           },
           {
            "args": [
             [
              "30"
             ],
             {
              "frame": {
               "duration": 0,
               "redraw": false
              },
              "fromcurrent": true,
              "mode": "immediate",
              "transition": {
               "duration": 0,
               "easing": "linear"
              }
             }
            ],
            "label": "30",
            "method": "animate"
           },
           {
            "args": [
             [
              "31"
             ],
             {
              "frame": {
               "duration": 0,
               "redraw": false
              },
              "fromcurrent": true,
              "mode": "immediate",
              "transition": {
               "duration": 0,
               "easing": "linear"
              }
             }
            ],
            "label": "31",
            "method": "animate"
           }
          ],
          "x": 0.1,
          "xanchor": "left",
          "y": 0,
          "yanchor": "top"
         }
        ],
        "template": {
         "data": {
          "bar": [
           {
            "error_x": {
             "color": "#2a3f5f"
            },
            "error_y": {
             "color": "#2a3f5f"
            },
            "marker": {
             "line": {
              "color": "#E5ECF6",
              "width": 0.5
             },
             "pattern": {
              "fillmode": "overlay",
              "size": 10,
              "solidity": 0.2
             }
            },
            "type": "bar"
           }
          ],
          "barpolar": [
           {
            "marker": {
             "line": {
              "color": "#E5ECF6",
              "width": 0.5
             },
             "pattern": {
              "fillmode": "overlay",
              "size": 10,
              "solidity": 0.2
             }
            },
            "type": "barpolar"
           }
          ],
          "carpet": [
           {
            "aaxis": {
             "endlinecolor": "#2a3f5f",
             "gridcolor": "white",
             "linecolor": "white",
             "minorgridcolor": "white",
             "startlinecolor": "#2a3f5f"
            },
            "baxis": {
             "endlinecolor": "#2a3f5f",
             "gridcolor": "white",
             "linecolor": "white",
             "minorgridcolor": "white",
             "startlinecolor": "#2a3f5f"
            },
            "type": "carpet"
           }
          ],
          "choropleth": [
           {
            "colorbar": {
             "outlinewidth": 0,
             "ticks": ""
            },
            "type": "choropleth"
           }
          ],
          "contour": [
           {
            "colorbar": {
             "outlinewidth": 0,
             "ticks": ""
            },
            "colorscale": [
             [
              0,
              "#0d0887"
             ],
             [
              0.1111111111111111,
              "#46039f"
             ],
             [
              0.2222222222222222,
              "#7201a8"
             ],
             [
              0.3333333333333333,
              "#9c179e"
             ],
             [
              0.4444444444444444,
              "#bd3786"
             ],
             [
              0.5555555555555556,
              "#d8576b"
             ],
             [
              0.6666666666666666,
              "#ed7953"
             ],
             [
              0.7777777777777778,
              "#fb9f3a"
             ],
             [
              0.8888888888888888,
              "#fdca26"
             ],
             [
              1,
              "#f0f921"
             ]
            ],
            "type": "contour"
           }
          ],
          "contourcarpet": [
           {
            "colorbar": {
             "outlinewidth": 0,
             "ticks": ""
            },
            "type": "contourcarpet"
           }
          ],
          "heatmap": [
           {
            "colorbar": {
             "outlinewidth": 0,
             "ticks": ""
            },
            "colorscale": [
             [
              0,
              "#0d0887"
             ],
             [
              0.1111111111111111,
              "#46039f"
             ],
             [
              0.2222222222222222,
              "#7201a8"
             ],
             [
              0.3333333333333333,
              "#9c179e"
             ],
             [
              0.4444444444444444,
              "#bd3786"
             ],
             [
              0.5555555555555556,
              "#d8576b"
             ],
             [
              0.6666666666666666,
              "#ed7953"
             ],
             [
              0.7777777777777778,
              "#fb9f3a"
             ],
             [
              0.8888888888888888,
              "#fdca26"
             ],
             [
              1,
              "#f0f921"
             ]
            ],
            "type": "heatmap"
           }
          ],
          "heatmapgl": [
           {
            "colorbar": {
             "outlinewidth": 0,
             "ticks": ""
            },
            "colorscale": [
             [
              0,
              "#0d0887"
             ],
             [
              0.1111111111111111,
              "#46039f"
             ],
             [
              0.2222222222222222,
              "#7201a8"
             ],
             [
              0.3333333333333333,
              "#9c179e"
             ],
             [
              0.4444444444444444,
              "#bd3786"
             ],
             [
              0.5555555555555556,
              "#d8576b"
             ],
             [
              0.6666666666666666,
              "#ed7953"
             ],
             [
              0.7777777777777778,
              "#fb9f3a"
             ],
             [
              0.8888888888888888,
              "#fdca26"
             ],
             [
              1,
              "#f0f921"
             ]
            ],
            "type": "heatmapgl"
           }
          ],
          "histogram": [
           {
            "marker": {
             "pattern": {
              "fillmode": "overlay",
              "size": 10,
              "solidity": 0.2
             }
            },
            "type": "histogram"
           }
          ],
          "histogram2d": [
           {
            "colorbar": {
             "outlinewidth": 0,
             "ticks": ""
            },
            "colorscale": [
             [
              0,
              "#0d0887"
             ],
             [
              0.1111111111111111,
              "#46039f"
             ],
             [
              0.2222222222222222,
              "#7201a8"
             ],
             [
              0.3333333333333333,
              "#9c179e"
             ],
             [
              0.4444444444444444,
              "#bd3786"
             ],
             [
              0.5555555555555556,
              "#d8576b"
             ],
             [
              0.6666666666666666,
              "#ed7953"
             ],
             [
              0.7777777777777778,
              "#fb9f3a"
             ],
             [
              0.8888888888888888,
              "#fdca26"
             ],
             [
              1,
              "#f0f921"
             ]
            ],
            "type": "histogram2d"
           }
          ],
          "histogram2dcontour": [
           {
            "colorbar": {
             "outlinewidth": 0,
             "ticks": ""
            },
            "colorscale": [
             [
              0,
              "#0d0887"
             ],
             [
              0.1111111111111111,
              "#46039f"
             ],
             [
              0.2222222222222222,
              "#7201a8"
             ],
             [
              0.3333333333333333,
              "#9c179e"
             ],
             [
              0.4444444444444444,
              "#bd3786"
             ],
             [
              0.5555555555555556,
              "#d8576b"
             ],
             [
              0.6666666666666666,
              "#ed7953"
             ],
             [
              0.7777777777777778,
              "#fb9f3a"
             ],
             [
              0.8888888888888888,
              "#fdca26"
             ],
             [
              1,
              "#f0f921"
             ]
            ],
            "type": "histogram2dcontour"
           }
          ],
          "mesh3d": [
           {
            "colorbar": {
             "outlinewidth": 0,
             "ticks": ""
            },
            "type": "mesh3d"
           }
          ],
          "parcoords": [
           {
            "line": {
             "colorbar": {
              "outlinewidth": 0,
              "ticks": ""
             }
            },
            "type": "parcoords"
           }
          ],
          "pie": [
           {
            "automargin": true,
            "type": "pie"
           }
          ],
          "scatter": [
           {
            "fillpattern": {
             "fillmode": "overlay",
             "size": 10,
             "solidity": 0.2
            },
            "type": "scatter"
           }
          ],
          "scatter3d": [
           {
            "line": {
             "colorbar": {
              "outlinewidth": 0,
              "ticks": ""
             }
            },
            "marker": {
             "colorbar": {
              "outlinewidth": 0,
              "ticks": ""
             }
            },
            "type": "scatter3d"
           }
          ],
          "scattercarpet": [
           {
            "marker": {
             "colorbar": {
              "outlinewidth": 0,
              "ticks": ""
             }
            },
            "type": "scattercarpet"
           }
          ],
          "scattergeo": [
           {
            "marker": {
             "colorbar": {
              "outlinewidth": 0,
              "ticks": ""
             }
            },
            "type": "scattergeo"
           }
          ],
          "scattergl": [
           {
            "marker": {
             "colorbar": {
              "outlinewidth": 0,
              "ticks": ""
             }
            },
            "type": "scattergl"
           }
          ],
          "scattermapbox": [
           {
            "marker": {
             "colorbar": {
              "outlinewidth": 0,
              "ticks": ""
             }
            },
            "type": "scattermapbox"
           }
          ],
          "scatterpolar": [
           {
            "marker": {
             "colorbar": {
              "outlinewidth": 0,
              "ticks": ""
             }
            },
            "type": "scatterpolar"
           }
          ],
          "scatterpolargl": [
           {
            "marker": {
             "colorbar": {
              "outlinewidth": 0,
              "ticks": ""
             }
            },
            "type": "scatterpolargl"
           }
          ],
          "scatterternary": [
           {
            "marker": {
             "colorbar": {
              "outlinewidth": 0,
              "ticks": ""
             }
            },
            "type": "scatterternary"
           }
          ],
          "surface": [
           {
            "colorbar": {
             "outlinewidth": 0,
             "ticks": ""
            },
            "colorscale": [
             [
              0,
              "#0d0887"
             ],
             [
              0.1111111111111111,
              "#46039f"
             ],
             [
              0.2222222222222222,
              "#7201a8"
             ],
             [
              0.3333333333333333,
              "#9c179e"
             ],
             [
              0.4444444444444444,
              "#bd3786"
             ],
             [
              0.5555555555555556,
              "#d8576b"
             ],
             [
              0.6666666666666666,
              "#ed7953"
             ],
             [
              0.7777777777777778,
              "#fb9f3a"
             ],
             [
              0.8888888888888888,
              "#fdca26"
             ],
             [
              1,
              "#f0f921"
             ]
            ],
            "type": "surface"
           }
          ],
          "table": [
           {
            "cells": {
             "fill": {
              "color": "#EBF0F8"
             },
             "line": {
              "color": "white"
             }
            },
            "header": {
             "fill": {
              "color": "#C8D4E3"
             },
             "line": {
              "color": "white"
             }
            },
            "type": "table"
           }
          ]
         },
         "layout": {
          "annotationdefaults": {
           "arrowcolor": "#2a3f5f",
           "arrowhead": 0,
           "arrowwidth": 1
          },
          "autotypenumbers": "strict",
          "coloraxis": {
           "colorbar": {
            "outlinewidth": 0,
            "ticks": ""
           }
          },
          "colorscale": {
           "diverging": [
            [
             0,
             "#8e0152"
            ],
            [
             0.1,
             "#c51b7d"
            ],
            [
             0.2,
             "#de77ae"
            ],
            [
             0.3,
             "#f1b6da"
            ],
            [
             0.4,
             "#fde0ef"
            ],
            [
             0.5,
             "#f7f7f7"
            ],
            [
             0.6,
             "#e6f5d0"
            ],
            [
             0.7,
             "#b8e186"
            ],
            [
             0.8,
             "#7fbc41"
            ],
            [
             0.9,
             "#4d9221"
            ],
            [
             1,
             "#276419"
            ]
           ],
           "sequential": [
            [
             0,
             "#0d0887"
            ],
            [
             0.1111111111111111,
             "#46039f"
            ],
            [
             0.2222222222222222,
             "#7201a8"
            ],
            [
             0.3333333333333333,
             "#9c179e"
            ],
            [
             0.4444444444444444,
             "#bd3786"
            ],
            [
             0.5555555555555556,
             "#d8576b"
            ],
            [
             0.6666666666666666,
             "#ed7953"
            ],
            [
             0.7777777777777778,
             "#fb9f3a"
            ],
            [
             0.8888888888888888,
             "#fdca26"
            ],
            [
             1,
             "#f0f921"
            ]
           ],
           "sequentialminus": [
            [
             0,
             "#0d0887"
            ],
            [
             0.1111111111111111,
             "#46039f"
            ],
            [
             0.2222222222222222,
             "#7201a8"
            ],
            [
             0.3333333333333333,
             "#9c179e"
            ],
            [
             0.4444444444444444,
             "#bd3786"
            ],
            [
             0.5555555555555556,
             "#d8576b"
            ],
            [
             0.6666666666666666,
             "#ed7953"
            ],
            [
             0.7777777777777778,
             "#fb9f3a"
            ],
            [
             0.8888888888888888,
             "#fdca26"
            ],
            [
             1,
             "#f0f921"
            ]
           ]
          },
          "colorway": [
           "#636efa",
           "#EF553B",
           "#00cc96",
           "#ab63fa",
           "#FFA15A",
           "#19d3f3",
           "#FF6692",
           "#B6E880",
           "#FF97FF",
           "#FECB52"
          ],
          "font": {
           "color": "#2a3f5f"
          },
          "geo": {
           "bgcolor": "white",
           "lakecolor": "white",
           "landcolor": "#E5ECF6",
           "showlakes": true,
           "showland": true,
           "subunitcolor": "white"
          },
          "hoverlabel": {
           "align": "left"
          },
          "hovermode": "closest",
          "mapbox": {
           "style": "light"
          },
          "paper_bgcolor": "white",
          "plot_bgcolor": "#E5ECF6",
          "polar": {
           "angularaxis": {
            "gridcolor": "white",
            "linecolor": "white",
            "ticks": ""
           },
           "bgcolor": "#E5ECF6",
           "radialaxis": {
            "gridcolor": "white",
            "linecolor": "white",
            "ticks": ""
           }
          },
          "scene": {
           "xaxis": {
            "backgroundcolor": "#E5ECF6",
            "gridcolor": "white",
            "gridwidth": 2,
            "linecolor": "white",
            "showbackground": true,
            "ticks": "",
            "zerolinecolor": "white"
           },
           "yaxis": {
            "backgroundcolor": "#E5ECF6",
            "gridcolor": "white",
            "gridwidth": 2,
            "linecolor": "white",
            "showbackground": true,
            "ticks": "",
            "zerolinecolor": "white"
           },
           "zaxis": {
            "backgroundcolor": "#E5ECF6",
            "gridcolor": "white",
            "gridwidth": 2,
            "linecolor": "white",
            "showbackground": true,
            "ticks": "",
            "zerolinecolor": "white"
           }
          },
          "shapedefaults": {
           "line": {
            "color": "#2a3f5f"
           }
          },
          "ternary": {
           "aaxis": {
            "gridcolor": "white",
            "linecolor": "white",
            "ticks": ""
           },
           "baxis": {
            "gridcolor": "white",
            "linecolor": "white",
            "ticks": ""
           },
           "bgcolor": "#E5ECF6",
           "caxis": {
            "gridcolor": "white",
            "linecolor": "white",
            "ticks": ""
           }
          },
          "title": {
           "x": 0.05
          },
          "xaxis": {
           "automargin": true,
           "gridcolor": "white",
           "linecolor": "white",
           "ticks": "",
           "title": {
            "standoff": 15
           },
           "zerolinecolor": "white",
           "zerolinewidth": 2
          },
          "yaxis": {
           "automargin": true,
           "gridcolor": "white",
           "linecolor": "white",
           "ticks": "",
           "title": {
            "standoff": 15
           },
           "zerolinecolor": "white",
           "zerolinewidth": 2
          }
         }
        },
        "title": {
         "text": "Chirstmas time top delay reason related to different state"
        },
        "updatemenus": [
         {
          "buttons": [
           {
            "args": [
             null,
             {
              "frame": {
               "duration": 500,
               "redraw": false
              },
              "fromcurrent": true,
              "mode": "immediate",
              "transition": {
               "duration": 500,
               "easing": "linear"
              }
             }
            ],
            "label": "&#9654;",
            "method": "animate"
           },
           {
            "args": [
             [
              null
             ],
             {
              "frame": {
               "duration": 0,
               "redraw": false
              },
              "fromcurrent": true,
              "mode": "immediate",
              "transition": {
               "duration": 0,
               "easing": "linear"
              }
             }
            ],
            "label": "&#9724;",
            "method": "animate"
           }
          ],
          "direction": "left",
          "pad": {
           "r": 10,
           "t": 70
          },
          "showactive": false,
          "type": "buttons",
          "x": 0.1,
          "xanchor": "right",
          "y": 0,
          "yanchor": "top"
         }
        ],
        "xaxis": {
         "anchor": "y",
         "domain": [
          0,
          1
         ],
         "title": {
          "text": "variable"
         }
        },
        "yaxis": {
         "anchor": "x",
         "domain": [
          0,
          1
         ],
         "title": {
          "text": "value"
         }
        }
       }
      }
     },
     "metadata": {},
     "output_type": "display_data"
    }
   ],
   "source": [
    "# plot the animation \n",
    "fig = px.scatter(df_delay_christmas_state_plot, x=\"variable\", y=\"value\", animation_frame=\"day\",color='state',size = 'value',\n",
    "title= 'Chirstmas time top delay reason related to different state')\n",
    "\n",
    "fig.show()"
   ]
  },
  {
   "attachments": {},
   "cell_type": "markdown",
   "metadata": {},
   "source": [
    "# Christmas Flight Map : the airplane that took off from New York"
   ]
  },
  {
   "attachments": {},
   "cell_type": "markdown",
   "metadata": {},
   "source": [
    "### We can plot a picture, say we are interesting in the flight take off in New York in Christmas Day. That would be prettey interesting. We just need the Latitude and longtidue of New York and other State. Then add the columns to the dataframe and we are done."
   ]
  },
  {
   "cell_type": "code",
   "execution_count": 52,
   "metadata": {},
   "outputs": [],
   "source": [
    "# create a list of longtitude and latitude of the state in the US\n",
    "state_list = ['North Carolina', 'Virginia', 'Georgia', 'Mississippi',\n",
    "       'Louisiana', 'Missouri', 'Wisconsin',\n",
    "       'New York', 'Tennessee', 'Texas', 'Pennsylvania', 'South Carolina',\n",
    "       'Kentucky', 'Ohio', 'Michigan', 'Illinois', 'New Jersey', 'Maine',\n",
    "       'Oklahoma', 'Rhode Island', 'Florida', 'Minnesota', 'Nebraska',\n",
    "       'Iowa', 'Kansas', 'Alabama', 'South Dakota', 'Arkansas', 'Indiana',\n",
    "       'Vermont', 'North Dakota', 'Massachusetts', 'New Hampshire',\n",
    "       'Connecticut', 'California', 'Nevada',\n",
    "       'Washington', 'Utah', 'Colorado', 'Arizona', 'New Mexico',\n",
    "       'Oregon', 'Maryland', 'Wyoming', 'Alaska',\n",
    "       'Idaho', 'Montana', 'West Virginia', 'Hawaii']\n",
    "state_latitude_list = [35.782169, 37.926868, 33.247875, 33.000000,\n",
    "30.391830, 38.573936, 44.500000, \n",
    "43.000000, 35.860119, 31.000000, 41.203323, 33.836082, \n",
    "37.839333, 40.367474, 44.182205, 40.000000, 39.833851, 45.367584, \n",
    "36.084621, 41.742325, 27.994402, 46.392410, 41.500000,\n",
    "42.032974, 38.500000, 32.318230, 44.500000, 34.799999, 40.273502,\n",
    "44.000000, 47.650589, 42.407211, 44.000000, \n",
    "41.599998, 36.778259, 39.876019, \n",
    "47.751076, 39.419220, 39.113014, 34.048927, 34.307144,\n",
    "44.000000, 39.045753, 43.075970, 66.160507,\n",
    "44.068203, 46.965260, 39.000000, 19.741755]\n",
    "state_longitude_list = [-80.793457, -78.024902, -83.441162, -90.000000, \n",
    "-92.329102, -92.603760, -89.500000, \n",
    "-75.000000, -86.660156, -100.000000, -77.194527, -81.163727,\n",
    "-84.270020, -82.996216, -84.506836, -89.000000, -74.871826, -68.972168, \n",
    "-96.921387, -71.742332, -81.760254, -94.636230, -100.000000,\n",
    "-93.581543, -98.000000, -86.902298, -100.000000, -92.199997, -86.126976,\n",
    "-72.699997, -100.437012, -71.382439, -71.500000, \n",
    "-72.699997, -119.417931, -117.224121, \n",
    "-120.740135, -111.950684, -105.358887, -111.093735, -106.018066,\n",
    "-120.500000, -76.641273, -107.290283, -153.369141,\n",
    "-114.742043, -109.533691, -80.500000, -155.844437]"
   ]
  },
  {
   "cell_type": "code",
   "execution_count": 86,
   "metadata": {},
   "outputs": [],
   "source": [
    "# a dataframe contains take off place is new york and time is 2009.12.25\n",
    "df_christmas_orgin_ny  = df_flights.query('DAY_OF_MONTH == 25').query('ORIGIN_STATE_NM == \"New York\"')"
   ]
  },
  {
   "cell_type": "code",
   "execution_count": 93,
   "metadata": {},
   "outputs": [
    {
     "data": {
      "application/vnd.plotly.v1+json": {
       "config": {
        "plotlyServerURL": "https://plot.ly"
       },
       "data": [
        {
         "lat": [
          43,
          35.782169
         ],
         "lon": [
          -75,
          -80.793457
         ],
         "marker": {
          "size": 8
         },
         "mode": "markers+lines",
         "opacity": 0.5,
         "showlegend": false,
         "type": "scattermapbox"
        },
        {
         "lat": [
          43,
          37.926868
         ],
         "lon": [
          -75,
          -78.024902
         ],
         "marker": {
          "size": 8
         },
         "mode": "markers+lines",
         "opacity": 0.5,
         "showlegend": false,
         "type": "scattermapbox"
        },
        {
         "lat": [
          43,
          33.247875
         ],
         "lon": [
          -75,
          -83.441162
         ],
         "marker": {
          "size": 45
         },
         "mode": "markers+lines",
         "opacity": 0.5,
         "showlegend": false,
         "type": "scattermapbox"
        },
        {
         "lat": [
          43,
          33
         ],
         "lon": [
          -75,
          -90
         ],
         "marker": {
          "size": 0
         },
         "mode": "markers+lines",
         "opacity": 0.5,
         "showlegend": false,
         "type": "scattermapbox"
        },
        {
         "lat": [
          43,
          30.39183
         ],
         "lon": [
          -75,
          -92.329102
         ],
         "marker": {
          "size": 4
         },
         "mode": "markers+lines",
         "opacity": 0.5,
         "showlegend": false,
         "type": "scattermapbox"
        },
        {
         "lat": [
          43,
          38.573936
         ],
         "lon": [
          -75,
          -92.60376
         ],
         "marker": {
          "size": 6
         },
         "mode": "markers+lines",
         "opacity": 0.5,
         "showlegend": false,
         "type": "scattermapbox"
        },
        {
         "lat": [
          43,
          44.5
         ],
         "lon": [
          -75,
          -89.5
         ],
         "marker": {
          "size": 4
         },
         "mode": "markers+lines",
         "opacity": 0.5,
         "showlegend": false,
         "type": "scattermapbox"
        },
        {
         "lat": [
          43,
          43
         ],
         "lon": [
          -75,
          -75
         ],
         "marker": {
          "size": 46
         },
         "mode": "markers+lines",
         "opacity": 0.5,
         "showlegend": false,
         "type": "scattermapbox"
        },
        {
         "lat": [
          43,
          35.860119
         ],
         "lon": [
          -75,
          -86.660156
         ],
         "marker": {
          "size": 7
         },
         "mode": "markers+lines",
         "opacity": 0.5,
         "showlegend": false,
         "type": "scattermapbox"
        },
        {
         "lat": [
          43,
          31
         ],
         "lon": [
          -75,
          -100
         ],
         "marker": {
          "size": 28
         },
         "mode": "markers+lines",
         "opacity": 0.5,
         "showlegend": false,
         "type": "scattermapbox"
        },
        {
         "lat": [
          43,
          41.203323
         ],
         "lon": [
          -75,
          -77.194527
         ],
         "marker": {
          "size": 9
         },
         "mode": "markers+lines",
         "opacity": 0.5,
         "showlegend": false,
         "type": "scattermapbox"
        },
        {
         "lat": [
          43,
          33.836082
         ],
         "lon": [
          -75,
          -81.163727
         ],
         "marker": {
          "size": 1
         },
         "mode": "markers+lines",
         "opacity": 0.5,
         "showlegend": false,
         "type": "scattermapbox"
        },
        {
         "lat": [
          43,
          37.839333
         ],
         "lon": [
          -75,
          -84.27002
         ],
         "marker": {
          "size": 0
         },
         "mode": "markers+lines",
         "opacity": 0.5,
         "showlegend": false,
         "type": "scattermapbox"
        },
        {
         "lat": [
          43,
          40.367474
         ],
         "lon": [
          -75,
          -82.996216
         ],
         "marker": {
          "size": 21
         },
         "mode": "markers+lines",
         "opacity": 0.5,
         "showlegend": false,
         "type": "scattermapbox"
        },
        {
         "lat": [
          43,
          44.182205
         ],
         "lon": [
          -75,
          -84.506836
         ],
         "marker": {
          "size": 29
         },
         "mode": "markers+lines",
         "opacity": 0.5,
         "showlegend": false,
         "type": "scattermapbox"
        },
        {
         "lat": [
          43,
          40
         ],
         "lon": [
          -75,
          -89
         ],
         "marker": {
          "size": 63
         },
         "mode": "markers+lines",
         "opacity": 0.5,
         "showlegend": false,
         "type": "scattermapbox"
        },
        {
         "lat": [
          43,
          39.833851
         ],
         "lon": [
          -75,
          -74.871826
         ],
         "marker": {
          "size": 7
         },
         "mode": "markers+lines",
         "opacity": 0.5,
         "showlegend": false,
         "type": "scattermapbox"
        },
        {
         "lat": [
          43,
          45.367584
         ],
         "lon": [
          -75,
          -68.972168
         ],
         "marker": {
          "size": 7
         },
         "mode": "markers+lines",
         "opacity": 0.5,
         "showlegend": false,
         "type": "scattermapbox"
        },
        {
         "lat": [
          43,
          36.084621
         ],
         "lon": [
          -75,
          -96.921387
         ],
         "marker": {
          "size": 0
         },
         "mode": "markers+lines",
         "opacity": 0.5,
         "showlegend": false,
         "type": "scattermapbox"
        },
        {
         "lat": [
          43,
          41.742325
         ],
         "lon": [
          -75,
          -71.742332
         ],
         "marker": {
          "size": 0
         },
         "mode": "markers+lines",
         "opacity": 0.5,
         "showlegend": false,
         "type": "scattermapbox"
        },
        {
         "lat": [
          43,
          27.994402
         ],
         "lon": [
          -75,
          -81.760254
         ],
         "marker": {
          "size": 163
         },
         "mode": "markers+lines",
         "opacity": 0.5,
         "showlegend": false,
         "type": "scattermapbox"
        },
        {
         "lat": [
          43,
          46.39241
         ],
         "lon": [
          -75,
          -94.63623
         ],
         "marker": {
          "size": 7
         },
         "mode": "markers+lines",
         "opacity": 0.5,
         "showlegend": false,
         "type": "scattermapbox"
        },
        {
         "lat": [
          43,
          41.5
         ],
         "lon": [
          -75,
          -100
         ],
         "marker": {
          "size": 0
         },
         "mode": "markers+lines",
         "opacity": 0.5,
         "showlegend": false,
         "type": "scattermapbox"
        },
        {
         "lat": [
          43,
          42.032974
         ],
         "lon": [
          -75,
          -93.581543
         ],
         "marker": {
          "size": 0
         },
         "mode": "markers+lines",
         "opacity": 0.5,
         "showlegend": false,
         "type": "scattermapbox"
        },
        {
         "lat": [
          43,
          38.5
         ],
         "lon": [
          -75,
          -98
         ],
         "marker": {
          "size": 0
         },
         "mode": "markers+lines",
         "opacity": 0.5,
         "showlegend": false,
         "type": "scattermapbox"
        },
        {
         "lat": [
          43,
          32.31823
         ],
         "lon": [
          -75,
          -86.902298
         ],
         "marker": {
          "size": 0
         },
         "mode": "markers+lines",
         "opacity": 0.5,
         "showlegend": false,
         "type": "scattermapbox"
        },
        {
         "lat": [
          43,
          44.5
         ],
         "lon": [
          -75,
          -100
         ],
         "marker": {
          "size": 0
         },
         "mode": "markers+lines",
         "opacity": 0.5,
         "showlegend": false,
         "type": "scattermapbox"
        },
        {
         "lat": [
          43,
          34.799999
         ],
         "lon": [
          -75,
          -92.199997
         ],
         "marker": {
          "size": 0
         },
         "mode": "markers+lines",
         "opacity": 0.5,
         "showlegend": false,
         "type": "scattermapbox"
        },
        {
         "lat": [
          43,
          40.273502
         ],
         "lon": [
          -75,
          -86.126976
         ],
         "marker": {
          "size": 4
         },
         "mode": "markers+lines",
         "opacity": 0.5,
         "showlegend": false,
         "type": "scattermapbox"
        },
        {
         "lat": [
          43,
          44
         ],
         "lon": [
          -75,
          -72.699997
         ],
         "marker": {
          "size": 6
         },
         "mode": "markers+lines",
         "opacity": 0.5,
         "showlegend": false,
         "type": "scattermapbox"
        },
        {
         "lat": [
          43,
          47.650589
         ],
         "lon": [
          -75,
          -100.437012
         ],
         "marker": {
          "size": 0
         },
         "mode": "markers+lines",
         "opacity": 0.5,
         "showlegend": false,
         "type": "scattermapbox"
        },
        {
         "lat": [
          43,
          42.407211
         ],
         "lon": [
          -75,
          -71.382439
         ],
         "marker": {
          "size": 29
         },
         "mode": "markers+lines",
         "opacity": 0.5,
         "showlegend": false,
         "type": "scattermapbox"
        },
        {
         "lat": [
          43,
          44
         ],
         "lon": [
          -75,
          -71.5
         ],
         "marker": {
          "size": 0
         },
         "mode": "markers+lines",
         "opacity": 0.5,
         "showlegend": false,
         "type": "scattermapbox"
        },
        {
         "lat": [
          43,
          41.599998
         ],
         "lon": [
          -75,
          -72.699997
         ],
         "marker": {
          "size": 1
         },
         "mode": "markers+lines",
         "opacity": 0.5,
         "showlegend": false,
         "type": "scattermapbox"
        },
        {
         "lat": [
          43,
          36.778259
         ],
         "lon": [
          -75,
          -119.417931
         ],
         "marker": {
          "size": 52
         },
         "mode": "markers+lines",
         "opacity": 0.5,
         "showlegend": false,
         "type": "scattermapbox"
        },
        {
         "lat": [
          43,
          39.876019
         ],
         "lon": [
          -75,
          -117.224121
         ],
         "marker": {
          "size": 11
         },
         "mode": "markers+lines",
         "opacity": 0.5,
         "showlegend": false,
         "type": "scattermapbox"
        },
        {
         "lat": [
          43,
          47.751076
         ],
         "lon": [
          -75,
          -120.740135
         ],
         "marker": {
          "size": 4
         },
         "mode": "markers+lines",
         "opacity": 0.5,
         "showlegend": false,
         "type": "scattermapbox"
        },
        {
         "lat": [
          43,
          39.41922
         ],
         "lon": [
          -75,
          -111.950684
         ],
         "marker": {
          "size": 5
         },
         "mode": "markers+lines",
         "opacity": 0.5,
         "showlegend": false,
         "type": "scattermapbox"
        },
        {
         "lat": [
          43,
          39.113014
         ],
         "lon": [
          -75,
          -105.358887
         ],
         "marker": {
          "size": 10
         },
         "mode": "markers+lines",
         "opacity": 0.5,
         "showlegend": false,
         "type": "scattermapbox"
        },
        {
         "lat": [
          43,
          34.048927
         ],
         "lon": [
          -75,
          -111.093735
         ],
         "marker": {
          "size": 7
         },
         "mode": "markers+lines",
         "opacity": 0.5,
         "showlegend": false,
         "type": "scattermapbox"
        },
        {
         "lat": [
          43,
          34.307144
         ],
         "lon": [
          -75,
          -106.018066
         ],
         "marker": {
          "size": 0
         },
         "mode": "markers+lines",
         "opacity": 0.5,
         "showlegend": false,
         "type": "scattermapbox"
        },
        {
         "lat": [
          43,
          44
         ],
         "lon": [
          -75,
          -120.5
         ],
         "marker": {
          "size": 2
         },
         "mode": "markers+lines",
         "opacity": 0.5,
         "showlegend": false,
         "type": "scattermapbox"
        },
        {
         "lat": [
          43,
          39.045753
         ],
         "lon": [
          -75,
          -76.641273
         ],
         "marker": {
          "size": 20
         },
         "mode": "markers+lines",
         "opacity": 0.5,
         "showlegend": false,
         "type": "scattermapbox"
        },
        {
         "lat": [
          43,
          43.07597
         ],
         "lon": [
          -75,
          -107.290283
         ],
         "marker": {
          "size": 0
         },
         "mode": "markers+lines",
         "opacity": 0.5,
         "showlegend": false,
         "type": "scattermapbox"
        },
        {
         "lat": [
          43,
          66.160507
         ],
         "lon": [
          -75,
          -153.369141
         ],
         "marker": {
          "size": 0
         },
         "mode": "markers+lines",
         "opacity": 0.5,
         "showlegend": false,
         "type": "scattermapbox"
        },
        {
         "lat": [
          43,
          44.068203
         ],
         "lon": [
          -75,
          -114.742043
         ],
         "marker": {
          "size": 0
         },
         "mode": "markers+lines",
         "opacity": 0.5,
         "showlegend": false,
         "type": "scattermapbox"
        },
        {
         "lat": [
          43,
          46.96526
         ],
         "lon": [
          -75,
          -109.533691
         ],
         "marker": {
          "size": 0
         },
         "mode": "markers+lines",
         "opacity": 0.5,
         "showlegend": false,
         "type": "scattermapbox"
        },
        {
         "lat": [
          43,
          39
         ],
         "lon": [
          -75,
          -80.5
         ],
         "marker": {
          "size": 1
         },
         "mode": "markers+lines",
         "opacity": 0.5,
         "showlegend": false,
         "type": "scattermapbox"
        },
        {
         "lat": [
          43,
          19.741755
         ],
         "lon": [
          -75,
          -155.844437
         ],
         "marker": {
          "size": 0
         },
         "mode": "markers+lines",
         "opacity": 0.5,
         "showlegend": false,
         "type": "scattermapbox"
        }
       ],
       "layout": {
        "mapbox": {
         "center": {
          "lat": -20,
          "lon": -20
         },
         "style": "stamen-terrain",
         "zoom": 1
        },
        "margin": {
         "b": 0,
         "l": 0,
         "r": 0,
         "t": 0
        },
        "template": {
         "data": {
          "bar": [
           {
            "error_x": {
             "color": "#2a3f5f"
            },
            "error_y": {
             "color": "#2a3f5f"
            },
            "marker": {
             "line": {
              "color": "#E5ECF6",
              "width": 0.5
             },
             "pattern": {
              "fillmode": "overlay",
              "size": 10,
              "solidity": 0.2
             }
            },
            "type": "bar"
           }
          ],
          "barpolar": [
           {
            "marker": {
             "line": {
              "color": "#E5ECF6",
              "width": 0.5
             },
             "pattern": {
              "fillmode": "overlay",
              "size": 10,
              "solidity": 0.2
             }
            },
            "type": "barpolar"
           }
          ],
          "carpet": [
           {
            "aaxis": {
             "endlinecolor": "#2a3f5f",
             "gridcolor": "white",
             "linecolor": "white",
             "minorgridcolor": "white",
             "startlinecolor": "#2a3f5f"
            },
            "baxis": {
             "endlinecolor": "#2a3f5f",
             "gridcolor": "white",
             "linecolor": "white",
             "minorgridcolor": "white",
             "startlinecolor": "#2a3f5f"
            },
            "type": "carpet"
           }
          ],
          "choropleth": [
           {
            "colorbar": {
             "outlinewidth": 0,
             "ticks": ""
            },
            "type": "choropleth"
           }
          ],
          "contour": [
           {
            "colorbar": {
             "outlinewidth": 0,
             "ticks": ""
            },
            "colorscale": [
             [
              0,
              "#0d0887"
             ],
             [
              0.1111111111111111,
              "#46039f"
             ],
             [
              0.2222222222222222,
              "#7201a8"
             ],
             [
              0.3333333333333333,
              "#9c179e"
             ],
             [
              0.4444444444444444,
              "#bd3786"
             ],
             [
              0.5555555555555556,
              "#d8576b"
             ],
             [
              0.6666666666666666,
              "#ed7953"
             ],
             [
              0.7777777777777778,
              "#fb9f3a"
             ],
             [
              0.8888888888888888,
              "#fdca26"
             ],
             [
              1,
              "#f0f921"
             ]
            ],
            "type": "contour"
           }
          ],
          "contourcarpet": [
           {
            "colorbar": {
             "outlinewidth": 0,
             "ticks": ""
            },
            "type": "contourcarpet"
           }
          ],
          "heatmap": [
           {
            "colorbar": {
             "outlinewidth": 0,
             "ticks": ""
            },
            "colorscale": [
             [
              0,
              "#0d0887"
             ],
             [
              0.1111111111111111,
              "#46039f"
             ],
             [
              0.2222222222222222,
              "#7201a8"
             ],
             [
              0.3333333333333333,
              "#9c179e"
             ],
             [
              0.4444444444444444,
              "#bd3786"
             ],
             [
              0.5555555555555556,
              "#d8576b"
             ],
             [
              0.6666666666666666,
              "#ed7953"
             ],
             [
              0.7777777777777778,
              "#fb9f3a"
             ],
             [
              0.8888888888888888,
              "#fdca26"
             ],
             [
              1,
              "#f0f921"
             ]
            ],
            "type": "heatmap"
           }
          ],
          "heatmapgl": [
           {
            "colorbar": {
             "outlinewidth": 0,
             "ticks": ""
            },
            "colorscale": [
             [
              0,
              "#0d0887"
             ],
             [
              0.1111111111111111,
              "#46039f"
             ],
             [
              0.2222222222222222,
              "#7201a8"
             ],
             [
              0.3333333333333333,
              "#9c179e"
             ],
             [
              0.4444444444444444,
              "#bd3786"
             ],
             [
              0.5555555555555556,
              "#d8576b"
             ],
             [
              0.6666666666666666,
              "#ed7953"
             ],
             [
              0.7777777777777778,
              "#fb9f3a"
             ],
             [
              0.8888888888888888,
              "#fdca26"
             ],
             [
              1,
              "#f0f921"
             ]
            ],
            "type": "heatmapgl"
           }
          ],
          "histogram": [
           {
            "marker": {
             "pattern": {
              "fillmode": "overlay",
              "size": 10,
              "solidity": 0.2
             }
            },
            "type": "histogram"
           }
          ],
          "histogram2d": [
           {
            "colorbar": {
             "outlinewidth": 0,
             "ticks": ""
            },
            "colorscale": [
             [
              0,
              "#0d0887"
             ],
             [
              0.1111111111111111,
              "#46039f"
             ],
             [
              0.2222222222222222,
              "#7201a8"
             ],
             [
              0.3333333333333333,
              "#9c179e"
             ],
             [
              0.4444444444444444,
              "#bd3786"
             ],
             [
              0.5555555555555556,
              "#d8576b"
             ],
             [
              0.6666666666666666,
              "#ed7953"
             ],
             [
              0.7777777777777778,
              "#fb9f3a"
             ],
             [
              0.8888888888888888,
              "#fdca26"
             ],
             [
              1,
              "#f0f921"
             ]
            ],
            "type": "histogram2d"
           }
          ],
          "histogram2dcontour": [
           {
            "colorbar": {
             "outlinewidth": 0,
             "ticks": ""
            },
            "colorscale": [
             [
              0,
              "#0d0887"
             ],
             [
              0.1111111111111111,
              "#46039f"
             ],
             [
              0.2222222222222222,
              "#7201a8"
             ],
             [
              0.3333333333333333,
              "#9c179e"
             ],
             [
              0.4444444444444444,
              "#bd3786"
             ],
             [
              0.5555555555555556,
              "#d8576b"
             ],
             [
              0.6666666666666666,
              "#ed7953"
             ],
             [
              0.7777777777777778,
              "#fb9f3a"
             ],
             [
              0.8888888888888888,
              "#fdca26"
             ],
             [
              1,
              "#f0f921"
             ]
            ],
            "type": "histogram2dcontour"
           }
          ],
          "mesh3d": [
           {
            "colorbar": {
             "outlinewidth": 0,
             "ticks": ""
            },
            "type": "mesh3d"
           }
          ],
          "parcoords": [
           {
            "line": {
             "colorbar": {
              "outlinewidth": 0,
              "ticks": ""
             }
            },
            "type": "parcoords"
           }
          ],
          "pie": [
           {
            "automargin": true,
            "type": "pie"
           }
          ],
          "scatter": [
           {
            "fillpattern": {
             "fillmode": "overlay",
             "size": 10,
             "solidity": 0.2
            },
            "type": "scatter"
           }
          ],
          "scatter3d": [
           {
            "line": {
             "colorbar": {
              "outlinewidth": 0,
              "ticks": ""
             }
            },
            "marker": {
             "colorbar": {
              "outlinewidth": 0,
              "ticks": ""
             }
            },
            "type": "scatter3d"
           }
          ],
          "scattercarpet": [
           {
            "marker": {
             "colorbar": {
              "outlinewidth": 0,
              "ticks": ""
             }
            },
            "type": "scattercarpet"
           }
          ],
          "scattergeo": [
           {
            "marker": {
             "colorbar": {
              "outlinewidth": 0,
              "ticks": ""
             }
            },
            "type": "scattergeo"
           }
          ],
          "scattergl": [
           {
            "marker": {
             "colorbar": {
              "outlinewidth": 0,
              "ticks": ""
             }
            },
            "type": "scattergl"
           }
          ],
          "scattermapbox": [
           {
            "marker": {
             "colorbar": {
              "outlinewidth": 0,
              "ticks": ""
             }
            },
            "type": "scattermapbox"
           }
          ],
          "scatterpolar": [
           {
            "marker": {
             "colorbar": {
              "outlinewidth": 0,
              "ticks": ""
             }
            },
            "type": "scatterpolar"
           }
          ],
          "scatterpolargl": [
           {
            "marker": {
             "colorbar": {
              "outlinewidth": 0,
              "ticks": ""
             }
            },
            "type": "scatterpolargl"
           }
          ],
          "scatterternary": [
           {
            "marker": {
             "colorbar": {
              "outlinewidth": 0,
              "ticks": ""
             }
            },
            "type": "scatterternary"
           }
          ],
          "surface": [
           {
            "colorbar": {
             "outlinewidth": 0,
             "ticks": ""
            },
            "colorscale": [
             [
              0,
              "#0d0887"
             ],
             [
              0.1111111111111111,
              "#46039f"
             ],
             [
              0.2222222222222222,
              "#7201a8"
             ],
             [
              0.3333333333333333,
              "#9c179e"
             ],
             [
              0.4444444444444444,
              "#bd3786"
             ],
             [
              0.5555555555555556,
              "#d8576b"
             ],
             [
              0.6666666666666666,
              "#ed7953"
             ],
             [
              0.7777777777777778,
              "#fb9f3a"
             ],
             [
              0.8888888888888888,
              "#fdca26"
             ],
             [
              1,
              "#f0f921"
             ]
            ],
            "type": "surface"
           }
          ],
          "table": [
           {
            "cells": {
             "fill": {
              "color": "#EBF0F8"
             },
             "line": {
              "color": "white"
             }
            },
            "header": {
             "fill": {
              "color": "#C8D4E3"
             },
             "line": {
              "color": "white"
             }
            },
            "type": "table"
           }
          ]
         },
         "layout": {
          "annotationdefaults": {
           "arrowcolor": "#2a3f5f",
           "arrowhead": 0,
           "arrowwidth": 1
          },
          "autotypenumbers": "strict",
          "coloraxis": {
           "colorbar": {
            "outlinewidth": 0,
            "ticks": ""
           }
          },
          "colorscale": {
           "diverging": [
            [
             0,
             "#8e0152"
            ],
            [
             0.1,
             "#c51b7d"
            ],
            [
             0.2,
             "#de77ae"
            ],
            [
             0.3,
             "#f1b6da"
            ],
            [
             0.4,
             "#fde0ef"
            ],
            [
             0.5,
             "#f7f7f7"
            ],
            [
             0.6,
             "#e6f5d0"
            ],
            [
             0.7,
             "#b8e186"
            ],
            [
             0.8,
             "#7fbc41"
            ],
            [
             0.9,
             "#4d9221"
            ],
            [
             1,
             "#276419"
            ]
           ],
           "sequential": [
            [
             0,
             "#0d0887"
            ],
            [
             0.1111111111111111,
             "#46039f"
            ],
            [
             0.2222222222222222,
             "#7201a8"
            ],
            [
             0.3333333333333333,
             "#9c179e"
            ],
            [
             0.4444444444444444,
             "#bd3786"
            ],
            [
             0.5555555555555556,
             "#d8576b"
            ],
            [
             0.6666666666666666,
             "#ed7953"
            ],
            [
             0.7777777777777778,
             "#fb9f3a"
            ],
            [
             0.8888888888888888,
             "#fdca26"
            ],
            [
             1,
             "#f0f921"
            ]
           ],
           "sequentialminus": [
            [
             0,
             "#0d0887"
            ],
            [
             0.1111111111111111,
             "#46039f"
            ],
            [
             0.2222222222222222,
             "#7201a8"
            ],
            [
             0.3333333333333333,
             "#9c179e"
            ],
            [
             0.4444444444444444,
             "#bd3786"
            ],
            [
             0.5555555555555556,
             "#d8576b"
            ],
            [
             0.6666666666666666,
             "#ed7953"
            ],
            [
             0.7777777777777778,
             "#fb9f3a"
            ],
            [
             0.8888888888888888,
             "#fdca26"
            ],
            [
             1,
             "#f0f921"
            ]
           ]
          },
          "colorway": [
           "#636efa",
           "#EF553B",
           "#00cc96",
           "#ab63fa",
           "#FFA15A",
           "#19d3f3",
           "#FF6692",
           "#B6E880",
           "#FF97FF",
           "#FECB52"
          ],
          "font": {
           "color": "#2a3f5f"
          },
          "geo": {
           "bgcolor": "white",
           "lakecolor": "white",
           "landcolor": "#E5ECF6",
           "showlakes": true,
           "showland": true,
           "subunitcolor": "white"
          },
          "hoverlabel": {
           "align": "left"
          },
          "hovermode": "closest",
          "mapbox": {
           "style": "light"
          },
          "paper_bgcolor": "white",
          "plot_bgcolor": "#E5ECF6",
          "polar": {
           "angularaxis": {
            "gridcolor": "white",
            "linecolor": "white",
            "ticks": ""
           },
           "bgcolor": "#E5ECF6",
           "radialaxis": {
            "gridcolor": "white",
            "linecolor": "white",
            "ticks": ""
           }
          },
          "scene": {
           "xaxis": {
            "backgroundcolor": "#E5ECF6",
            "gridcolor": "white",
            "gridwidth": 2,
            "linecolor": "white",
            "showbackground": true,
            "ticks": "",
            "zerolinecolor": "white"
           },
           "yaxis": {
            "backgroundcolor": "#E5ECF6",
            "gridcolor": "white",
            "gridwidth": 2,
            "linecolor": "white",
            "showbackground": true,
            "ticks": "",
            "zerolinecolor": "white"
           },
           "zaxis": {
            "backgroundcolor": "#E5ECF6",
            "gridcolor": "white",
            "gridwidth": 2,
            "linecolor": "white",
            "showbackground": true,
            "ticks": "",
            "zerolinecolor": "white"
           }
          },
          "shapedefaults": {
           "line": {
            "color": "#2a3f5f"
           }
          },
          "ternary": {
           "aaxis": {
            "gridcolor": "white",
            "linecolor": "white",
            "ticks": ""
           },
           "baxis": {
            "gridcolor": "white",
            "linecolor": "white",
            "ticks": ""
           },
           "bgcolor": "#E5ECF6",
           "caxis": {
            "gridcolor": "white",
            "linecolor": "white",
            "ticks": ""
           }
          },
          "title": {
           "x": 0.05
          },
          "xaxis": {
           "automargin": true,
           "gridcolor": "white",
           "linecolor": "white",
           "ticks": "",
           "title": {
            "standoff": 15
           },
           "zerolinecolor": "white",
           "zerolinewidth": 2
          },
          "yaxis": {
           "automargin": true,
           "gridcolor": "white",
           "linecolor": "white",
           "ticks": "",
           "title": {
            "standoff": 15
           },
           "zerolinecolor": "white",
           "zerolinewidth": 2
          }
         }
        }
       }
      }
     },
     "metadata": {},
     "output_type": "display_data"
    }
   ],
   "source": [
    "import plotly.graph_objects as go\n",
    "\n",
    "# initialize the figure\n",
    "fig = go.Figure(go.Scattermapbox(\n",
    "mode = \"markers+lines\",\n",
    "lon = [state_longitude_list[7], state_longitude_list[0]],\n",
    "lat = [state_latitude_list[7], state_latitude_list[0]],\n",
    "opacity = 0.5,\n",
    "showlegend= False,\n",
    "marker = {'size': (df_christmas_orgin_ny[df_christmas_orgin_ny['DEST_STATE_NM'] == state_list[i]].shape[0])}))\n",
    "# for loop to make a line to each state from New York \n",
    "for i in range(1, len(state_list)):\n",
    "    fig.add_trace(go.Scattermapbox(\n",
    "    mode = \"markers+lines\",\n",
    "    lon = [state_longitude_list[7], state_longitude_list[i]],\n",
    "    lat = [state_latitude_list[7], state_latitude_list[i]],\n",
    "    opacity = 0.5,\n",
    "    showlegend= False,\n",
    "    # size depend on the filghts number, the bigger the number the bigger the size\n",
    "    marker = {'size': (df_christmas_orgin_ny[df_christmas_orgin_ny['DEST_STATE_NM'] == state_list[i]].shape[0])}))\n",
    "\n",
    "fig.update_layout(\n",
    "    margin ={'l':0,'t':0,'b':0,'r':0},\n",
    "    mapbox = {\n",
    "        'center': {'lon': 10, 'lat': 10},\n",
    "        'style': \"stamen-terrain\",\n",
    "        'center': {'lon': -20, 'lat': -20},\n",
    "        'zoom': 1})\n",
    "\n",
    "fig.show()"
   ]
  }
 ],
 "metadata": {
  "kernelspec": {
   "display_name": "Python 3.9.7 ('base')",
   "language": "python",
   "name": "python3"
  },
  "language_info": {
   "codemirror_mode": {
    "name": "ipython",
    "version": 3
   },
   "file_extension": ".py",
   "mimetype": "text/x-python",
   "name": "python",
   "nbconvert_exporter": "python",
   "pygments_lexer": "ipython3",
   "version": "3.9.7 (default, Sep 16 2021, 08:50:36) \n[Clang 10.0.0 ]"
  },
  "orig_nbformat": 4,
  "vscode": {
   "interpreter": {
    "hash": "5d113846ba2c5660ca294db9bea215d8dc849cec700d248b8fccee76967cd515"
   }
  }
 },
 "nbformat": 4,
 "nbformat_minor": 2
}
